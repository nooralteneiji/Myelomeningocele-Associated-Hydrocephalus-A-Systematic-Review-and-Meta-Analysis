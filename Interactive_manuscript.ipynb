{
 "cells": [
  {
   "cell_type": "markdown",
   "metadata": {
    "id": "suUULVUxUHtK"
   },
   "source": [
    "# **Management and outcomes of myelomeningocele-associated hydrocephalus in low-income and middle-income countries: a systematic review and meta-analysis**"
   ]
  },
  {
   "cell_type": "markdown",
   "metadata": {},
   "source": [
    "This Jupyter Notebook presents a systematic review and meta-analysis that delves into the management and outcomes of myelomeningocele-associated hydrocephalus in low-income and middle-income countries. By thoroughly evaluating pertinent studies, our analysis seeks to provide insights into the range of treatments, interventions, and outcomes within diverse economic contexts.\n",
    "\n",
    "You can access the full preprint on bioRxiv [here](**#TODO for Alvaro**: Add link).\n",
    "\n",
    "The primary purpose of this Jupyter Notebook is to facilitate your interactive exploration of our dataset. In the following pages, you will encounter concise descriptions of the work performed, but the focal point is the visual representation of the data, created using [plotly](https://plotly.com). Please note that there won't be sections dedicated to discussing or interpreting these results; for such insights, please refer to the preprint."
   ]
  },
  {
   "cell_type": "markdown",
   "metadata": {
    "id": "KqxUktPzkgwp"
   },
   "source": [
    "### **Setup**"
   ]
  },
  {
   "cell_type": "markdown",
   "metadata": {},
   "source": [
    "We set up our environment by importing necessary libraries and loading our primary dataset from an Excel file. The dataset is organized into multiple sheets, each representing different facets of our study. Specifically, we load the following sheets into their respective DataFrames:\n",
    "\n",
    "- 'Studies': Contains general information about the studies considered.\n",
    "- 'ROB' (Risk of Bias): Captures the risk of bias associated with each study.\n",
    "- 'Features': Provides features or characteristics of the studies.\n",
    "- 'Management': Details the management strategies employed in the studies.\n",
    "- 'Outcomes': Enumerates the outcomes observed in the studies.\""
   ]
  },
  {
   "cell_type": "code",
   "execution_count": null,
   "metadata": {},
   "outputs": [],
   "source": [
    "# Run this cell in Google Colab to install the required packages \n",
    "!wget https://github.com/nooralteneiji/Myelomeningocele-Associated-Hydrocephalus-A-Systematic-Review-and-Meta-Analysis/blob/main/requirements.txt\n",
    "!pip install -r requirements.txt\n",
    "!echo \"install.packages(\\\"metafor\\\", repos=\\\"https://cran.rstudio.com\\\")\" | R --no-save\n",
    "!echo \"install.packages(\\\"multcomp\\\", repos=\\\"https://cran.rstudio.com\\\")\" | R --no-save"
   ]
  },
  {
   "cell_type": "code",
   "execution_count": 2,
   "metadata": {
    "id": "RR2M9UUGUqst"
   },
   "outputs": [],
   "source": [
    "# Run this cell to retrieve the data from the GitHub repository\n",
    "import pandas as pd\n",
    "\n",
    "# Path to the Excel data file\n",
    "f = './Data.xlsx'\n",
    "\n",
    "# Load 'Studies' sheet from the Excel file into a DataFrame\n",
    "df_studies = pd.read_excel(f, sheet_name='Studies')\n",
    "\n",
    "# Load 'ROB' (Risk of Bias) sheet \n",
    "df_rob = pd.read_excel(f, sheet_name='ROB')\n",
    "\n",
    "# Load 'Features' sheet \n",
    "df_features = pd.read_excel(f, sheet_name='Features')\n",
    "\n",
    "# Load 'Management' sheet\n",
    "df_management = pd.read_excel(f, sheet_name='Management')\n",
    "\n",
    "# Load 'Outcomes' sheet \n",
    "df_outcomes = pd.read_excel(f, sheet_name='Outcomes')"
   ]
  },
  {
   "cell_type": "markdown",
   "metadata": {
    "id": "IyrIL9A_zWwg"
   },
   "source": [
    "### **Figure 1. PRISMA diagram.**"
   ]
  },
  {
   "cell_type": "markdown",
   "metadata": {},
   "source": [
    "\n",
    "The Sankey diagram in Figure 1 serves to give a clear and transparent view of the review process, showing the number of articles obtained from various sources, the number excluded at each step, and the reasons for their exclusion.\n",
    "\n",
    "We used the [EMBASE](https://www.embase.com), [MEDLINE](www.medline.com), [PubMed](https://pubmed.ncbi.nlm.nih.gov), [GIM](https://www.gimjournal.org), [Cochrane](https://www.cochranelibrary.com), and [SciELO](https://scielo.org/en/) database and retrieved all the records mentioning [INSERT KEYWORDS].\n",
    "**#TODO for Alvaro:** Add the keywords"
   ]
  },
  {
   "cell_type": "code",
   "execution_count": 34,
   "metadata": {
    "colab": {
     "base_uri": "https://localhost:8080/",
     "height": 517
    },
    "id": "tk9eas_Ezcx7",
    "outputId": "67d7c8be-a477-4273-b275-1babd5cddef1"
   },
   "outputs": [
    {
     "data": {
      "application/vnd.plotly.v1+json": {
       "config": {
        "plotlyServerURL": "https://plot.ly",
        "toImageButtonOptions": {
         "filename": "fig1",
         "format": "png",
         "scale": 6
        }
       },
       "data": [
        {
         "link": {
          "color": [
           "rgba(27, 25, 25, 0.6)",
           "rgba(27, 25, 25, 0.6)",
           "rgba(27, 25, 25, 0.6)",
           "rgba(27, 25, 25, 0.6)",
           "rgba(27, 25, 25, 0.6)",
           "rgba(27, 25, 25, 0.6)",
           "rgba(27, 25, 25, 0.6)",
           "rgba(173, 0, 42, 0.6)",
           "rgba(66, 181, 64, 0.6)",
           "rgba(173, 0, 42, 0.6)",
           "rgba(173, 0, 42, 0.6)",
           "rgba(173, 0, 42, 0.6)",
           "rgba(173, 0, 42, 0.6)",
           "rgba(173, 0, 42, 0.6)",
           "rgba(173, 0, 42, 0.6)",
           "rgba(173, 0, 42, 0.6)",
           "rgba(66, 181, 64, 0.6)",
           "rgba(173, 0, 42, 0.6)",
           "rgba(173, 0, 42, 0.6)",
           "rgba(173, 0, 42, 0.6)",
           "rgba(173, 0, 42, 0.6)",
           "rgba(173, 0, 42, 0.6)",
           "rgba(173, 0, 42, 0.6)",
           "rgba(173, 0, 42, 0.6)",
           "rgba(66, 181, 64, 0.6)",
           "rgba(173, 0, 42, 0.6)",
           "rgba(66, 181, 64, 0.6)"
          ],
          "customdata": [
           "Obtained from the EMBASE database",
           "Obtained from the MEDLINE database",
           "Obtained from the PubMed database",
           "Obtained from the AJOL database",
           "Obtained from the GIM database",
           "Obtained from the Cochrane database",
           "Obtained from the SciELO database",
           "Duplicated titles and abstracts",
           "Eligible for abstract screening",
           "Duplicated titles and abstracts",
           "\n      PUBLICATION TYPE<br>\n      Exclusion criteria:<br>\n      - is not peer-reviewed article; OR<br>\n      - is opinion piece, comment, letter, guideline, literature review, or editorial.\n    ",
           "\n      STUDY DESIGN<br>\n      Exclusion criteria:<br>\n      - is single-case report, systematic review, or meta-analysis; OR<br>\n      - is qualitative study.\n    ",
           "\n      POPULATION<br>\n      Exclusion criteria:<br>\n      - is not study on human infant population  (i.e., age >2 years); OR<br>\n      - no hydrocephalus; OR<br>\n      - hydrocephalus is not due to MMC*<br>\n      - global study where data from many countries has been pooled AND<br>\n        we cannot distinguish from which country each data comes from.<br><br>\n      *Meningocoele and myelocoele are not the same as MMC.\n    ",
           "\n      INTERVENTION<br>\n      Exclusion criteria:<br>\n      - Fetal surgery. (TODO: CLARIFY IF HC, MMC, OR BOTH)\n    ",
           "\n      OUTCOME<br>\n      Exclusion criteria:<br>\n      - Outcome of study is neither treatment failure; NOR<br>\n      - Mortality; NOR<br>\n      - Morbidity; NOR<br>\n      - Resolution of clinical OR radiological signs of hydrocephalus.\n    ",
           "\n      FULL-TEXT<br>\n      Exclusion criteria:<br>\n      - Full-text unavailable OR inaccessible.\n    ",
           "Eligible for full-text screening",
           "Duplicated full-texts",
           "\n      PUBLICATION TYPE<br>\n      Exclusion criteria:<br>\n      - is not peer-reviewed article; OR<br>\n      - is opinion piece, comment, letter, guideline, literature review, or editorial.\n    ",
           "\n      STUDY DESIGN<br>\n      Exclusion criteria:<br>\n      - is single-case report, systematic review, or meta-analysis; OR<br>\n      - is qualitative study.\n    ",
           "\n      POPULATION<br>\n      Exclusion criteria:<br>\n      - is not study on human infant population  (i.e., age >2 years); OR<br>\n      - no hydrocephalus; OR<br>\n      - hydrocephalus is not due to MMC*<br>\n      - global study where data from many countries has been pooled AND<br>\n        we cannot distinguish from which country each data comes from.<br><br>\n      *Meningocoele and myelocoele are not the same as MMC.\n    ",
           "\n      INTERVENTION<br>\n      Exclusion criteria:<br>\n      - Fetal surgery. (TODO: CLARIFY IF HC, MMC, OR BOTH)\n    ",
           "\n      OUTCOME<br>\n      Exclusion criteria:<br>\n      - Outcome of study is neither treatment failure; NOR<br>\n      - Mortality; NOR<br>\n      - Morbidity; NOR<br>\n      - Resolution of clinical OR radiological signs of hydrocephalus.\n    ",
           "\n      FULL-TEXT<br>\n      Exclusion criteria:<br>\n      - Full-text unavailable OR inaccessible.\n    ",
           "Eligible for data extraction",
           "\n      NO DATA<br>\n      Exclusion criteria:<br>\n      - not providing [WHAT TYPE OF DATA? 'disaggregate MMCaHC subgroup data'?].\n    ",
           "Included in review"
          ],
          "hovertemplate": "%{customdata}<extra>%{value:,} studies</extra>",
          "source": [
           0,
           1,
           2,
           3,
           4,
           5,
           6,
           7,
           7,
           9,
           9,
           9,
           9,
           9,
           9,
           9,
           9,
           17,
           17,
           17,
           17,
           17,
           17,
           17,
           17,
           25,
           25
          ],
          "target": [
           7,
           7,
           7,
           7,
           7,
           7,
           7,
           8,
           9,
           10,
           11,
           12,
           13,
           14,
           15,
           16,
           17,
           18,
           19,
           20,
           21,
           22,
           23,
           24,
           25,
           26,
           27
          ],
          "value": [
           1658,
           1181,
           1074,
           82,
           47,
           32,
           17,
           1906,
           2185,
           113,
           254,
           717,
           694,
           51,
           9,
           4,
           343,
           6,
           1,
           12,
           57,
           6,
           8,
           42,
           189,
           105,
           84
          ]
         },
         "node": {
          "color": [
           "rgb(27, 25, 25)",
           "rgb(27, 25, 25)",
           "rgb(27, 25, 25)",
           "rgb(27, 25, 25)",
           "rgb(27, 25, 25)",
           "rgb(27, 25, 25)",
           "rgb(27, 25, 25)",
           "rgb(0, 70, 139)",
           "rgb(173, 0, 42)",
           "rgb(66, 181, 64)",
           "rgb(173, 0, 42)",
           "rgb(173, 0, 42)",
           "rgb(173, 0, 42)",
           "rgb(173, 0, 42)",
           "rgb(173, 0, 42)",
           "rgb(173, 0, 42)",
           "rgb(173, 0, 42)",
           "rgb(66, 181, 64)",
           "rgb(173, 0, 42)",
           "rgb(173, 0, 42)",
           "rgb(173, 0, 42)",
           "rgb(173, 0, 42)",
           "rgb(173, 0, 42)",
           "rgb(173, 0, 42)",
           "rgb(173, 0, 42)",
           "rgb(66, 181, 64)",
           "rgb(173, 0, 42)",
           "rgb(66, 181, 64)"
          ],
          "hovertemplate": "%{label}<extra>%{value:,} studies</extra>",
          "label": [
           "EMBASE (N=1658)",
           "MEDLINE (N=1181)",
           "PubMed (N=1074)",
           "AJOL",
           "GIM",
           "Cochrane",
           "SciELO",
           "Total<br>identified<br>(N=4091)",
           "Duplicates",
           "Abstract<br>screening<br>(N=2185)",
           "Duplicates",
           "Wrong publication type",
           "Wrong study design",
           "Wrong study population",
           "Wrong intervention",
           "Wrong outcome",
           "No full text",
           "Full-text screening<br>(N=343)",
           "Duplicates",
           "Wrong publication type",
           "Wrong study design",
           "Wrong study population",
           "Wrong intervention",
           "Wrong outcome",
           "No full text",
           "Data extraction<br>(N=189)",
           "Excluded on extraction",
           "Included in review<br>(N=84)"
          ],
          "line": {
           "color": "black",
           "width": 0.5
          },
          "pad": 15,
          "thickness": 20,
          "x": [
           0,
           0,
           0,
           0,
           0,
           0,
           0,
           0,
           0.35,
           0.35,
           0.6,
           0.6,
           0.6,
           0.6,
           0.6,
           0.6,
           0.6,
           0.6,
           0.8,
           0.8,
           0.8,
           0.8,
           0.8,
           0.8,
           0.8,
           0.8,
           1,
           1
          ],
          "y": [
           0,
           0,
           0,
           0,
           0,
           0,
           0.3,
           0.8,
           0.2,
           0.5,
           0.05,
           0.1,
           0.16,
           0.24,
           0.3,
           0.35,
           0.4,
           0.5,
           0.45,
           0.5,
           0.55,
           0.6,
           0.65,
           0.7,
           0.75,
           0.85,
           0.93,
           1
          ]
         },
         "orientation": "h",
         "type": "sankey"
        }
       ],
       "layout": {
        "font": {
         "color": "black",
         "family": "Arial",
         "size": 12
        },
        "height": 500,
        "margin": {
         "l": 100
        },
        "template": {
         "data": {
          "bar": [
           {
            "error_x": {
             "color": "#2a3f5f"
            },
            "error_y": {
             "color": "#2a3f5f"
            },
            "marker": {
             "line": {
              "color": "#E5ECF6",
              "width": 0.5
             },
             "pattern": {
              "fillmode": "overlay",
              "size": 10,
              "solidity": 0.2
             }
            },
            "type": "bar"
           }
          ],
          "barpolar": [
           {
            "marker": {
             "line": {
              "color": "#E5ECF6",
              "width": 0.5
             },
             "pattern": {
              "fillmode": "overlay",
              "size": 10,
              "solidity": 0.2
             }
            },
            "type": "barpolar"
           }
          ],
          "carpet": [
           {
            "aaxis": {
             "endlinecolor": "#2a3f5f",
             "gridcolor": "white",
             "linecolor": "white",
             "minorgridcolor": "white",
             "startlinecolor": "#2a3f5f"
            },
            "baxis": {
             "endlinecolor": "#2a3f5f",
             "gridcolor": "white",
             "linecolor": "white",
             "minorgridcolor": "white",
             "startlinecolor": "#2a3f5f"
            },
            "type": "carpet"
           }
          ],
          "choropleth": [
           {
            "colorbar": {
             "outlinewidth": 0,
             "ticks": ""
            },
            "type": "choropleth"
           }
          ],
          "contour": [
           {
            "colorbar": {
             "outlinewidth": 0,
             "ticks": ""
            },
            "colorscale": [
             [
              0,
              "#0d0887"
             ],
             [
              0.1111111111111111,
              "#46039f"
             ],
             [
              0.2222222222222222,
              "#7201a8"
             ],
             [
              0.3333333333333333,
              "#9c179e"
             ],
             [
              0.4444444444444444,
              "#bd3786"
             ],
             [
              0.5555555555555556,
              "#d8576b"
             ],
             [
              0.6666666666666666,
              "#ed7953"
             ],
             [
              0.7777777777777778,
              "#fb9f3a"
             ],
             [
              0.8888888888888888,
              "#fdca26"
             ],
             [
              1,
              "#f0f921"
             ]
            ],
            "type": "contour"
           }
          ],
          "contourcarpet": [
           {
            "colorbar": {
             "outlinewidth": 0,
             "ticks": ""
            },
            "type": "contourcarpet"
           }
          ],
          "heatmap": [
           {
            "colorbar": {
             "outlinewidth": 0,
             "ticks": ""
            },
            "colorscale": [
             [
              0,
              "#0d0887"
             ],
             [
              0.1111111111111111,
              "#46039f"
             ],
             [
              0.2222222222222222,
              "#7201a8"
             ],
             [
              0.3333333333333333,
              "#9c179e"
             ],
             [
              0.4444444444444444,
              "#bd3786"
             ],
             [
              0.5555555555555556,
              "#d8576b"
             ],
             [
              0.6666666666666666,
              "#ed7953"
             ],
             [
              0.7777777777777778,
              "#fb9f3a"
             ],
             [
              0.8888888888888888,
              "#fdca26"
             ],
             [
              1,
              "#f0f921"
             ]
            ],
            "type": "heatmap"
           }
          ],
          "heatmapgl": [
           {
            "colorbar": {
             "outlinewidth": 0,
             "ticks": ""
            },
            "colorscale": [
             [
              0,
              "#0d0887"
             ],
             [
              0.1111111111111111,
              "#46039f"
             ],
             [
              0.2222222222222222,
              "#7201a8"
             ],
             [
              0.3333333333333333,
              "#9c179e"
             ],
             [
              0.4444444444444444,
              "#bd3786"
             ],
             [
              0.5555555555555556,
              "#d8576b"
             ],
             [
              0.6666666666666666,
              "#ed7953"
             ],
             [
              0.7777777777777778,
              "#fb9f3a"
             ],
             [
              0.8888888888888888,
              "#fdca26"
             ],
             [
              1,
              "#f0f921"
             ]
            ],
            "type": "heatmapgl"
           }
          ],
          "histogram": [
           {
            "marker": {
             "pattern": {
              "fillmode": "overlay",
              "size": 10,
              "solidity": 0.2
             }
            },
            "type": "histogram"
           }
          ],
          "histogram2d": [
           {
            "colorbar": {
             "outlinewidth": 0,
             "ticks": ""
            },
            "colorscale": [
             [
              0,
              "#0d0887"
             ],
             [
              0.1111111111111111,
              "#46039f"
             ],
             [
              0.2222222222222222,
              "#7201a8"
             ],
             [
              0.3333333333333333,
              "#9c179e"
             ],
             [
              0.4444444444444444,
              "#bd3786"
             ],
             [
              0.5555555555555556,
              "#d8576b"
             ],
             [
              0.6666666666666666,
              "#ed7953"
             ],
             [
              0.7777777777777778,
              "#fb9f3a"
             ],
             [
              0.8888888888888888,
              "#fdca26"
             ],
             [
              1,
              "#f0f921"
             ]
            ],
            "type": "histogram2d"
           }
          ],
          "histogram2dcontour": [
           {
            "colorbar": {
             "outlinewidth": 0,
             "ticks": ""
            },
            "colorscale": [
             [
              0,
              "#0d0887"
             ],
             [
              0.1111111111111111,
              "#46039f"
             ],
             [
              0.2222222222222222,
              "#7201a8"
             ],
             [
              0.3333333333333333,
              "#9c179e"
             ],
             [
              0.4444444444444444,
              "#bd3786"
             ],
             [
              0.5555555555555556,
              "#d8576b"
             ],
             [
              0.6666666666666666,
              "#ed7953"
             ],
             [
              0.7777777777777778,
              "#fb9f3a"
             ],
             [
              0.8888888888888888,
              "#fdca26"
             ],
             [
              1,
              "#f0f921"
             ]
            ],
            "type": "histogram2dcontour"
           }
          ],
          "mesh3d": [
           {
            "colorbar": {
             "outlinewidth": 0,
             "ticks": ""
            },
            "type": "mesh3d"
           }
          ],
          "parcoords": [
           {
            "line": {
             "colorbar": {
              "outlinewidth": 0,
              "ticks": ""
             }
            },
            "type": "parcoords"
           }
          ],
          "pie": [
           {
            "automargin": true,
            "type": "pie"
           }
          ],
          "scatter": [
           {
            "fillpattern": {
             "fillmode": "overlay",
             "size": 10,
             "solidity": 0.2
            },
            "type": "scatter"
           }
          ],
          "scatter3d": [
           {
            "line": {
             "colorbar": {
              "outlinewidth": 0,
              "ticks": ""
             }
            },
            "marker": {
             "colorbar": {
              "outlinewidth": 0,
              "ticks": ""
             }
            },
            "type": "scatter3d"
           }
          ],
          "scattercarpet": [
           {
            "marker": {
             "colorbar": {
              "outlinewidth": 0,
              "ticks": ""
             }
            },
            "type": "scattercarpet"
           }
          ],
          "scattergeo": [
           {
            "marker": {
             "colorbar": {
              "outlinewidth": 0,
              "ticks": ""
             }
            },
            "type": "scattergeo"
           }
          ],
          "scattergl": [
           {
            "marker": {
             "colorbar": {
              "outlinewidth": 0,
              "ticks": ""
             }
            },
            "type": "scattergl"
           }
          ],
          "scattermapbox": [
           {
            "marker": {
             "colorbar": {
              "outlinewidth": 0,
              "ticks": ""
             }
            },
            "type": "scattermapbox"
           }
          ],
          "scatterpolar": [
           {
            "marker": {
             "colorbar": {
              "outlinewidth": 0,
              "ticks": ""
             }
            },
            "type": "scatterpolar"
           }
          ],
          "scatterpolargl": [
           {
            "marker": {
             "colorbar": {
              "outlinewidth": 0,
              "ticks": ""
             }
            },
            "type": "scatterpolargl"
           }
          ],
          "scatterternary": [
           {
            "marker": {
             "colorbar": {
              "outlinewidth": 0,
              "ticks": ""
             }
            },
            "type": "scatterternary"
           }
          ],
          "surface": [
           {
            "colorbar": {
             "outlinewidth": 0,
             "ticks": ""
            },
            "colorscale": [
             [
              0,
              "#0d0887"
             ],
             [
              0.1111111111111111,
              "#46039f"
             ],
             [
              0.2222222222222222,
              "#7201a8"
             ],
             [
              0.3333333333333333,
              "#9c179e"
             ],
             [
              0.4444444444444444,
              "#bd3786"
             ],
             [
              0.5555555555555556,
              "#d8576b"
             ],
             [
              0.6666666666666666,
              "#ed7953"
             ],
             [
              0.7777777777777778,
              "#fb9f3a"
             ],
             [
              0.8888888888888888,
              "#fdca26"
             ],
             [
              1,
              "#f0f921"
             ]
            ],
            "type": "surface"
           }
          ],
          "table": [
           {
            "cells": {
             "fill": {
              "color": "#EBF0F8"
             },
             "line": {
              "color": "white"
             }
            },
            "header": {
             "fill": {
              "color": "#C8D4E3"
             },
             "line": {
              "color": "white"
             }
            },
            "type": "table"
           }
          ]
         },
         "layout": {
          "annotationdefaults": {
           "arrowcolor": "#2a3f5f",
           "arrowhead": 0,
           "arrowwidth": 1
          },
          "autotypenumbers": "strict",
          "coloraxis": {
           "colorbar": {
            "outlinewidth": 0,
            "ticks": ""
           }
          },
          "colorscale": {
           "diverging": [
            [
             0,
             "#8e0152"
            ],
            [
             0.1,
             "#c51b7d"
            ],
            [
             0.2,
             "#de77ae"
            ],
            [
             0.3,
             "#f1b6da"
            ],
            [
             0.4,
             "#fde0ef"
            ],
            [
             0.5,
             "#f7f7f7"
            ],
            [
             0.6,
             "#e6f5d0"
            ],
            [
             0.7,
             "#b8e186"
            ],
            [
             0.8,
             "#7fbc41"
            ],
            [
             0.9,
             "#4d9221"
            ],
            [
             1,
             "#276419"
            ]
           ],
           "sequential": [
            [
             0,
             "#0d0887"
            ],
            [
             0.1111111111111111,
             "#46039f"
            ],
            [
             0.2222222222222222,
             "#7201a8"
            ],
            [
             0.3333333333333333,
             "#9c179e"
            ],
            [
             0.4444444444444444,
             "#bd3786"
            ],
            [
             0.5555555555555556,
             "#d8576b"
            ],
            [
             0.6666666666666666,
             "#ed7953"
            ],
            [
             0.7777777777777778,
             "#fb9f3a"
            ],
            [
             0.8888888888888888,
             "#fdca26"
            ],
            [
             1,
             "#f0f921"
            ]
           ],
           "sequentialminus": [
            [
             0,
             "#0d0887"
            ],
            [
             0.1111111111111111,
             "#46039f"
            ],
            [
             0.2222222222222222,
             "#7201a8"
            ],
            [
             0.3333333333333333,
             "#9c179e"
            ],
            [
             0.4444444444444444,
             "#bd3786"
            ],
            [
             0.5555555555555556,
             "#d8576b"
            ],
            [
             0.6666666666666666,
             "#ed7953"
            ],
            [
             0.7777777777777778,
             "#fb9f3a"
            ],
            [
             0.8888888888888888,
             "#fdca26"
            ],
            [
             1,
             "#f0f921"
            ]
           ]
          },
          "colorway": [
           "#636efa",
           "#EF553B",
           "#00cc96",
           "#ab63fa",
           "#FFA15A",
           "#19d3f3",
           "#FF6692",
           "#B6E880",
           "#FF97FF",
           "#FECB52"
          ],
          "font": {
           "color": "#2a3f5f"
          },
          "geo": {
           "bgcolor": "white",
           "lakecolor": "white",
           "landcolor": "#E5ECF6",
           "showlakes": true,
           "showland": true,
           "subunitcolor": "white"
          },
          "hoverlabel": {
           "align": "left"
          },
          "hovermode": "closest",
          "mapbox": {
           "style": "light"
          },
          "paper_bgcolor": "white",
          "plot_bgcolor": "#E5ECF6",
          "polar": {
           "angularaxis": {
            "gridcolor": "white",
            "linecolor": "white",
            "ticks": ""
           },
           "bgcolor": "#E5ECF6",
           "radialaxis": {
            "gridcolor": "white",
            "linecolor": "white",
            "ticks": ""
           }
          },
          "scene": {
           "xaxis": {
            "backgroundcolor": "#E5ECF6",
            "gridcolor": "white",
            "gridwidth": 2,
            "linecolor": "white",
            "showbackground": true,
            "ticks": "",
            "zerolinecolor": "white"
           },
           "yaxis": {
            "backgroundcolor": "#E5ECF6",
            "gridcolor": "white",
            "gridwidth": 2,
            "linecolor": "white",
            "showbackground": true,
            "ticks": "",
            "zerolinecolor": "white"
           },
           "zaxis": {
            "backgroundcolor": "#E5ECF6",
            "gridcolor": "white",
            "gridwidth": 2,
            "linecolor": "white",
            "showbackground": true,
            "ticks": "",
            "zerolinecolor": "white"
           }
          },
          "shapedefaults": {
           "line": {
            "color": "#2a3f5f"
           }
          },
          "ternary": {
           "aaxis": {
            "gridcolor": "white",
            "linecolor": "white",
            "ticks": ""
           },
           "baxis": {
            "gridcolor": "white",
            "linecolor": "white",
            "ticks": ""
           },
           "bgcolor": "#E5ECF6",
           "caxis": {
            "gridcolor": "white",
            "linecolor": "white",
            "ticks": ""
           }
          },
          "title": {
           "x": 0.05
          },
          "xaxis": {
           "automargin": true,
           "gridcolor": "white",
           "linecolor": "white",
           "ticks": "",
           "title": {
            "standoff": 15
           },
           "zerolinecolor": "white",
           "zerolinewidth": 2
          },
          "yaxis": {
           "automargin": true,
           "gridcolor": "white",
           "linecolor": "white",
           "ticks": "",
           "title": {
            "standoff": 15
           },
           "zerolinecolor": "white",
           "zerolinewidth": 2
          }
         }
        },
        "title": {
         "text": "<b>Figure 1. PRISMA diagram.</b>",
         "x": 0.1,
         "y": 0.07
        },
        "width": 1000
       }
      }
     },
     "metadata": {},
     "output_type": "display_data"
    }
   ],
   "source": [
    "import plotly.graph_objects as go\n",
    "\n",
    "# Information on screening criteria for each stage\n",
    "screening_info = [\n",
    "\n",
    "    # Sources of data\n",
    "    \n",
    "    #EMBASE, MEDLINE, PubMed, GIM, Cochrane, SciELO\n",
    "    'Obtained from the EMBASE database',\n",
    "    'Obtained from the MEDLINE database',\n",
    "    'Obtained from the PubMed database',\n",
    "    'Obtained from the AJOL database',\n",
    "    'Obtained from the GIM database',\n",
    "    'Obtained from the Cochrane database',\n",
    "    'Obtained from the SciELO database',\n",
    "\n",
    "    #Deduplication\n",
    "    'Duplicated titles and abstracts',\n",
    "    'Eligible for abstract screening',\n",
    "\n",
    "    #Abstract screening\n",
    "    'Duplicated titles and abstracts',\n",
    "    \"\"\"\n",
    "      PUBLICATION TYPE<br>\n",
    "      Exclusion criteria:<br>\n",
    "      - is not peer-reviewed article; OR<br>\n",
    "      - is opinion piece, comment, letter, guideline, literature review, or editorial.\n",
    "    \"\"\",\n",
    "    \"\"\"\n",
    "      STUDY DESIGN<br>\n",
    "      Exclusion criteria:<br>\n",
    "      - is single-case report, systematic review, or meta-analysis; OR<br>\n",
    "      - is qualitative study.\n",
    "    \"\"\",\n",
    "    \"\"\"\n",
    "      POPULATION<br>\n",
    "      Exclusion criteria:<br>\n",
    "      - is not study on human infant population  (i.e., age >2 years); OR<br>\n",
    "      - no hydrocephalus; OR<br>\n",
    "      - hydrocephalus is not due to MMC*<br>\n",
    "      - global study where data from many countries has been pooled AND<br>\n",
    "        we cannot distinguish from which country each data comes from.<br><br>\n",
    "      *Meningocoele and myelocoele are not the same as MMC.\n",
    "    \"\"\",\n",
    "    \"\"\"\n",
    "      INTERVENTION<br>\n",
    "      Exclusion criteria:<br>\n",
    "      - Fetal surgery. (TODO: CLARIFY IF HC, MMC, OR BOTH)\n",
    "    \"\"\",\n",
    "    \"\"\"\n",
    "      OUTCOME<br>\n",
    "      Exclusion criteria:<br>\n",
    "      - Outcome of study is neither treatment failure; NOR<br>\n",
    "      - Mortality; NOR<br>\n",
    "      - Morbidity; NOR<br>\n",
    "      - Resolution of clinical OR radiological signs of hydrocephalus.\n",
    "    \"\"\",\n",
    "    \"\"\"\n",
    "      FULL-TEXT<br>\n",
    "      Exclusion criteria:<br>\n",
    "      - Full-text unavailable OR inaccessible.\n",
    "    \"\"\",\n",
    "    'Eligible for full-text screening',\n",
    "    #Full-text screening\n",
    "    'Duplicated full-texts',\n",
    "    \"\"\"\n",
    "      PUBLICATION TYPE<br>\n",
    "      Exclusion criteria:<br>\n",
    "      - is not peer-reviewed article; OR<br>\n",
    "      - is opinion piece, comment, letter, guideline, literature review, or editorial.\n",
    "    \"\"\",\n",
    "    \"\"\"\n",
    "      STUDY DESIGN<br>\n",
    "      Exclusion criteria:<br>\n",
    "      - is single-case report, systematic review, or meta-analysis; OR<br>\n",
    "      - is qualitative study.\n",
    "    \"\"\",\n",
    "    \"\"\"\n",
    "      POPULATION<br>\n",
    "      Exclusion criteria:<br>\n",
    "      - is not study on human infant population  (i.e., age >2 years); OR<br>\n",
    "      - no hydrocephalus; OR<br>\n",
    "      - hydrocephalus is not due to MMC*<br>\n",
    "      - global study where data from many countries has been pooled AND<br>\n",
    "        we cannot distinguish from which country each data comes from.<br><br>\n",
    "      *Meningocoele and myelocoele are not the same as MMC.\n",
    "    \"\"\",\n",
    "    \"\"\"\n",
    "      INTERVENTION<br>\n",
    "      Exclusion criteria:<br>\n",
    "      - Fetal surgery. (TODO: CLARIFY IF HC, MMC, OR BOTH)\n",
    "    \"\"\",\n",
    "    \"\"\"\n",
    "      OUTCOME<br>\n",
    "      Exclusion criteria:<br>\n",
    "      - Outcome of study is neither treatment failure; NOR<br>\n",
    "      - Mortality; NOR<br>\n",
    "      - Morbidity; NOR<br>\n",
    "      - Resolution of clinical OR radiological signs of hydrocephalus.\n",
    "    \"\"\",\n",
    "    \"\"\"\n",
    "      FULL-TEXT<br>\n",
    "      Exclusion criteria:<br>\n",
    "      - Full-text unavailable OR inaccessible.\n",
    "    \"\"\",\n",
    "    'Eligible for data extraction',\n",
    "    #Data extraction\n",
    "    \"\"\"\n",
    "      NO DATA<br>\n",
    "      Exclusion criteria:<br>\n",
    "      - not providing [WHAT TYPE OF DATA? 'disaggregate MMCaHC subgroup data'?].\n",
    "    \"\"\",\n",
    "\n",
    "    # Remaining data sources and criteria\n",
    "    'Included in review'\n",
    "]\n",
    "\n",
    "# Setting up the Sankey diagram for the PRISMA flowchart\n",
    "fig1 = go.Figure(data=[go.Sankey(\n",
    "    orientation=\"h\",\n",
    "    node = dict(\n",
    "      pad = 15,\n",
    "      thickness = 20,\n",
    "      line = dict(color = \"black\", width = 0.5),\n",
    "      label = [\n",
    "          #EMBASE, MEDLINE, PubmMd, GIM, Cochrane, SciELO\n",
    "          \"EMBASE (N=1658)\", \"MEDLINE (N=1181)\", \"PubMed (N=1074)\", \"AJOL\", \"GIM\", \"Cochrane\", \"SciELO\",\n",
    "          #Total no. studies\n",
    "          \"Total<br>identified<br>(N=4091)\",\n",
    "          #Deduplication\n",
    "          \"Duplicates\", \"Abstract<br>screening<br>(N=2185)\",\n",
    "          #Abstract screening\n",
    "          \"Duplicates\",\n",
    "          \"Wrong publication type\",\n",
    "          \"Wrong study design\",\n",
    "          \"Wrong study population\",\n",
    "          \"Wrong intervention\",\n",
    "          \"Wrong outcome\",\n",
    "          \"No full text\",\n",
    "          \"Full-text screening<br>(N=343)\",\n",
    "          #Full-text screening\n",
    "          \"Duplicates\",\n",
    "          \"Wrong publication type\",\n",
    "          \"Wrong study design\",\n",
    "          \"Wrong study population\",\n",
    "          \"Wrong intervention\",\n",
    "          \"Wrong outcome\",\n",
    "          \"No full text\",\n",
    "          \"Data extraction<br>(N=189)\",\n",
    "          #Data extraction\n",
    "          \"Excluded on extraction\",\n",
    "          \"Included in review<br>(N=84)\"\n",
    "      ],\n",
    "      x = [0, 0, 0, 0, 0, 0, 0,   0,   0.35, 0.35, 0.6,  0.6, 0.6,  0.6,  0.6, 0.6,  0.6, 0.6,  0.8,  0.8,  0.8, 0.8, 0.8,  0.8, 0.8,  0.8,  1,    1],\n",
    "      y = [0, 0, 0, 0, 0, 0, 0.3, 0.8, 0.2,  0.5,  0.05, 0.1, 0.16, 0.24, 0.3, 0.35, 0.4, 0.5,  0.45, 0.5, 0.55, 0.6, 0.65, 0.7, 0.75, 0.85, 0.93, 1],\n",
    "      hovertemplate = \"%{label}<extra>%{value:,} studies</extra>\",\n",
    "      color = [\n",
    "          #EMBASE, MEDLINE, PubmMed, GIM, Cochrane, SciELO\n",
    "          \"rgb(27, 25, 25)\",\"rgb(27, 25, 25)\",\"rgb(27, 25, 25)\",\"rgb(27, 25, 25)\",\"rgb(27, 25, 25)\",\"rgb(27, 25, 25)\",\"rgb(27, 25, 25)\",\n",
    "          #Total no. studies\n",
    "          \"rgb(0, 70, 139)\",\n",
    "          #Deduplication\n",
    "          \"rgb(173, 0, 42)\",\"rgb(66, 181, 64)\",\n",
    "          #Abstract screening\n",
    "          \"rgb(173, 0, 42)\",\"rgb(173, 0, 42)\",\"rgb(173, 0, 42)\",\"rgb(173, 0, 42)\",\"rgb(173, 0, 42)\",\"rgb(173, 0, 42)\",\"rgb(173, 0, 42)\",\"rgb(66, 181, 64)\",\n",
    "          #Full-text screening\n",
    "          \"rgb(173, 0, 42)\",\"rgb(173, 0, 42)\",\"rgb(173, 0, 42)\",\"rgb(173, 0, 42)\",\"rgb(173, 0, 42)\",\"rgb(173, 0, 42)\",\"rgb(173, 0, 42)\",\"rgb(66, 181, 64)\",\n",
    "          #Data extraction\n",
    "          \"rgb(173, 0, 42)\",\"rgb(66, 181, 64)\"\n",
    "      ]\n",
    "    ),\n",
    "    link = dict(\n",
    "      source = [0, 1, 2, 3, 4, 5, 6, 7, 7, 9,  9,  9,  9,  9,  9,  9,  9,  17, 17, 17, 17, 17, 17, 17, 17, 25, 25],\n",
    "      target = [7, 7, 7, 7, 7, 7, 7, 8, 9, 10, 11, 12, 13, 14, 15, 16, 17, 18, 19, 20, 21, 22, 23, 24, 25, 26, 27],\n",
    "      value = [\n",
    "          #EMBASE, MEDLINE, PubmMed, AJOL, GIM, Cochrane, SciELO\n",
    "          1658, 1181, 1074, 82, 47, 32, 17,\n",
    "          #Duplicates and deduplicates\n",
    "          1906, 2185,\n",
    "          #Abstract screening\n",
    "          113, 254, 717, 694, 51, 9, 4, 343,\n",
    "          #Full-text screening\n",
    "          6, 1, 12, 57, 6, 8, 42, 189,\n",
    "          #Data extraction\n",
    "          105, 84\n",
    "      ],\n",
    "      color = [\n",
    "          #EMBASE, MEDLINE, PubMed, AJOL GIM, Cochrane, SciELO\n",
    "          \"rgba(27, 25, 25, 0.6)\",\"rgba(27, 25, 25, 0.6)\",\"rgba(27, 25, 25, 0.6)\",\"rgba(27, 25, 25, 0.6)\",\"rgba(27, 25, 25, 0.6)\",\"rgba(27, 25, 25, 0.6)\",\"rgba(27, 25, 25, 0.6)\",\n",
    "          #Deduplication\n",
    "          \"rgba(173, 0, 42, 0.6)\",\"rgba(66, 181, 64, 0.6)\",\n",
    "          #Abstract screening\n",
    "          \"rgba(173, 0, 42, 0.6)\",\"rgba(173, 0, 42, 0.6)\",\"rgba(173, 0, 42, 0.6)\",\"rgba(173, 0, 42, 0.6)\",\"rgba(173, 0, 42, 0.6)\",\"rgba(173, 0, 42, 0.6)\",\"rgba(173, 0, 42, 0.6)\",\"rgba(66, 181, 64, 0.6)\",\n",
    "          #Full-text screening\n",
    "          \"rgba(173, 0, 42, 0.6)\",\"rgba(173, 0, 42, 0.6)\",\"rgba(173, 0, 42, 0.6)\",\"rgba(173, 0, 42, 0.6)\",\"rgba(173, 0, 42, 0.6)\",\"rgba(173, 0, 42, 0.6)\",\"rgba(173, 0, 42, 0.6)\",\"rgba(66, 181, 64, 0.6)\",\n",
    "          #Data extraction\n",
    "          \"rgba(173, 0, 42, 0.6)\",\"rgba(66, 181, 64, 0.6)\"\n",
    "      ],\n",
    "      customdata = screening_info,\n",
    "      hovertemplate = \"%{customdata}<extra>%{value:,} studies</extra>\",\n",
    "  ))])\n",
    "\n",
    "# Updating the layout of the figure\n",
    "fig1.update_layout(title=dict(text='<b>Figure 1. PRISMA diagram.</b>',x=0.1, y=0.07),\n",
    "                   margin=dict(l=100),\n",
    "                   width=1000,\n",
    "                   height=500,\n",
    "                   font_family=\"Arial\",\n",
    "                   font_color=\"black\",\n",
    "                   font_size=12)\n",
    "\n",
    "# Configuration for saving the plot in high resolution\n",
    "config = {\n",
    "  'toImageButtonOptions': {\n",
    "    'format': 'png', # one of png, svg, jpeg, webp\n",
    "    'filename': 'fig1',\n",
    "    'scale':6 # Multiply title/legend/axis/canvas sizes by this factor\n",
    "  }\n",
    "}\n",
    "\n",
    "fig1.show(config=config)\n",
    "\n",
    "#TODO: Check that \"Ante-natal intervention\" & \"antenatal intervention\" reasons\n",
    "#      in abstract screening set refers to HC sx NOT MMC sx\n",
    "\n",
    "#TODO: Fix #N/A's in first sheet below. After fixing, count PRISMA again,\n",
    "# and hope that the problem with the missing articles (mentioned below) disappears!\n",
    "# - Data[\"Screening\"]: https://docs.google.com/spreadsheets/d/1FHxoODwjcbDVgmH3g6BzLU65Gf4IVWZr5XNxO4ksoFw/edit#gid=863864427\n",
    "# - Abstracts: https://docs.google.com/spreadsheets/d/1BJSV3WBYJGRhQ6zExamkszQ5VutGIcaQqmbD9ZTVXMQ/edit#gid=1251630045\n",
    "# - Full texts: https://docs.google.com/spreadsheets/d/1qpEmbGH0JjaJbUdp21-y2cPbobDbMjr09BbtdKROZWc/edit#gid=1444865654\n",
    "# - Extraction sheet: https://docs.google.com/spreadsheets/d/1kGrh75X1cNR1D7_FcY9zMnHP8iPO4M5RCRjy6nZY0TY/edit#gid=0\n",
    "\n",
    "#TODO: Need to resolve missing\n",
    "# - Abstracts:  325 ending ab screening vs. 318 starting ft screening (i.e. 7 missing!)\n",
    "# - Full-texts: 181 ending ft screening vs. 168 starting extraction (i.e. 13 missing!)\n",
    "#   - Clarify what does 'No disaggregate data on MMCaHC' mean.\n",
    "\n",
    "#TODO: Need to add reasons for exclusion for 84 excluded articles\n",
    "# on data extraction to Supp Text 2 using master sheet above."
   ]
  },
  {
   "cell_type": "markdown",
   "metadata": {},
   "source": [
    "We identified 84 studies reporting...\n",
    "#TODO: add sumarizing sentence for what all the studies report on."
   ]
  },
  {
   "cell_type": "markdown",
   "metadata": {
    "id": "gaGuITNtz94J"
   },
   "source": [
    "### **Supplemental Text 2. List of studies excluded at full-text screening stage, with brief reasons.**"
   ]
  },
  {
   "cell_type": "code",
   "execution_count": null,
   "metadata": {
    "id": "Io_cekgd0AfB"
   },
   "outputs": [],
   "source": []
  },
  {
   "cell_type": "markdown",
   "metadata": {
    "id": "ZPsMdnCV71xy"
   },
   "source": [
    "### **Supplemental Table 1. Characteristics of included studies.**"
   ]
  },
  {
   "cell_type": "markdown",
   "metadata": {},
   "source": [
    "The table presents a comprehensive overview of studies related to myelomeningocele (MMC) levels, capturing key characteristics like study design, region, interventions, and outcomes. This consolidation aids in understanding the landscape of MMC-related studies, offering insights into methodologies and findings."
   ]
  },
  {
   "cell_type": "code",
   "execution_count": 2,
   "metadata": {},
   "outputs": [
    {
     "data": {
      "text/html": [
       "<div>\n",
       "<style scoped>\n",
       "    .dataframe tbody tr th:only-of-type {\n",
       "        vertical-align: middle;\n",
       "    }\n",
       "\n",
       "    .dataframe tbody tr th {\n",
       "        vertical-align: top;\n",
       "    }\n",
       "\n",
       "    .dataframe thead th {\n",
       "        text-align: right;\n",
       "    }\n",
       "</style>\n",
       "<table border=\"1\" class=\"dataframe\">\n",
       "  <thead>\n",
       "    <tr style=\"text-align: right;\">\n",
       "      <th></th>\n",
       "      <th>First_author</th>\n",
       "      <th>Year_of_publication</th>\n",
       "      <th>Study_design</th>\n",
       "      <th>Income_group</th>\n",
       "      <th>Region</th>\n",
       "      <th>Country</th>\n",
       "      <th>Participants</th>\n",
       "      <th>MMC level</th>\n",
       "      <th>Interventions</th>\n",
       "      <th>Outcomes</th>\n",
       "    </tr>\n",
       "  </thead>\n",
       "  <tbody>\n",
       "    <tr>\n",
       "      <th>0</th>\n",
       "      <td>Martínez-Lage</td>\n",
       "      <td>2005</td>\n",
       "      <td>Retrospective study (unspecified)</td>\n",
       "      <td>Lower middle income</td>\n",
       "      <td>Latin America &amp; Caribbean</td>\n",
       "      <td>Bolivia</td>\n",
       "      <td>39</td>\n",
       "      <td>C, TL, L, LS</td>\n",
       "      <td>VPS</td>\n",
       "      <td>MMC_postop_wbreak</td>\n",
       "    </tr>\n",
       "    <tr>\n",
       "      <th>1</th>\n",
       "      <td>Sacar</td>\n",
       "      <td>2006</td>\n",
       "      <td>Retrospective study (unspecified)</td>\n",
       "      <td>Upper middle income</td>\n",
       "      <td>Europe &amp; Central Asia</td>\n",
       "      <td>Turkey</td>\n",
       "      <td>7</td>\n",
       "      <td>NaN</td>\n",
       "      <td>VPS</td>\n",
       "      <td>Mi, HC_postop_meningitis</td>\n",
       "    </tr>\n",
       "    <tr>\n",
       "      <th>2</th>\n",
       "      <td>Clemmensen</td>\n",
       "      <td>2010</td>\n",
       "      <td>Retrospective study (unspecified)</td>\n",
       "      <td>High income</td>\n",
       "      <td>Europe &amp; Central Asia</td>\n",
       "      <td>Denmark</td>\n",
       "      <td>59</td>\n",
       "      <td>NaN</td>\n",
       "      <td>VPS</td>\n",
       "      <td>Mi, Mp, MMC_postop_winfex, MMC_postop_meningitis</td>\n",
       "    </tr>\n",
       "    <tr>\n",
       "      <th>3</th>\n",
       "      <td>Sandquist</td>\n",
       "      <td>2003</td>\n",
       "      <td>Prospective study (unspecified)</td>\n",
       "      <td>High income</td>\n",
       "      <td>North America</td>\n",
       "      <td>United States</td>\n",
       "      <td>5</td>\n",
       "      <td>NaN</td>\n",
       "      <td>VPS, Other</td>\n",
       "      <td>Mi, Mp</td>\n",
       "    </tr>\n",
       "    <tr>\n",
       "      <th>4</th>\n",
       "      <td>Bluestone</td>\n",
       "      <td>1972</td>\n",
       "      <td>Retrospective study (unspecified)</td>\n",
       "      <td>High income</td>\n",
       "      <td>North America</td>\n",
       "      <td>United States</td>\n",
       "      <td>12</td>\n",
       "      <td>C, TL, L, LS</td>\n",
       "      <td>VPS, Other</td>\n",
       "      <td>Fr, Failure_rate_VPS</td>\n",
       "    </tr>\n",
       "    <tr>\n",
       "      <th>...</th>\n",
       "      <td>...</td>\n",
       "      <td>...</td>\n",
       "      <td>...</td>\n",
       "      <td>...</td>\n",
       "      <td>...</td>\n",
       "      <td>...</td>\n",
       "      <td>...</td>\n",
       "      <td>...</td>\n",
       "      <td>...</td>\n",
       "      <td>...</td>\n",
       "    </tr>\n",
       "    <tr>\n",
       "      <th>79</th>\n",
       "      <td>Sil</td>\n",
       "      <td>2021</td>\n",
       "      <td>Case series</td>\n",
       "      <td>Lower middle income</td>\n",
       "      <td>South Asia</td>\n",
       "      <td>India</td>\n",
       "      <td>39</td>\n",
       "      <td>NaN</td>\n",
       "      <td>SS</td>\n",
       "      <td>NaN</td>\n",
       "    </tr>\n",
       "    <tr>\n",
       "      <th>80</th>\n",
       "      <td>Petraglia</td>\n",
       "      <td>2011</td>\n",
       "      <td>Case series</td>\n",
       "      <td>High income</td>\n",
       "      <td>North America</td>\n",
       "      <td>United States</td>\n",
       "      <td>9</td>\n",
       "      <td>NaN</td>\n",
       "      <td>SS, EVD, VPS</td>\n",
       "      <td>Tf, HC_postop_meningitis</td>\n",
       "    </tr>\n",
       "    <tr>\n",
       "      <th>81</th>\n",
       "      <td>Kirsch</td>\n",
       "      <td>1968</td>\n",
       "      <td>Case series</td>\n",
       "      <td>High income</td>\n",
       "      <td>North America</td>\n",
       "      <td>United States</td>\n",
       "      <td>2</td>\n",
       "      <td>LS</td>\n",
       "      <td>Other</td>\n",
       "      <td>Fr, Cr, MMC_postop_winfex</td>\n",
       "    </tr>\n",
       "    <tr>\n",
       "      <th>82</th>\n",
       "      <td>Bell</td>\n",
       "      <td>1987</td>\n",
       "      <td>Retrospective study (unspecified)</td>\n",
       "      <td>High income</td>\n",
       "      <td>North America</td>\n",
       "      <td>United States</td>\n",
       "      <td>37</td>\n",
       "      <td>NaN</td>\n",
       "      <td>VPS</td>\n",
       "      <td>Cr, HC_postop_meningitis</td>\n",
       "    </tr>\n",
       "    <tr>\n",
       "      <th>83</th>\n",
       "      <td>Ojo</td>\n",
       "      <td>2015</td>\n",
       "      <td>Prospective study (unspecified)</td>\n",
       "      <td>Lower middle income</td>\n",
       "      <td>Sub-Saharan Africa</td>\n",
       "      <td>Nigeria</td>\n",
       "      <td>9</td>\n",
       "      <td>NaN</td>\n",
       "      <td>ETV</td>\n",
       "      <td>Fr, Failure_rate_ETV, Tf, Mi, Mp, Cr</td>\n",
       "    </tr>\n",
       "  </tbody>\n",
       "</table>\n",
       "<p>84 rows × 10 columns</p>\n",
       "</div>"
      ],
      "text/plain": [
       "     First_author  Year_of_publication                       Study_design  \\\n",
       "0   Martínez-Lage                 2005  Retrospective study (unspecified)   \n",
       "1           Sacar                 2006  Retrospective study (unspecified)   \n",
       "2      Clemmensen                 2010  Retrospective study (unspecified)   \n",
       "3       Sandquist                 2003    Prospective study (unspecified)   \n",
       "4       Bluestone                 1972  Retrospective study (unspecified)   \n",
       "..            ...                  ...                                ...   \n",
       "79            Sil                 2021                        Case series   \n",
       "80      Petraglia                 2011                        Case series   \n",
       "81         Kirsch                 1968                        Case series   \n",
       "82           Bell                 1987  Retrospective study (unspecified)   \n",
       "83            Ojo                 2015    Prospective study (unspecified)   \n",
       "\n",
       "           Income_group                     Region        Country  \\\n",
       "0   Lower middle income  Latin America & Caribbean        Bolivia   \n",
       "1   Upper middle income      Europe & Central Asia         Turkey   \n",
       "2           High income      Europe & Central Asia        Denmark   \n",
       "3           High income              North America  United States   \n",
       "4           High income              North America  United States   \n",
       "..                  ...                        ...            ...   \n",
       "79  Lower middle income                 South Asia          India   \n",
       "80          High income              North America  United States   \n",
       "81          High income              North America  United States   \n",
       "82          High income              North America  United States   \n",
       "83  Lower middle income         Sub-Saharan Africa        Nigeria   \n",
       "\n",
       "    Participants     MMC level Interventions  \\\n",
       "0             39  C, TL, L, LS           VPS   \n",
       "1              7           NaN           VPS   \n",
       "2             59           NaN           VPS   \n",
       "3              5           NaN    VPS, Other   \n",
       "4             12  C, TL, L, LS    VPS, Other   \n",
       "..           ...           ...           ...   \n",
       "79            39           NaN            SS   \n",
       "80             9           NaN  SS, EVD, VPS   \n",
       "81             2            LS         Other   \n",
       "82            37           NaN           VPS   \n",
       "83             9           NaN           ETV   \n",
       "\n",
       "                                            Outcomes  \n",
       "0                                  MMC_postop_wbreak  \n",
       "1                           Mi, HC_postop_meningitis  \n",
       "2   Mi, Mp, MMC_postop_winfex, MMC_postop_meningitis  \n",
       "3                                             Mi, Mp  \n",
       "4                               Fr, Failure_rate_VPS  \n",
       "..                                               ...  \n",
       "79                                               NaN  \n",
       "80                          Tf, HC_postop_meningitis  \n",
       "81                         Fr, Cr, MMC_postop_winfex  \n",
       "82                          Cr, HC_postop_meningitis  \n",
       "83              Fr, Failure_rate_ETV, Tf, Mi, Mp, Cr  \n",
       "\n",
       "[84 rows x 10 columns]"
      ]
     },
     "execution_count": 2,
     "metadata": {},
     "output_type": "execute_result"
    }
   ],
   "source": [
    "import numpy as np\n",
    "header1 = [ 'IID', 'First_author', 'Year_of_publication', 'Study_design',\n",
    "            'Income_group', 'Region', 'Country', 'N' ]\n",
    "\n",
    "#Studies\n",
    "df_studies[header1].rename({'N': 'Participants'}, axis=1).merge(\n",
    "\n",
    "    #Vertebral level\n",
    "    df_features[\n",
    "        ['IID', 'MMC_cervical',\t'MMC_thoracic',\t'MMC_thoracolumbar',\t'MMC_lumbar',\t'MMC_lumbosacral',\t'MMC_sacral']\n",
    "    ].melt(id_vars=['IID'], var_name='MMC level')[\n",
    "        df_features[\n",
    "            ['IID', 'MMC_cervical',\t'MMC_thoracic',\t'MMC_thoracolumbar',\t'MMC_lumbar',\t'MMC_lumbosacral',\t'MMC_sacral']\n",
    "        ].melt(id_vars=['IID'], var_name='MMC level').value.notnull()\n",
    "    ].drop('value', axis=1).replace(\n",
    "        regex=[ '^MMC_cervical$', '^MMC_thoracic$', '^MMC_thoracolumbar$', '^MMC_lumbar$', '^MMC_lumbosacral$', '^MMC_sacral$' ],\n",
    "        value=[ 'C', 'T', 'TL', 'L', 'LS', 'S' ]\n",
    "    ).drop_duplicates().groupby('IID')['MMC level'].apply(\n",
    "        lambda x: ', '.join(x)\n",
    "    ).reset_index(),\n",
    "    on='IID', how='outer'\n",
    "\n",
    ").merge(\n",
    "\n",
    "    #Interventions\n",
    "    df_management.drop(\n",
    "            ['Tx_per_pt_mean', 'Tx_per_pt_median', 'Tx_per_pt_sd', 'Tx_per_pt_range', 'Ix_CT',\t'Ix_MRI',\t'Ix_USS',\t'Ix_clinical'],\n",
    "            axis=1\n",
    "        ).melt(id_vars=['IID'], var_name='Interventions')[\n",
    "            df_management.drop(\n",
    "                ['Tx_per_pt_mean', 'Tx_per_pt_median', 'Tx_per_pt_sd', 'Tx_per_pt_range', 'Ix_CT',\t'Ix_MRI',\t'Ix_USS',\t'Ix_clinical'],\n",
    "                axis=1\n",
    "            ).melt(id_vars=['IID'], var_name='Interventions').value.notnull()\n",
    "        ].drop('value', axis=1).replace(\n",
    "            regex=[ '^VPS.+$', '^ETV_\\d.+$', '^ETV_CPC.+$', '^ETV_to_VPS.+$', '^Conservative.+$', '^EVD.+$', '^Subgaleal.+$', '^Other.+$' ],\n",
    "            value=[ 'VPS', 'ETV', 'ETV/CPC', 'ETV>VPS', 'C', 'EVD', 'SS', 'Other' ]\n",
    "        ).drop_duplicates().groupby('IID')['Interventions'].apply(\n",
    "            lambda x: ', '.join(x)\n",
    "        ).reset_index(),\n",
    "    on='IID', how='outer'\n",
    "\n",
    ").merge(\n",
    "\n",
    "    #Outcomes\n",
    "    df_outcomes.drop(\n",
    "        ['Failure_reasons', 'Mortality_reasons_1st_line', 'Mortality_reasons_2nd_line'],\n",
    "        axis=1\n",
    "    ).melt(id_vars=['IID'], var_name='Outcomes')[\n",
    "        df_outcomes.drop(\n",
    "            ['Failure_reasons', 'Mortality_reasons_1st_line', 'Mortality_reasons_2nd_line'],\n",
    "            axis=1\n",
    "        ).melt(id_vars=['IID'], var_name='Outcomes').value.notnull()\n",
    "    ].drop('value', axis=1).replace(\n",
    "        regex=[ '^Mortality_intraop.+$', '^Mortality_periop.+$', '^Complication_rate.+$', '^Failure_rate$', '^Time_to_failure.+$' ],\n",
    "        value=[ 'Mi', 'Mp', 'Cr', 'Fr', 'Tf' ]\n",
    "    ).drop_duplicates().groupby('IID')['Outcomes'].apply(\n",
    "        lambda x: ', '.join(x)\n",
    "    ).reset_index(),\n",
    "    on='IID', how='outer'\n",
    "\n",
    ").drop('IID', axis=1).astype({'Participants':'int'})"
   ]
  },
  {
   "cell_type": "markdown",
   "metadata": {
    "id": "S1B80qlrnH4q"
   },
   "source": [
    "### **Table 1. Characteristics of patients included in the meta-analysis**"
   ]
  },
  {
   "cell_type": "markdown",
   "metadata": {},
   "source": [
    "The data is grouped by income levels, helping to provide insights into how different income groups may differ in various health parameters and outcomes related to these surgeries."
   ]
  },
  {
   "cell_type": "code",
   "execution_count": 55,
   "metadata": {},
   "outputs": [
    {
     "data": {
      "text/html": [
       "<div>\n",
       "<style scoped>\n",
       "    .dataframe tbody tr th:only-of-type {\n",
       "        vertical-align: middle;\n",
       "    }\n",
       "\n",
       "    .dataframe tbody tr th {\n",
       "        vertical-align: top;\n",
       "    }\n",
       "\n",
       "    .dataframe thead th {\n",
       "        text-align: right;\n",
       "    }\n",
       "</style>\n",
       "<table border=\"1\" class=\"dataframe\">\n",
       "  <thead>\n",
       "    <tr style=\"text-align: right;\">\n",
       "      <th>Income_group</th>\n",
       "      <th>Low income</th>\n",
       "      <th>Lower middle income</th>\n",
       "      <th>Upper middle income</th>\n",
       "      <th>High income</th>\n",
       "    </tr>\n",
       "  </thead>\n",
       "  <tbody>\n",
       "    <tr>\n",
       "      <th>N</th>\n",
       "      <td>277</td>\n",
       "      <td>899</td>\n",
       "      <td>2135</td>\n",
       "      <td>4156</td>\n",
       "    </tr>\n",
       "    <tr>\n",
       "      <th>Female</th>\n",
       "      <td>5/10 (50%)</td>\n",
       "      <td>155/331 (47%)</td>\n",
       "      <td>437/797 (55%)</td>\n",
       "      <td>342/609 (56%)</td>\n",
       "    </tr>\n",
       "    <tr>\n",
       "      <th>Male</th>\n",
       "      <td>5/10 (50%)</td>\n",
       "      <td>176/328 (54%)</td>\n",
       "      <td>394/797 (49%)</td>\n",
       "      <td>322/605 (53%)</td>\n",
       "    </tr>\n",
       "    <tr>\n",
       "      <th>Tx_age_mean_mean</th>\n",
       "      <td>307</td>\n",
       "      <td>103</td>\n",
       "      <td>84</td>\n",
       "      <td>83</td>\n",
       "    </tr>\n",
       "    <tr>\n",
       "      <th>Tx_age_mean_std</th>\n",
       "      <td>306</td>\n",
       "      <td>135</td>\n",
       "      <td>60</td>\n",
       "      <td>72</td>\n",
       "    </tr>\n",
       "    <tr>\n",
       "      <th>Pre-natal mean</th>\n",
       "      <td>0.0 (N=0)</td>\n",
       "      <td>0.0 (N=0)</td>\n",
       "      <td>0.0 (N=0)</td>\n",
       "      <td>130.0 (N=1)</td>\n",
       "    </tr>\n",
       "    <tr>\n",
       "      <th>Post-natal mean</th>\n",
       "      <td>NaN</td>\n",
       "      <td>56 (N=26)</td>\n",
       "      <td>48 (N=371)</td>\n",
       "      <td>68 (N=194)</td>\n",
       "    </tr>\n",
       "    <tr>\n",
       "      <th>MMC_age_mean</th>\n",
       "      <td>&lt;NA&gt;</td>\n",
       "      <td>16</td>\n",
       "      <td>329</td>\n",
       "      <td>48</td>\n",
       "    </tr>\n",
       "    <tr>\n",
       "      <th>Full or bulging fontanelle</th>\n",
       "      <td>NaN</td>\n",
       "      <td>344/344 (100%)</td>\n",
       "      <td>216/218 (99%)</td>\n",
       "      <td>32/73 (44%)</td>\n",
       "    </tr>\n",
       "    <tr>\n",
       "      <th>Increased head circumference</th>\n",
       "      <td>NaN</td>\n",
       "      <td>330/332 (99%)</td>\n",
       "      <td>426/407 (105%)</td>\n",
       "      <td>120/232 (52%)</td>\n",
       "    </tr>\n",
       "    <tr>\n",
       "      <th>CSF leaking from the wound</th>\n",
       "      <td>NaN</td>\n",
       "      <td>13/30 (43%)</td>\n",
       "      <td>NaN</td>\n",
       "      <td>31/109 (28%)</td>\n",
       "    </tr>\n",
       "    <tr>\n",
       "      <th>Other sx ICP</th>\n",
       "      <td>NaN</td>\n",
       "      <td>5/15 (33%)</td>\n",
       "      <td>2/5 (40%)</td>\n",
       "      <td>129/171 (75%)</td>\n",
       "    </tr>\n",
       "    <tr>\n",
       "      <th>Meningitis</th>\n",
       "      <td>NaN</td>\n",
       "      <td>0/365 (0%)</td>\n",
       "      <td>9/90 (10%)</td>\n",
       "      <td>3/125 (2%)</td>\n",
       "    </tr>\n",
       "    <tr>\n",
       "      <th>Ventriculitis</th>\n",
       "      <td>4/115 (3%)</td>\n",
       "      <td>0/365 (0%)</td>\n",
       "      <td>2/60 (3%)</td>\n",
       "      <td>NaN</td>\n",
       "    </tr>\n",
       "    <tr>\n",
       "      <th>Other brain infection</th>\n",
       "      <td>NaN</td>\n",
       "      <td>0/365 (0%)</td>\n",
       "      <td>0/47 (0%)</td>\n",
       "      <td>NaN</td>\n",
       "    </tr>\n",
       "    <tr>\n",
       "      <th>SS</th>\n",
       "      <td>NaN</td>\n",
       "      <td>39/39 (100%)</td>\n",
       "      <td>NaN</td>\n",
       "      <td>9/9 (100%)</td>\n",
       "    </tr>\n",
       "    <tr>\n",
       "      <th>EVD</th>\n",
       "      <td>NaN</td>\n",
       "      <td>NaN</td>\n",
       "      <td>39/218 (18%)</td>\n",
       "      <td>24/80 (30%)</td>\n",
       "    </tr>\n",
       "    <tr>\n",
       "      <th>CT imaging</th>\n",
       "      <td>87/87 (100%)</td>\n",
       "      <td>117/373 (31%)</td>\n",
       "      <td>263/407 (65%)</td>\n",
       "      <td>132/135 (98%)</td>\n",
       "    </tr>\n",
       "    <tr>\n",
       "      <th>MRI</th>\n",
       "      <td>NaN</td>\n",
       "      <td>111/367 (30%)</td>\n",
       "      <td>112/112 (100%)</td>\n",
       "      <td>204/274 (74%)</td>\n",
       "    </tr>\n",
       "    <tr>\n",
       "      <th>Ultrasonography</th>\n",
       "      <td>10/10 (100%)</td>\n",
       "      <td>730/730 (100%)</td>\n",
       "      <td>594/575 (103%)</td>\n",
       "      <td>118/126 (94%)</td>\n",
       "    </tr>\n",
       "    <tr>\n",
       "      <th>Clinical, only</th>\n",
       "      <td>NaN</td>\n",
       "      <td>NaN</td>\n",
       "      <td>NaN</td>\n",
       "      <td>18/157 (11%)</td>\n",
       "    </tr>\n",
       "    <tr>\n",
       "      <th>Conservative_1st</th>\n",
       "      <td>NaN</td>\n",
       "      <td>NaN</td>\n",
       "      <td>3/30 (10%)</td>\n",
       "      <td>169/536 (32%)</td>\n",
       "    </tr>\n",
       "    <tr>\n",
       "      <th>VPS_1st</th>\n",
       "      <td>41/97 (42%)</td>\n",
       "      <td>820/851 (96%)</td>\n",
       "      <td>1968/2031 (97%)</td>\n",
       "      <td>3442/3938 (87%)</td>\n",
       "    </tr>\n",
       "    <tr>\n",
       "      <th>ETV_1st</th>\n",
       "      <td>25/267 (9%)</td>\n",
       "      <td>22/27 (81%)</td>\n",
       "      <td>NaN</td>\n",
       "      <td>99/1549 (6%)</td>\n",
       "    </tr>\n",
       "    <tr>\n",
       "      <th>ETV/CPC_1st</th>\n",
       "      <td>139/190 (73%)</td>\n",
       "      <td>NaN</td>\n",
       "      <td>13/157 (8%)</td>\n",
       "      <td>34/103 (33%)</td>\n",
       "    </tr>\n",
       "    <tr>\n",
       "      <th>ETV&gt;VPS_1st</th>\n",
       "      <td>9/115 (8%)</td>\n",
       "      <td>NaN</td>\n",
       "      <td>NaN</td>\n",
       "      <td>20/97 (21%)</td>\n",
       "    </tr>\n",
       "    <tr>\n",
       "      <th>VPS_2nd</th>\n",
       "      <td>15/115 (13%)</td>\n",
       "      <td>NaN</td>\n",
       "      <td>62/291 (21%)</td>\n",
       "      <td>443/1013 (44%)</td>\n",
       "    </tr>\n",
       "    <tr>\n",
       "      <th>ETV_2nd</th>\n",
       "      <td>7/115 (6%)</td>\n",
       "      <td>NaN</td>\n",
       "      <td>29/247 (12%)</td>\n",
       "      <td>7/174 (4%)</td>\n",
       "    </tr>\n",
       "    <tr>\n",
       "      <th>ETV&gt;VPS_2nd</th>\n",
       "      <td>NaN</td>\n",
       "      <td>NaN</td>\n",
       "      <td>NaN</td>\n",
       "      <td>9/97 (9%)</td>\n",
       "    </tr>\n",
       "    <tr>\n",
       "      <th>Wound breakdown (HC)</th>\n",
       "      <td>NaN</td>\n",
       "      <td>NaN</td>\n",
       "      <td>37/298 (12%)</td>\n",
       "      <td>NaN</td>\n",
       "    </tr>\n",
       "    <tr>\n",
       "      <th>Wound infection (HC)</th>\n",
       "      <td>NaN</td>\n",
       "      <td>NaN</td>\n",
       "      <td>13/112 (12%)</td>\n",
       "      <td>165/1268 (13%)</td>\n",
       "    </tr>\n",
       "    <tr>\n",
       "      <th>Meningitis (HC)</th>\n",
       "      <td>NaN</td>\n",
       "      <td>10/75 (13%)</td>\n",
       "      <td>275/1459 (19%)</td>\n",
       "      <td>134/780 (17%)</td>\n",
       "    </tr>\n",
       "    <tr>\n",
       "      <th>Cervical</th>\n",
       "      <td>NaN</td>\n",
       "      <td>16/102 (16%)</td>\n",
       "      <td>8/171 (5%)</td>\n",
       "      <td>4/189 (2%)</td>\n",
       "    </tr>\n",
       "    <tr>\n",
       "      <th>Thoracic</th>\n",
       "      <td>NaN</td>\n",
       "      <td>141/296 (48%)</td>\n",
       "      <td>47/535 (9%)</td>\n",
       "      <td>141/679 (21%)</td>\n",
       "    </tr>\n",
       "    <tr>\n",
       "      <th>Thoracolumbar</th>\n",
       "      <td>NaN</td>\n",
       "      <td>351/421 (83%)</td>\n",
       "      <td>97/381 (25%)</td>\n",
       "      <td>62/452 (14%)</td>\n",
       "    </tr>\n",
       "    <tr>\n",
       "      <th>Lumbar</th>\n",
       "      <td>NaN</td>\n",
       "      <td>160/355 (45%)</td>\n",
       "      <td>250/525 (48%)</td>\n",
       "      <td>336/648 (52%)</td>\n",
       "    </tr>\n",
       "    <tr>\n",
       "      <th>Lumbosacral</th>\n",
       "      <td>NaN</td>\n",
       "      <td>100/474 (21%)</td>\n",
       "      <td>234/386 (61%)</td>\n",
       "      <td>1191/1463 (81%)</td>\n",
       "    </tr>\n",
       "    <tr>\n",
       "      <th>Sacral</th>\n",
       "      <td>NaN</td>\n",
       "      <td>23/304 (8%)</td>\n",
       "      <td>27/421 (6%)</td>\n",
       "      <td>309/1511 (20%)</td>\n",
       "    </tr>\n",
       "    <tr>\n",
       "      <th>Ante-natal</th>\n",
       "      <td>&lt;NA&gt;</td>\n",
       "      <td>&lt;NA&gt;</td>\n",
       "      <td>&lt;NA&gt;</td>\n",
       "      <td>6</td>\n",
       "    </tr>\n",
       "    <tr>\n",
       "      <th>post-natal</th>\n",
       "      <td>75</td>\n",
       "      <td>899</td>\n",
       "      <td>1840</td>\n",
       "      <td>3554</td>\n",
       "    </tr>\n",
       "    <tr>\n",
       "      <th>Both</th>\n",
       "      <td>87</td>\n",
       "      <td>&lt;NA&gt;</td>\n",
       "      <td>&lt;NA&gt;</td>\n",
       "      <td>123</td>\n",
       "    </tr>\n",
       "    <tr>\n",
       "      <th>Wound breakdown (MMC)</th>\n",
       "      <td>NaN</td>\n",
       "      <td>42/66 (64%)</td>\n",
       "      <td>35/209 (17%)</td>\n",
       "      <td>14/27 (52%)</td>\n",
       "    </tr>\n",
       "    <tr>\n",
       "      <th>Wound infection (MMC)</th>\n",
       "      <td>NaN</td>\n",
       "      <td>6/35 (17%)</td>\n",
       "      <td>3/28 (11%)</td>\n",
       "      <td>9/68 (13%)</td>\n",
       "    </tr>\n",
       "    <tr>\n",
       "      <th>Meningitis (MMC)</th>\n",
       "      <td>NaN</td>\n",
       "      <td>1/8 (12%)</td>\n",
       "      <td>7/114 (6%)</td>\n",
       "      <td>21/247 (9%)</td>\n",
       "    </tr>\n",
       "    <tr>\n",
       "      <th>Follow-up</th>\n",
       "      <td>40–76</td>\n",
       "      <td>4–260</td>\n",
       "      <td>24–1040</td>\n",
       "      <td>1–678</td>\n",
       "    </tr>\n",
       "  </tbody>\n",
       "</table>\n",
       "</div>"
      ],
      "text/plain": [
       "Income_group                     Low income Lower middle income  \\\n",
       "N                                       277                 899   \n",
       "Female                           5/10 (50%)       155/331 (47%)   \n",
       "Male                             5/10 (50%)       176/328 (54%)   \n",
       "Tx_age_mean_mean                        307                 103   \n",
       "Tx_age_mean_std                         306                 135   \n",
       "Pre-natal mean                    0.0 (N=0)           0.0 (N=0)   \n",
       "Post-natal mean                         NaN           56 (N=26)   \n",
       "MMC_age_mean                           <NA>                  16   \n",
       "Full or bulging fontanelle              NaN      344/344 (100%)   \n",
       "Increased head circumference            NaN       330/332 (99%)   \n",
       "CSF leaking from the wound              NaN         13/30 (43%)   \n",
       "Other sx ICP                            NaN          5/15 (33%)   \n",
       "Meningitis                              NaN          0/365 (0%)   \n",
       "Ventriculitis                    4/115 (3%)          0/365 (0%)   \n",
       "Other brain infection                   NaN          0/365 (0%)   \n",
       "SS                                      NaN        39/39 (100%)   \n",
       "EVD                                     NaN                 NaN   \n",
       "CT imaging                     87/87 (100%)       117/373 (31%)   \n",
       "MRI                                     NaN       111/367 (30%)   \n",
       "Ultrasonography                10/10 (100%)      730/730 (100%)   \n",
       "Clinical, only                          NaN                 NaN   \n",
       "Conservative_1st                        NaN                 NaN   \n",
       "VPS_1st                         41/97 (42%)       820/851 (96%)   \n",
       "ETV_1st                         25/267 (9%)         22/27 (81%)   \n",
       "ETV/CPC_1st                   139/190 (73%)                 NaN   \n",
       "ETV>VPS_1st                      9/115 (8%)                 NaN   \n",
       "VPS_2nd                        15/115 (13%)                 NaN   \n",
       "ETV_2nd                          7/115 (6%)                 NaN   \n",
       "ETV>VPS_2nd                             NaN                 NaN   \n",
       "Wound breakdown (HC)                    NaN                 NaN   \n",
       "Wound infection (HC)                    NaN                 NaN   \n",
       "Meningitis (HC)                         NaN         10/75 (13%)   \n",
       "Cervical                                NaN        16/102 (16%)   \n",
       "Thoracic                                NaN       141/296 (48%)   \n",
       "Thoracolumbar                           NaN       351/421 (83%)   \n",
       "Lumbar                                  NaN       160/355 (45%)   \n",
       "Lumbosacral                             NaN       100/474 (21%)   \n",
       "Sacral                                  NaN         23/304 (8%)   \n",
       "Ante-natal                             <NA>                <NA>   \n",
       "post-natal                               75                 899   \n",
       "Both                                     87                <NA>   \n",
       "Wound breakdown (MMC)                   NaN         42/66 (64%)   \n",
       "Wound infection (MMC)                   NaN          6/35 (17%)   \n",
       "Meningitis (MMC)                        NaN           1/8 (12%)   \n",
       "Follow-up                             40–76               4–260   \n",
       "\n",
       "Income_group                 Upper middle income      High income  \n",
       "N                                           2135             4156  \n",
       "Female                             437/797 (55%)    342/609 (56%)  \n",
       "Male                               394/797 (49%)    322/605 (53%)  \n",
       "Tx_age_mean_mean                              84               83  \n",
       "Tx_age_mean_std                               60               72  \n",
       "Pre-natal mean                         0.0 (N=0)      130.0 (N=1)  \n",
       "Post-natal mean                       48 (N=371)       68 (N=194)  \n",
       "MMC_age_mean                                 329               48  \n",
       "Full or bulging fontanelle         216/218 (99%)      32/73 (44%)  \n",
       "Increased head circumference      426/407 (105%)    120/232 (52%)  \n",
       "CSF leaking from the wound                   NaN     31/109 (28%)  \n",
       "Other sx ICP                           2/5 (40%)    129/171 (75%)  \n",
       "Meningitis                            9/90 (10%)       3/125 (2%)  \n",
       "Ventriculitis                          2/60 (3%)              NaN  \n",
       "Other brain infection                  0/47 (0%)              NaN  \n",
       "SS                                           NaN       9/9 (100%)  \n",
       "EVD                                 39/218 (18%)      24/80 (30%)  \n",
       "CT imaging                         263/407 (65%)    132/135 (98%)  \n",
       "MRI                               112/112 (100%)    204/274 (74%)  \n",
       "Ultrasonography                   594/575 (103%)    118/126 (94%)  \n",
       "Clinical, only                               NaN     18/157 (11%)  \n",
       "Conservative_1st                      3/30 (10%)    169/536 (32%)  \n",
       "VPS_1st                          1968/2031 (97%)  3442/3938 (87%)  \n",
       "ETV_1st                                      NaN     99/1549 (6%)  \n",
       "ETV/CPC_1st                          13/157 (8%)     34/103 (33%)  \n",
       "ETV>VPS_1st                                  NaN      20/97 (21%)  \n",
       "VPS_2nd                             62/291 (21%)   443/1013 (44%)  \n",
       "ETV_2nd                             29/247 (12%)       7/174 (4%)  \n",
       "ETV>VPS_2nd                                  NaN        9/97 (9%)  \n",
       "Wound breakdown (HC)                37/298 (12%)              NaN  \n",
       "Wound infection (HC)                13/112 (12%)   165/1268 (13%)  \n",
       "Meningitis (HC)                   275/1459 (19%)    134/780 (17%)  \n",
       "Cervical                              8/171 (5%)       4/189 (2%)  \n",
       "Thoracic                             47/535 (9%)    141/679 (21%)  \n",
       "Thoracolumbar                       97/381 (25%)     62/452 (14%)  \n",
       "Lumbar                             250/525 (48%)    336/648 (52%)  \n",
       "Lumbosacral                        234/386 (61%)  1191/1463 (81%)  \n",
       "Sacral                               27/421 (6%)   309/1511 (20%)  \n",
       "Ante-natal                                  <NA>                6  \n",
       "post-natal                                  1840             3554  \n",
       "Both                                        <NA>              123  \n",
       "Wound breakdown (MMC)               35/209 (17%)      14/27 (52%)  \n",
       "Wound infection (MMC)                 3/28 (11%)       9/68 (13%)  \n",
       "Meningitis (MMC)                      7/114 (6%)      21/247 (9%)  \n",
       "Follow-up                                24–1040            1–678  "
      ]
     },
     "execution_count": 55,
     "metadata": {},
     "output_type": "execute_result"
    }
   ],
   "source": [
    "import numpy as np\n",
    "import pandas as pd\n",
    "\n",
    "# 1. Setup\n",
    "ordered_cols1 = ['Low income', 'Lower middle income', 'Upper middle income', 'High income']\n",
    "\n",
    "\n",
    "# 2. Data Processing\n",
    "# Process Tx_age_mean column\n",
    "tx_age_mean_merged = df_features[['IID', 'Tx_age_mean']].merge(df_studies[['IID', 'Income_group']], on='IID')\n",
    "tx_age_mean_mean = tx_age_mean_merged.groupby('Income_group').mean(numeric_only=True).round().astype('Int64').rename(columns={'Tx_age_mean': 'Tx_age_mean_mean'})\n",
    "tx_age_mean_std = tx_age_mean_merged.groupby('Income_group').std(numeric_only=True).round().astype('Int64').rename(columns={'Tx_age_mean': 'Tx_age_mean_std'})\n",
    "\n",
    "# Processing HC_age_mean_prenatal column\n",
    "prenatal_merged = df_features[['IID', 'HC_age_mean_prenatal']].merge(df_studies[['IID', 'Income_group']], on='IID')\n",
    "prenatal_dropped = prenatal_merged.drop('IID', axis=1)\n",
    "prenatal_aggregated = prenatal_dropped.groupby('Income_group').agg({'HC_age_mean_prenatal': [lambda x: x.sum(min_count=1), 'count']}).rename(columns={'<lambda_0>': 'sum'})\n",
    "prenatal_aggregated_int = prenatal_aggregated.fillna({'HC_age_mean_prenatal': {'sum': 0}})\n",
    "prenatal_aggregated_int = prenatal_aggregated_int.astype({'HC_age_mean_prenatal': {'sum': 'Int64'}}).replace({'HC_age_mean_prenatal': {'sum': {0: '—'}}})\n",
    "prenatal_result = prenatal_aggregated_int.astype(str).agg(' (N='.join, axis=1).transform(lambda x: x + ')').rename('Pre-natal mean')\n",
    "# Processing HC_age_mean_postnatal column\n",
    "postnatal_merged = df_features[['IID', 'HC_age_mean_postnatal']].merge(df_studies[['IID', 'Income_group', 'N']], on='IID')\n",
    "postnatal_dropped = postnatal_merged.drop('IID', axis=1).dropna(subset=['HC_age_mean_postnatal'])\n",
    "postnatal_aggregated = postnatal_dropped.groupby('Income_group').agg({'HC_age_mean_postnatal': 'mean', 'N': 'sum'}).round()\n",
    "postnatal_aggregated_int = postnatal_aggregated.astype('Int64')\n",
    "postnatal_result = postnatal_aggregated_int.astype(str).agg(' (N='.join, axis=1).transform(lambda x: x + ')').rename('Post-natal mean')\n",
    "\n",
    "# 3. Result Compilation\n",
    "result = pd.concat([\n",
    "    # N    \n",
    "    df_studies[['IID', 'Income_group', 'N']].groupby('Income_group').sum(numeric_only=True, min_count=1).astype('Int64'),\n",
    "\n",
    "    # Sex\n",
    "    df_studies[['IID', 'Income_group', 'N_female', 'N']].query('N_female.notnull()').groupby('Income_group').sum(numeric_only=True, min_count=1).astype('Int64').astype('str').apply(lambda x: '/'.join(x), axis=1).transform(lambda x: f'{x} (' + str(round(int(x.split('/')[0]) / int(x.split('/')[1]) * 100)) + '%)').rename('Female'),\n",
    "    df_studies[['IID', 'Income_group', 'N_male', 'N']].query('N_male.notnull()').groupby('Income_group').sum(numeric_only=True, min_count=1).astype('Int64').astype('str').apply(lambda x: '/'.join(x), axis=1).transform(lambda x: f'{x} (' + str(round(int(x.split('/')[0]) / int(x.split('/')[1]) * 100)) + '%)').rename('Male'),\n",
    "\n",
    "    # Age at HC surgery\n",
    "    tx_age_mean_mean,\n",
    "    tx_age_mean_std,\n",
    "\n",
    "    # Age at HC diagnosis\n",
    "    prenatal_result,\n",
    "    postnatal_result,\n",
    "\n",
    "    # MMC closure age mean\n",
    "    df_features[['IID', 'MMC_age_mean']].merge(df_studies[['IID', 'Income_group']], on='IID').groupby('Income_group').mean(numeric_only=True).round().astype('Int64'),\n",
    "\n",
    "    # Indications for HC sx\n",
    "    df_features[['IID', 'HC_fontanelle']].merge(df_studies[['IID', 'Income_group', 'N']], on='IID').query('HC_fontanelle.notnull()').groupby('Income_group').sum(numeric_only=True, min_count=1).astype('Int64').astype('str').apply(lambda x: '/'.join(x), axis=1).transform(lambda x: f'{x} (' + str(round(int(x.split('/')[0]) / int(x.split('/')[1]) * 100)) + '%)').rename('Full or bulging fontanelle'),\n",
    "    df_features[['IID', 'HC_circumf']].merge(df_studies[['IID', 'Income_group', 'N']], on='IID').query('HC_circumf.notnull()').groupby('Income_group').sum(numeric_only=True, min_count=1).astype('Int64').astype('str').apply(lambda x: '/'.join(x), axis=1).transform(lambda x: f'{x} (' + str(round(int(x.split('/')[0]) / int(x.split('/')[1]) * 100)) + '%)').rename('Increased head circumference'),\n",
    "    df_features[['IID', 'HC_CSF']].merge(df_studies[['IID', 'Income_group', 'N']], on='IID').query('HC_CSF.notnull()').groupby('Income_group').sum(numeric_only=True, min_count=1).astype('Int64').astype('str').apply(lambda x: '/'.join(x), axis=1).transform(lambda x: f'{x} (' + str(round(int(x.split('/')[0]) / int(x.split('/')[1]) * 100)) + '%)').rename('CSF leaking from the wound'),\n",
    "    df_features[['IID', 'HC_other_ICP']].merge(df_studies[['IID', 'Income_group', 'N']], on='IID').query('HC_other_ICP.notnull()').groupby('Income_group').sum(numeric_only=True, min_count=1).astype('Int64').astype('str').apply(lambda x: '/'.join(x), axis=1).transform(lambda x: f'{x} (' + str(round(int(x.split('/')[0]) / int(x.split('/')[1]) * 100)) + '%)').rename('Other sx ICP'),\n",
    "\n",
    "    # Exacerbating factors\n",
    "    df_features[['IID', 'HC_preop_meningitis']].merge(df_studies[['IID', 'Income_group', 'N']], on='IID').query('HC_preop_meningitis.notnull()').groupby('Income_group').sum(numeric_only=True, min_count=1).astype('Int64').astype('str').apply(lambda x: '/'.join(x), axis=1).transform(lambda x: f'{x} (' + str(round(int(x.split('/')[0]) / int(x.split('/')[1]) * 100)) + '%)').rename('Meningitis'),\n",
    "    df_features[['IID', 'HC_preop_ventriculitis']].merge(df_studies[['IID', 'Income_group', 'N']], on='IID').query('HC_preop_ventriculitis.notnull()').groupby('Income_group').sum(numeric_only=True, min_count=1).astype('Int64').astype('str').apply(lambda x: '/'.join(x), axis=1).transform(lambda x: f'{x} (' + str(round(int(x.split('/')[0]) / int(x.split('/')[1]) * 100)) + '%)').rename('Ventriculitis'),\n",
    "    df_features[['IID', 'HC_preop_otherinfex']].merge(df_studies[['IID', 'Income_group', 'N']], on='IID').query('HC_preop_otherinfex.notnull()').groupby('Income_group').sum(numeric_only=True, min_count=1).astype('Int64').astype('str').apply(lambda x: '/'.join(x), axis=1).transform(lambda x: f'{x} (' + str(round(int(x.split('/')[0]) / int(x.split('/')[1]) * 100)) + '%)').rename('Other brain infection'),\n",
    "\n",
    "    # Temporising procedures\n",
    "    df_management[['IID', 'Subgaleal_temp']].merge(df_studies[['IID', 'Income_group', 'N']], on='IID').query('Subgaleal_temp.notnull()').groupby('Income_group').sum(numeric_only=True, min_count=1).astype('Int64').astype('str').apply(lambda x: '/'.join(x), axis=1).transform(lambda x: f'{x} (' + str(round(int(x.split('/')[0]) / int(x.split('/')[1]) * 100)) + '%)').rename('SS'),\n",
    "    df_management[['IID', 'EVD_temp']].merge(df_studies[['IID', 'Income_group', 'N']], on='IID').query('EVD_temp.notnull()').groupby('Income_group').sum(numeric_only=True, min_count=1).astype('Int64').astype('str').apply(lambda x: '/'.join(x), axis=1).transform(lambda x: f'{x} (' + str(round(int(x.split('/')[0]) / int(x.split('/')[1]) * 100)) + '%)').rename('EVD'),\n",
    "\n",
    "    # Method of diagnosis of HC\n",
    "    df_management[['IID', 'Ix_CT']].merge(df_studies[['IID', 'Income_group', 'N']], on='IID').query('Ix_CT.notnull()').groupby('Income_group').sum(numeric_only=True, min_count=1).astype('Int64').astype('str').apply(lambda x: '/'.join(x), axis=1).transform(lambda x: f'{x} (' + str(round(int(x.split('/')[0]) / int(x.split('/')[1]) * 100)) + '%)').rename('CT imaging'),\n",
    "    df_management[['IID', 'Ix_MRI']].merge(df_studies[['IID', 'Income_group', 'N']], on='IID').query('Ix_MRI.notnull()').groupby('Income_group').sum(numeric_only=True, min_count=1).astype('Int64').astype('str').apply(lambda x: '/'.join(x), axis=1).transform(lambda x: f'{x} (' + str(round(int(x.split('/')[0]) / int(x.split('/')[1]) * 100)) + '%)').rename('MRI'),\n",
    "    df_management[['IID', 'Ix_USS']].merge(df_studies[['IID', 'Income_group', 'N']], on='IID').query('Ix_USS.notnull()').groupby('Income_group').sum(numeric_only=True, min_count=1).astype('Int64').astype('str').apply(lambda x: '/'.join(x), axis=1).transform(lambda x: f'{x} (' + str(round(int(x.split('/')[0]) / int(x.split('/')[1]) * 100)) + '%)').rename('Ultrasonography'),\n",
    "    df_management[['IID', 'Ix_clinical']].merge(df_studies[['IID', 'Income_group', 'N']], on='IID').query('Ix_clinical.notnull()').groupby('Income_group').sum(numeric_only=True, min_count=1).astype('Int64').astype('str').apply(lambda x: '/'.join(x), axis=1).transform(lambda x: f'{x} (' + str(round(int(x.split('/')[0]) / int(x.split('/')[1]) * 100)) + '%)').rename('Clinical, only'),\n",
    "\n",
    "    # HC treatment type, 1st line\n",
    "    df_management[['IID', 'Conservative_1st_line']].merge(df_studies[['IID', 'Income_group', 'N']], on='IID').query('Conservative_1st_line.notnull()').groupby('Income_group').sum(numeric_only=True, min_count=1).astype('Int64').astype('str').apply(lambda x: '/'.join(x), axis=1).transform(lambda x: f'{x} (' + str(round(int(x.split('/')[0]) / int(x.split('/')[1]) * 100)) + '%)').rename('Conservative_1st'),\n",
    "    df_management[['IID', 'VPS_1st_line']].merge(df_studies[['IID', 'Income_group', 'N']], on='IID').query('VPS_1st_line.notnull()').groupby('Income_group').sum(numeric_only=True, min_count=1).astype('Int64').astype('str').apply(lambda x: '/'.join(x), axis=1).transform(lambda x: f'{x} (' + str(round(int(x.split('/')[0]) / int(x.split('/')[1]) * 100)) + '%)').rename('VPS_1st'),\n",
    "    df_management[['IID', 'ETV_1st_line']].merge(df_studies[['IID', 'Income_group', 'N']], on='IID').query('ETV_1st_line.notnull()').groupby('Income_group').sum(numeric_only=True, min_count=1).astype('Int64').astype('str').apply(lambda x: '/'.join(x), axis=1).transform(lambda x: f'{x} (' + str(round(int(x.split('/')[0]) / int(x.split('/')[1]) * 100)) + '%)').rename('ETV_1st'),\n",
    "    df_management[['IID', 'ETV_CPC_1st_line']].merge(df_studies[['IID', 'Income_group', 'N']], on='IID').query('ETV_CPC_1st_line.notnull()').groupby('Income_group').sum(numeric_only=True, min_count=1).astype('Int64').astype('str').apply(lambda x: '/'.join(x), axis=1).transform(lambda x: f'{x} (' + str(round(int(x.split('/')[0]) / int(x.split('/')[1]) * 100)) + '%)').rename('ETV/CPC_1st'),\n",
    "    df_management[['IID', 'ETV_to_VPS_1st_line']].merge(df_studies[['IID', 'Income_group', 'N']], on='IID').query('ETV_to_VPS_1st_line.notnull()').groupby('Income_group').sum(numeric_only=True, min_count=1).astype('Int64').astype('str').apply(lambda x: '/'.join(x), axis=1).transform(lambda x: f'{x} (' + str(round(int(x.split('/')[0]) / int(x.split('/')[1]) * 100)) + '%)').rename('ETV>VPS_1st'),\n",
    "\n",
    "    # HC treatment type, 2nd line\n",
    "    # df_management[['IID', 'Conservative_2nd_line']].merge(df_studies[['IID', 'Income_group', 'N']], on='IID').query('Conservative_2nd_line.notnull()').groupby('Income_group').sum(min_count=1).astype('Int64').astype('str').apply(lambda x: '/'.join(x), axis=1).transform(lambda x: f'{x} (' + str(round(int(x.split('/')[0]) / int(x.split('/')[1]) * 100)) + '%)').rename('Conservative_2nd'),\n",
    "    df_management[['IID', 'VPS_2nd_line']].merge(df_studies[['IID', 'Income_group', 'N']], on='IID').query('VPS_2nd_line.notnull()').groupby('Income_group').sum(numeric_only=True, min_count=1).astype('Int64').astype('str').apply(lambda x: '/'.join(x), axis=1).transform(lambda x: f'{x} (' + str(round(int(x.split('/')[0]) / int(x.split('/')[1]) * 100)) + '%)').rename('VPS_2nd'),\n",
    "    df_management[['IID', 'ETV_2nd_line']].merge(df_studies[['IID', 'Income_group', 'N']], on='IID').query('ETV_2nd_line.notnull()').groupby('Income_group').sum(numeric_only=True, min_count=1).astype('Int64').astype('str').apply(lambda x: '/'.join(x), axis=1).transform(lambda x: f'{x} (' + str(round(int(x.split('/')[0]) / int(x.split('/')[1]) * 100)) + '%)').rename('ETV_2nd'),\n",
    "    # df_management[['IID', 'ETV_CPC_2nd_line']].merge(df_studies[['IID', 'Income_group', 'N']], on='IID').query('ETV_CPC_2nd_line.notnull()').groupby('Income_group').sum(numeric_only=True, min_count=1).astype('Int64').astype('str').apply(lambda x: '/'.join(x), axis=1).transform(lambda x: f'{x} (' + str(round(int(x.split('/')[0]) / int(x.split('/')[1]) * 100)) + '%)').rename('ETV/CPC_2nd'),\n",
    "    df_management[['IID', 'ETV_to_VPS_2nd_line']].merge(df_studies[['IID', 'Income_group', 'N']], on='IID').query('ETV_to_VPS_2nd_line.notnull()').groupby('Income_group').sum(numeric_only=True, min_count=1).astype('Int64').astype('str').apply(lambda x: '/'.join(x), axis=1).transform(lambda x: f'{x} (' + str(round(int(x.split('/')[0]) / int(x.split('/')[1]) * 100)) + '%)').rename('ETV>VPS_2nd'),\n",
    "\n",
    "    # HC postop complications\n",
    "    df_outcomes[['IID', 'HC_postop_wbreak']].merge(df_studies[['IID', 'Income_group', 'N']], on='IID').query('HC_postop_wbreak.notnull()').groupby('Income_group').sum(numeric_only=True, min_count=1).astype('Int64').astype('str').apply(lambda x: '/'.join(x), axis=1).transform(lambda x: f'{x} (' + str(round(int(x.split('/')[0]) / int(x.split('/')[1]) * 100)) + '%)').rename('Wound breakdown (HC)'),\n",
    "    df_outcomes[['IID', 'HC_postop_winfex']].merge(df_studies[['IID', 'Income_group', 'N']], on='IID').query('HC_postop_winfex.notnull()').groupby('Income_group').sum(numeric_only=True, min_count=1).astype('Int64').astype('str').apply(lambda x: '/'.join(x), axis=1).transform(lambda x: f'{x} (' + str(round(int(x.split('/')[0]) / int(x.split('/')[1]) * 100)) + '%)').rename('Wound infection (HC)'),\n",
    "    df_outcomes[['IID', 'HC_postop_meningitis']].merge(df_studies[['IID', 'Income_group', 'N']], on='IID').query('HC_postop_meningitis.notnull()').groupby('Income_group').sum(numeric_only=True, min_count=1).astype('Int64').astype('str').apply(lambda x: '/'.join(x), axis=1).transform(lambda x: f'{x} (' + str(round(int(x.split('/')[0]) / int(x.split('/')[1]) * 100)) + '%)').rename('Meningitis (HC)'),\n",
    "\n",
    "    # Comorbidities\n",
    "\n",
    "    # MMC level\n",
    "    df_features[['IID', 'MMC_cervical']].merge(df_studies[['IID', 'Income_group', 'N']], on='IID').query('MMC_cervical.notnull()').groupby('Income_group').sum(numeric_only=True, min_count=1).astype('Int64').astype('str').apply(lambda x: '/'.join(x), axis=1).transform(lambda x: f'{x} (' + str(round(int(x.split('/')[0]) / int(x.split('/')[1]) * 100)) + '%)').rename('Cervical'),\n",
    "    df_features[['IID', 'MMC_thoracic']].merge(df_studies[['IID', 'Income_group', 'N']], on='IID').query('MMC_thoracic.notnull()').groupby('Income_group').sum(numeric_only=True, min_count=1).astype('Int64').astype('str').apply(lambda x: '/'.join(x), axis=1).transform(lambda x: f'{x} (' + str(round(int(x.split('/')[0]) / int(x.split('/')[1]) * 100)) + '%)').rename('Thoracic'),\n",
    "    df_features[['IID', 'MMC_thoracolumbar']].merge(df_studies[['IID', 'Income_group', 'N']], on='IID').query('MMC_thoracolumbar.notnull()').groupby('Income_group').sum(numeric_only=True, min_count=1).astype('Int64').astype('str').apply(lambda x: '/'.join(x), axis=1).transform(lambda x: f'{x} (' + str(round(int(x.split('/')[0]) / int(x.split('/')[1]) * 100)) + '%)').rename('Thoracolumbar'),\n",
    "    df_features[['IID', 'MMC_lumbar']].merge(df_studies[['IID', 'Income_group', 'N']], on='IID').query('MMC_lumbar.notnull()').groupby('Income_group').sum(numeric_only=True, min_count=1).astype('Int64').astype('str').apply(lambda x: '/'.join(x), axis=1).transform(lambda x: f'{x} (' + str(round(int(x.split('/')[0]) / int(x.split('/')[1]) * 100)) + '%)').rename('Lumbar'),\n",
    "    df_features[['IID', 'MMC_lumbosacral']].merge(df_studies[['IID', 'Income_group', 'N']], on='IID').query('MMC_lumbosacral.notnull()').groupby('Income_group').sum(numeric_only=True, min_count=1).astype('Int64').astype('str').apply(lambda x: '/'.join(x), axis=1).transform(lambda x: f'{x} (' + str(round(int(x.split('/')[0]) / int(x.split('/')[1]) * 100)) + '%)').rename('Lumbosacral'),\n",
    "    df_features[['IID', 'MMC_sacral']].merge(df_studies[['IID', 'Income_group', 'N']], on='IID').query('MMC_sacral.notnull()').groupby('Income_group').sum(numeric_only=True, min_count=1).astype('Int64').astype('str').apply(lambda x: '/'.join(x), axis=1).transform(lambda x: f'{x} (' + str(round(int(x.split('/')[0]) / int(x.split('/')[1]) * 100)) + '%)').rename('Sacral'),\n",
    "\n",
    "    # MMC closure\n",
    "    df_features[['IID', 'MMC_closure']].merge(df_studies[['IID', 'Income_group', 'N']], on='IID').query('MMC_closure.notnull()').groupby(['Income_group', 'MMC_closure']).sum(numeric_only=True, min_count=1).unstack().droplevel(0, axis=1).reindex(columns=['Ante-natal', 'post-natal', 'Both']).astype('Int64'),\n",
    "\n",
    "    # MMC postop complications\n",
    "    df_outcomes[['IID', 'MMC_postop_wbreak']].merge(df_studies[['IID', 'Income_group', 'N']], on='IID').query('MMC_postop_wbreak.notnull()').groupby('Income_group').sum(numeric_only=True, min_count=1).astype('Int64').astype('str').apply(lambda x: '/'.join(x), axis=1).transform(lambda x: f'{x} (' + str(round(int(x.split('/')[0]) / int(x.split('/')[1]) * 100)) + '%)').rename('Wound breakdown (MMC)'),\n",
    "    df_outcomes[['IID', 'MMC_postop_winfex']].merge(df_studies[['IID', 'Income_group', 'N']], on='IID').query('MMC_postop_winfex.notnull()').groupby('Income_group').sum(numeric_only=True, min_count=1).astype('Int64').astype('str').apply(lambda x: '/'.join(x), axis=1).transform(lambda x: f'{x} (' + str(round(int(x.split('/')[0]) / int(x.split('/')[1]) * 100)) + '%)').rename('Wound infection (MMC)'),\n",
    "    df_outcomes[['IID', 'MMC_postop_meningitis']].merge(df_studies[['IID', 'Income_group', 'N']], on='IID').query('MMC_postop_meningitis.notnull()').groupby('Income_group').sum(numeric_only=True, min_count=1).astype('Int64').astype('str').apply(lambda x: '/'.join(x), axis=1).transform(lambda x: f'{x} (' + str(round(int(x.split('/')[0]) / int(x.split('/')[1]) * 100)) + '%)').rename('Meningitis (MMC)'),\n",
    "\n",
    "    # FU\n",
    "    df_features.FU.dropna().astype(str).agg(\n",
    "    lambda value: value.str.strip()\n",
    "    ).str.extractall('(\\d+\\.?(\\d?)+)').unstack(1).droplevel(0, axis=1).astype(float).assign(\n",
    "    Min=lambda x: x.min(axis=1, numeric_only=True),\n",
    "    Max=lambda x: x.max(axis=1, numeric_only=True)      \n",
    "    ).join(df_studies.Income_group, how='inner')[\n",
    "    ['Income_group', 'Min', 'Max']\n",
    "    ].groupby('Income_group').agg({\n",
    "    'Min': np.min, \n",
    "    'Max': np.max\n",
    "    }, numeric_only=True).astype('int64').astype('str').apply(lambda x: '–'.join(x), axis=1).rename('Follow-up')\n",
    "\n",
    "\n",
    "], axis=1).T.reindex(columns=ordered_cols1)\n",
    "\n",
    "result"
   ]
  },
  {
   "cell_type": "markdown",
   "metadata": {
    "id": "MgKITeR9yA1o"
   },
   "source": [
    "### **Supplemental Table 2. Characteristics of patients included in the systematic review, by region.**"
   ]
  },
  {
   "cell_type": "markdown",
   "metadata": {},
   "source": [
    "In this supplemental section, we break down the patient characteristics based on the region they originate from."
   ]
  },
  {
   "cell_type": "code",
   "execution_count": 62,
   "metadata": {
    "colab": {
     "base_uri": "https://localhost:8080/",
     "height": 1000
    },
    "id": "Qy52z_bayKsm",
    "outputId": "895b7c63-a643-4335-f90a-7d8e9167cabb"
   },
   "outputs": [
    {
     "data": {
      "text/html": [
       "<div>\n",
       "<style scoped>\n",
       "    .dataframe tbody tr th:only-of-type {\n",
       "        vertical-align: middle;\n",
       "    }\n",
       "\n",
       "    .dataframe tbody tr th {\n",
       "        vertical-align: top;\n",
       "    }\n",
       "\n",
       "    .dataframe thead th {\n",
       "        text-align: right;\n",
       "    }\n",
       "</style>\n",
       "<table border=\"1\" class=\"dataframe\">\n",
       "  <thead>\n",
       "    <tr style=\"text-align: right;\">\n",
       "      <th>Region</th>\n",
       "      <th>Sub-Saharan Africa</th>\n",
       "      <th>South Asia</th>\n",
       "      <th>East Asia &amp; Pacific</th>\n",
       "      <th>Latin America &amp; Caribbean</th>\n",
       "      <th>Middle East &amp; North Africa</th>\n",
       "      <th>Europe &amp; Central Asia</th>\n",
       "      <th>North America</th>\n",
       "    </tr>\n",
       "  </thead>\n",
       "  <tbody>\n",
       "    <tr>\n",
       "      <th>N</th>\n",
       "      <td>580</td>\n",
       "      <td>496</td>\n",
       "      <td>12</td>\n",
       "      <td>551</td>\n",
       "      <td>61</td>\n",
       "      <td>3398</td>\n",
       "      <td>2369</td>\n",
       "    </tr>\n",
       "    <tr>\n",
       "      <th>Female</th>\n",
       "      <td>128/286 (45%)</td>\n",
       "      <td>10/17 (59%)</td>\n",
       "      <td>9/12 (75%)</td>\n",
       "      <td>162/282 (57%)</td>\n",
       "      <td>22/38 (58%)</td>\n",
       "      <td>376/723 (52%)</td>\n",
       "      <td>232/389 (60%)</td>\n",
       "    </tr>\n",
       "    <tr>\n",
       "      <th>Male</th>\n",
       "      <td>158/286 (55%)</td>\n",
       "      <td>7/17 (41%)</td>\n",
       "      <td>8/12 (67%)</td>\n",
       "      <td>140/282 (50%)</td>\n",
       "      <td>16/35 (46%)</td>\n",
       "      <td>361/723 (50%)</td>\n",
       "      <td>207/385 (54%)</td>\n",
       "    </tr>\n",
       "    <tr>\n",
       "      <th>Tx_age_mean</th>\n",
       "      <td>307</td>\n",
       "      <td>153</td>\n",
       "      <td>27</td>\n",
       "      <td>64</td>\n",
       "      <td>&lt;NA&gt;</td>\n",
       "      <td>77</td>\n",
       "      <td>95</td>\n",
       "    </tr>\n",
       "    <tr>\n",
       "      <th>Tx_age_mean</th>\n",
       "      <td>306</td>\n",
       "      <td>145</td>\n",
       "      <td>&lt;NA&gt;</td>\n",
       "      <td>64</td>\n",
       "      <td>&lt;NA&gt;</td>\n",
       "      <td>93</td>\n",
       "      <td>66</td>\n",
       "    </tr>\n",
       "    <tr>\n",
       "      <th>Pre-natal mean</th>\n",
       "      <td>0.0 (N=0)</td>\n",
       "      <td>0.0 (N=0)</td>\n",
       "      <td>0.0 (N=0)</td>\n",
       "      <td>0.0 (N=0)</td>\n",
       "      <td>0.0 (N=0)</td>\n",
       "      <td>0.0 (N=0)</td>\n",
       "      <td>130.0 (N=1)</td>\n",
       "    </tr>\n",
       "    <tr>\n",
       "      <th>Post-natal mean</th>\n",
       "      <td>9 (N=9)</td>\n",
       "      <td>79 (N=17)</td>\n",
       "      <td>8 (N=5)</td>\n",
       "      <td>0 (N=193)</td>\n",
       "      <td>NaN</td>\n",
       "      <td>120 (N=186)</td>\n",
       "      <td>54 (N=181)</td>\n",
       "    </tr>\n",
       "    <tr>\n",
       "      <th>MMC_age_mean</th>\n",
       "      <td>&lt;NA&gt;</td>\n",
       "      <td>28</td>\n",
       "      <td>17</td>\n",
       "      <td>326</td>\n",
       "      <td>17</td>\n",
       "      <td>26</td>\n",
       "      <td>63</td>\n",
       "    </tr>\n",
       "    <tr>\n",
       "      <th>Full or bulging fontanelle</th>\n",
       "      <td>276/276 (100%)</td>\n",
       "      <td>41/41 (100%)</td>\n",
       "      <td>NaN</td>\n",
       "      <td>72/74 (97%)</td>\n",
       "      <td>27/27 (100%)</td>\n",
       "      <td>153/194 (79%)</td>\n",
       "      <td>23/23 (100%)</td>\n",
       "    </tr>\n",
       "    <tr>\n",
       "      <th>Increased head circumference</th>\n",
       "      <td>276/276 (100%)</td>\n",
       "      <td>54/56 (96%)</td>\n",
       "      <td>NaN</td>\n",
       "      <td>282/263 (107%)</td>\n",
       "      <td>NaN</td>\n",
       "      <td>167/198 (84%)</td>\n",
       "      <td>97/178 (54%)</td>\n",
       "    </tr>\n",
       "    <tr>\n",
       "      <th>CSF leaking from the wound</th>\n",
       "      <td>NaN</td>\n",
       "      <td>NaN</td>\n",
       "      <td>NaN</td>\n",
       "      <td>NaN</td>\n",
       "      <td>13/30 (43%)</td>\n",
       "      <td>31/109 (28%)</td>\n",
       "      <td>NaN</td>\n",
       "    </tr>\n",
       "    <tr>\n",
       "      <th>Other sx ICP</th>\n",
       "      <td>NaN</td>\n",
       "      <td>5/15 (33%)</td>\n",
       "      <td>NaN</td>\n",
       "      <td>2/5 (40%)</td>\n",
       "      <td>NaN</td>\n",
       "      <td>10/50 (20%)</td>\n",
       "      <td>119/121 (98%)</td>\n",
       "    </tr>\n",
       "    <tr>\n",
       "      <th>Meningitis</th>\n",
       "      <td>NaN</td>\n",
       "      <td>0/365 (0%)</td>\n",
       "      <td>NaN</td>\n",
       "      <td>7/30 (23%)</td>\n",
       "      <td>NaN</td>\n",
       "      <td>4/114 (4%)</td>\n",
       "      <td>1/71 (1%)</td>\n",
       "    </tr>\n",
       "    <tr>\n",
       "      <th>Ventriculitis</th>\n",
       "      <td>4/115 (3%)</td>\n",
       "      <td>0/365 (0%)</td>\n",
       "      <td>NaN</td>\n",
       "      <td>NaN</td>\n",
       "      <td>NaN</td>\n",
       "      <td>2/60 (3%)</td>\n",
       "      <td>NaN</td>\n",
       "    </tr>\n",
       "    <tr>\n",
       "      <th>Other brain infection</th>\n",
       "      <td>NaN</td>\n",
       "      <td>0/365 (0%)</td>\n",
       "      <td>NaN</td>\n",
       "      <td>NaN</td>\n",
       "      <td>NaN</td>\n",
       "      <td>0/47 (0%)</td>\n",
       "      <td>NaN</td>\n",
       "    </tr>\n",
       "    <tr>\n",
       "      <th>SS</th>\n",
       "      <td>NaN</td>\n",
       "      <td>39/39 (100%)</td>\n",
       "      <td>NaN</td>\n",
       "      <td>NaN</td>\n",
       "      <td>NaN</td>\n",
       "      <td>NaN</td>\n",
       "      <td>9/9 (100%)</td>\n",
       "    </tr>\n",
       "    <tr>\n",
       "      <th>EVD</th>\n",
       "      <td>NaN</td>\n",
       "      <td>NaN</td>\n",
       "      <td>NaN</td>\n",
       "      <td>22/141 (16%)</td>\n",
       "      <td>NaN</td>\n",
       "      <td>17/77 (22%)</td>\n",
       "      <td>24/80 (30%)</td>\n",
       "    </tr>\n",
       "    <tr>\n",
       "      <th>CT imaging</th>\n",
       "      <td>87/87 (100%)</td>\n",
       "      <td>109/365 (30%)</td>\n",
       "      <td>NaN</td>\n",
       "      <td>36/36 (100%)</td>\n",
       "      <td>8/8 (100%)</td>\n",
       "      <td>227/371 (61%)</td>\n",
       "      <td>132/135 (98%)</td>\n",
       "    </tr>\n",
       "    <tr>\n",
       "      <th>MRI</th>\n",
       "      <td>NaN</td>\n",
       "      <td>111/367 (30%)</td>\n",
       "      <td>10/5 (200%)</td>\n",
       "      <td>31/31 (100%)</td>\n",
       "      <td>NaN</td>\n",
       "      <td>241/241 (100%)</td>\n",
       "      <td>34/109 (31%)</td>\n",
       "    </tr>\n",
       "    <tr>\n",
       "      <th>Ultrasonography</th>\n",
       "      <td>286/286 (100%)</td>\n",
       "      <td>404/404 (100%)</td>\n",
       "      <td>NaN</td>\n",
       "      <td>432/413 (105%)</td>\n",
       "      <td>11/11 (100%)</td>\n",
       "      <td>279/287 (97%)</td>\n",
       "      <td>40/40 (100%)</td>\n",
       "    </tr>\n",
       "    <tr>\n",
       "      <th>Clinical, only</th>\n",
       "      <td>NaN</td>\n",
       "      <td>NaN</td>\n",
       "      <td>NaN</td>\n",
       "      <td>NaN</td>\n",
       "      <td>NaN</td>\n",
       "      <td>8/86 (9%)</td>\n",
       "      <td>10/71 (14%)</td>\n",
       "    </tr>\n",
       "    <tr>\n",
       "      <th>Conservative</th>\n",
       "      <td>NaN</td>\n",
       "      <td>NaN</td>\n",
       "      <td>NaN</td>\n",
       "      <td>3/30 (10%)</td>\n",
       "      <td>NaN</td>\n",
       "      <td>123/338 (36%)</td>\n",
       "      <td>46/198 (23%)</td>\n",
       "    </tr>\n",
       "    <tr>\n",
       "      <th>VPS</th>\n",
       "      <td>322/391 (82%)</td>\n",
       "      <td>457/457 (100%)</td>\n",
       "      <td>12/12 (100%)</td>\n",
       "      <td>498/546 (91%)</td>\n",
       "      <td>58/61 (95%)</td>\n",
       "      <td>2837/3236 (88%)</td>\n",
       "      <td>2087/2214 (94%)</td>\n",
       "    </tr>\n",
       "    <tr>\n",
       "      <th>ETV</th>\n",
       "      <td>47/294 (16%)</td>\n",
       "      <td>NaN</td>\n",
       "      <td>NaN</td>\n",
       "      <td>NaN</td>\n",
       "      <td>NaN</td>\n",
       "      <td>20/145 (14%)</td>\n",
       "      <td>79/1404 (6%)</td>\n",
       "    </tr>\n",
       "    <tr>\n",
       "      <th>ETV/CPC</th>\n",
       "      <td>139/190 (73%)</td>\n",
       "      <td>NaN</td>\n",
       "      <td>NaN</td>\n",
       "      <td>NaN</td>\n",
       "      <td>NaN</td>\n",
       "      <td>45/254 (18%)</td>\n",
       "      <td>2/6 (33%)</td>\n",
       "    </tr>\n",
       "    <tr>\n",
       "      <th>ETV&gt;VPS</th>\n",
       "      <td>9/115 (8%)</td>\n",
       "      <td>NaN</td>\n",
       "      <td>NaN</td>\n",
       "      <td>NaN</td>\n",
       "      <td>NaN</td>\n",
       "      <td>20/97 (21%)</td>\n",
       "      <td>NaN</td>\n",
       "    </tr>\n",
       "    <tr>\n",
       "      <th>Wound breakdown (HC)</th>\n",
       "      <td>NaN</td>\n",
       "      <td>NaN</td>\n",
       "      <td>NaN</td>\n",
       "      <td>18/84 (21%)</td>\n",
       "      <td>NaN</td>\n",
       "      <td>19/214 (9%)</td>\n",
       "      <td>NaN</td>\n",
       "    </tr>\n",
       "    <tr>\n",
       "      <th>Wound infection (HC)</th>\n",
       "      <td>NaN</td>\n",
       "      <td>NaN</td>\n",
       "      <td>2/7 (29%)</td>\n",
       "      <td>13/112 (12%)</td>\n",
       "      <td>NaN</td>\n",
       "      <td>134/1072 (12%)</td>\n",
       "      <td>29/189 (15%)</td>\n",
       "    </tr>\n",
       "    <tr>\n",
       "      <th>Meningitis (HC)</th>\n",
       "      <td>NaN</td>\n",
       "      <td>10/75 (13%)</td>\n",
       "      <td>NaN</td>\n",
       "      <td>19/223 (9%)</td>\n",
       "      <td>NaN</td>\n",
       "      <td>308/1527 (20%)</td>\n",
       "      <td>82/489 (17%)</td>\n",
       "    </tr>\n",
       "    <tr>\n",
       "      <th>Cervical</th>\n",
       "      <td>NaN</td>\n",
       "      <td>0/2 (0%)</td>\n",
       "      <td>1/7 (14%)</td>\n",
       "      <td>3/86 (3%)</td>\n",
       "      <td>14/61 (23%)</td>\n",
       "      <td>9/294 (3%)</td>\n",
       "      <td>1/12 (8%)</td>\n",
       "    </tr>\n",
       "    <tr>\n",
       "      <th>Thoracic</th>\n",
       "      <td>138/276 (50%)</td>\n",
       "      <td>2/17 (12%)</td>\n",
       "      <td>NaN</td>\n",
       "      <td>11/277 (4%)</td>\n",
       "      <td>1/3 (33%)</td>\n",
       "      <td>53/591 (9%)</td>\n",
       "      <td>124/346 (36%)</td>\n",
       "    </tr>\n",
       "    <tr>\n",
       "      <th>Thoracolumbar</th>\n",
       "      <td>NaN</td>\n",
       "      <td>345/382 (90%)</td>\n",
       "      <td>2/7 (29%)</td>\n",
       "      <td>74/316 (23%)</td>\n",
       "      <td>NaN</td>\n",
       "      <td>53/391 (14%)</td>\n",
       "      <td>36/158 (23%)</td>\n",
       "    </tr>\n",
       "    <tr>\n",
       "      <th>Lumbar</th>\n",
       "      <td>80/276 (29%)</td>\n",
       "      <td>7/17 (41%)</td>\n",
       "      <td>1/7 (14%)</td>\n",
       "      <td>81/316 (26%)</td>\n",
       "      <td>47/23 (204%)</td>\n",
       "      <td>264/614 (43%)</td>\n",
       "      <td>266/275 (97%)</td>\n",
       "    </tr>\n",
       "    <tr>\n",
       "      <th>Lumbosacral</th>\n",
       "      <td>NaN</td>\n",
       "      <td>27/382 (7%)</td>\n",
       "      <td>3/7 (43%)</td>\n",
       "      <td>197/358 (55%)</td>\n",
       "      <td>52/53 (98%)</td>\n",
       "      <td>1206/1363 (88%)</td>\n",
       "      <td>40/160 (25%)</td>\n",
       "    </tr>\n",
       "    <tr>\n",
       "      <th>Sacral</th>\n",
       "      <td>20/276 (7%)</td>\n",
       "      <td>1/17 (6%)</td>\n",
       "      <td>NaN</td>\n",
       "      <td>25/277 (9%)</td>\n",
       "      <td>2/11 (18%)</td>\n",
       "      <td>291/1386 (21%)</td>\n",
       "      <td>20/269 (7%)</td>\n",
       "    </tr>\n",
       "    <tr>\n",
       "      <th>Ante-natal</th>\n",
       "      <td>&lt;NA&gt;</td>\n",
       "      <td>&lt;NA&gt;</td>\n",
       "      <td>&lt;NA&gt;</td>\n",
       "      <td>&lt;NA&gt;</td>\n",
       "      <td>&lt;NA&gt;</td>\n",
       "      <td>&lt;NA&gt;</td>\n",
       "      <td>6</td>\n",
       "    </tr>\n",
       "    <tr>\n",
       "      <th>post-natal</th>\n",
       "      <td>378</td>\n",
       "      <td>496</td>\n",
       "      <td>12</td>\n",
       "      <td>519</td>\n",
       "      <td>61</td>\n",
       "      <td>2988</td>\n",
       "      <td>1914</td>\n",
       "    </tr>\n",
       "    <tr>\n",
       "      <th>Both</th>\n",
       "      <td>87</td>\n",
       "      <td>&lt;NA&gt;</td>\n",
       "      <td>&lt;NA&gt;</td>\n",
       "      <td>&lt;NA&gt;</td>\n",
       "      <td>&lt;NA&gt;</td>\n",
       "      <td>&lt;NA&gt;</td>\n",
       "      <td>123</td>\n",
       "    </tr>\n",
       "    <tr>\n",
       "      <th>Wound breakdown (MMC)</th>\n",
       "      <td>NaN</td>\n",
       "      <td>NaN</td>\n",
       "      <td>NaN</td>\n",
       "      <td>57/104 (55%)</td>\n",
       "      <td>3/27 (11%)</td>\n",
       "      <td>17/144 (12%)</td>\n",
       "      <td>14/27 (52%)</td>\n",
       "    </tr>\n",
       "    <tr>\n",
       "      <th>Wound infection (MMC)</th>\n",
       "      <td>NaN</td>\n",
       "      <td>NaN</td>\n",
       "      <td>2/7 (29%)</td>\n",
       "      <td>3/28 (11%)</td>\n",
       "      <td>6/35 (17%)</td>\n",
       "      <td>6/59 (10%)</td>\n",
       "      <td>1/2 (50%)</td>\n",
       "    </tr>\n",
       "    <tr>\n",
       "      <th>Meningitis (MMC)</th>\n",
       "      <td>NaN</td>\n",
       "      <td>NaN</td>\n",
       "      <td>NaN</td>\n",
       "      <td>7/114 (6%)</td>\n",
       "      <td>1/8 (12%)</td>\n",
       "      <td>18/178 (10%)</td>\n",
       "      <td>3/69 (4%)</td>\n",
       "    </tr>\n",
       "    <tr>\n",
       "      <th>Follow-up</th>\n",
       "      <td>40–82</td>\n",
       "      <td>4–104</td>\n",
       "      <td>41–260</td>\n",
       "      <td>22–1040</td>\n",
       "      <td>104–260</td>\n",
       "      <td>2–678</td>\n",
       "      <td>1–520</td>\n",
       "    </tr>\n",
       "  </tbody>\n",
       "</table>\n",
       "</div>"
      ],
      "text/plain": [
       "Region                       Sub-Saharan Africa      South Asia  \\\n",
       "N                                           580             496   \n",
       "Female                            128/286 (45%)     10/17 (59%)   \n",
       "Male                              158/286 (55%)      7/17 (41%)   \n",
       "Tx_age_mean                                 307             153   \n",
       "Tx_age_mean                                 306             145   \n",
       "Pre-natal mean                        0.0 (N=0)       0.0 (N=0)   \n",
       "Post-natal mean                         9 (N=9)       79 (N=17)   \n",
       "MMC_age_mean                               <NA>              28   \n",
       "Full or bulging fontanelle       276/276 (100%)    41/41 (100%)   \n",
       "Increased head circumference     276/276 (100%)     54/56 (96%)   \n",
       "CSF leaking from the wound                  NaN             NaN   \n",
       "Other sx ICP                                NaN      5/15 (33%)   \n",
       "Meningitis                                  NaN      0/365 (0%)   \n",
       "Ventriculitis                        4/115 (3%)      0/365 (0%)   \n",
       "Other brain infection                       NaN      0/365 (0%)   \n",
       "SS                                          NaN    39/39 (100%)   \n",
       "EVD                                         NaN             NaN   \n",
       "CT imaging                         87/87 (100%)   109/365 (30%)   \n",
       "MRI                                         NaN   111/367 (30%)   \n",
       "Ultrasonography                  286/286 (100%)  404/404 (100%)   \n",
       "Clinical, only                              NaN             NaN   \n",
       "Conservative                                NaN             NaN   \n",
       "VPS                               322/391 (82%)  457/457 (100%)   \n",
       "ETV                                47/294 (16%)             NaN   \n",
       "ETV/CPC                           139/190 (73%)             NaN   \n",
       "ETV>VPS                              9/115 (8%)             NaN   \n",
       "Wound breakdown (HC)                        NaN             NaN   \n",
       "Wound infection (HC)                        NaN             NaN   \n",
       "Meningitis (HC)                             NaN     10/75 (13%)   \n",
       "Cervical                                    NaN        0/2 (0%)   \n",
       "Thoracic                          138/276 (50%)      2/17 (12%)   \n",
       "Thoracolumbar                               NaN   345/382 (90%)   \n",
       "Lumbar                             80/276 (29%)      7/17 (41%)   \n",
       "Lumbosacral                                 NaN     27/382 (7%)   \n",
       "Sacral                              20/276 (7%)       1/17 (6%)   \n",
       "Ante-natal                                 <NA>            <NA>   \n",
       "post-natal                                  378             496   \n",
       "Both                                         87            <NA>   \n",
       "Wound breakdown (MMC)                       NaN             NaN   \n",
       "Wound infection (MMC)                       NaN             NaN   \n",
       "Meningitis (MMC)                            NaN             NaN   \n",
       "Follow-up                                 40–82           4–104   \n",
       "\n",
       "Region                       East Asia & Pacific Latin America & Caribbean  \\\n",
       "N                                             12                       551   \n",
       "Female                                9/12 (75%)             162/282 (57%)   \n",
       "Male                                  8/12 (67%)             140/282 (50%)   \n",
       "Tx_age_mean                                   27                        64   \n",
       "Tx_age_mean                                 <NA>                        64   \n",
       "Pre-natal mean                         0.0 (N=0)                 0.0 (N=0)   \n",
       "Post-natal mean                          8 (N=5)                 0 (N=193)   \n",
       "MMC_age_mean                                  17                       326   \n",
       "Full or bulging fontanelle                   NaN               72/74 (97%)   \n",
       "Increased head circumference                 NaN            282/263 (107%)   \n",
       "CSF leaking from the wound                   NaN                       NaN   \n",
       "Other sx ICP                                 NaN                 2/5 (40%)   \n",
       "Meningitis                                   NaN                7/30 (23%)   \n",
       "Ventriculitis                                NaN                       NaN   \n",
       "Other brain infection                        NaN                       NaN   \n",
       "SS                                           NaN                       NaN   \n",
       "EVD                                          NaN              22/141 (16%)   \n",
       "CT imaging                                   NaN              36/36 (100%)   \n",
       "MRI                                  10/5 (200%)              31/31 (100%)   \n",
       "Ultrasonography                              NaN            432/413 (105%)   \n",
       "Clinical, only                               NaN                       NaN   \n",
       "Conservative                                 NaN                3/30 (10%)   \n",
       "VPS                                 12/12 (100%)             498/546 (91%)   \n",
       "ETV                                          NaN                       NaN   \n",
       "ETV/CPC                                      NaN                       NaN   \n",
       "ETV>VPS                                      NaN                       NaN   \n",
       "Wound breakdown (HC)                         NaN               18/84 (21%)   \n",
       "Wound infection (HC)                   2/7 (29%)              13/112 (12%)   \n",
       "Meningitis (HC)                              NaN               19/223 (9%)   \n",
       "Cervical                               1/7 (14%)                 3/86 (3%)   \n",
       "Thoracic                                     NaN               11/277 (4%)   \n",
       "Thoracolumbar                          2/7 (29%)              74/316 (23%)   \n",
       "Lumbar                                 1/7 (14%)              81/316 (26%)   \n",
       "Lumbosacral                            3/7 (43%)             197/358 (55%)   \n",
       "Sacral                                       NaN               25/277 (9%)   \n",
       "Ante-natal                                  <NA>                      <NA>   \n",
       "post-natal                                    12                       519   \n",
       "Both                                        <NA>                      <NA>   \n",
       "Wound breakdown (MMC)                        NaN              57/104 (55%)   \n",
       "Wound infection (MMC)                  2/7 (29%)                3/28 (11%)   \n",
       "Meningitis (MMC)                             NaN                7/114 (6%)   \n",
       "Follow-up                                 41–260                   22–1040   \n",
       "\n",
       "Region                       Middle East & North Africa Europe & Central Asia  \\\n",
       "N                                                    61                  3398   \n",
       "Female                                      22/38 (58%)         376/723 (52%)   \n",
       "Male                                        16/35 (46%)         361/723 (50%)   \n",
       "Tx_age_mean                                        <NA>                    77   \n",
       "Tx_age_mean                                        <NA>                    93   \n",
       "Pre-natal mean                                0.0 (N=0)             0.0 (N=0)   \n",
       "Post-natal mean                                     NaN           120 (N=186)   \n",
       "MMC_age_mean                                         17                    26   \n",
       "Full or bulging fontanelle                 27/27 (100%)         153/194 (79%)   \n",
       "Increased head circumference                        NaN         167/198 (84%)   \n",
       "CSF leaking from the wound                  13/30 (43%)          31/109 (28%)   \n",
       "Other sx ICP                                        NaN           10/50 (20%)   \n",
       "Meningitis                                          NaN            4/114 (4%)   \n",
       "Ventriculitis                                       NaN             2/60 (3%)   \n",
       "Other brain infection                               NaN             0/47 (0%)   \n",
       "SS                                                  NaN                   NaN   \n",
       "EVD                                                 NaN           17/77 (22%)   \n",
       "CT imaging                                   8/8 (100%)         227/371 (61%)   \n",
       "MRI                                                 NaN        241/241 (100%)   \n",
       "Ultrasonography                            11/11 (100%)         279/287 (97%)   \n",
       "Clinical, only                                      NaN             8/86 (9%)   \n",
       "Conservative                                        NaN         123/338 (36%)   \n",
       "VPS                                         58/61 (95%)       2837/3236 (88%)   \n",
       "ETV                                                 NaN          20/145 (14%)   \n",
       "ETV/CPC                                             NaN          45/254 (18%)   \n",
       "ETV>VPS                                             NaN           20/97 (21%)   \n",
       "Wound breakdown (HC)                                NaN           19/214 (9%)   \n",
       "Wound infection (HC)                                NaN        134/1072 (12%)   \n",
       "Meningitis (HC)                                     NaN        308/1527 (20%)   \n",
       "Cervical                                    14/61 (23%)            9/294 (3%)   \n",
       "Thoracic                                      1/3 (33%)           53/591 (9%)   \n",
       "Thoracolumbar                                       NaN          53/391 (14%)   \n",
       "Lumbar                                     47/23 (204%)         264/614 (43%)   \n",
       "Lumbosacral                                 52/53 (98%)       1206/1363 (88%)   \n",
       "Sacral                                       2/11 (18%)        291/1386 (21%)   \n",
       "Ante-natal                                         <NA>                  <NA>   \n",
       "post-natal                                           61                  2988   \n",
       "Both                                               <NA>                  <NA>   \n",
       "Wound breakdown (MMC)                        3/27 (11%)          17/144 (12%)   \n",
       "Wound infection (MMC)                        6/35 (17%)            6/59 (10%)   \n",
       "Meningitis (MMC)                              1/8 (12%)          18/178 (10%)   \n",
       "Follow-up                                       104–260                 2–678   \n",
       "\n",
       "Region                          North America  \n",
       "N                                        2369  \n",
       "Female                          232/389 (60%)  \n",
       "Male                            207/385 (54%)  \n",
       "Tx_age_mean                                95  \n",
       "Tx_age_mean                                66  \n",
       "Pre-natal mean                    130.0 (N=1)  \n",
       "Post-natal mean                    54 (N=181)  \n",
       "MMC_age_mean                               63  \n",
       "Full or bulging fontanelle       23/23 (100%)  \n",
       "Increased head circumference     97/178 (54%)  \n",
       "CSF leaking from the wound                NaN  \n",
       "Other sx ICP                    119/121 (98%)  \n",
       "Meningitis                          1/71 (1%)  \n",
       "Ventriculitis                             NaN  \n",
       "Other brain infection                     NaN  \n",
       "SS                                 9/9 (100%)  \n",
       "EVD                               24/80 (30%)  \n",
       "CT imaging                      132/135 (98%)  \n",
       "MRI                              34/109 (31%)  \n",
       "Ultrasonography                  40/40 (100%)  \n",
       "Clinical, only                    10/71 (14%)  \n",
       "Conservative                     46/198 (23%)  \n",
       "VPS                           2087/2214 (94%)  \n",
       "ETV                              79/1404 (6%)  \n",
       "ETV/CPC                             2/6 (33%)  \n",
       "ETV>VPS                                   NaN  \n",
       "Wound breakdown (HC)                      NaN  \n",
       "Wound infection (HC)             29/189 (15%)  \n",
       "Meningitis (HC)                  82/489 (17%)  \n",
       "Cervical                            1/12 (8%)  \n",
       "Thoracic                        124/346 (36%)  \n",
       "Thoracolumbar                    36/158 (23%)  \n",
       "Lumbar                          266/275 (97%)  \n",
       "Lumbosacral                      40/160 (25%)  \n",
       "Sacral                            20/269 (7%)  \n",
       "Ante-natal                                  6  \n",
       "post-natal                               1914  \n",
       "Both                                      123  \n",
       "Wound breakdown (MMC)             14/27 (52%)  \n",
       "Wound infection (MMC)               1/2 (50%)  \n",
       "Meningitis (MMC)                    3/69 (4%)  \n",
       "Follow-up                               1–520  "
      ]
     },
     "execution_count": 62,
     "metadata": {},
     "output_type": "execute_result"
    }
   ],
   "source": [
    "import numpy as np\n",
    "\n",
    "# 1. Setup\n",
    "ordered_cols1 = [\n",
    "    'Sub-Saharan Africa',\n",
    "    'South Asia',\n",
    "    'East Asia & Pacific',\n",
    "    'Latin America & Caribbean',\n",
    "    'Middle East & North Africa',\n",
    "    'Europe & Central Asia',\n",
    "    'North America'\n",
    " ]\n",
    "\n",
    "# 2. Data Processing\n",
    " # Processing HC_age_mean_prenatal column\n",
    "prenatal_merged = df_features[['IID', 'HC_age_mean_prenatal']].merge(df_studies[['IID', 'Region']], on='IID')\n",
    "prenatal_dropped = prenatal_merged.drop('IID', axis=1)\n",
    "prenatal_aggregated = prenatal_dropped.groupby('Region').aggregate([lambda x: x.sum(min_count=1), 'count']).rename(columns={'<lambda_0>':'sum'})\n",
    "prenatal_aggregated_int = prenatal_aggregated.fillna({'HC_age_mean_prenatal': {'sum': 0}})\n",
    "prenatal_aggregated_int = prenatal_aggregated_int.astype({'HC_age_mean_prenatal': {'sum': 'Int64'}}).replace({'HC_age_mean_prenatal': {'sum': {0: '—'}}})\n",
    "prenatal_result = prenatal_aggregated_int.astype(str).agg(' (N='.join, axis=1).transform(lambda x: x+')').rename('Pre-natal mean')\n",
    "# Processing HC_age_mean_postnatal column\n",
    "postnatal_merged = df_features[['IID', 'HC_age_mean_postnatal']].merge(df_studies[['IID', 'Region', 'N']], on='IID')\n",
    "postnatal_dropped = postnatal_merged.drop('IID', axis=1).dropna(subset=['HC_age_mean_postnatal'])\n",
    "postnatal_aggregated = postnatal_dropped.groupby('Region').agg({'HC_age_mean_postnatal': 'mean', 'N': 'sum'}).round()\n",
    "postnatal_aggregated_int = postnatal_aggregated.astype('Int64')\n",
    "postnatal_result = postnatal_aggregated_int.astype(str).agg(' (N='.join, axis=1).transform(lambda x: x+')').rename('Post-natal mean')\n",
    "\n",
    "# 3. Result Compilation\n",
    "pd.concat([\n",
    "\n",
    "    #N\n",
    "    df_studies[['IID', 'Region', 'N']].groupby('Region').sum(numeric_only=True, min_count=1).astype('Int64'),\n",
    "\n",
    "    #Sex\n",
    "    df_studies[['IID', 'Region', 'N_female', 'N']].query('N_female.notnull()').groupby('Region').sum(numeric_only=True, min_count=1).astype('Int64').astype('str').apply(lambda x: '/'.join(x), axis=1).transform(lambda x: f'{x} (' + str(round(int(x.split('/')[0]) / int(x.split('/')[1]) * 100)) + '%)').rename('Female'),\n",
    "    df_studies[['IID', 'Region', 'N_male', 'N']].query('N_male.notnull()').groupby('Region').sum(numeric_only=True, min_count=1).astype('Int64').astype('str').apply(lambda x: '/'.join(x), axis=1).transform(lambda x: f'{x} (' + str(round(int(x.split('/')[0]) / int(x.split('/')[1]) * 100)) + '%)').rename('Male'),\n",
    "\n",
    "    #Age at HC surgery\n",
    "    df_features[['IID', 'Tx_age_mean']].merge(df_studies[['IID', 'Region']], on='IID').groupby('Region').mean(numeric_only=True).round().astype('Int64'),\n",
    "    df_features[['IID', 'Tx_age_mean']].merge(df_studies[['IID', 'Region']], on='IID').groupby('Region').std(numeric_only=True).round().astype('Int64'),\n",
    "\n",
    "    #Age at HC diagnosis\n",
    "    prenatal_result,\n",
    "    postnatal_result,\n",
    "\n",
    "    #MMC closure age mean\n",
    "    df_features[['IID', 'MMC_age_mean']].merge(df_studies[['IID', 'Region']], on='IID').groupby('Region').mean(numeric_only=True).round().astype('Int64'),\n",
    "\n",
    "    # Indications for HC sx\n",
    "    df_features[['IID', 'HC_fontanelle']].merge(df_studies[['IID', 'Region', 'N']], on='IID').query('HC_fontanelle.notnull()').groupby('Region').sum(numeric_only=True, min_count=1).astype('Int64').astype('str').apply(lambda x: '/'.join(x), axis=1).transform(lambda x: f'{x} ('+str(round( int(x.split('/')[0]) / int(x.split('/')[1]) * 100 ))+'%)').rename('Full or bulging fontanelle'),\n",
    "    df_features[['IID', 'HC_circumf']].merge(df_studies[['IID', 'Region', 'N']], on='IID').query('HC_circumf.notnull()').groupby('Region').sum(numeric_only=True, min_count=1).astype('Int64').astype('str').apply(lambda x: '/'.join(x), axis=1).transform(lambda x: f'{x} ('+str(round( int(x.split('/')[0]) / int(x.split('/')[1]) * 100 ))+'%)').rename('Increased head circumference'),\n",
    "    df_features[['IID', 'HC_CSF']].merge(df_studies[['IID', 'Region', 'N']], on='IID').query('HC_CSF.notnull()').groupby('Region').sum(numeric_only=True, min_count=1).astype('Int64').astype('str').apply(lambda x: '/'.join(x), axis=1).transform(lambda x: f'{x} ('+str(round( int(x.split('/')[0]) / int(x.split('/')[1]) * 100 ))+'%)').rename('CSF leaking from the wound'),\n",
    "    df_features[['IID', 'HC_other_ICP']].merge(df_studies[['IID', 'Region', 'N']], on='IID').query('HC_other_ICP.notnull()').groupby('Region').sum(numeric_only=True, min_count=1).astype('Int64').astype('str').apply(lambda x: '/'.join(x), axis=1).transform(lambda x: f'{x} ('+str(round( int(x.split('/')[0]) / int(x.split('/')[1]) * 100 ))+'%)').rename('Other sx ICP'),\n",
    "\n",
    "    # Exacerbating factors\n",
    "    df_features[['IID', 'HC_preop_meningitis']].merge(df_studies[['IID', 'Region', 'N']], on='IID').query('HC_preop_meningitis.notnull()').groupby('Region').sum(numeric_only=True, min_count=1).astype('Int64').astype('str').apply(lambda x: '/'.join(x), axis=1).transform(lambda x: f'{x} ('+str(round( int(x.split('/')[0]) / int(x.split('/')[1]) * 100 ))+'%)').rename('Meningitis'),\n",
    "    df_features[['IID', 'HC_preop_ventriculitis']].merge(df_studies[['IID', 'Region', 'N']], on='IID').query('HC_preop_ventriculitis.notnull()').groupby('Region').sum(numeric_only=True, min_count=1).astype('Int64').astype('str').apply(lambda x: '/'.join(x), axis=1).transform(lambda x: f'{x} ('+str(round( int(x.split('/')[0]) / int(x.split('/')[1]) * 100 ))+'%)').rename('Ventriculitis'),\n",
    "    df_features[['IID', 'HC_preop_otherinfex']].merge(df_studies[['IID', 'Region', 'N']], on='IID').query('HC_preop_otherinfex.notnull()').groupby('Region').sum(numeric_only=True, min_count=1).astype('Int64').astype('str').apply(lambda x: '/'.join(x), axis=1).transform(lambda x: f'{x} ('+str(round( int(x.split('/')[0]) / int(x.split('/')[1]) * 100 ))+'%)').rename('Other brain infection'),\n",
    "\n",
    "    # Temporising procedures\n",
    "    df_management[['IID', 'Subgaleal_temp']].merge(df_studies[['IID', 'Region', 'N']], on='IID').query('Subgaleal_temp.notnull()').groupby('Region').sum(numeric_only=True, min_count=1).astype('Int64').astype('str').apply(lambda x: '/'.join(x), axis=1).transform(lambda x: f'{x} ('+str(round( int(x.split('/')[0]) / int(x.split('/')[1]) * 100 ))+'%)').rename('SS'),\n",
    "    df_management[['IID', 'EVD_temp']].merge(df_studies[['IID', 'Region', 'N']], on='IID').query('EVD_temp.notnull()').groupby('Region').sum(numeric_only=True, min_count=1).astype('Int64').astype('str').apply(lambda x: '/'.join(x), axis=1).transform(lambda x: f'{x} ('+str(round( int(x.split('/')[0]) / int(x.split('/')[1]) * 100 ))+'%)').rename('EVD'),\n",
    "\n",
    "    # Method of diagnosis of HC\n",
    "    df_management[['IID', 'Ix_CT']].merge(df_studies[['IID', 'Region', 'N']], on='IID').query('Ix_CT.notnull()').groupby('Region').sum(numeric_only=True, min_count=1).astype('Int64').astype('str').apply(lambda x: '/'.join(x), axis=1).transform(lambda x: f'{x} ('+str(round( int(x.split('/')[0]) / int(x.split('/')[1]) * 100 ))+'%)').rename('CT imaging'),\n",
    "    df_management[['IID', 'Ix_MRI']].merge(df_studies[['IID', 'Region', 'N']], on='IID').query('Ix_MRI.notnull()').groupby('Region').sum(numeric_only=True, min_count=1).astype('Int64').astype('str').apply(lambda x: '/'.join(x), axis=1).transform(lambda x: f'{x} ('+str(round( int(x.split('/')[0]) / int(x.split('/')[1]) * 100 ))+'%)').rename('MRI'),\n",
    "    df_management[['IID', 'Ix_USS']].merge(df_studies[['IID', 'Region', 'N']], on='IID').query('Ix_USS.notnull()').groupby('Region').sum(numeric_only=True, min_count=1).astype('Int64').astype('str').apply(lambda x: '/'.join(x), axis=1).transform(lambda x: f'{x} ('+str(round( int(x.split('/')[0]) / int(x.split('/')[1]) * 100 ))+'%)').rename('Ultrasonography'),\n",
    "    df_management[['IID', 'Ix_clinical']].merge(df_studies[['IID', 'Region', 'N']], on='IID').query('Ix_clinical.notnull()').groupby('Region').sum(numeric_only=True, min_count=1).astype('Int64').astype('str').apply(lambda x: '/'.join(x), axis=1).transform(lambda x: f'{x} ('+str(round( int(x.split('/')[0]) / int(x.split('/')[1]) * 100 ))+'%)').rename('Clinical, only'),\n",
    "\n",
    "    #HC treatment type\n",
    "    df_management[['IID', 'Conservative_1st_line']].merge(df_studies[['IID', 'Region', 'N']], on='IID').query('Conservative_1st_line.notnull()').groupby('Region').sum(numeric_only=True, min_count=1).astype('Int64').astype('str').apply(lambda x: '/'.join(x), axis=1).transform(lambda x: f'{x} ('+str(round( int(x.split('/')[0]) / int(x.split('/')[1]) * 100 ))+'%)').rename('Conservative'),\n",
    "    df_management[['IID', 'VPS_1st_line']].merge(df_studies[['IID', 'Region', 'N']], on='IID').query('VPS_1st_line.notnull()').groupby('Region').sum(numeric_only=True, min_count=1).astype('Int64').astype('str').apply(lambda x: '/'.join(x), axis=1).transform(lambda x: f'{x} ('+str(round( int(x.split('/')[0]) / int(x.split('/')[1]) * 100 ))+'%)').rename('VPS'),\n",
    "    df_management[['IID', 'ETV_1st_line']].merge(df_studies[['IID', 'Region', 'N']], on='IID').query('ETV_1st_line.notnull()').groupby('Region').sum(numeric_only=True, min_count=1).astype('Int64').astype('str').apply(lambda x: '/'.join(x), axis=1).transform(lambda x: f'{x} ('+str(round( int(x.split('/')[0]) / int(x.split('/')[1]) * 100 ))+'%)').rename('ETV'),\n",
    "    df_management[['IID', 'ETV_CPC_1st_line']].merge(df_studies[['IID', 'Region', 'N']], on='IID').query('ETV_CPC_1st_line.notnull()').groupby('Region').sum(numeric_only=True, min_count=1).astype('Int64').astype('str').apply(lambda x: '/'.join(x), axis=1).transform(lambda x: f'{x} ('+str(round( int(x.split('/')[0]) / int(x.split('/')[1]) * 100 ))+'%)').rename('ETV/CPC'),\n",
    "    df_management[['IID', 'ETV_to_VPS_1st_line']].merge(df_studies[['IID', 'Region', 'N']], on='IID').query('ETV_to_VPS_1st_line.notnull()').groupby('Region').sum(numeric_only=True, min_count=1).astype('Int64').astype('str').apply(lambda x: '/'.join(x), axis=1).transform(lambda x: f'{x} ('+str(round( int(x.split('/')[0]) / int(x.split('/')[1]) * 100 ))+'%)').rename('ETV>VPS'),\n",
    "\n",
    "    #HC postop complications\n",
    "    df_outcomes[['IID', 'HC_postop_wbreak']].merge(df_studies[['IID', 'Region', 'N']], on='IID').query('HC_postop_wbreak.notnull()').groupby('Region').sum(numeric_only=True, min_count=1).astype('Int64').astype('str').apply(lambda x: '/'.join(x), axis=1).transform(lambda x: f'{x} ('+str(round( int(x.split('/')[0]) / int(x.split('/')[1]) * 100 ))+'%)').rename('Wound breakdown (HC)'),\n",
    "    df_outcomes[['IID', 'HC_postop_winfex']].merge(df_studies[['IID', 'Region', 'N']], on='IID').query('HC_postop_winfex.notnull()').groupby('Region').sum(numeric_only=True, min_count=1).astype('Int64').astype('str').apply(lambda x: '/'.join(x), axis=1).transform(lambda x: f'{x} ('+str(round( int(x.split('/')[0]) / int(x.split('/')[1]) * 100 ))+'%)').rename('Wound infection (HC)'),\n",
    "    df_outcomes[['IID', 'HC_postop_meningitis']].merge(df_studies[['IID', 'Region', 'N']], on='IID').query('HC_postop_meningitis.notnull()').groupby('Region').sum(numeric_only=True, min_count=1).astype('Int64').astype('str').apply(lambda x: '/'.join(x), axis=1).transform(lambda x: f'{x} ('+str(round( int(x.split('/')[0]) / int(x.split('/')[1]) * 100 ))+'%)').rename('Meningitis (HC)'),\n",
    "\n",
    "    #Comorbidities\n",
    "\n",
    "    #MMC level\n",
    "    df_features[['IID', 'MMC_cervical']].merge(df_studies[['IID', 'Region', 'N']], on='IID').query('MMC_cervical.notnull()').groupby('Region').sum(numeric_only=True, min_count=1).astype('Int64').astype('str').apply(lambda x: '/'.join(x), axis=1).transform(lambda x: f'{x} ('+str(round( int(x.split('/')[0]) / int(x.split('/')[1]) * 100 ))+'%)').rename('Cervical'),\n",
    "    df_features[['IID', 'MMC_thoracic']].merge(df_studies[['IID', 'Region', 'N']], on='IID').query('MMC_thoracic.notnull()').groupby('Region').sum(numeric_only=True, min_count=1).astype('Int64').astype('str').apply(lambda x: '/'.join(x), axis=1).transform(lambda x: f'{x} ('+str(round( int(x.split('/')[0]) / int(x.split('/')[1]) * 100 ))+'%)').rename('Thoracic'),\n",
    "    df_features[['IID', 'MMC_thoracolumbar']].merge(df_studies[['IID', 'Region', 'N']], on='IID').query('MMC_thoracolumbar.notnull()').groupby('Region').sum(numeric_only=True, min_count=1).astype('Int64').astype('str').apply(lambda x: '/'.join(x), axis=1).transform(lambda x: f'{x} ('+str(round( int(x.split('/')[0]) / int(x.split('/')[1]) * 100 ))+'%)').rename('Thoracolumbar'),\n",
    "    df_features[['IID', 'MMC_lumbar']].merge(df_studies[['IID', 'Region', 'N']], on='IID').query('MMC_lumbar.notnull()').groupby('Region').sum(numeric_only=True, min_count=1).astype('Int64').astype('str').apply(lambda x: '/'.join(x), axis=1).transform(lambda x: f'{x} ('+str(round( int(x.split('/')[0]) / int(x.split('/')[1]) * 100 ))+'%)').rename('Lumbar'),\n",
    "    df_features[['IID', 'MMC_lumbosacral']].merge(df_studies[['IID', 'Region', 'N']], on='IID').query('MMC_lumbosacral.notnull()').groupby('Region').sum(numeric_only=True, min_count=1).astype('Int64').astype('str').apply(lambda x: '/'.join(x), axis=1).transform(lambda x: f'{x} ('+str(round( int(x.split('/')[0]) / int(x.split('/')[1]) * 100 ))+'%)').rename('Lumbosacral'),\n",
    "    df_features[['IID', 'MMC_sacral']].merge(df_studies[['IID', 'Region', 'N']], on='IID').query('MMC_sacral.notnull()').groupby('Region').sum(numeric_only=True, min_count=1).astype('Int64').astype('str').apply(lambda x: '/'.join(x), axis=1).transform(lambda x: f'{x} ('+str(round( int(x.split('/')[0]) / int(x.split('/')[1]) * 100 ))+'%)').rename('Sacral'),\n",
    "\n",
    "    #MMC closure\n",
    "    df_features[['IID', 'MMC_closure']].merge(\n",
    "        df_studies[['IID', 'Region', 'N']],\n",
    "        on='IID'\n",
    "    ).query('MMC_closure.notnull()').groupby(['Region', 'MMC_closure']).sum(numeric_only=True, min_count=1).unstack().droplevel(0, axis=1).reindex(columns=['Ante-natal','post-natal','Both']).astype('Int64'),\n",
    "\n",
    "    #MMC postop complications\n",
    "    df_outcomes[['IID', 'MMC_postop_wbreak']].merge(df_studies[['IID', 'Region', 'N']], on='IID').query('MMC_postop_wbreak.notnull()').groupby('Region').sum(numeric_only=True, min_count=1).astype('Int64').astype('str').apply(lambda x: '/'.join(x), axis=1).transform(lambda x: f'{x} ('+str(round( int(x.split('/')[0]) / int(x.split('/')[1]) * 100 ))+'%)').rename('Wound breakdown (MMC)'),\n",
    "    df_outcomes[['IID', 'MMC_postop_winfex']].merge(df_studies[['IID', 'Region', 'N']], on='IID').query('MMC_postop_winfex.notnull()').groupby('Region').sum(numeric_only=True, min_count=1).astype('Int64').astype('str').apply(lambda x: '/'.join(x), axis=1).transform(lambda x: f'{x} ('+str(round( int(x.split('/')[0]) / int(x.split('/')[1]) * 100 ))+'%)').rename('Wound infection (MMC)'),\n",
    "    df_outcomes[['IID', 'MMC_postop_meningitis']].merge(df_studies[['IID', 'Region', 'N']], on='IID').query('MMC_postop_meningitis.notnull()').groupby('Region').sum(numeric_only=True, min_count=1).astype('Int64').astype('str').apply(lambda x: '/'.join(x), axis=1).transform(lambda x: f'{x} ('+str(round( int(x.split('/')[0]) / int(x.split('/')[1]) * 100 ))+'%)').rename('Meningitis (MMC)'),\n",
    "\n",
    "    #FU\n",
    "    df_features.FU.dropna().astype(str).agg(\n",
    "    lambda value: value.str.strip()\n",
    "    ).str.extractall('(\\d+\\.?(\\d?)+)').unstack(1).droplevel(0, axis=1).astype(float).assign(\n",
    "    Min=lambda x: x.min(axis=1, numeric_only=True),\n",
    "    Max=lambda x: x.max(axis=1, numeric_only=True)\n",
    "    ).join(df_studies.Region, how='inner')[\n",
    "    ['Region','Min','Max']\n",
    "    ].groupby('Region').agg({\n",
    "    'Min' : 'min', 'Max' : 'max'\n",
    "    }).astype('int64').astype('str').apply(lambda x: '–'.join(x), axis=1).rename('Follow-up')\n",
    "\n",
    "    \n",
    "], axis =1).T.reindex(columns=ordered_cols1)"
   ]
  },
  {
   "cell_type": "markdown",
   "metadata": {
    "id": "bB9GcGwOUlPf"
   },
   "source": [
    "### **Supplemental Table 3. Risk of bias in non-randomized studies of interventions (ROBINS-I) results.**"
   ]
  },
  {
   "cell_type": "code",
   "execution_count": 8,
   "metadata": {
    "colab": {
     "base_uri": "https://localhost:8080/",
     "height": 424
    },
    "id": "CTeJ_nwbXlij",
    "outputId": "63e2cbdf-5ed6-413b-86a8-04c35d73ef31"
   },
   "outputs": [
    {
     "data": {
      "text/html": [
       "<div>\n",
       "<style scoped>\n",
       "    .dataframe tbody tr th:only-of-type {\n",
       "        vertical-align: middle;\n",
       "    }\n",
       "\n",
       "    .dataframe tbody tr th {\n",
       "        vertical-align: top;\n",
       "    }\n",
       "\n",
       "    .dataframe thead th {\n",
       "        text-align: right;\n",
       "    }\n",
       "</style>\n",
       "<table border=\"1\" class=\"dataframe\">\n",
       "  <thead>\n",
       "    <tr style=\"text-align: right;\">\n",
       "      <th></th>\n",
       "      <th>First_author</th>\n",
       "      <th>Year_of_publication</th>\n",
       "      <th>Income_group</th>\n",
       "      <th>Overall_judgement</th>\n",
       "      <th>Domain1</th>\n",
       "      <th>Domain2</th>\n",
       "      <th>Domain3</th>\n",
       "      <th>Domain4</th>\n",
       "      <th>Domain5</th>\n",
       "      <th>Domain6</th>\n",
       "      <th>Domain7</th>\n",
       "    </tr>\n",
       "  </thead>\n",
       "  <tbody>\n",
       "    <tr>\n",
       "      <th>0</th>\n",
       "      <td>Martínez-Lage</td>\n",
       "      <td>2005</td>\n",
       "      <td>Lower middle income</td>\n",
       "      <td>Serious</td>\n",
       "      <td>Serious</td>\n",
       "      <td>Serious</td>\n",
       "      <td>Moderate</td>\n",
       "      <td>Low</td>\n",
       "      <td>Low</td>\n",
       "      <td>Low</td>\n",
       "      <td>Low</td>\n",
       "    </tr>\n",
       "    <tr>\n",
       "      <th>1</th>\n",
       "      <td>Sacar</td>\n",
       "      <td>2006</td>\n",
       "      <td>Upper middle income</td>\n",
       "      <td>Moderate</td>\n",
       "      <td>Low</td>\n",
       "      <td>Low</td>\n",
       "      <td>NI</td>\n",
       "      <td>Low</td>\n",
       "      <td>Low</td>\n",
       "      <td>Moderate</td>\n",
       "      <td>Low</td>\n",
       "    </tr>\n",
       "    <tr>\n",
       "      <th>2</th>\n",
       "      <td>Clemmensen</td>\n",
       "      <td>2010</td>\n",
       "      <td>High income</td>\n",
       "      <td>Low</td>\n",
       "      <td>Low</td>\n",
       "      <td>Low</td>\n",
       "      <td>Low</td>\n",
       "      <td>Low</td>\n",
       "      <td>Low</td>\n",
       "      <td>Low</td>\n",
       "      <td>Low</td>\n",
       "    </tr>\n",
       "    <tr>\n",
       "      <th>3</th>\n",
       "      <td>Sandquist</td>\n",
       "      <td>2003</td>\n",
       "      <td>High income</td>\n",
       "      <td>Critical</td>\n",
       "      <td>Critical</td>\n",
       "      <td>Low</td>\n",
       "      <td>NI</td>\n",
       "      <td>Low</td>\n",
       "      <td>Low</td>\n",
       "      <td>Critical</td>\n",
       "      <td>Serious</td>\n",
       "    </tr>\n",
       "    <tr>\n",
       "      <th>4</th>\n",
       "      <td>Bluestone</td>\n",
       "      <td>1972</td>\n",
       "      <td>High income</td>\n",
       "      <td>Critical</td>\n",
       "      <td>Critical</td>\n",
       "      <td>Low</td>\n",
       "      <td>Low</td>\n",
       "      <td>Low</td>\n",
       "      <td>Low</td>\n",
       "      <td>Moderate</td>\n",
       "      <td>Low</td>\n",
       "    </tr>\n",
       "    <tr>\n",
       "      <th>...</th>\n",
       "      <td>...</td>\n",
       "      <td>...</td>\n",
       "      <td>...</td>\n",
       "      <td>...</td>\n",
       "      <td>...</td>\n",
       "      <td>...</td>\n",
       "      <td>...</td>\n",
       "      <td>...</td>\n",
       "      <td>...</td>\n",
       "      <td>...</td>\n",
       "      <td>...</td>\n",
       "    </tr>\n",
       "    <tr>\n",
       "      <th>77</th>\n",
       "      <td>Sil</td>\n",
       "      <td>2021</td>\n",
       "      <td>Lower middle income</td>\n",
       "      <td>Moderate</td>\n",
       "      <td>Moderate</td>\n",
       "      <td>Moderate</td>\n",
       "      <td>Low</td>\n",
       "      <td>Low</td>\n",
       "      <td>Low</td>\n",
       "      <td>Low</td>\n",
       "      <td>Low</td>\n",
       "    </tr>\n",
       "    <tr>\n",
       "      <th>78</th>\n",
       "      <td>Petraglia</td>\n",
       "      <td>2011</td>\n",
       "      <td>High income</td>\n",
       "      <td>Moderate</td>\n",
       "      <td>Moderate</td>\n",
       "      <td>Moderate</td>\n",
       "      <td>Low</td>\n",
       "      <td>Low</td>\n",
       "      <td>Low</td>\n",
       "      <td>Low</td>\n",
       "      <td>Low</td>\n",
       "    </tr>\n",
       "    <tr>\n",
       "      <th>79</th>\n",
       "      <td>Kirsch</td>\n",
       "      <td>1968</td>\n",
       "      <td>High income</td>\n",
       "      <td>Moderate</td>\n",
       "      <td>Moderate</td>\n",
       "      <td>Low</td>\n",
       "      <td>Low</td>\n",
       "      <td>Low</td>\n",
       "      <td>Low</td>\n",
       "      <td>Moderate</td>\n",
       "      <td>Low</td>\n",
       "    </tr>\n",
       "    <tr>\n",
       "      <th>80</th>\n",
       "      <td>Bell</td>\n",
       "      <td>1987</td>\n",
       "      <td>High income</td>\n",
       "      <td>Moderate</td>\n",
       "      <td>Moderate</td>\n",
       "      <td>Low</td>\n",
       "      <td>Low</td>\n",
       "      <td>Low</td>\n",
       "      <td>Low</td>\n",
       "      <td>Low</td>\n",
       "      <td>Low</td>\n",
       "    </tr>\n",
       "    <tr>\n",
       "      <th>81</th>\n",
       "      <td>Ojo</td>\n",
       "      <td>2015</td>\n",
       "      <td>Lower middle income</td>\n",
       "      <td>Moderate</td>\n",
       "      <td>Moderate</td>\n",
       "      <td>Low</td>\n",
       "      <td>Low</td>\n",
       "      <td>Low</td>\n",
       "      <td>Low</td>\n",
       "      <td>Low</td>\n",
       "      <td>Low</td>\n",
       "    </tr>\n",
       "  </tbody>\n",
       "</table>\n",
       "<p>82 rows × 11 columns</p>\n",
       "</div>"
      ],
      "text/plain": [
       "     First_author  Year_of_publication         Income_group Overall_judgement  \\\n",
       "0   Martínez-Lage                 2005  Lower middle income           Serious   \n",
       "1           Sacar                 2006  Upper middle income          Moderate   \n",
       "2      Clemmensen                 2010          High income               Low   \n",
       "3       Sandquist                 2003          High income          Critical   \n",
       "4       Bluestone                 1972          High income          Critical   \n",
       "..            ...                  ...                  ...               ...   \n",
       "77            Sil                 2021  Lower middle income          Moderate   \n",
       "78      Petraglia                 2011          High income          Moderate   \n",
       "79         Kirsch                 1968          High income          Moderate   \n",
       "80           Bell                 1987          High income          Moderate   \n",
       "81            Ojo                 2015  Lower middle income          Moderate   \n",
       "\n",
       "     Domain1   Domain2   Domain3 Domain4 Domain5   Domain6  Domain7  \n",
       "0    Serious   Serious  Moderate     Low     Low       Low      Low  \n",
       "1        Low       Low        NI     Low     Low  Moderate      Low  \n",
       "2        Low       Low       Low     Low     Low       Low      Low  \n",
       "3   Critical       Low        NI     Low     Low  Critical  Serious  \n",
       "4   Critical       Low       Low     Low     Low  Moderate      Low  \n",
       "..       ...       ...       ...     ...     ...       ...      ...  \n",
       "77  Moderate  Moderate       Low     Low     Low       Low      Low  \n",
       "78  Moderate  Moderate       Low     Low     Low       Low      Low  \n",
       "79  Moderate       Low       Low     Low     Low  Moderate      Low  \n",
       "80  Moderate       Low       Low     Low     Low       Low      Low  \n",
       "81  Moderate       Low       Low     Low     Low       Low      Low  \n",
       "\n",
       "[82 rows x 11 columns]"
      ]
     },
     "execution_count": 8,
     "metadata": {},
     "output_type": "execute_result"
    }
   ],
   "source": [
    "# Filter the df_rob DataFrame to only include entries where the ROB_tool is 'ROBINS I' \n",
    "# and drop the 'ROB_tool' column as it's no longer needed after this filter.\n",
    "filtered_rob = df_rob[df_rob.ROB_tool == 'ROBINS I'].drop(columns='ROB_tool')\n",
    "\n",
    "# Merge the selected columns from df_studies with the filtered version of df_rob using the 'IID' as the key.\n",
    "# Subsequently, drop the 'IID' column as it's not needed in the final output.\n",
    "df_robinsi = df_studies[['IID', 'First_author', 'Year_of_publication', 'Income_group']]\\\n",
    "    .merge(filtered_rob, on='IID')\\\n",
    "    .drop(columns='IID')\n",
    "    \n",
    "df_robinsi"
   ]
  },
  {
   "cell_type": "markdown",
   "metadata": {
    "id": "KxbWLY7TUaIA"
   },
   "source": [
    "### **Supplemental Table 4. Risk of Bias 2 (RoB 2) results for randomised control trials.**"
   ]
  },
  {
   "cell_type": "markdown",
   "metadata": {},
   "source": [
    "We present the results of the risk of bias assessment for randomized control trials, using the RoB 2 methodology."
   ]
  },
  {
   "cell_type": "code",
   "execution_count": 9,
   "metadata": {
    "colab": {
     "base_uri": "https://localhost:8080/"
    },
    "id": "QdcI8RbtUFEW",
    "outputId": "0b172722-eb65-474a-c9b4-f9d251253482"
   },
   "outputs": [
    {
     "data": {
      "text/html": [
       "<div>\n",
       "<style scoped>\n",
       "    .dataframe tbody tr th:only-of-type {\n",
       "        vertical-align: middle;\n",
       "    }\n",
       "\n",
       "    .dataframe tbody tr th {\n",
       "        vertical-align: top;\n",
       "    }\n",
       "\n",
       "    .dataframe thead th {\n",
       "        text-align: right;\n",
       "    }\n",
       "</style>\n",
       "<table border=\"1\" class=\"dataframe\">\n",
       "  <thead>\n",
       "    <tr style=\"text-align: right;\">\n",
       "      <th></th>\n",
       "      <th>First_author</th>\n",
       "      <th>Year_of_publication</th>\n",
       "      <th>Income_group</th>\n",
       "      <th>Overall_judgement</th>\n",
       "      <th>Domain1</th>\n",
       "      <th>Domain2</th>\n",
       "      <th>Domain3</th>\n",
       "      <th>Domain4</th>\n",
       "      <th>Domain5</th>\n",
       "    </tr>\n",
       "  </thead>\n",
       "  <tbody>\n",
       "    <tr>\n",
       "      <th>0</th>\n",
       "      <td>Khattak</td>\n",
       "      <td>2018</td>\n",
       "      <td>Lower middle income</td>\n",
       "      <td>Low</td>\n",
       "      <td>Low</td>\n",
       "      <td>Low</td>\n",
       "      <td>Low</td>\n",
       "      <td>Low</td>\n",
       "      <td>Some concerns</td>\n",
       "    </tr>\n",
       "    <tr>\n",
       "      <th>1</th>\n",
       "      <td>Oliveira</td>\n",
       "      <td>2015</td>\n",
       "      <td>Upper middle income</td>\n",
       "      <td>Low</td>\n",
       "      <td>Low</td>\n",
       "      <td>Low</td>\n",
       "      <td>Low</td>\n",
       "      <td>Low</td>\n",
       "      <td>Low</td>\n",
       "    </tr>\n",
       "  </tbody>\n",
       "</table>\n",
       "</div>"
      ],
      "text/plain": [
       "  First_author  Year_of_publication         Income_group Overall_judgement  \\\n",
       "0      Khattak                 2018  Lower middle income               Low   \n",
       "1     Oliveira                 2015  Upper middle income               Low   \n",
       "\n",
       "  Domain1 Domain2 Domain3 Domain4        Domain5  \n",
       "0     Low     Low     Low     Low  Some concerns  \n",
       "1     Low     Low     Low     Low            Low  "
      ]
     },
     "execution_count": 9,
     "metadata": {},
     "output_type": "execute_result"
    }
   ],
   "source": [
    "# Filter the df_rob DataFrame to select entries where the ROB_tool is 'RoB 2'.\n",
    "# At the same time, exclude the columns 'ROB_tool', 'Domain6', and 'Domain7'.\n",
    "filtered_rob2 = df_rob[df_rob.ROB_tool == 'RoB 2'].drop(columns=['ROB_tool', 'Domain6', 'Domain7'])\n",
    "\n",
    "# Merge specific columns from df_studies with the filtered df_rob2 dataset.\n",
    "# Use the 'IID' column as the merging key, which is a common column in both datasets.\n",
    "# After merging, remove the 'IID' column as it's redundant in the resulting dataset.\n",
    "df_rob2 = df_studies[['IID', 'First_author', 'Year_of_publication', 'Income_group']]\\\n",
    "    .merge(filtered_rob2, on='IID')\\\n",
    "    .drop(columns='IID')\n",
    "\n",
    "df_rob2"
   ]
  },
  {
   "cell_type": "markdown",
   "metadata": {
    "id": "ee70FF4MGBWA"
   },
   "source": [
    "### **Supplemental Figure 1. Risk of bias results by income level.**"
   ]
  },
  {
   "cell_type": "markdown",
   "metadata": {},
   "source": [
    "This figure visually represents the risk of bias in studies based on their respective income levels."
   ]
  },
  {
   "cell_type": "code",
   "execution_count": 18,
   "metadata": {
    "colab": {
     "base_uri": "https://localhost:8080/",
     "height": 542
    },
    "id": "FSCCDYniRO1t",
    "outputId": "da7a0e8a-56a9-4d6c-f1c1-ed8c9af6d2db"
   },
   "outputs": [
    {
     "data": {
      "application/vnd.plotly.v1+json": {
       "config": {
        "plotlyServerURL": "https://plot.ly",
        "toImageButtonOptions": {
         "filename": "figs1a",
         "format": "png",
         "scale": 6
        }
       },
       "data": [
        {
         "customdata": [
          [
           "High income",
           "399.0"
          ],
          [
           "Upper middle income",
           "100.80000000000001"
          ],
          [
           "Lower middle income",
           "99.60000000000001"
          ],
          [
           "Low income",
           "nan"
          ]
         ],
         "hovertemplate": "Label: %{customdata[0]}<br>Width: %{width}<br>Height: %{y:.0f}%<br>Area: %{width} x %{y:.0f} = %{customdata[1]:.1f}",
         "marker": {
          "color": "rgb(66, 181, 64)"
         },
         "name": "Low",
         "textangle": 0,
         "textfont": {
          "color": "rgb(27, 25, 25)"
         },
         "textposition": "inside",
         "texttemplate": "%{y:.0f}%",
         "type": "bar",
         "width": [
          42,
          24,
          12,
          4
         ],
         "x": [
          0,
          42,
          66,
          78
         ],
         "y": [
          9.5,
          4.2,
          8.3,
          null
         ]
        },
        {
         "customdata": [
          [
           "High income",
           "1999.2"
          ],
          [
           "Upper middle income",
           "1399.1999999999998"
          ],
          [
           "Lower middle income",
           "500.40000000000003"
          ],
          [
           "Low income",
           "300.0"
          ]
         ],
         "hovertemplate": "Label: %{customdata[0]}<br>Width: %{width}<br>Height: %{y:.0f}%<br>Area: %{width} x %{y:.0f} = %{customdata[1]:.1f}",
         "marker": {
          "color": "rgb(244, 222, 137)"
         },
         "name": "Moderate",
         "textangle": 0,
         "textfont": {
          "color": "rgb(27, 25, 25)"
         },
         "textposition": "inside",
         "texttemplate": "%{y:.0f}%",
         "type": "bar",
         "width": [
          42,
          24,
          12,
          4
         ],
         "x": [
          0,
          42,
          66,
          78
         ],
         "y": [
          47.6,
          58.3,
          41.7,
          75
         ]
        },
        {
         "customdata": [
          [
           "High income",
           "600.6"
          ],
          [
           "Upper middle income",
           "799.1999999999999"
          ],
          [
           "Lower middle income",
           "300.0"
          ],
          [
           "Low income",
           "100.0"
          ]
         ],
         "hovertemplate": "Label: %{customdata[0]}<br>Width: %{width}<br>Height: %{y:.0f}%<br>Area: %{width} x %{y:.0f} = %{customdata[1]:.1f}",
         "marker": {
          "color": "rgb(239, 176, 95)"
         },
         "name": "Serious",
         "textangle": 0,
         "textfont": {
          "color": "rgb(27, 25, 25)"
         },
         "textposition": "inside",
         "texttemplate": "%{y:.0f}%",
         "type": "bar",
         "width": [
          42,
          24,
          12,
          4
         ],
         "x": [
          0,
          42,
          66,
          78
         ],
         "y": [
          14.3,
          33.3,
          25,
          25
         ]
        },
        {
         "customdata": [
          [
           "High income",
           "1100.3999999999999"
          ],
          [
           "Upper middle income",
           "nan"
          ],
          [
           "Lower middle income",
           "200.39999999999998"
          ],
          [
           "Low income",
           "nan"
          ]
         ],
         "hovertemplate": "Label: %{customdata[0]}<br>Width: %{width}<br>Height: %{y:.0f}%<br>Area: %{width} x %{y:.0f} = %{customdata[1]:.1f}",
         "marker": {
          "color": "rgb(237, 0, 0)"
         },
         "name": "Critical",
         "textangle": 0,
         "textfont": {
          "color": "white"
         },
         "textposition": "inside",
         "texttemplate": "%{y:.0f}%",
         "type": "bar",
         "width": [
          42,
          24,
          12,
          4
         ],
         "x": [
          0,
          42,
          66,
          78
         ],
         "y": [
          26.2,
          null,
          16.7,
          null
         ]
        },
        {
         "customdata": [
          [
           "High income",
           "100.8"
          ],
          [
           "Upper middle income",
           "100.80000000000001"
          ],
          [
           "Lower middle income",
           "99.60000000000001"
          ],
          [
           "Low income",
           "nan"
          ]
         ],
         "hovertemplate": "Label: %{customdata[0]}<br>Width: %{width}<br>Height: %{y:.0f}%<br>Area: %{width} x %{y:.0f} = %{customdata[1]:.1f}",
         "marker": {
          "color": "rgb(173, 182, 182)"
         },
         "name": "NI",
         "textangle": 0,
         "textfont": {
          "color": "rgb(27, 25, 25)"
         },
         "textposition": "inside",
         "texttemplate": "%{y:.0f}%",
         "type": "bar",
         "width": [
          42,
          24,
          12,
          4
         ],
         "x": [
          0,
          42,
          66,
          78
         ],
         "y": [
          2.4,
          4.2,
          8.3,
          null
         ]
        }
       ],
       "layout": {
        "barmode": "stack",
        "template": {
         "data": {
          "bar": [
           {
            "error_x": {
             "color": "#2a3f5f"
            },
            "error_y": {
             "color": "#2a3f5f"
            },
            "marker": {
             "line": {
              "color": "#E5ECF6",
              "width": 0.5
             },
             "pattern": {
              "fillmode": "overlay",
              "size": 10,
              "solidity": 0.2
             }
            },
            "type": "bar"
           }
          ],
          "barpolar": [
           {
            "marker": {
             "line": {
              "color": "#E5ECF6",
              "width": 0.5
             },
             "pattern": {
              "fillmode": "overlay",
              "size": 10,
              "solidity": 0.2
             }
            },
            "type": "barpolar"
           }
          ],
          "carpet": [
           {
            "aaxis": {
             "endlinecolor": "#2a3f5f",
             "gridcolor": "white",
             "linecolor": "white",
             "minorgridcolor": "white",
             "startlinecolor": "#2a3f5f"
            },
            "baxis": {
             "endlinecolor": "#2a3f5f",
             "gridcolor": "white",
             "linecolor": "white",
             "minorgridcolor": "white",
             "startlinecolor": "#2a3f5f"
            },
            "type": "carpet"
           }
          ],
          "choropleth": [
           {
            "colorbar": {
             "outlinewidth": 0,
             "ticks": ""
            },
            "type": "choropleth"
           }
          ],
          "contour": [
           {
            "colorbar": {
             "outlinewidth": 0,
             "ticks": ""
            },
            "colorscale": [
             [
              0,
              "#0d0887"
             ],
             [
              0.1111111111111111,
              "#46039f"
             ],
             [
              0.2222222222222222,
              "#7201a8"
             ],
             [
              0.3333333333333333,
              "#9c179e"
             ],
             [
              0.4444444444444444,
              "#bd3786"
             ],
             [
              0.5555555555555556,
              "#d8576b"
             ],
             [
              0.6666666666666666,
              "#ed7953"
             ],
             [
              0.7777777777777778,
              "#fb9f3a"
             ],
             [
              0.8888888888888888,
              "#fdca26"
             ],
             [
              1,
              "#f0f921"
             ]
            ],
            "type": "contour"
           }
          ],
          "contourcarpet": [
           {
            "colorbar": {
             "outlinewidth": 0,
             "ticks": ""
            },
            "type": "contourcarpet"
           }
          ],
          "heatmap": [
           {
            "colorbar": {
             "outlinewidth": 0,
             "ticks": ""
            },
            "colorscale": [
             [
              0,
              "#0d0887"
             ],
             [
              0.1111111111111111,
              "#46039f"
             ],
             [
              0.2222222222222222,
              "#7201a8"
             ],
             [
              0.3333333333333333,
              "#9c179e"
             ],
             [
              0.4444444444444444,
              "#bd3786"
             ],
             [
              0.5555555555555556,
              "#d8576b"
             ],
             [
              0.6666666666666666,
              "#ed7953"
             ],
             [
              0.7777777777777778,
              "#fb9f3a"
             ],
             [
              0.8888888888888888,
              "#fdca26"
             ],
             [
              1,
              "#f0f921"
             ]
            ],
            "type": "heatmap"
           }
          ],
          "heatmapgl": [
           {
            "colorbar": {
             "outlinewidth": 0,
             "ticks": ""
            },
            "colorscale": [
             [
              0,
              "#0d0887"
             ],
             [
              0.1111111111111111,
              "#46039f"
             ],
             [
              0.2222222222222222,
              "#7201a8"
             ],
             [
              0.3333333333333333,
              "#9c179e"
             ],
             [
              0.4444444444444444,
              "#bd3786"
             ],
             [
              0.5555555555555556,
              "#d8576b"
             ],
             [
              0.6666666666666666,
              "#ed7953"
             ],
             [
              0.7777777777777778,
              "#fb9f3a"
             ],
             [
              0.8888888888888888,
              "#fdca26"
             ],
             [
              1,
              "#f0f921"
             ]
            ],
            "type": "heatmapgl"
           }
          ],
          "histogram": [
           {
            "marker": {
             "pattern": {
              "fillmode": "overlay",
              "size": 10,
              "solidity": 0.2
             }
            },
            "type": "histogram"
           }
          ],
          "histogram2d": [
           {
            "colorbar": {
             "outlinewidth": 0,
             "ticks": ""
            },
            "colorscale": [
             [
              0,
              "#0d0887"
             ],
             [
              0.1111111111111111,
              "#46039f"
             ],
             [
              0.2222222222222222,
              "#7201a8"
             ],
             [
              0.3333333333333333,
              "#9c179e"
             ],
             [
              0.4444444444444444,
              "#bd3786"
             ],
             [
              0.5555555555555556,
              "#d8576b"
             ],
             [
              0.6666666666666666,
              "#ed7953"
             ],
             [
              0.7777777777777778,
              "#fb9f3a"
             ],
             [
              0.8888888888888888,
              "#fdca26"
             ],
             [
              1,
              "#f0f921"
             ]
            ],
            "type": "histogram2d"
           }
          ],
          "histogram2dcontour": [
           {
            "colorbar": {
             "outlinewidth": 0,
             "ticks": ""
            },
            "colorscale": [
             [
              0,
              "#0d0887"
             ],
             [
              0.1111111111111111,
              "#46039f"
             ],
             [
              0.2222222222222222,
              "#7201a8"
             ],
             [
              0.3333333333333333,
              "#9c179e"
             ],
             [
              0.4444444444444444,
              "#bd3786"
             ],
             [
              0.5555555555555556,
              "#d8576b"
             ],
             [
              0.6666666666666666,
              "#ed7953"
             ],
             [
              0.7777777777777778,
              "#fb9f3a"
             ],
             [
              0.8888888888888888,
              "#fdca26"
             ],
             [
              1,
              "#f0f921"
             ]
            ],
            "type": "histogram2dcontour"
           }
          ],
          "mesh3d": [
           {
            "colorbar": {
             "outlinewidth": 0,
             "ticks": ""
            },
            "type": "mesh3d"
           }
          ],
          "parcoords": [
           {
            "line": {
             "colorbar": {
              "outlinewidth": 0,
              "ticks": ""
             }
            },
            "type": "parcoords"
           }
          ],
          "pie": [
           {
            "automargin": true,
            "type": "pie"
           }
          ],
          "scatter": [
           {
            "fillpattern": {
             "fillmode": "overlay",
             "size": 10,
             "solidity": 0.2
            },
            "type": "scatter"
           }
          ],
          "scatter3d": [
           {
            "line": {
             "colorbar": {
              "outlinewidth": 0,
              "ticks": ""
             }
            },
            "marker": {
             "colorbar": {
              "outlinewidth": 0,
              "ticks": ""
             }
            },
            "type": "scatter3d"
           }
          ],
          "scattercarpet": [
           {
            "marker": {
             "colorbar": {
              "outlinewidth": 0,
              "ticks": ""
             }
            },
            "type": "scattercarpet"
           }
          ],
          "scattergeo": [
           {
            "marker": {
             "colorbar": {
              "outlinewidth": 0,
              "ticks": ""
             }
            },
            "type": "scattergeo"
           }
          ],
          "scattergl": [
           {
            "marker": {
             "colorbar": {
              "outlinewidth": 0,
              "ticks": ""
             }
            },
            "type": "scattergl"
           }
          ],
          "scattermapbox": [
           {
            "marker": {
             "colorbar": {
              "outlinewidth": 0,
              "ticks": ""
             }
            },
            "type": "scattermapbox"
           }
          ],
          "scatterpolar": [
           {
            "marker": {
             "colorbar": {
              "outlinewidth": 0,
              "ticks": ""
             }
            },
            "type": "scatterpolar"
           }
          ],
          "scatterpolargl": [
           {
            "marker": {
             "colorbar": {
              "outlinewidth": 0,
              "ticks": ""
             }
            },
            "type": "scatterpolargl"
           }
          ],
          "scatterternary": [
           {
            "marker": {
             "colorbar": {
              "outlinewidth": 0,
              "ticks": ""
             }
            },
            "type": "scatterternary"
           }
          ],
          "surface": [
           {
            "colorbar": {
             "outlinewidth": 0,
             "ticks": ""
            },
            "colorscale": [
             [
              0,
              "#0d0887"
             ],
             [
              0.1111111111111111,
              "#46039f"
             ],
             [
              0.2222222222222222,
              "#7201a8"
             ],
             [
              0.3333333333333333,
              "#9c179e"
             ],
             [
              0.4444444444444444,
              "#bd3786"
             ],
             [
              0.5555555555555556,
              "#d8576b"
             ],
             [
              0.6666666666666666,
              "#ed7953"
             ],
             [
              0.7777777777777778,
              "#fb9f3a"
             ],
             [
              0.8888888888888888,
              "#fdca26"
             ],
             [
              1,
              "#f0f921"
             ]
            ],
            "type": "surface"
           }
          ],
          "table": [
           {
            "cells": {
             "fill": {
              "color": "#EBF0F8"
             },
             "line": {
              "color": "white"
             }
            },
            "header": {
             "fill": {
              "color": "#C8D4E3"
             },
             "line": {
              "color": "white"
             }
            },
            "type": "table"
           }
          ]
         },
         "layout": {
          "annotationdefaults": {
           "arrowcolor": "#2a3f5f",
           "arrowhead": 0,
           "arrowwidth": 1
          },
          "autotypenumbers": "strict",
          "coloraxis": {
           "colorbar": {
            "outlinewidth": 0,
            "ticks": ""
           }
          },
          "colorscale": {
           "diverging": [
            [
             0,
             "#8e0152"
            ],
            [
             0.1,
             "#c51b7d"
            ],
            [
             0.2,
             "#de77ae"
            ],
            [
             0.3,
             "#f1b6da"
            ],
            [
             0.4,
             "#fde0ef"
            ],
            [
             0.5,
             "#f7f7f7"
            ],
            [
             0.6,
             "#e6f5d0"
            ],
            [
             0.7,
             "#b8e186"
            ],
            [
             0.8,
             "#7fbc41"
            ],
            [
             0.9,
             "#4d9221"
            ],
            [
             1,
             "#276419"
            ]
           ],
           "sequential": [
            [
             0,
             "#0d0887"
            ],
            [
             0.1111111111111111,
             "#46039f"
            ],
            [
             0.2222222222222222,
             "#7201a8"
            ],
            [
             0.3333333333333333,
             "#9c179e"
            ],
            [
             0.4444444444444444,
             "#bd3786"
            ],
            [
             0.5555555555555556,
             "#d8576b"
            ],
            [
             0.6666666666666666,
             "#ed7953"
            ],
            [
             0.7777777777777778,
             "#fb9f3a"
            ],
            [
             0.8888888888888888,
             "#fdca26"
            ],
            [
             1,
             "#f0f921"
            ]
           ],
           "sequentialminus": [
            [
             0,
             "#0d0887"
            ],
            [
             0.1111111111111111,
             "#46039f"
            ],
            [
             0.2222222222222222,
             "#7201a8"
            ],
            [
             0.3333333333333333,
             "#9c179e"
            ],
            [
             0.4444444444444444,
             "#bd3786"
            ],
            [
             0.5555555555555556,
             "#d8576b"
            ],
            [
             0.6666666666666666,
             "#ed7953"
            ],
            [
             0.7777777777777778,
             "#fb9f3a"
            ],
            [
             0.8888888888888888,
             "#fdca26"
            ],
            [
             1,
             "#f0f921"
            ]
           ]
          },
          "colorway": [
           "#636efa",
           "#EF553B",
           "#00cc96",
           "#ab63fa",
           "#FFA15A",
           "#19d3f3",
           "#FF6692",
           "#B6E880",
           "#FF97FF",
           "#FECB52"
          ],
          "font": {
           "color": "#2a3f5f"
          },
          "geo": {
           "bgcolor": "white",
           "lakecolor": "white",
           "landcolor": "#E5ECF6",
           "showlakes": true,
           "showland": true,
           "subunitcolor": "white"
          },
          "hoverlabel": {
           "align": "left"
          },
          "hovermode": "closest",
          "mapbox": {
           "style": "light"
          },
          "paper_bgcolor": "white",
          "plot_bgcolor": "#E5ECF6",
          "polar": {
           "angularaxis": {
            "gridcolor": "white",
            "linecolor": "white",
            "ticks": ""
           },
           "bgcolor": "#E5ECF6",
           "radialaxis": {
            "gridcolor": "white",
            "linecolor": "white",
            "ticks": ""
           }
          },
          "scene": {
           "xaxis": {
            "backgroundcolor": "#E5ECF6",
            "gridcolor": "white",
            "gridwidth": 2,
            "linecolor": "white",
            "showbackground": true,
            "ticks": "",
            "zerolinecolor": "white"
           },
           "yaxis": {
            "backgroundcolor": "#E5ECF6",
            "gridcolor": "white",
            "gridwidth": 2,
            "linecolor": "white",
            "showbackground": true,
            "ticks": "",
            "zerolinecolor": "white"
           },
           "zaxis": {
            "backgroundcolor": "#E5ECF6",
            "gridcolor": "white",
            "gridwidth": 2,
            "linecolor": "white",
            "showbackground": true,
            "ticks": "",
            "zerolinecolor": "white"
           }
          },
          "shapedefaults": {
           "line": {
            "color": "#2a3f5f"
           }
          },
          "ternary": {
           "aaxis": {
            "gridcolor": "white",
            "linecolor": "white",
            "ticks": ""
           },
           "baxis": {
            "gridcolor": "white",
            "linecolor": "white",
            "ticks": ""
           },
           "bgcolor": "#E5ECF6",
           "caxis": {
            "gridcolor": "white",
            "linecolor": "white",
            "ticks": ""
           }
          },
          "title": {
           "x": 0.05
          },
          "xaxis": {
           "automargin": true,
           "gridcolor": "white",
           "linecolor": "white",
           "ticks": "",
           "title": {
            "standoff": 15
           },
           "zerolinecolor": "white",
           "zerolinewidth": 2
          },
          "yaxis": {
           "automargin": true,
           "gridcolor": "white",
           "linecolor": "white",
           "ticks": "",
           "title": {
            "standoff": 15
           },
           "zerolinecolor": "white",
           "zerolinewidth": 2
          }
         }
        },
        "title": {
         "text": "<b>ROBINS-I by income group</b>"
        },
        "uniformtext": {
         "minsize": 10,
         "mode": "hide"
        },
        "xaxis": {
         "range": [
          0,
          82
         ],
         "ticktext": [
          "High income<br>42 studies",
          "Upper middle income<br>24 studies",
          "Lower middle income<br>12 studies",
          "Low income<br>4 studies"
         ],
         "tickvals": [
          21,
          54,
          72,
          80
         ]
        },
        "yaxis": {
         "range": [
          0,
          100
         ],
         "title": {
          "text": "Proportion"
         }
        }
       }
      }
     },
     "metadata": {},
     "output_type": "display_data"
    }
   ],
   "source": [
    "import plotly.graph_objects as go\n",
    "import numpy as np\n",
    "\n",
    "# Extract the labels and widths for the bars.\n",
    "labels = list(df_robinsi.Income_group.value_counts().index)\n",
    "widths = df_robinsi.Income_group.value_counts().to_numpy()\n",
    "\n",
    "# Generate the data for the stacked bar chart.\n",
    "# We're grouping by income group and judging the overall data, then reformatting it for plotting.\n",
    "data = (df_robinsi.drop(['First_author', 'Year_of_publication'], axis=1)\n",
    "        .groupby('Income_group')['Overall_judgement']\n",
    "        .value_counts(normalize=True)\n",
    "        .mul(100).round(1)\n",
    "        .unstack()\n",
    "        .reindex(labels)[['Low', 'Moderate', 'Serious', 'Critical', 'NI']]\n",
    "        .to_dict(orient='list'))\n",
    "\n",
    "# Define the color palettes.\n",
    "colors = ['rgb(66, 181, 64)', 'rgb(244, 222, 137)',\n",
    "          'rgb(239, 176, 95)', 'rgb(237, 0, 0)',\n",
    "          'rgb(173, 182, 182)']\n",
    "\n",
    "font_colors = ['rgb(27, 25, 25)', 'rgb(27, 25, 25)',\n",
    "               'rgb(27, 25, 25)', 'white', 'rgb(27, 25, 25)']\n",
    "\n",
    "figs1a = go.Figure()\n",
    "\n",
    "# Add traces to the figure for each category.\n",
    "for i, key in enumerate(data):\n",
    "    figs1a.add_trace(go.Bar(\n",
    "        name=key,\n",
    "        y=data[key],\n",
    "        x=np.cumsum(widths) - widths,\n",
    "        width=widths,\n",
    "        customdata=np.transpose([labels, widths * data[key]]),\n",
    "        texttemplate=\"%{y:.0f}%\",\n",
    "        textposition=\"inside\",\n",
    "        textangle=0,\n",
    "        textfont_color=font_colors[i],\n",
    "        hovertemplate=\"<br>\".join([\n",
    "            \"Label: %{customdata[0]}\",\n",
    "            \"Width: %{width}\",\n",
    "            \"Height: %{y:.0f}%\",\n",
    "            \"Area: %{width} x %{y:.0f} = %{customdata[1]:.1f}\",\n",
    "        ]),\n",
    "        marker_color=colors[i]\n",
    "    ))\n",
    "\n",
    "# Update x-axis properties.\n",
    "figs1a.update_xaxes(\n",
    "    tickvals=np.cumsum(widths) - widths / 2,\n",
    "    ticktext=[\"%s<br>%d studies\" % (l, w) for l, w in zip(labels, widths)],\n",
    "    range=[0, widths.sum()]\n",
    ")\n",
    "\n",
    "# Update y-axis properties.\n",
    "figs1a.update_yaxes(range=[0, 100], title_text=\"Proportion\")\n",
    "\n",
    "# Set the layout properties for the figure.\n",
    "figs1a.update_layout(\n",
    "    title_text=\"<b>ROBINS-I by income group</b>\",\n",
    "    barmode=\"stack\",\n",
    "    uniformtext=dict(mode=\"hide\", minsize=10),\n",
    ")\n",
    "\n",
    "# Configurations for plot resolution.\n",
    "config = {\n",
    "    'toImageButtonOptions': {\n",
    "        'format': 'png',\n",
    "        'filename': 'figs1a',\n",
    "        'scale': 6\n",
    "    }\n",
    "}\n",
    "\n",
    "figs1a.show(config=config)"
   ]
  },
  {
   "cell_type": "markdown",
   "metadata": {},
   "source": [
    "The bar chart below visualizes the \"Risk of Bias 2 (RoB2)\" categorization by different income groups "
   ]
  },
  {
   "cell_type": "code",
   "execution_count": 23,
   "metadata": {
    "colab": {
     "base_uri": "https://localhost:8080/",
     "height": 542
    },
    "id": "BKebvNDBGJsH",
    "outputId": "4c731c78-0826-4f84-a271-97933509f697"
   },
   "outputs": [
    {
     "data": {
      "application/vnd.plotly.v1+json": {
       "config": {
        "plotlyServerURL": "https://plot.ly",
        "toImageButtonOptions": {
         "filename": "figs1b",
         "format": "png",
         "scale": 6
        }
       },
       "data": [
        {
         "customdata": [
          [
           "Lower middle income",
           "100.0"
          ],
          [
           "Upper middle income",
           "100.0"
          ]
         ],
         "hovertemplate": "label: %{customdata[0]}<br>width: %{width}<br>height: %{y}<br>area: %{customdata[1]}",
         "marker": {
          "color": [
           "rgb(66, 181, 64)",
           "rgb(66, 181, 64)"
          ]
         },
         "name": "Low",
         "offset": 0,
         "textangle": 0,
         "textfont": {
          "color": "white"
         },
         "textposition": "inside",
         "texttemplate": "%{y:.0f}%",
         "type": "bar",
         "width": [
          1,
          1
         ],
         "x": [
          0,
          1
         ],
         "y": [
          100,
          100
         ]
        }
       ],
       "layout": {
        "barmode": "stack",
        "template": {
         "data": {
          "bar": [
           {
            "error_x": {
             "color": "#2a3f5f"
            },
            "error_y": {
             "color": "#2a3f5f"
            },
            "marker": {
             "line": {
              "color": "#E5ECF6",
              "width": 0.5
             },
             "pattern": {
              "fillmode": "overlay",
              "size": 10,
              "solidity": 0.2
             }
            },
            "type": "bar"
           }
          ],
          "barpolar": [
           {
            "marker": {
             "line": {
              "color": "#E5ECF6",
              "width": 0.5
             },
             "pattern": {
              "fillmode": "overlay",
              "size": 10,
              "solidity": 0.2
             }
            },
            "type": "barpolar"
           }
          ],
          "carpet": [
           {
            "aaxis": {
             "endlinecolor": "#2a3f5f",
             "gridcolor": "white",
             "linecolor": "white",
             "minorgridcolor": "white",
             "startlinecolor": "#2a3f5f"
            },
            "baxis": {
             "endlinecolor": "#2a3f5f",
             "gridcolor": "white",
             "linecolor": "white",
             "minorgridcolor": "white",
             "startlinecolor": "#2a3f5f"
            },
            "type": "carpet"
           }
          ],
          "choropleth": [
           {
            "colorbar": {
             "outlinewidth": 0,
             "ticks": ""
            },
            "type": "choropleth"
           }
          ],
          "contour": [
           {
            "colorbar": {
             "outlinewidth": 0,
             "ticks": ""
            },
            "colorscale": [
             [
              0,
              "#0d0887"
             ],
             [
              0.1111111111111111,
              "#46039f"
             ],
             [
              0.2222222222222222,
              "#7201a8"
             ],
             [
              0.3333333333333333,
              "#9c179e"
             ],
             [
              0.4444444444444444,
              "#bd3786"
             ],
             [
              0.5555555555555556,
              "#d8576b"
             ],
             [
              0.6666666666666666,
              "#ed7953"
             ],
             [
              0.7777777777777778,
              "#fb9f3a"
             ],
             [
              0.8888888888888888,
              "#fdca26"
             ],
             [
              1,
              "#f0f921"
             ]
            ],
            "type": "contour"
           }
          ],
          "contourcarpet": [
           {
            "colorbar": {
             "outlinewidth": 0,
             "ticks": ""
            },
            "type": "contourcarpet"
           }
          ],
          "heatmap": [
           {
            "colorbar": {
             "outlinewidth": 0,
             "ticks": ""
            },
            "colorscale": [
             [
              0,
              "#0d0887"
             ],
             [
              0.1111111111111111,
              "#46039f"
             ],
             [
              0.2222222222222222,
              "#7201a8"
             ],
             [
              0.3333333333333333,
              "#9c179e"
             ],
             [
              0.4444444444444444,
              "#bd3786"
             ],
             [
              0.5555555555555556,
              "#d8576b"
             ],
             [
              0.6666666666666666,
              "#ed7953"
             ],
             [
              0.7777777777777778,
              "#fb9f3a"
             ],
             [
              0.8888888888888888,
              "#fdca26"
             ],
             [
              1,
              "#f0f921"
             ]
            ],
            "type": "heatmap"
           }
          ],
          "heatmapgl": [
           {
            "colorbar": {
             "outlinewidth": 0,
             "ticks": ""
            },
            "colorscale": [
             [
              0,
              "#0d0887"
             ],
             [
              0.1111111111111111,
              "#46039f"
             ],
             [
              0.2222222222222222,
              "#7201a8"
             ],
             [
              0.3333333333333333,
              "#9c179e"
             ],
             [
              0.4444444444444444,
              "#bd3786"
             ],
             [
              0.5555555555555556,
              "#d8576b"
             ],
             [
              0.6666666666666666,
              "#ed7953"
             ],
             [
              0.7777777777777778,
              "#fb9f3a"
             ],
             [
              0.8888888888888888,
              "#fdca26"
             ],
             [
              1,
              "#f0f921"
             ]
            ],
            "type": "heatmapgl"
           }
          ],
          "histogram": [
           {
            "marker": {
             "pattern": {
              "fillmode": "overlay",
              "size": 10,
              "solidity": 0.2
             }
            },
            "type": "histogram"
           }
          ],
          "histogram2d": [
           {
            "colorbar": {
             "outlinewidth": 0,
             "ticks": ""
            },
            "colorscale": [
             [
              0,
              "#0d0887"
             ],
             [
              0.1111111111111111,
              "#46039f"
             ],
             [
              0.2222222222222222,
              "#7201a8"
             ],
             [
              0.3333333333333333,
              "#9c179e"
             ],
             [
              0.4444444444444444,
              "#bd3786"
             ],
             [
              0.5555555555555556,
              "#d8576b"
             ],
             [
              0.6666666666666666,
              "#ed7953"
             ],
             [
              0.7777777777777778,
              "#fb9f3a"
             ],
             [
              0.8888888888888888,
              "#fdca26"
             ],
             [
              1,
              "#f0f921"
             ]
            ],
            "type": "histogram2d"
           }
          ],
          "histogram2dcontour": [
           {
            "colorbar": {
             "outlinewidth": 0,
             "ticks": ""
            },
            "colorscale": [
             [
              0,
              "#0d0887"
             ],
             [
              0.1111111111111111,
              "#46039f"
             ],
             [
              0.2222222222222222,
              "#7201a8"
             ],
             [
              0.3333333333333333,
              "#9c179e"
             ],
             [
              0.4444444444444444,
              "#bd3786"
             ],
             [
              0.5555555555555556,
              "#d8576b"
             ],
             [
              0.6666666666666666,
              "#ed7953"
             ],
             [
              0.7777777777777778,
              "#fb9f3a"
             ],
             [
              0.8888888888888888,
              "#fdca26"
             ],
             [
              1,
              "#f0f921"
             ]
            ],
            "type": "histogram2dcontour"
           }
          ],
          "mesh3d": [
           {
            "colorbar": {
             "outlinewidth": 0,
             "ticks": ""
            },
            "type": "mesh3d"
           }
          ],
          "parcoords": [
           {
            "line": {
             "colorbar": {
              "outlinewidth": 0,
              "ticks": ""
             }
            },
            "type": "parcoords"
           }
          ],
          "pie": [
           {
            "automargin": true,
            "type": "pie"
           }
          ],
          "scatter": [
           {
            "fillpattern": {
             "fillmode": "overlay",
             "size": 10,
             "solidity": 0.2
            },
            "type": "scatter"
           }
          ],
          "scatter3d": [
           {
            "line": {
             "colorbar": {
              "outlinewidth": 0,
              "ticks": ""
             }
            },
            "marker": {
             "colorbar": {
              "outlinewidth": 0,
              "ticks": ""
             }
            },
            "type": "scatter3d"
           }
          ],
          "scattercarpet": [
           {
            "marker": {
             "colorbar": {
              "outlinewidth": 0,
              "ticks": ""
             }
            },
            "type": "scattercarpet"
           }
          ],
          "scattergeo": [
           {
            "marker": {
             "colorbar": {
              "outlinewidth": 0,
              "ticks": ""
             }
            },
            "type": "scattergeo"
           }
          ],
          "scattergl": [
           {
            "marker": {
             "colorbar": {
              "outlinewidth": 0,
              "ticks": ""
             }
            },
            "type": "scattergl"
           }
          ],
          "scattermapbox": [
           {
            "marker": {
             "colorbar": {
              "outlinewidth": 0,
              "ticks": ""
             }
            },
            "type": "scattermapbox"
           }
          ],
          "scatterpolar": [
           {
            "marker": {
             "colorbar": {
              "outlinewidth": 0,
              "ticks": ""
             }
            },
            "type": "scatterpolar"
           }
          ],
          "scatterpolargl": [
           {
            "marker": {
             "colorbar": {
              "outlinewidth": 0,
              "ticks": ""
             }
            },
            "type": "scatterpolargl"
           }
          ],
          "scatterternary": [
           {
            "marker": {
             "colorbar": {
              "outlinewidth": 0,
              "ticks": ""
             }
            },
            "type": "scatterternary"
           }
          ],
          "surface": [
           {
            "colorbar": {
             "outlinewidth": 0,
             "ticks": ""
            },
            "colorscale": [
             [
              0,
              "#0d0887"
             ],
             [
              0.1111111111111111,
              "#46039f"
             ],
             [
              0.2222222222222222,
              "#7201a8"
             ],
             [
              0.3333333333333333,
              "#9c179e"
             ],
             [
              0.4444444444444444,
              "#bd3786"
             ],
             [
              0.5555555555555556,
              "#d8576b"
             ],
             [
              0.6666666666666666,
              "#ed7953"
             ],
             [
              0.7777777777777778,
              "#fb9f3a"
             ],
             [
              0.8888888888888888,
              "#fdca26"
             ],
             [
              1,
              "#f0f921"
             ]
            ],
            "type": "surface"
           }
          ],
          "table": [
           {
            "cells": {
             "fill": {
              "color": "#EBF0F8"
             },
             "line": {
              "color": "white"
             }
            },
            "header": {
             "fill": {
              "color": "#C8D4E3"
             },
             "line": {
              "color": "white"
             }
            },
            "type": "table"
           }
          ]
         },
         "layout": {
          "annotationdefaults": {
           "arrowcolor": "#2a3f5f",
           "arrowhead": 0,
           "arrowwidth": 1
          },
          "autotypenumbers": "strict",
          "coloraxis": {
           "colorbar": {
            "outlinewidth": 0,
            "ticks": ""
           }
          },
          "colorscale": {
           "diverging": [
            [
             0,
             "#8e0152"
            ],
            [
             0.1,
             "#c51b7d"
            ],
            [
             0.2,
             "#de77ae"
            ],
            [
             0.3,
             "#f1b6da"
            ],
            [
             0.4,
             "#fde0ef"
            ],
            [
             0.5,
             "#f7f7f7"
            ],
            [
             0.6,
             "#e6f5d0"
            ],
            [
             0.7,
             "#b8e186"
            ],
            [
             0.8,
             "#7fbc41"
            ],
            [
             0.9,
             "#4d9221"
            ],
            [
             1,
             "#276419"
            ]
           ],
           "sequential": [
            [
             0,
             "#0d0887"
            ],
            [
             0.1111111111111111,
             "#46039f"
            ],
            [
             0.2222222222222222,
             "#7201a8"
            ],
            [
             0.3333333333333333,
             "#9c179e"
            ],
            [
             0.4444444444444444,
             "#bd3786"
            ],
            [
             0.5555555555555556,
             "#d8576b"
            ],
            [
             0.6666666666666666,
             "#ed7953"
            ],
            [
             0.7777777777777778,
             "#fb9f3a"
            ],
            [
             0.8888888888888888,
             "#fdca26"
            ],
            [
             1,
             "#f0f921"
            ]
           ],
           "sequentialminus": [
            [
             0,
             "#0d0887"
            ],
            [
             0.1111111111111111,
             "#46039f"
            ],
            [
             0.2222222222222222,
             "#7201a8"
            ],
            [
             0.3333333333333333,
             "#9c179e"
            ],
            [
             0.4444444444444444,
             "#bd3786"
            ],
            [
             0.5555555555555556,
             "#d8576b"
            ],
            [
             0.6666666666666666,
             "#ed7953"
            ],
            [
             0.7777777777777778,
             "#fb9f3a"
            ],
            [
             0.8888888888888888,
             "#fdca26"
            ],
            [
             1,
             "#f0f921"
            ]
           ]
          },
          "colorway": [
           "#636efa",
           "#EF553B",
           "#00cc96",
           "#ab63fa",
           "#FFA15A",
           "#19d3f3",
           "#FF6692",
           "#B6E880",
           "#FF97FF",
           "#FECB52"
          ],
          "font": {
           "color": "#2a3f5f"
          },
          "geo": {
           "bgcolor": "white",
           "lakecolor": "white",
           "landcolor": "#E5ECF6",
           "showlakes": true,
           "showland": true,
           "subunitcolor": "white"
          },
          "hoverlabel": {
           "align": "left"
          },
          "hovermode": "closest",
          "mapbox": {
           "style": "light"
          },
          "paper_bgcolor": "white",
          "plot_bgcolor": "#E5ECF6",
          "polar": {
           "angularaxis": {
            "gridcolor": "white",
            "linecolor": "white",
            "ticks": ""
           },
           "bgcolor": "#E5ECF6",
           "radialaxis": {
            "gridcolor": "white",
            "linecolor": "white",
            "ticks": ""
           }
          },
          "scene": {
           "xaxis": {
            "backgroundcolor": "#E5ECF6",
            "gridcolor": "white",
            "gridwidth": 2,
            "linecolor": "white",
            "showbackground": true,
            "ticks": "",
            "zerolinecolor": "white"
           },
           "yaxis": {
            "backgroundcolor": "#E5ECF6",
            "gridcolor": "white",
            "gridwidth": 2,
            "linecolor": "white",
            "showbackground": true,
            "ticks": "",
            "zerolinecolor": "white"
           },
           "zaxis": {
            "backgroundcolor": "#E5ECF6",
            "gridcolor": "white",
            "gridwidth": 2,
            "linecolor": "white",
            "showbackground": true,
            "ticks": "",
            "zerolinecolor": "white"
           }
          },
          "shapedefaults": {
           "line": {
            "color": "#2a3f5f"
           }
          },
          "ternary": {
           "aaxis": {
            "gridcolor": "white",
            "linecolor": "white",
            "ticks": ""
           },
           "baxis": {
            "gridcolor": "white",
            "linecolor": "white",
            "ticks": ""
           },
           "bgcolor": "#E5ECF6",
           "caxis": {
            "gridcolor": "white",
            "linecolor": "white",
            "ticks": ""
           }
          },
          "title": {
           "x": 0.05
          },
          "xaxis": {
           "automargin": true,
           "gridcolor": "white",
           "linecolor": "white",
           "ticks": "",
           "title": {
            "standoff": 15
           },
           "zerolinecolor": "white",
           "zerolinewidth": 2
          },
          "yaxis": {
           "automargin": true,
           "gridcolor": "white",
           "linecolor": "white",
           "ticks": "",
           "title": {
            "standoff": 15
           },
           "zerolinecolor": "white",
           "zerolinewidth": 2
          }
         }
        },
        "title": {
         "text": "<b>RoB2 by income group</b>"
        },
        "uniformtext": {
         "minsize": 10,
         "mode": "hide"
        },
        "xaxis": {
         "range": [
          0,
          2
         ],
         "ticktext": [
          "Lower middle income<br>1 study",
          "Upper middle income<br>1 study"
         ],
         "tickvals": [
          0.5,
          1.5
         ]
        },
        "yaxis": {
         "range": [
          0,
          100
         ],
         "title": {
          "text": "Proportion"
         }
        }
       }
      }
     },
     "metadata": {},
     "output_type": "display_data"
    }
   ],
   "source": [
    "import plotly.graph_objects as go\n",
    "import numpy as np\n",
    "\n",
    "# Extract labels and widths from the 'Income_group' column in the DataFrame df_rob2\n",
    "labels = list(df_rob2.Income_group.value_counts().index)\n",
    "widths = df_rob2.Income_group.value_counts().to_numpy()\n",
    "\n",
    "# Calculate normalized percentages of 'Overall_judgement' values for each 'Income_group'\n",
    "data = df_rob2.drop(\n",
    "    ['First_author', 'Year_of_publication'],\n",
    "    axis=1\n",
    ").groupby('Income_group')['Overall_judgement'].value_counts(normalize=True).mul(100).round(1).unstack().reindex(labels)[\n",
    "    ['Low']\n",
    "].to_dict(orient='list')\n",
    "\n",
    "# Define a nontransparent color for the plot\n",
    "colors = ['rgb(66, 181, 64)']\n",
    "\n",
    "\n",
    "figs1b = go.Figure()\n",
    "# Iterate through the keys (income groups) in the 'data' dictionary\n",
    "for key in data:\n",
    "    # Add a bar trace to the figure for each income group\n",
    "    figs1b.add_trace(go.Bar(\n",
    "        name=key,  # Set the trace name to the current income group\n",
    "        y=data[key],  # Set the heights of the bars using the data for the current income group\n",
    "        x=np.cumsum(widths) - widths,  # Set the x-coordinates for the bars\n",
    "        width=widths,  # Set the widths of the bars\n",
    "        offset=0,  # Set the offset of the bars\n",
    "        customdata=np.transpose([labels, widths * data[key]]),  # Set custom data for hover information\n",
    "        texttemplate=\"%{y:.0f}%\",  # Set the text format for the bar labels\n",
    "        textposition=\"inside\",  # Set the position of the bar labels\n",
    "        textangle=0,  # Set the angle of the bar labels\n",
    "        textfont_color=\"white\",  # Set the color of the bar labels\n",
    "        hovertemplate=\"<br>\".join([  # Set the hover tooltip template\n",
    "            \"label: %{customdata[0]}\",  # Display the label (income group)\n",
    "            \"width: %{width}\",  # Display the width of the bar\n",
    "            \"height: %{y}\",  # Display the height of the bar\n",
    "            \"area: %{customdata[1]}\",  # Display the calculated area\n",
    "        ]),\n",
    "        marker_color=colors * 2  # Set the color of the bars\n",
    "    ))\n",
    "\n",
    "\n",
    "\n",
    "\n",
    "# Update the x-axis properties of the figure\n",
    "figs1b.update_xaxes(\n",
    "    tickvals=np.cumsum(widths) - widths / 2,  # Set tick positions at the center of each bar group\n",
    "    ticktext=[\"%s<br>%d study\" % (l, w) for l, w in zip(labels, widths)]  # Set tick labels with income group and study count\n",
    ")\n",
    "\n",
    "# Axis properties\n",
    "figs1b.update_xaxes(range=[0, widths.sum()])\n",
    "figs1b.update_yaxes(range=[0, 100], title_text=\"Proportion\")\n",
    "\n",
    "figs1b.update_layout(\n",
    "    title_text=\"<b>RoB2 by income group</b>\",  # Set the title of the plot (bold text)\n",
    "    barmode=\"stack\",  # Set the bar mode to 'stack' for stacked bars\n",
    "    uniformtext=dict(mode=\"hide\", minsize=10),  # Hide text when it's too small for uniform appearance\n",
    ")\n",
    "\n",
    "#Config plot resolution\n",
    "config = {\n",
    "  'toImageButtonOptions': {\n",
    "    'format': 'png', # one of png, svg, jpeg, webp\n",
    "    'filename': 'figs1b',\n",
    "    'scale':6 # Multiply title/legend/axis/canvas sizes by this factor\n",
    "  }\n",
    "}\n",
    "\n",
    "figs1b.show(config=config)"
   ]
  },
  {
   "cell_type": "markdown",
   "metadata": {
    "id": "2A6nR_Qw6i8w"
   },
   "source": [
    "### **Supplemental Figure 2. Risk of bias results by region.**"
   ]
  },
  {
   "cell_type": "markdown",
   "metadata": {},
   "source": [
    "Here, we visually analyze the risk of bias in studies, breaking it down region-wise."
   ]
  },
  {
   "cell_type": "code",
   "execution_count": 21,
   "metadata": {
    "colab": {
     "base_uri": "https://localhost:8080/"
    },
    "id": "wUOKrFKt6i8w",
    "outputId": "5e64b9f5-ab3c-4919-b131-a4190277a4c6"
   },
   "outputs": [
    {
     "data": {
      "application/vnd.plotly.v1+json": {
       "config": {
        "plotlyServerURL": "https://plot.ly",
        "toImageButtonOptions": {
         "filename": "figs2a",
         "format": "png",
         "scale": 6
        }
       },
       "data": [
        {
         "customdata": [
          [
           "Europe & Central Asia",
           "300.3"
          ],
          [
           "North America",
           "199.5"
          ],
          [
           "Latin America & Caribbean",
           "nan"
          ],
          [
           "Sub-Saharan Africa",
           "nan"
          ],
          [
           "South Asia",
           "nan"
          ],
          [
           "Middle East & North Africa",
           "100.0"
          ],
          [
           "East Asia & Pacific",
           "nan"
          ]
         ],
         "hovertemplate": "Label: %{customdata[0]}<br>Width: %{width}<br>Height: %{y:.0f}%<br>Area: %{width} x %{y:.0f} = %{customdata[1]:.1f}",
         "marker": {
          "color": "rgb(66, 181, 64)"
         },
         "name": "Low",
         "offset": 0,
         "textangle": 0,
         "textfont": {
          "color": "rgb(27, 25, 25)"
         },
         "textposition": "inside",
         "texttemplate": "%{y:.0f}%",
         "type": "bar",
         "width": [
          33,
          21,
          11,
          7,
          4,
          4,
          2
         ],
         "x": [
          0,
          33,
          54,
          65,
          72,
          76,
          80
         ],
         "y": [
          9.1,
          9.5,
          null,
          null,
          null,
          25,
          null
         ]
        },
        {
         "customdata": [
          [
           "Europe & Central Asia",
           "1600.5"
          ],
          [
           "North America",
           "1100.3999999999999"
          ],
          [
           "Latin America & Caribbean",
           "599.5"
          ],
          [
           "Sub-Saharan Africa",
           "499.80000000000007"
          ],
          [
           "South Asia",
           "300.0"
          ],
          [
           "Middle East & North Africa",
           "nan"
          ],
          [
           "East Asia & Pacific",
           "100.0"
          ]
         ],
         "hovertemplate": "Label: %{customdata[0]}<br>Width: %{width}<br>Height: %{y:.0f}%<br>Area: %{width} x %{y:.0f} = %{customdata[1]:.1f}",
         "marker": {
          "color": "rgb(244, 222, 137)"
         },
         "name": "Moderate",
         "offset": 0,
         "textangle": 0,
         "textfont": {
          "color": "rgb(27, 25, 25)"
         },
         "textposition": "inside",
         "texttemplate": "%{y:.0f}%",
         "type": "bar",
         "width": [
          33,
          21,
          11,
          7,
          4,
          4,
          2
         ],
         "x": [
          0,
          33,
          54,
          65,
          72,
          76,
          80
         ],
         "y": [
          48.5,
          52.4,
          54.5,
          71.4,
          75,
          null,
          50
         ]
        },
        {
         "customdata": [
          [
           "Europe & Central Asia",
           "798.6"
          ],
          [
           "North America",
           "100.8"
          ],
          [
           "Latin America & Caribbean",
           "500.5"
          ],
          [
           "Sub-Saharan Africa",
           "200.20000000000002"
          ],
          [
           "South Asia",
           "nan"
          ],
          [
           "Middle East & North Africa",
           "100.0"
          ],
          [
           "East Asia & Pacific",
           "100.0"
          ]
         ],
         "hovertemplate": "Label: %{customdata[0]}<br>Width: %{width}<br>Height: %{y:.0f}%<br>Area: %{width} x %{y:.0f} = %{customdata[1]:.1f}",
         "marker": {
          "color": "rgb(239, 176, 95)"
         },
         "name": "Serious",
         "offset": 0,
         "textangle": 0,
         "textfont": {
          "color": "rgb(27, 25, 25)"
         },
         "textposition": "inside",
         "texttemplate": "%{y:.0f}%",
         "type": "bar",
         "width": [
          33,
          21,
          11,
          7,
          4,
          4,
          2
         ],
         "x": [
          0,
          33,
          54,
          65,
          72,
          76,
          80
         ],
         "y": [
          24.2,
          4.8,
          45.5,
          28.6,
          null,
          25,
          50
         ]
        },
        {
         "customdata": [
          [
           "Europe & Central Asia",
           "501.59999999999997"
          ],
          [
           "North America",
           "600.6"
          ],
          [
           "Latin America & Caribbean",
           "nan"
          ],
          [
           "Sub-Saharan Africa",
           "nan"
          ],
          [
           "South Asia",
           "100.0"
          ],
          [
           "Middle East & North Africa",
           "100.0"
          ],
          [
           "East Asia & Pacific",
           "nan"
          ]
         ],
         "hovertemplate": "Label: %{customdata[0]}<br>Width: %{width}<br>Height: %{y:.0f}%<br>Area: %{width} x %{y:.0f} = %{customdata[1]:.1f}",
         "marker": {
          "color": "rgb(237, 0, 0)"
         },
         "name": "Critical",
         "offset": 0,
         "textangle": 0,
         "textfont": {
          "color": "white"
         },
         "textposition": "inside",
         "texttemplate": "%{y:.0f}%",
         "type": "bar",
         "width": [
          33,
          21,
          11,
          7,
          4,
          4,
          2
         ],
         "x": [
          0,
          33,
          54,
          65,
          72,
          76,
          80
         ],
         "y": [
          15.2,
          28.6,
          null,
          null,
          25,
          25,
          null
         ]
        },
        {
         "customdata": [
          [
           "Europe & Central Asia",
           "99.0"
          ],
          [
           "North America",
           "100.8"
          ],
          [
           "Latin America & Caribbean",
           "nan"
          ],
          [
           "Sub-Saharan Africa",
           "nan"
          ],
          [
           "South Asia",
           "nan"
          ],
          [
           "Middle East & North Africa",
           "100.0"
          ],
          [
           "East Asia & Pacific",
           "nan"
          ]
         ],
         "hovertemplate": "Label: %{customdata[0]}<br>Width: %{width}<br>Height: %{y:.0f}%<br>Area: %{width} x %{y:.0f} = %{customdata[1]:.1f}",
         "marker": {
          "color": "rgb(173, 182, 182)"
         },
         "name": "NI",
         "offset": 0,
         "textangle": 0,
         "textfont": {
          "color": "rgb(27, 25, 25)"
         },
         "textposition": "inside",
         "texttemplate": "%{y:.0f}%",
         "type": "bar",
         "width": [
          33,
          21,
          11,
          7,
          4,
          4,
          2
         ],
         "x": [
          0,
          33,
          54,
          65,
          72,
          76,
          80
         ],
         "y": [
          3,
          4.8,
          null,
          null,
          null,
          25,
          null
         ]
        }
       ],
       "layout": {
        "barmode": "stack",
        "template": {
         "data": {
          "bar": [
           {
            "error_x": {
             "color": "#2a3f5f"
            },
            "error_y": {
             "color": "#2a3f5f"
            },
            "marker": {
             "line": {
              "color": "#E5ECF6",
              "width": 0.5
             },
             "pattern": {
              "fillmode": "overlay",
              "size": 10,
              "solidity": 0.2
             }
            },
            "type": "bar"
           }
          ],
          "barpolar": [
           {
            "marker": {
             "line": {
              "color": "#E5ECF6",
              "width": 0.5
             },
             "pattern": {
              "fillmode": "overlay",
              "size": 10,
              "solidity": 0.2
             }
            },
            "type": "barpolar"
           }
          ],
          "carpet": [
           {
            "aaxis": {
             "endlinecolor": "#2a3f5f",
             "gridcolor": "white",
             "linecolor": "white",
             "minorgridcolor": "white",
             "startlinecolor": "#2a3f5f"
            },
            "baxis": {
             "endlinecolor": "#2a3f5f",
             "gridcolor": "white",
             "linecolor": "white",
             "minorgridcolor": "white",
             "startlinecolor": "#2a3f5f"
            },
            "type": "carpet"
           }
          ],
          "choropleth": [
           {
            "colorbar": {
             "outlinewidth": 0,
             "ticks": ""
            },
            "type": "choropleth"
           }
          ],
          "contour": [
           {
            "colorbar": {
             "outlinewidth": 0,
             "ticks": ""
            },
            "colorscale": [
             [
              0,
              "#0d0887"
             ],
             [
              0.1111111111111111,
              "#46039f"
             ],
             [
              0.2222222222222222,
              "#7201a8"
             ],
             [
              0.3333333333333333,
              "#9c179e"
             ],
             [
              0.4444444444444444,
              "#bd3786"
             ],
             [
              0.5555555555555556,
              "#d8576b"
             ],
             [
              0.6666666666666666,
              "#ed7953"
             ],
             [
              0.7777777777777778,
              "#fb9f3a"
             ],
             [
              0.8888888888888888,
              "#fdca26"
             ],
             [
              1,
              "#f0f921"
             ]
            ],
            "type": "contour"
           }
          ],
          "contourcarpet": [
           {
            "colorbar": {
             "outlinewidth": 0,
             "ticks": ""
            },
            "type": "contourcarpet"
           }
          ],
          "heatmap": [
           {
            "colorbar": {
             "outlinewidth": 0,
             "ticks": ""
            },
            "colorscale": [
             [
              0,
              "#0d0887"
             ],
             [
              0.1111111111111111,
              "#46039f"
             ],
             [
              0.2222222222222222,
              "#7201a8"
             ],
             [
              0.3333333333333333,
              "#9c179e"
             ],
             [
              0.4444444444444444,
              "#bd3786"
             ],
             [
              0.5555555555555556,
              "#d8576b"
             ],
             [
              0.6666666666666666,
              "#ed7953"
             ],
             [
              0.7777777777777778,
              "#fb9f3a"
             ],
             [
              0.8888888888888888,
              "#fdca26"
             ],
             [
              1,
              "#f0f921"
             ]
            ],
            "type": "heatmap"
           }
          ],
          "heatmapgl": [
           {
            "colorbar": {
             "outlinewidth": 0,
             "ticks": ""
            },
            "colorscale": [
             [
              0,
              "#0d0887"
             ],
             [
              0.1111111111111111,
              "#46039f"
             ],
             [
              0.2222222222222222,
              "#7201a8"
             ],
             [
              0.3333333333333333,
              "#9c179e"
             ],
             [
              0.4444444444444444,
              "#bd3786"
             ],
             [
              0.5555555555555556,
              "#d8576b"
             ],
             [
              0.6666666666666666,
              "#ed7953"
             ],
             [
              0.7777777777777778,
              "#fb9f3a"
             ],
             [
              0.8888888888888888,
              "#fdca26"
             ],
             [
              1,
              "#f0f921"
             ]
            ],
            "type": "heatmapgl"
           }
          ],
          "histogram": [
           {
            "marker": {
             "pattern": {
              "fillmode": "overlay",
              "size": 10,
              "solidity": 0.2
             }
            },
            "type": "histogram"
           }
          ],
          "histogram2d": [
           {
            "colorbar": {
             "outlinewidth": 0,
             "ticks": ""
            },
            "colorscale": [
             [
              0,
              "#0d0887"
             ],
             [
              0.1111111111111111,
              "#46039f"
             ],
             [
              0.2222222222222222,
              "#7201a8"
             ],
             [
              0.3333333333333333,
              "#9c179e"
             ],
             [
              0.4444444444444444,
              "#bd3786"
             ],
             [
              0.5555555555555556,
              "#d8576b"
             ],
             [
              0.6666666666666666,
              "#ed7953"
             ],
             [
              0.7777777777777778,
              "#fb9f3a"
             ],
             [
              0.8888888888888888,
              "#fdca26"
             ],
             [
              1,
              "#f0f921"
             ]
            ],
            "type": "histogram2d"
           }
          ],
          "histogram2dcontour": [
           {
            "colorbar": {
             "outlinewidth": 0,
             "ticks": ""
            },
            "colorscale": [
             [
              0,
              "#0d0887"
             ],
             [
              0.1111111111111111,
              "#46039f"
             ],
             [
              0.2222222222222222,
              "#7201a8"
             ],
             [
              0.3333333333333333,
              "#9c179e"
             ],
             [
              0.4444444444444444,
              "#bd3786"
             ],
             [
              0.5555555555555556,
              "#d8576b"
             ],
             [
              0.6666666666666666,
              "#ed7953"
             ],
             [
              0.7777777777777778,
              "#fb9f3a"
             ],
             [
              0.8888888888888888,
              "#fdca26"
             ],
             [
              1,
              "#f0f921"
             ]
            ],
            "type": "histogram2dcontour"
           }
          ],
          "mesh3d": [
           {
            "colorbar": {
             "outlinewidth": 0,
             "ticks": ""
            },
            "type": "mesh3d"
           }
          ],
          "parcoords": [
           {
            "line": {
             "colorbar": {
              "outlinewidth": 0,
              "ticks": ""
             }
            },
            "type": "parcoords"
           }
          ],
          "pie": [
           {
            "automargin": true,
            "type": "pie"
           }
          ],
          "scatter": [
           {
            "fillpattern": {
             "fillmode": "overlay",
             "size": 10,
             "solidity": 0.2
            },
            "type": "scatter"
           }
          ],
          "scatter3d": [
           {
            "line": {
             "colorbar": {
              "outlinewidth": 0,
              "ticks": ""
             }
            },
            "marker": {
             "colorbar": {
              "outlinewidth": 0,
              "ticks": ""
             }
            },
            "type": "scatter3d"
           }
          ],
          "scattercarpet": [
           {
            "marker": {
             "colorbar": {
              "outlinewidth": 0,
              "ticks": ""
             }
            },
            "type": "scattercarpet"
           }
          ],
          "scattergeo": [
           {
            "marker": {
             "colorbar": {
              "outlinewidth": 0,
              "ticks": ""
             }
            },
            "type": "scattergeo"
           }
          ],
          "scattergl": [
           {
            "marker": {
             "colorbar": {
              "outlinewidth": 0,
              "ticks": ""
             }
            },
            "type": "scattergl"
           }
          ],
          "scattermapbox": [
           {
            "marker": {
             "colorbar": {
              "outlinewidth": 0,
              "ticks": ""
             }
            },
            "type": "scattermapbox"
           }
          ],
          "scatterpolar": [
           {
            "marker": {
             "colorbar": {
              "outlinewidth": 0,
              "ticks": ""
             }
            },
            "type": "scatterpolar"
           }
          ],
          "scatterpolargl": [
           {
            "marker": {
             "colorbar": {
              "outlinewidth": 0,
              "ticks": ""
             }
            },
            "type": "scatterpolargl"
           }
          ],
          "scatterternary": [
           {
            "marker": {
             "colorbar": {
              "outlinewidth": 0,
              "ticks": ""
             }
            },
            "type": "scatterternary"
           }
          ],
          "surface": [
           {
            "colorbar": {
             "outlinewidth": 0,
             "ticks": ""
            },
            "colorscale": [
             [
              0,
              "#0d0887"
             ],
             [
              0.1111111111111111,
              "#46039f"
             ],
             [
              0.2222222222222222,
              "#7201a8"
             ],
             [
              0.3333333333333333,
              "#9c179e"
             ],
             [
              0.4444444444444444,
              "#bd3786"
             ],
             [
              0.5555555555555556,
              "#d8576b"
             ],
             [
              0.6666666666666666,
              "#ed7953"
             ],
             [
              0.7777777777777778,
              "#fb9f3a"
             ],
             [
              0.8888888888888888,
              "#fdca26"
             ],
             [
              1,
              "#f0f921"
             ]
            ],
            "type": "surface"
           }
          ],
          "table": [
           {
            "cells": {
             "fill": {
              "color": "#EBF0F8"
             },
             "line": {
              "color": "white"
             }
            },
            "header": {
             "fill": {
              "color": "#C8D4E3"
             },
             "line": {
              "color": "white"
             }
            },
            "type": "table"
           }
          ]
         },
         "layout": {
          "annotationdefaults": {
           "arrowcolor": "#2a3f5f",
           "arrowhead": 0,
           "arrowwidth": 1
          },
          "autotypenumbers": "strict",
          "coloraxis": {
           "colorbar": {
            "outlinewidth": 0,
            "ticks": ""
           }
          },
          "colorscale": {
           "diverging": [
            [
             0,
             "#8e0152"
            ],
            [
             0.1,
             "#c51b7d"
            ],
            [
             0.2,
             "#de77ae"
            ],
            [
             0.3,
             "#f1b6da"
            ],
            [
             0.4,
             "#fde0ef"
            ],
            [
             0.5,
             "#f7f7f7"
            ],
            [
             0.6,
             "#e6f5d0"
            ],
            [
             0.7,
             "#b8e186"
            ],
            [
             0.8,
             "#7fbc41"
            ],
            [
             0.9,
             "#4d9221"
            ],
            [
             1,
             "#276419"
            ]
           ],
           "sequential": [
            [
             0,
             "#0d0887"
            ],
            [
             0.1111111111111111,
             "#46039f"
            ],
            [
             0.2222222222222222,
             "#7201a8"
            ],
            [
             0.3333333333333333,
             "#9c179e"
            ],
            [
             0.4444444444444444,
             "#bd3786"
            ],
            [
             0.5555555555555556,
             "#d8576b"
            ],
            [
             0.6666666666666666,
             "#ed7953"
            ],
            [
             0.7777777777777778,
             "#fb9f3a"
            ],
            [
             0.8888888888888888,
             "#fdca26"
            ],
            [
             1,
             "#f0f921"
            ]
           ],
           "sequentialminus": [
            [
             0,
             "#0d0887"
            ],
            [
             0.1111111111111111,
             "#46039f"
            ],
            [
             0.2222222222222222,
             "#7201a8"
            ],
            [
             0.3333333333333333,
             "#9c179e"
            ],
            [
             0.4444444444444444,
             "#bd3786"
            ],
            [
             0.5555555555555556,
             "#d8576b"
            ],
            [
             0.6666666666666666,
             "#ed7953"
            ],
            [
             0.7777777777777778,
             "#fb9f3a"
            ],
            [
             0.8888888888888888,
             "#fdca26"
            ],
            [
             1,
             "#f0f921"
            ]
           ]
          },
          "colorway": [
           "#636efa",
           "#EF553B",
           "#00cc96",
           "#ab63fa",
           "#FFA15A",
           "#19d3f3",
           "#FF6692",
           "#B6E880",
           "#FF97FF",
           "#FECB52"
          ],
          "font": {
           "color": "#2a3f5f"
          },
          "geo": {
           "bgcolor": "white",
           "lakecolor": "white",
           "landcolor": "#E5ECF6",
           "showlakes": true,
           "showland": true,
           "subunitcolor": "white"
          },
          "hoverlabel": {
           "align": "left"
          },
          "hovermode": "closest",
          "mapbox": {
           "style": "light"
          },
          "paper_bgcolor": "white",
          "plot_bgcolor": "#E5ECF6",
          "polar": {
           "angularaxis": {
            "gridcolor": "white",
            "linecolor": "white",
            "ticks": ""
           },
           "bgcolor": "#E5ECF6",
           "radialaxis": {
            "gridcolor": "white",
            "linecolor": "white",
            "ticks": ""
           }
          },
          "scene": {
           "xaxis": {
            "backgroundcolor": "#E5ECF6",
            "gridcolor": "white",
            "gridwidth": 2,
            "linecolor": "white",
            "showbackground": true,
            "ticks": "",
            "zerolinecolor": "white"
           },
           "yaxis": {
            "backgroundcolor": "#E5ECF6",
            "gridcolor": "white",
            "gridwidth": 2,
            "linecolor": "white",
            "showbackground": true,
            "ticks": "",
            "zerolinecolor": "white"
           },
           "zaxis": {
            "backgroundcolor": "#E5ECF6",
            "gridcolor": "white",
            "gridwidth": 2,
            "linecolor": "white",
            "showbackground": true,
            "ticks": "",
            "zerolinecolor": "white"
           }
          },
          "shapedefaults": {
           "line": {
            "color": "#2a3f5f"
           }
          },
          "ternary": {
           "aaxis": {
            "gridcolor": "white",
            "linecolor": "white",
            "ticks": ""
           },
           "baxis": {
            "gridcolor": "white",
            "linecolor": "white",
            "ticks": ""
           },
           "bgcolor": "#E5ECF6",
           "caxis": {
            "gridcolor": "white",
            "linecolor": "white",
            "ticks": ""
           }
          },
          "title": {
           "x": 0.05
          },
          "xaxis": {
           "automargin": true,
           "gridcolor": "white",
           "linecolor": "white",
           "ticks": "",
           "title": {
            "standoff": 15
           },
           "zerolinecolor": "white",
           "zerolinewidth": 2
          },
          "yaxis": {
           "automargin": true,
           "gridcolor": "white",
           "linecolor": "white",
           "ticks": "",
           "title": {
            "standoff": 15
           },
           "zerolinecolor": "white",
           "zerolinewidth": 2
          }
         }
        },
        "title": {
         "text": "<b>ROBINS-I by region</b>"
        },
        "uniformtext": {
         "minsize": 10,
         "mode": "hide"
        },
        "xaxis": {
         "range": [
          0,
          82
         ],
         "tickangle": 50,
         "ticktext": [
          "Europe & Central Asia<br>33 studies",
          "North America<br>21 studies",
          "Latin America & Caribbean<br>11 studies",
          "Sub-Saharan Africa<br>7 studies",
          "South Asia<br>4 studies",
          "Middle East & North Africa<br>4 studies",
          "East Asia & Pacific<br>2 studies"
         ],
         "tickvals": [
          16.5,
          43.5,
          59.5,
          68.5,
          74,
          78,
          81
         ]
        },
        "yaxis": {
         "range": [
          0,
          100
         ],
         "title": {
          "text": "Proportion"
         }
        }
       }
      }
     },
     "metadata": {},
     "output_type": "display_data"
    }
   ],
   "source": [
    "labels = list(df_studies[['IID', 'First_author', 'Year_of_publication', 'Region']].merge(\n",
    "    df_rob[df_rob.ROB_tool=='ROBINS I'].drop('ROB_tool', axis=1),\n",
    "    on='IID'\n",
    ").drop(['IID'], axis=1).Region.value_counts().index)\n",
    "\n",
    "widths = df_studies[['IID', 'First_author', 'Year_of_publication', 'Region']].merge(\n",
    "    df_rob[df_rob.ROB_tool=='ROBINS I'].drop('ROB_tool', axis=1),\n",
    "    on='IID'\n",
    ").drop(['IID'], axis=1).Region.value_counts().to_numpy()\n",
    "\n",
    "data = df_studies[['IID', 'First_author', 'Year_of_publication', 'Region']].merge(\n",
    "    df_rob[df_rob.ROB_tool=='ROBINS I'].drop('ROB_tool', axis=1),\n",
    "    on='IID'\n",
    ").drop(['IID'], axis=1).drop(\n",
    "    ['First_author', 'Year_of_publication'],\n",
    "    axis=1\n",
    ").groupby('Region')['Overall_judgement'].value_counts(normalize=True).mul(100).round(1).unstack().reindex(labels)[\n",
    "    ['Low', 'Moderate', 'Serious', 'Critical', 'NI']\n",
    "].to_dict(orient='list')\n",
    "\n",
    "#nontransparent color palette\n",
    "colors = ['rgb(66, 181, 64)', 'rgb(244, 222, 137)',\n",
    "          'rgb(239, 176, 95)', 'rgb(237, 0, 0)',\n",
    "          'rgb(173, 182, 182)']\n",
    "\n",
    "font_colors = ['rgb(27, 25, 25)', 'rgb(27, 25, 25)',\n",
    "          'rgb(27, 25, 25)', 'white',\n",
    "          'rgb(27, 25, 25)']\n",
    "\n",
    "figs2a = go.Figure()\n",
    "for i, key in enumerate(data):\n",
    "    figs2a.add_trace(go.Bar(\n",
    "        name=key,\n",
    "        y=data[key],\n",
    "        x=np.cumsum(widths)-widths,\n",
    "        width=widths,\n",
    "        offset=0,\n",
    "        customdata=np.transpose([labels, widths*data[key]]),\n",
    "        texttemplate=\"%{y:.0f}%\",\n",
    "        textposition=\"inside\",\n",
    "        textangle=0,\n",
    "        textfont_color=font_colors[i],\n",
    "        hovertemplate=\"<br>\".join([\n",
    "            \"Label: %{customdata[0]}\",\n",
    "            \"Width: %{width}\",\n",
    "            \"Height: %{y:.0f}%\",\n",
    "            \"Area: %{width} x %{y:.0f} = %{customdata[1]:.1f}\",\n",
    "        ]),\n",
    "        marker_color=colors[i]\n",
    "    ))\n",
    "\n",
    "figs2a.update_xaxes(\n",
    "    tickvals = np.cumsum(widths)-widths/2,\n",
    "    ticktext = [\"%s<br>%d studies\" % (l, w) for l, w in zip(labels, widths)],\n",
    "    # tickfont = {\"size\": 10}\n",
    "    tickangle=50\n",
    ")\n",
    "\n",
    "figs2a.update_xaxes(range=[0,widths.sum()])\n",
    "figs2a.update_yaxes(range=[0,100], title_text=\"Proportion\")\n",
    "\n",
    "figs2a.update_layout(\n",
    "    title_text=\"<b>ROBINS-I by region</b>\",\n",
    "    barmode=\"stack\",\n",
    "    uniformtext=dict(mode=\"hide\", minsize=10),\n",
    ")\n",
    "\n",
    "#Config plot resolution\n",
    "config = {\n",
    "  'toImageButtonOptions': {\n",
    "    'format': 'png', # one of png, svg, jpeg, webp\n",
    "    'filename': 'figs2a',\n",
    "    'scale':6 # Multiply title/legend/axis/canvas sizes by this factor\n",
    "  }\n",
    "}\n",
    "\n",
    "figs2a.show(config=config)"
   ]
  },
  {
   "cell_type": "markdown",
   "metadata": {},
   "source": [
    "The code below aims to visualize the proportion of studies classified under the \"Low\" overall judgment based on their region and using the RoB 2 assessment tool. "
   ]
  },
  {
   "cell_type": "code",
   "execution_count": 26,
   "metadata": {
    "colab": {
     "base_uri": "https://localhost:8080/"
    },
    "id": "GvzFuQkd6i8x",
    "outputId": "e437396c-ef69-4e49-aba1-88fc5bfd0d7a"
   },
   "outputs": [
    {
     "data": {
      "application/vnd.plotly.v1+json": {
       "config": {
        "plotlyServerURL": "https://plot.ly",
        "toImageButtonOptions": {
         "filename": "figs2b",
         "format": "png",
         "scale": 6
        }
       },
       "data": [
        {
         "customdata": [
          [
           "South Asia",
           "100.0"
          ],
          [
           "Latin America & Caribbean",
           "100.0"
          ]
         ],
         "hovertemplate": "label: %{customdata[0]}<br>width: %{width}<br>height: %{y}<br>area: %{customdata[1]}",
         "marker": {
          "color": [
           "rgb(66, 181, 64)",
           "rgb(66, 181, 64)"
          ]
         },
         "name": "Low",
         "offset": 0,
         "textangle": 0,
         "textfont": {
          "color": "white"
         },
         "textposition": "inside",
         "texttemplate": "%{y:.0f}%",
         "type": "bar",
         "width": [
          1,
          1
         ],
         "x": [
          0,
          1
         ],
         "y": [
          100,
          100
         ]
        }
       ],
       "layout": {
        "barmode": "stack",
        "template": {
         "data": {
          "bar": [
           {
            "error_x": {
             "color": "#2a3f5f"
            },
            "error_y": {
             "color": "#2a3f5f"
            },
            "marker": {
             "line": {
              "color": "#E5ECF6",
              "width": 0.5
             },
             "pattern": {
              "fillmode": "overlay",
              "size": 10,
              "solidity": 0.2
             }
            },
            "type": "bar"
           }
          ],
          "barpolar": [
           {
            "marker": {
             "line": {
              "color": "#E5ECF6",
              "width": 0.5
             },
             "pattern": {
              "fillmode": "overlay",
              "size": 10,
              "solidity": 0.2
             }
            },
            "type": "barpolar"
           }
          ],
          "carpet": [
           {
            "aaxis": {
             "endlinecolor": "#2a3f5f",
             "gridcolor": "white",
             "linecolor": "white",
             "minorgridcolor": "white",
             "startlinecolor": "#2a3f5f"
            },
            "baxis": {
             "endlinecolor": "#2a3f5f",
             "gridcolor": "white",
             "linecolor": "white",
             "minorgridcolor": "white",
             "startlinecolor": "#2a3f5f"
            },
            "type": "carpet"
           }
          ],
          "choropleth": [
           {
            "colorbar": {
             "outlinewidth": 0,
             "ticks": ""
            },
            "type": "choropleth"
           }
          ],
          "contour": [
           {
            "colorbar": {
             "outlinewidth": 0,
             "ticks": ""
            },
            "colorscale": [
             [
              0,
              "#0d0887"
             ],
             [
              0.1111111111111111,
              "#46039f"
             ],
             [
              0.2222222222222222,
              "#7201a8"
             ],
             [
              0.3333333333333333,
              "#9c179e"
             ],
             [
              0.4444444444444444,
              "#bd3786"
             ],
             [
              0.5555555555555556,
              "#d8576b"
             ],
             [
              0.6666666666666666,
              "#ed7953"
             ],
             [
              0.7777777777777778,
              "#fb9f3a"
             ],
             [
              0.8888888888888888,
              "#fdca26"
             ],
             [
              1,
              "#f0f921"
             ]
            ],
            "type": "contour"
           }
          ],
          "contourcarpet": [
           {
            "colorbar": {
             "outlinewidth": 0,
             "ticks": ""
            },
            "type": "contourcarpet"
           }
          ],
          "heatmap": [
           {
            "colorbar": {
             "outlinewidth": 0,
             "ticks": ""
            },
            "colorscale": [
             [
              0,
              "#0d0887"
             ],
             [
              0.1111111111111111,
              "#46039f"
             ],
             [
              0.2222222222222222,
              "#7201a8"
             ],
             [
              0.3333333333333333,
              "#9c179e"
             ],
             [
              0.4444444444444444,
              "#bd3786"
             ],
             [
              0.5555555555555556,
              "#d8576b"
             ],
             [
              0.6666666666666666,
              "#ed7953"
             ],
             [
              0.7777777777777778,
              "#fb9f3a"
             ],
             [
              0.8888888888888888,
              "#fdca26"
             ],
             [
              1,
              "#f0f921"
             ]
            ],
            "type": "heatmap"
           }
          ],
          "heatmapgl": [
           {
            "colorbar": {
             "outlinewidth": 0,
             "ticks": ""
            },
            "colorscale": [
             [
              0,
              "#0d0887"
             ],
             [
              0.1111111111111111,
              "#46039f"
             ],
             [
              0.2222222222222222,
              "#7201a8"
             ],
             [
              0.3333333333333333,
              "#9c179e"
             ],
             [
              0.4444444444444444,
              "#bd3786"
             ],
             [
              0.5555555555555556,
              "#d8576b"
             ],
             [
              0.6666666666666666,
              "#ed7953"
             ],
             [
              0.7777777777777778,
              "#fb9f3a"
             ],
             [
              0.8888888888888888,
              "#fdca26"
             ],
             [
              1,
              "#f0f921"
             ]
            ],
            "type": "heatmapgl"
           }
          ],
          "histogram": [
           {
            "marker": {
             "pattern": {
              "fillmode": "overlay",
              "size": 10,
              "solidity": 0.2
             }
            },
            "type": "histogram"
           }
          ],
          "histogram2d": [
           {
            "colorbar": {
             "outlinewidth": 0,
             "ticks": ""
            },
            "colorscale": [
             [
              0,
              "#0d0887"
             ],
             [
              0.1111111111111111,
              "#46039f"
             ],
             [
              0.2222222222222222,
              "#7201a8"
             ],
             [
              0.3333333333333333,
              "#9c179e"
             ],
             [
              0.4444444444444444,
              "#bd3786"
             ],
             [
              0.5555555555555556,
              "#d8576b"
             ],
             [
              0.6666666666666666,
              "#ed7953"
             ],
             [
              0.7777777777777778,
              "#fb9f3a"
             ],
             [
              0.8888888888888888,
              "#fdca26"
             ],
             [
              1,
              "#f0f921"
             ]
            ],
            "type": "histogram2d"
           }
          ],
          "histogram2dcontour": [
           {
            "colorbar": {
             "outlinewidth": 0,
             "ticks": ""
            },
            "colorscale": [
             [
              0,
              "#0d0887"
             ],
             [
              0.1111111111111111,
              "#46039f"
             ],
             [
              0.2222222222222222,
              "#7201a8"
             ],
             [
              0.3333333333333333,
              "#9c179e"
             ],
             [
              0.4444444444444444,
              "#bd3786"
             ],
             [
              0.5555555555555556,
              "#d8576b"
             ],
             [
              0.6666666666666666,
              "#ed7953"
             ],
             [
              0.7777777777777778,
              "#fb9f3a"
             ],
             [
              0.8888888888888888,
              "#fdca26"
             ],
             [
              1,
              "#f0f921"
             ]
            ],
            "type": "histogram2dcontour"
           }
          ],
          "mesh3d": [
           {
            "colorbar": {
             "outlinewidth": 0,
             "ticks": ""
            },
            "type": "mesh3d"
           }
          ],
          "parcoords": [
           {
            "line": {
             "colorbar": {
              "outlinewidth": 0,
              "ticks": ""
             }
            },
            "type": "parcoords"
           }
          ],
          "pie": [
           {
            "automargin": true,
            "type": "pie"
           }
          ],
          "scatter": [
           {
            "fillpattern": {
             "fillmode": "overlay",
             "size": 10,
             "solidity": 0.2
            },
            "type": "scatter"
           }
          ],
          "scatter3d": [
           {
            "line": {
             "colorbar": {
              "outlinewidth": 0,
              "ticks": ""
             }
            },
            "marker": {
             "colorbar": {
              "outlinewidth": 0,
              "ticks": ""
             }
            },
            "type": "scatter3d"
           }
          ],
          "scattercarpet": [
           {
            "marker": {
             "colorbar": {
              "outlinewidth": 0,
              "ticks": ""
             }
            },
            "type": "scattercarpet"
           }
          ],
          "scattergeo": [
           {
            "marker": {
             "colorbar": {
              "outlinewidth": 0,
              "ticks": ""
             }
            },
            "type": "scattergeo"
           }
          ],
          "scattergl": [
           {
            "marker": {
             "colorbar": {
              "outlinewidth": 0,
              "ticks": ""
             }
            },
            "type": "scattergl"
           }
          ],
          "scattermapbox": [
           {
            "marker": {
             "colorbar": {
              "outlinewidth": 0,
              "ticks": ""
             }
            },
            "type": "scattermapbox"
           }
          ],
          "scatterpolar": [
           {
            "marker": {
             "colorbar": {
              "outlinewidth": 0,
              "ticks": ""
             }
            },
            "type": "scatterpolar"
           }
          ],
          "scatterpolargl": [
           {
            "marker": {
             "colorbar": {
              "outlinewidth": 0,
              "ticks": ""
             }
            },
            "type": "scatterpolargl"
           }
          ],
          "scatterternary": [
           {
            "marker": {
             "colorbar": {
              "outlinewidth": 0,
              "ticks": ""
             }
            },
            "type": "scatterternary"
           }
          ],
          "surface": [
           {
            "colorbar": {
             "outlinewidth": 0,
             "ticks": ""
            },
            "colorscale": [
             [
              0,
              "#0d0887"
             ],
             [
              0.1111111111111111,
              "#46039f"
             ],
             [
              0.2222222222222222,
              "#7201a8"
             ],
             [
              0.3333333333333333,
              "#9c179e"
             ],
             [
              0.4444444444444444,
              "#bd3786"
             ],
             [
              0.5555555555555556,
              "#d8576b"
             ],
             [
              0.6666666666666666,
              "#ed7953"
             ],
             [
              0.7777777777777778,
              "#fb9f3a"
             ],
             [
              0.8888888888888888,
              "#fdca26"
             ],
             [
              1,
              "#f0f921"
             ]
            ],
            "type": "surface"
           }
          ],
          "table": [
           {
            "cells": {
             "fill": {
              "color": "#EBF0F8"
             },
             "line": {
              "color": "white"
             }
            },
            "header": {
             "fill": {
              "color": "#C8D4E3"
             },
             "line": {
              "color": "white"
             }
            },
            "type": "table"
           }
          ]
         },
         "layout": {
          "annotationdefaults": {
           "arrowcolor": "#2a3f5f",
           "arrowhead": 0,
           "arrowwidth": 1
          },
          "autotypenumbers": "strict",
          "coloraxis": {
           "colorbar": {
            "outlinewidth": 0,
            "ticks": ""
           }
          },
          "colorscale": {
           "diverging": [
            [
             0,
             "#8e0152"
            ],
            [
             0.1,
             "#c51b7d"
            ],
            [
             0.2,
             "#de77ae"
            ],
            [
             0.3,
             "#f1b6da"
            ],
            [
             0.4,
             "#fde0ef"
            ],
            [
             0.5,
             "#f7f7f7"
            ],
            [
             0.6,
             "#e6f5d0"
            ],
            [
             0.7,
             "#b8e186"
            ],
            [
             0.8,
             "#7fbc41"
            ],
            [
             0.9,
             "#4d9221"
            ],
            [
             1,
             "#276419"
            ]
           ],
           "sequential": [
            [
             0,
             "#0d0887"
            ],
            [
             0.1111111111111111,
             "#46039f"
            ],
            [
             0.2222222222222222,
             "#7201a8"
            ],
            [
             0.3333333333333333,
             "#9c179e"
            ],
            [
             0.4444444444444444,
             "#bd3786"
            ],
            [
             0.5555555555555556,
             "#d8576b"
            ],
            [
             0.6666666666666666,
             "#ed7953"
            ],
            [
             0.7777777777777778,
             "#fb9f3a"
            ],
            [
             0.8888888888888888,
             "#fdca26"
            ],
            [
             1,
             "#f0f921"
            ]
           ],
           "sequentialminus": [
            [
             0,
             "#0d0887"
            ],
            [
             0.1111111111111111,
             "#46039f"
            ],
            [
             0.2222222222222222,
             "#7201a8"
            ],
            [
             0.3333333333333333,
             "#9c179e"
            ],
            [
             0.4444444444444444,
             "#bd3786"
            ],
            [
             0.5555555555555556,
             "#d8576b"
            ],
            [
             0.6666666666666666,
             "#ed7953"
            ],
            [
             0.7777777777777778,
             "#fb9f3a"
            ],
            [
             0.8888888888888888,
             "#fdca26"
            ],
            [
             1,
             "#f0f921"
            ]
           ]
          },
          "colorway": [
           "#636efa",
           "#EF553B",
           "#00cc96",
           "#ab63fa",
           "#FFA15A",
           "#19d3f3",
           "#FF6692",
           "#B6E880",
           "#FF97FF",
           "#FECB52"
          ],
          "font": {
           "color": "#2a3f5f"
          },
          "geo": {
           "bgcolor": "white",
           "lakecolor": "white",
           "landcolor": "#E5ECF6",
           "showlakes": true,
           "showland": true,
           "subunitcolor": "white"
          },
          "hoverlabel": {
           "align": "left"
          },
          "hovermode": "closest",
          "mapbox": {
           "style": "light"
          },
          "paper_bgcolor": "white",
          "plot_bgcolor": "#E5ECF6",
          "polar": {
           "angularaxis": {
            "gridcolor": "white",
            "linecolor": "white",
            "ticks": ""
           },
           "bgcolor": "#E5ECF6",
           "radialaxis": {
            "gridcolor": "white",
            "linecolor": "white",
            "ticks": ""
           }
          },
          "scene": {
           "xaxis": {
            "backgroundcolor": "#E5ECF6",
            "gridcolor": "white",
            "gridwidth": 2,
            "linecolor": "white",
            "showbackground": true,
            "ticks": "",
            "zerolinecolor": "white"
           },
           "yaxis": {
            "backgroundcolor": "#E5ECF6",
            "gridcolor": "white",
            "gridwidth": 2,
            "linecolor": "white",
            "showbackground": true,
            "ticks": "",
            "zerolinecolor": "white"
           },
           "zaxis": {
            "backgroundcolor": "#E5ECF6",
            "gridcolor": "white",
            "gridwidth": 2,
            "linecolor": "white",
            "showbackground": true,
            "ticks": "",
            "zerolinecolor": "white"
           }
          },
          "shapedefaults": {
           "line": {
            "color": "#2a3f5f"
           }
          },
          "ternary": {
           "aaxis": {
            "gridcolor": "white",
            "linecolor": "white",
            "ticks": ""
           },
           "baxis": {
            "gridcolor": "white",
            "linecolor": "white",
            "ticks": ""
           },
           "bgcolor": "#E5ECF6",
           "caxis": {
            "gridcolor": "white",
            "linecolor": "white",
            "ticks": ""
           }
          },
          "title": {
           "x": 0.05
          },
          "xaxis": {
           "automargin": true,
           "gridcolor": "white",
           "linecolor": "white",
           "ticks": "",
           "title": {
            "standoff": 15
           },
           "zerolinecolor": "white",
           "zerolinewidth": 2
          },
          "yaxis": {
           "automargin": true,
           "gridcolor": "white",
           "linecolor": "white",
           "ticks": "",
           "title": {
            "standoff": 15
           },
           "zerolinecolor": "white",
           "zerolinewidth": 2
          }
         }
        },
        "title": {
         "text": "<b>RoB2 by income group</b>"
        },
        "uniformtext": {
         "minsize": 10,
         "mode": "hide"
        },
        "xaxis": {
         "range": [
          0,
          2
         ],
         "ticktext": [
          "South Asia<br>1 study",
          "Latin America & Caribbean<br>1 study"
         ],
         "tickvals": [
          0.5,
          1.5
         ]
        },
        "yaxis": {
         "range": [
          0,
          100
         ],
         "title": {
          "text": "Proportion"
         }
        }
       }
      }
     },
     "metadata": {},
     "output_type": "display_data"
    }
   ],
   "source": [
    "# Merging df_studies with a filtered version of df_rob based on the 'IID' column\n",
    "# After merging, 'IID', 'ROB_tool', 'Domain6', and 'Domain7' columns are dropped\n",
    "# Finally, counting occurrences of each 'Region' and getting the list of regions\n",
    "labels = list(df_studies[['IID', 'First_author', 'Year_of_publication', 'Region']].merge(\n",
    "    df_rob[df_rob.ROB_tool=='RoB 2'].drop(['ROB_tool', 'Domain6', 'Domain7'], axis=1),\n",
    "    on='IID'\n",
    ").drop('IID', axis=1).Region.value_counts().index)\n",
    "\n",
    "# Following a similar merging process as the labels,\n",
    "# but this time, counting occurrences of each 'Region' and converting to numpy array\n",
    "widths = df_studies[['IID', 'First_author', 'Year_of_publication', 'Region']].merge(\n",
    "    df_rob[df_rob.ROB_tool=='RoB 2'].drop(['ROB_tool', 'Domain6', 'Domain7'], axis=1),\n",
    "    on='IID'\n",
    ").drop('IID', axis=1).Region.value_counts().to_numpy()\n",
    "\n",
    "# Merging the dataframes and filtering as before, but with additional steps:\n",
    "# 1. Dropping 'First_author' and 'Year_of_publication' columns\n",
    "# 2. Grouping by 'Region' and counting the normalized occurrences of 'Overall_judgement'\n",
    "# 3. Multiplying by 100, rounding to 1 decimal, and unstacking the data \n",
    "# 4. Finally, filtering for 'Low' judgement and converting to dictionary\n",
    "data = df_studies[['IID', 'First_author', 'Year_of_publication', 'Region']].merge(\n",
    "    df_rob[df_rob.ROB_tool=='RoB 2'].drop(['ROB_tool', 'Domain6', 'Domain7'], axis=1),\n",
    "    on='IID'\n",
    ").drop('IID', axis=1).drop(\n",
    "    ['First_author', 'Year_of_publication'],\n",
    "    axis=1\n",
    ").groupby('Region')['Overall_judgement'].value_counts(normalize=True).mul(100).round(1).unstack().reindex(labels)[\n",
    "    ['Low']\n",
    "].to_dict(orient='list')\n",
    "\n",
    "# Defining a nontransparent color palette\n",
    "colors = ['rgb(66, 181, 64)']\n",
    "\n",
    "# Initialize a new plotly figure\n",
    "figs2b = go.Figure()\n",
    "\n",
    "# Iterate over each key in the data dictionary to add bar traces to the figure\n",
    "for key in data:\n",
    "    figs2b.add_trace(go.Bar(\n",
    "        name=key,                                # Setting the bar name to the current key\n",
    "        y=data[key],                             # Y-values from the data dictionary\n",
    "        x=np.cumsum(widths)-widths,              # X-values as the cumulative sum of widths adjusted by widths\n",
    "        width=widths,                            # Setting the width of the bars\n",
    "        offset=0,                                # Offset for positioning the bars\n",
    "        customdata=np.transpose([labels, widths*data[key]]),  # Custom data for hover information\n",
    "        texttemplate=\"%{y:.0f}%\",                # Template for text displayed inside the bar\n",
    "        textposition=\"inside\",                   \n",
    "        textangle=0,                             \n",
    "        textfont_color=\"white\",                  \n",
    "        hovertemplate=\"<br>\".join([              # Template for hover information\n",
    "            \"label: %{customdata[0]}\",\n",
    "            \"width: %{width}\",\n",
    "            \"height: %{y}\",\n",
    "            \"area: %{customdata[1]}\",\n",
    "        ]),\n",
    "        marker_color=colors*2                    \n",
    "    ))\n",
    "\n",
    "# Update x-axis properties\n",
    "figs2b.update_xaxes(\n",
    "    tickvals = np.cumsum(widths)-widths/2,      # Define tick positions\n",
    "    ticktext = [\"%s<br>%d study\" % (l, w) for l, w in zip(labels, widths)]  # Label text with associated study count\n",
    ")\n",
    "\n",
    "# Set x-axis range based on the total width and y-axis range from 0 to 100 with a title\n",
    "figs2b.update_xaxes(range=[0,widths.sum()])\n",
    "figs2b.update_yaxes(range=[0,100], title_text=\"Proportion\")\n",
    "\n",
    "# Update overall layout of the figure including title and bar display mode\n",
    "figs2b.update_layout(\n",
    "    title_text=\"<b>RoB2 by income group</b>\",   # Set the title text of the figure\n",
    "    barmode=\"stack\",                            # Bars will be displayed in stacked mode\n",
    "    uniformtext=dict(mode=\"hide\", minsize=10),  # Text configuration for consistent size\n",
    ")\n",
    "\n",
    "\n",
    "# Define configuration for the plot resolution and export options\n",
    "config = {\n",
    "    'toImageButtonOptions': {\n",
    "        'format': 'png',      # Define the export format, can be one of png, svg, jpeg, webp\n",
    "        'filename': 'figs2b', # Name of the exported file\n",
    "        'scale': 6            # Factor to multiply title, legend, axis, and canvas sizes by when exporting\n",
    "    }\n",
    "}\n",
    "\n",
    "figs2b.show(config=config)"
   ]
  },
  {
   "cell_type": "markdown",
   "metadata": {
    "id": "y9OHySiWw9_-"
   },
   "source": [
    "### **Figure 2. Risk of bias.** Risk of bias results for each individual study can be found in **Supplemental Tables 1** and **2**."
   ]
  },
  {
   "cell_type": "code",
   "execution_count": 24,
   "metadata": {
    "colab": {
     "base_uri": "https://localhost:8080/",
     "height": 206
    },
    "id": "yvS2p7PRv1eN",
    "outputId": "729eb08c-a5ac-4d1a-bbb9-58cee17d273e"
   },
   "outputs": [
    {
     "data": {
      "text/html": [
       "<div>\n",
       "<style scoped>\n",
       "    .dataframe tbody tr th:only-of-type {\n",
       "        vertical-align: middle;\n",
       "    }\n",
       "\n",
       "    .dataframe tbody tr th {\n",
       "        vertical-align: top;\n",
       "    }\n",
       "\n",
       "    .dataframe thead th {\n",
       "        text-align: right;\n",
       "    }\n",
       "</style>\n",
       "<table border=\"1\" class=\"dataframe\">\n",
       "  <thead>\n",
       "    <tr style=\"text-align: right;\">\n",
       "      <th></th>\n",
       "      <th>Overall_judgement</th>\n",
       "      <th>Domain7</th>\n",
       "      <th>Domain6</th>\n",
       "      <th>Domain5</th>\n",
       "      <th>Domain4</th>\n",
       "      <th>Domain3</th>\n",
       "      <th>Domain2</th>\n",
       "      <th>Domain1</th>\n",
       "    </tr>\n",
       "  </thead>\n",
       "  <tbody>\n",
       "    <tr>\n",
       "      <th>Low</th>\n",
       "      <td>7.3</td>\n",
       "      <td>74.4</td>\n",
       "      <td>39.0</td>\n",
       "      <td>92.7</td>\n",
       "      <td>90.2</td>\n",
       "      <td>56.1</td>\n",
       "      <td>61.0</td>\n",
       "      <td>34.1</td>\n",
       "    </tr>\n",
       "    <tr>\n",
       "      <th>Moderate</th>\n",
       "      <td>51.2</td>\n",
       "      <td>12.2</td>\n",
       "      <td>45.1</td>\n",
       "      <td>3.7</td>\n",
       "      <td>2.4</td>\n",
       "      <td>25.6</td>\n",
       "      <td>24.4</td>\n",
       "      <td>32.9</td>\n",
       "    </tr>\n",
       "    <tr>\n",
       "      <th>Serious</th>\n",
       "      <td>22.0</td>\n",
       "      <td>9.8</td>\n",
       "      <td>7.3</td>\n",
       "      <td>2.4</td>\n",
       "      <td>1.2</td>\n",
       "      <td>9.8</td>\n",
       "      <td>8.5</td>\n",
       "      <td>9.8</td>\n",
       "    </tr>\n",
       "    <tr>\n",
       "      <th>Critical</th>\n",
       "      <td>15.9</td>\n",
       "      <td>NaN</td>\n",
       "      <td>4.9</td>\n",
       "      <td>1.2</td>\n",
       "      <td>NaN</td>\n",
       "      <td>1.2</td>\n",
       "      <td>NaN</td>\n",
       "      <td>14.6</td>\n",
       "    </tr>\n",
       "    <tr>\n",
       "      <th>NI</th>\n",
       "      <td>3.7</td>\n",
       "      <td>3.7</td>\n",
       "      <td>3.7</td>\n",
       "      <td>NaN</td>\n",
       "      <td>6.1</td>\n",
       "      <td>7.3</td>\n",
       "      <td>6.1</td>\n",
       "      <td>8.5</td>\n",
       "    </tr>\n",
       "  </tbody>\n",
       "</table>\n",
       "</div>"
      ],
      "text/plain": [
       "          Overall_judgement  Domain7  Domain6  Domain5  Domain4  Domain3  \\\n",
       "Low                     7.3     74.4     39.0     92.7     90.2     56.1   \n",
       "Moderate               51.2     12.2     45.1      3.7      2.4     25.6   \n",
       "Serious                22.0      9.8      7.3      2.4      1.2      9.8   \n",
       "Critical               15.9      NaN      4.9      1.2      NaN      1.2   \n",
       "NI                      3.7      3.7      3.7      NaN      6.1      7.3   \n",
       "\n",
       "          Domain2  Domain1  \n",
       "Low          61.0     34.1  \n",
       "Moderate     24.4     32.9  \n",
       "Serious       8.5      9.8  \n",
       "Critical      NaN     14.6  \n",
       "NI            6.1      8.5  "
      ]
     },
     "execution_count": 24,
     "metadata": {},
     "output_type": "execute_result"
    }
   ],
   "source": [
    "# For the df_robinsi DataFrame:\n",
    "# 1. Count occurrences of each value for various domains including Overall Judgement.\n",
    "# 2. Normalize counts to represent them as percentages of the total.\n",
    "# 3. Multiply by 100 and round to one decimal place to format as percentage.\n",
    "\n",
    "# Concatenate the results of these operations for all the domains, side by side (axis=1).\n",
    "# Reindex the resulting DataFrame to have a custom order of rows.\n",
    "result = pd.concat([\n",
    "    df_robinsi.Overall_judgement.value_counts(normalize=True).mul(100).round(1),  # Percentage of each category for Overall Judgement\n",
    "    df_robinsi.Domain7.value_counts(normalize=True).mul(100).round(1),            \n",
    "    df_robinsi.Domain6.value_counts(normalize=True).mul(100).round(1),           \n",
    "    df_robinsi.Domain5.value_counts(normalize=True).mul(100).round(1),            \n",
    "    df_robinsi.Domain4.value_counts(normalize=True).mul(100).round(1),            \n",
    "    df_robinsi.Domain3.value_counts(normalize=True).mul(100).round(1),          \n",
    "    df_robinsi.Domain2.value_counts(normalize=True).mul(100).round(1),          \n",
    "    df_robinsi.Domain1.value_counts(normalize=True).mul(100).round(1)          \n",
    "], axis=1).reindex(['Low', 'Moderate', 'Serious', 'Critical', 'NI'])              # Reorder rows based on the custom list\n",
    "\n",
    "result"
   ]
  },
  {
   "cell_type": "markdown",
   "metadata": {},
   "source": [
    "The chart below visually represents the biases in various domains as percentages. For each domain, the bars are segmented into different categories of bias severity, namely 'Low', 'Moderate', 'Serious', 'Critical', and 'NI' (Not Indicated). "
   ]
  },
  {
   "cell_type": "code",
   "execution_count": 25,
   "metadata": {
    "colab": {
     "base_uri": "https://localhost:8080/",
     "height": 542
    },
    "id": "ZWF2WHIfjRxa",
    "outputId": "8671c35e-133b-4463-80a2-32cb9727e576"
   },
   "outputs": [
    {
     "data": {
      "application/vnd.plotly.v1+json": {
       "config": {
        "plotlyServerURL": "https://plot.ly",
        "toImageButtonOptions": {
         "filename": "fig2a",
         "format": "png",
         "scale": 6
        }
       },
       "data": [
        {
         "marker": {
          "color": "rgb(66, 181, 64)",
          "line": {
           "color": "rgb(248, 248, 249)",
           "width": 1
          }
         },
         "orientation": "h",
         "type": "bar",
         "x": [
          7.3
         ],
         "y": [
          "<b>Overall judgement</b>"
         ]
        },
        {
         "marker": {
          "color": "rgb(66, 181, 64)",
          "line": {
           "color": "rgb(248, 248, 249)",
           "width": 1
          }
         },
         "orientation": "h",
         "type": "bar",
         "x": [
          74.4
         ],
         "y": [
          "Domain 7. Bias in selection<br>of the reported result"
         ]
        },
        {
         "marker": {
          "color": "rgb(66, 181, 64)",
          "line": {
           "color": "rgb(248, 248, 249)",
           "width": 1
          }
         },
         "orientation": "h",
         "type": "bar",
         "x": [
          39
         ],
         "y": [
          "Domain 6. Bias in measurement<br>of outcomes"
         ]
        },
        {
         "marker": {
          "color": "rgb(66, 181, 64)",
          "line": {
           "color": "rgb(248, 248, 249)",
           "width": 1
          }
         },
         "orientation": "h",
         "type": "bar",
         "x": [
          92.7
         ],
         "y": [
          "Domain 5. Bias due to<br>missing data"
         ]
        },
        {
         "marker": {
          "color": "rgb(66, 181, 64)",
          "line": {
           "color": "rgb(248, 248, 249)",
           "width": 1
          }
         },
         "orientation": "h",
         "type": "bar",
         "x": [
          90.2
         ],
         "y": [
          "Domain 4. Bias due to deviations<br>from intended interventions"
         ]
        },
        {
         "marker": {
          "color": "rgb(66, 181, 64)",
          "line": {
           "color": "rgb(248, 248, 249)",
           "width": 1
          }
         },
         "orientation": "h",
         "type": "bar",
         "x": [
          56.1
         ],
         "y": [
          "Domain 3. Bias in classification<br>of interventions"
         ]
        },
        {
         "marker": {
          "color": "rgb(66, 181, 64)",
          "line": {
           "color": "rgb(248, 248, 249)",
           "width": 1
          }
         },
         "orientation": "h",
         "type": "bar",
         "x": [
          61
         ],
         "y": [
          "Domain 2. Bias in selection of<br>participants into the study"
         ]
        },
        {
         "marker": {
          "color": "rgb(66, 181, 64)",
          "line": {
           "color": "rgb(248, 248, 249)",
           "width": 1
          }
         },
         "orientation": "h",
         "type": "bar",
         "x": [
          34.1
         ],
         "y": [
          "Domain 1. Bias due to confounding"
         ]
        },
        {
         "marker": {
          "color": "rgb(244, 222, 137)",
          "line": {
           "color": "rgb(248, 248, 249)",
           "width": 1
          }
         },
         "orientation": "h",
         "type": "bar",
         "x": [
          51.2
         ],
         "y": [
          "<b>Overall judgement</b>"
         ]
        },
        {
         "marker": {
          "color": "rgb(244, 222, 137)",
          "line": {
           "color": "rgb(248, 248, 249)",
           "width": 1
          }
         },
         "orientation": "h",
         "type": "bar",
         "x": [
          12.2
         ],
         "y": [
          "Domain 7. Bias in selection<br>of the reported result"
         ]
        },
        {
         "marker": {
          "color": "rgb(244, 222, 137)",
          "line": {
           "color": "rgb(248, 248, 249)",
           "width": 1
          }
         },
         "orientation": "h",
         "type": "bar",
         "x": [
          45.1
         ],
         "y": [
          "Domain 6. Bias in measurement<br>of outcomes"
         ]
        },
        {
         "marker": {
          "color": "rgb(244, 222, 137)",
          "line": {
           "color": "rgb(248, 248, 249)",
           "width": 1
          }
         },
         "orientation": "h",
         "type": "bar",
         "x": [
          3.7
         ],
         "y": [
          "Domain 5. Bias due to<br>missing data"
         ]
        },
        {
         "marker": {
          "color": "rgb(244, 222, 137)",
          "line": {
           "color": "rgb(248, 248, 249)",
           "width": 1
          }
         },
         "orientation": "h",
         "type": "bar",
         "x": [
          2.4
         ],
         "y": [
          "Domain 4. Bias due to deviations<br>from intended interventions"
         ]
        },
        {
         "marker": {
          "color": "rgb(244, 222, 137)",
          "line": {
           "color": "rgb(248, 248, 249)",
           "width": 1
          }
         },
         "orientation": "h",
         "type": "bar",
         "x": [
          25.6
         ],
         "y": [
          "Domain 3. Bias in classification<br>of interventions"
         ]
        },
        {
         "marker": {
          "color": "rgb(244, 222, 137)",
          "line": {
           "color": "rgb(248, 248, 249)",
           "width": 1
          }
         },
         "orientation": "h",
         "type": "bar",
         "x": [
          24.4
         ],
         "y": [
          "Domain 2. Bias in selection of<br>participants into the study"
         ]
        },
        {
         "marker": {
          "color": "rgb(244, 222, 137)",
          "line": {
           "color": "rgb(248, 248, 249)",
           "width": 1
          }
         },
         "orientation": "h",
         "type": "bar",
         "x": [
          32.9
         ],
         "y": [
          "Domain 1. Bias due to confounding"
         ]
        },
        {
         "marker": {
          "color": "rgb(239, 176, 95)",
          "line": {
           "color": "rgb(248, 248, 249)",
           "width": 1
          }
         },
         "orientation": "h",
         "type": "bar",
         "x": [
          22
         ],
         "y": [
          "<b>Overall judgement</b>"
         ]
        },
        {
         "marker": {
          "color": "rgb(239, 176, 95)",
          "line": {
           "color": "rgb(248, 248, 249)",
           "width": 1
          }
         },
         "orientation": "h",
         "type": "bar",
         "x": [
          9.8
         ],
         "y": [
          "Domain 7. Bias in selection<br>of the reported result"
         ]
        },
        {
         "marker": {
          "color": "rgb(239, 176, 95)",
          "line": {
           "color": "rgb(248, 248, 249)",
           "width": 1
          }
         },
         "orientation": "h",
         "type": "bar",
         "x": [
          7.3
         ],
         "y": [
          "Domain 6. Bias in measurement<br>of outcomes"
         ]
        },
        {
         "marker": {
          "color": "rgb(239, 176, 95)",
          "line": {
           "color": "rgb(248, 248, 249)",
           "width": 1
          }
         },
         "orientation": "h",
         "type": "bar",
         "x": [
          2.4
         ],
         "y": [
          "Domain 5. Bias due to<br>missing data"
         ]
        },
        {
         "marker": {
          "color": "rgb(239, 176, 95)",
          "line": {
           "color": "rgb(248, 248, 249)",
           "width": 1
          }
         },
         "orientation": "h",
         "type": "bar",
         "x": [
          1.2
         ],
         "y": [
          "Domain 4. Bias due to deviations<br>from intended interventions"
         ]
        },
        {
         "marker": {
          "color": "rgb(239, 176, 95)",
          "line": {
           "color": "rgb(248, 248, 249)",
           "width": 1
          }
         },
         "orientation": "h",
         "type": "bar",
         "x": [
          9.8
         ],
         "y": [
          "Domain 3. Bias in classification<br>of interventions"
         ]
        },
        {
         "marker": {
          "color": "rgb(239, 176, 95)",
          "line": {
           "color": "rgb(248, 248, 249)",
           "width": 1
          }
         },
         "orientation": "h",
         "type": "bar",
         "x": [
          8.5
         ],
         "y": [
          "Domain 2. Bias in selection of<br>participants into the study"
         ]
        },
        {
         "marker": {
          "color": "rgb(239, 176, 95)",
          "line": {
           "color": "rgb(248, 248, 249)",
           "width": 1
          }
         },
         "orientation": "h",
         "type": "bar",
         "x": [
          9.8
         ],
         "y": [
          "Domain 1. Bias due to confounding"
         ]
        },
        {
         "marker": {
          "color": "rgb(237, 0, 0)",
          "line": {
           "color": "rgb(248, 248, 249)",
           "width": 1
          }
         },
         "orientation": "h",
         "type": "bar",
         "x": [
          15.9
         ],
         "y": [
          "<b>Overall judgement</b>"
         ]
        },
        {
         "marker": {
          "color": "rgb(237, 0, 0)",
          "line": {
           "color": "rgb(248, 248, 249)",
           "width": 1
          }
         },
         "orientation": "h",
         "type": "bar",
         "x": [
          0
         ],
         "y": [
          "Domain 7. Bias in selection<br>of the reported result"
         ]
        },
        {
         "marker": {
          "color": "rgb(237, 0, 0)",
          "line": {
           "color": "rgb(248, 248, 249)",
           "width": 1
          }
         },
         "orientation": "h",
         "type": "bar",
         "x": [
          4.9
         ],
         "y": [
          "Domain 6. Bias in measurement<br>of outcomes"
         ]
        },
        {
         "marker": {
          "color": "rgb(237, 0, 0)",
          "line": {
           "color": "rgb(248, 248, 249)",
           "width": 1
          }
         },
         "orientation": "h",
         "type": "bar",
         "x": [
          1.2
         ],
         "y": [
          "Domain 5. Bias due to<br>missing data"
         ]
        },
        {
         "marker": {
          "color": "rgb(237, 0, 0)",
          "line": {
           "color": "rgb(248, 248, 249)",
           "width": 1
          }
         },
         "orientation": "h",
         "type": "bar",
         "x": [
          0
         ],
         "y": [
          "Domain 4. Bias due to deviations<br>from intended interventions"
         ]
        },
        {
         "marker": {
          "color": "rgb(237, 0, 0)",
          "line": {
           "color": "rgb(248, 248, 249)",
           "width": 1
          }
         },
         "orientation": "h",
         "type": "bar",
         "x": [
          1.2
         ],
         "y": [
          "Domain 3. Bias in classification<br>of interventions"
         ]
        },
        {
         "marker": {
          "color": "rgb(237, 0, 0)",
          "line": {
           "color": "rgb(248, 248, 249)",
           "width": 1
          }
         },
         "orientation": "h",
         "type": "bar",
         "x": [
          0
         ],
         "y": [
          "Domain 2. Bias in selection of<br>participants into the study"
         ]
        },
        {
         "marker": {
          "color": "rgb(237, 0, 0)",
          "line": {
           "color": "rgb(248, 248, 249)",
           "width": 1
          }
         },
         "orientation": "h",
         "type": "bar",
         "x": [
          14.6
         ],
         "y": [
          "Domain 1. Bias due to confounding"
         ]
        },
        {
         "marker": {
          "color": "rgb(173, 182, 182)",
          "line": {
           "color": "rgb(248, 248, 249)",
           "width": 1
          }
         },
         "orientation": "h",
         "type": "bar",
         "x": [
          3.7
         ],
         "y": [
          "<b>Overall judgement</b>"
         ]
        },
        {
         "marker": {
          "color": "rgb(173, 182, 182)",
          "line": {
           "color": "rgb(248, 248, 249)",
           "width": 1
          }
         },
         "orientation": "h",
         "type": "bar",
         "x": [
          3.7
         ],
         "y": [
          "Domain 7. Bias in selection<br>of the reported result"
         ]
        },
        {
         "marker": {
          "color": "rgb(173, 182, 182)",
          "line": {
           "color": "rgb(248, 248, 249)",
           "width": 1
          }
         },
         "orientation": "h",
         "type": "bar",
         "x": [
          3.7
         ],
         "y": [
          "Domain 6. Bias in measurement<br>of outcomes"
         ]
        },
        {
         "marker": {
          "color": "rgb(173, 182, 182)",
          "line": {
           "color": "rgb(248, 248, 249)",
           "width": 1
          }
         },
         "orientation": "h",
         "type": "bar",
         "x": [
          0
         ],
         "y": [
          "Domain 5. Bias due to<br>missing data"
         ]
        },
        {
         "marker": {
          "color": "rgb(173, 182, 182)",
          "line": {
           "color": "rgb(248, 248, 249)",
           "width": 1
          }
         },
         "orientation": "h",
         "type": "bar",
         "x": [
          6.1
         ],
         "y": [
          "Domain 4. Bias due to deviations<br>from intended interventions"
         ]
        },
        {
         "marker": {
          "color": "rgb(173, 182, 182)",
          "line": {
           "color": "rgb(248, 248, 249)",
           "width": 1
          }
         },
         "orientation": "h",
         "type": "bar",
         "x": [
          7.3
         ],
         "y": [
          "Domain 3. Bias in classification<br>of interventions"
         ]
        },
        {
         "marker": {
          "color": "rgb(173, 182, 182)",
          "line": {
           "color": "rgb(248, 248, 249)",
           "width": 1
          }
         },
         "orientation": "h",
         "type": "bar",
         "x": [
          6.1
         ],
         "y": [
          "Domain 2. Bias in selection of<br>participants into the study"
         ]
        },
        {
         "marker": {
          "color": "rgb(173, 182, 182)",
          "line": {
           "color": "rgb(248, 248, 249)",
           "width": 1
          }
         },
         "orientation": "h",
         "type": "bar",
         "x": [
          8.5
         ],
         "y": [
          "Domain 1. Bias due to confounding"
         ]
        }
       ],
       "layout": {
        "annotations": [
         {
          "align": "right",
          "font": {
           "color": "rgb(67, 67, 67)",
           "family": "Arial",
           "size": 14
          },
          "showarrow": false,
          "text": "<b>Overall judgement</b>",
          "x": 0.14,
          "xanchor": "right",
          "xref": "paper",
          "y": "<b>Overall judgement</b>",
          "yref": "y"
         },
         {
          "font": {
           "color": "rgb(27, 25, 25)",
           "family": "Arial",
           "size": 14
          },
          "showarrow": false,
          "text": "7%",
          "x": 3.65,
          "xref": "x",
          "y": "<b>Overall judgement</b>",
          "yref": "y"
         },
         {
          "font": {
           "color": "rgb(27, 25, 25)",
           "family": "Arial",
           "size": 14
          },
          "showarrow": false,
          "text": "51%",
          "x": 32.9,
          "xref": "x",
          "y": "<b>Overall judgement</b>",
          "yref": "y"
         },
         {
          "font": {
           "color": "rgb(27, 25, 25)",
           "family": "Arial",
           "size": 14
          },
          "showarrow": false,
          "text": "22%",
          "x": 69.5,
          "xref": "x",
          "y": "<b>Overall judgement</b>",
          "yref": "y"
         },
         {
          "font": {
           "color": "white",
           "family": "Arial",
           "size": 14
          },
          "showarrow": false,
          "text": "16%",
          "x": 88.45,
          "xref": "x",
          "y": "<b>Overall judgement</b>",
          "yref": "y"
         },
         {
          "font": {
           "color": "rgb(27, 25, 25)",
           "family": "Arial",
           "size": 14
          },
          "showarrow": false,
          "text": "4%",
          "x": 98.25,
          "xref": "x",
          "y": "<b>Overall judgement</b>",
          "yref": "y"
         },
         {
          "align": "right",
          "font": {
           "color": "rgb(67, 67, 67)",
           "family": "Arial",
           "size": 14
          },
          "showarrow": false,
          "text": "Domain 7. Bias in selection<br>of the reported result",
          "x": 0.14,
          "xanchor": "right",
          "xref": "paper",
          "y": "Domain 7. Bias in selection<br>of the reported result",
          "yref": "y"
         },
         {
          "font": {
           "color": "rgb(27, 25, 25)",
           "family": "Arial",
           "size": 14
          },
          "showarrow": false,
          "text": "74%",
          "x": 37.2,
          "xref": "x",
          "y": "Domain 7. Bias in selection<br>of the reported result",
          "yref": "y"
         },
         {
          "font": {
           "color": "rgb(27, 25, 25)",
           "family": "Arial",
           "size": 14
          },
          "showarrow": false,
          "text": "12%",
          "x": 80.5,
          "xref": "x",
          "y": "Domain 7. Bias in selection<br>of the reported result",
          "yref": "y"
         },
         {
          "font": {
           "color": "rgb(27, 25, 25)",
           "family": "Arial",
           "size": 14
          },
          "showarrow": false,
          "text": "10%",
          "x": 91.50000000000001,
          "xref": "x",
          "y": "Domain 7. Bias in selection<br>of the reported result",
          "yref": "y"
         },
         {
          "font": {
           "color": "white",
           "family": "Arial",
           "size": 14
          },
          "showarrow": false,
          "text": "0%",
          "x": 96.4,
          "xref": "x",
          "y": "Domain 7. Bias in selection<br>of the reported result",
          "yref": "y"
         },
         {
          "font": {
           "color": "rgb(27, 25, 25)",
           "family": "Arial",
           "size": 14
          },
          "showarrow": false,
          "text": "4%",
          "x": 98.25,
          "xref": "x",
          "y": "Domain 7. Bias in selection<br>of the reported result",
          "yref": "y"
         },
         {
          "align": "right",
          "font": {
           "color": "rgb(67, 67, 67)",
           "family": "Arial",
           "size": 14
          },
          "showarrow": false,
          "text": "Domain 6. Bias in measurement<br>of outcomes",
          "x": 0.14,
          "xanchor": "right",
          "xref": "paper",
          "y": "Domain 6. Bias in measurement<br>of outcomes",
          "yref": "y"
         },
         {
          "font": {
           "color": "rgb(27, 25, 25)",
           "family": "Arial",
           "size": 14
          },
          "showarrow": false,
          "text": "39%",
          "x": 19.5,
          "xref": "x",
          "y": "Domain 6. Bias in measurement<br>of outcomes",
          "yref": "y"
         },
         {
          "font": {
           "color": "rgb(27, 25, 25)",
           "family": "Arial",
           "size": 14
          },
          "showarrow": false,
          "text": "45%",
          "x": 61.55,
          "xref": "x",
          "y": "Domain 6. Bias in measurement<br>of outcomes",
          "yref": "y"
         },
         {
          "font": {
           "color": "rgb(27, 25, 25)",
           "family": "Arial",
           "size": 14
          },
          "showarrow": false,
          "text": "7%",
          "x": 87.75,
          "xref": "x",
          "y": "Domain 6. Bias in measurement<br>of outcomes",
          "yref": "y"
         },
         {
          "font": {
           "color": "white",
           "family": "Arial",
           "size": 14
          },
          "showarrow": false,
          "text": "5%",
          "x": 93.85,
          "xref": "x",
          "y": "Domain 6. Bias in measurement<br>of outcomes",
          "yref": "y"
         },
         {
          "font": {
           "color": "rgb(27, 25, 25)",
           "family": "Arial",
           "size": 14
          },
          "showarrow": false,
          "text": "4%",
          "x": 98.14999999999999,
          "xref": "x",
          "y": "Domain 6. Bias in measurement<br>of outcomes",
          "yref": "y"
         },
         {
          "align": "right",
          "font": {
           "color": "rgb(67, 67, 67)",
           "family": "Arial",
           "size": 14
          },
          "showarrow": false,
          "text": "Domain 5. Bias due to<br>missing data",
          "x": 0.14,
          "xanchor": "right",
          "xref": "paper",
          "y": "Domain 5. Bias due to<br>missing data",
          "yref": "y"
         },
         {
          "font": {
           "color": "rgb(27, 25, 25)",
           "family": "Arial",
           "size": 14
          },
          "showarrow": false,
          "text": "93%",
          "x": 46.35,
          "xref": "x",
          "y": "Domain 5. Bias due to<br>missing data",
          "yref": "y"
         },
         {
          "font": {
           "color": "rgb(27, 25, 25)",
           "family": "Arial",
           "size": 14
          },
          "showarrow": false,
          "text": "4%",
          "x": 94.55,
          "xref": "x",
          "y": "Domain 5. Bias due to<br>missing data",
          "yref": "y"
         },
         {
          "font": {
           "color": "rgb(27, 25, 25)",
           "family": "Arial",
           "size": 14
          },
          "showarrow": false,
          "text": "2%",
          "x": 97.60000000000001,
          "xref": "x",
          "y": "Domain 5. Bias due to<br>missing data",
          "yref": "y"
         },
         {
          "font": {
           "color": "white",
           "family": "Arial",
           "size": 14
          },
          "showarrow": false,
          "text": "1%",
          "x": 99.4,
          "xref": "x",
          "y": "Domain 5. Bias due to<br>missing data",
          "yref": "y"
         },
         {
          "font": {
           "color": "rgb(27, 25, 25)",
           "family": "Arial",
           "size": 14
          },
          "showarrow": false,
          "text": "0%",
          "x": 100.00000000000001,
          "xref": "x",
          "y": "Domain 5. Bias due to<br>missing data",
          "yref": "y"
         },
         {
          "align": "right",
          "font": {
           "color": "rgb(67, 67, 67)",
           "family": "Arial",
           "size": 14
          },
          "showarrow": false,
          "text": "Domain 4. Bias due to deviations<br>from intended interventions",
          "x": 0.14,
          "xanchor": "right",
          "xref": "paper",
          "y": "Domain 4. Bias due to deviations<br>from intended interventions",
          "yref": "y"
         },
         {
          "font": {
           "color": "rgb(27, 25, 25)",
           "family": "Arial",
           "size": 14
          },
          "showarrow": false,
          "text": "90%",
          "x": 45.1,
          "xref": "x",
          "y": "Domain 4. Bias due to deviations<br>from intended interventions",
          "yref": "y"
         },
         {
          "font": {
           "color": "rgb(27, 25, 25)",
           "family": "Arial",
           "size": 14
          },
          "showarrow": false,
          "text": "2%",
          "x": 91.4,
          "xref": "x",
          "y": "Domain 4. Bias due to deviations<br>from intended interventions",
          "yref": "y"
         },
         {
          "font": {
           "color": "rgb(27, 25, 25)",
           "family": "Arial",
           "size": 14
          },
          "showarrow": false,
          "text": "1%",
          "x": 93.2,
          "xref": "x",
          "y": "Domain 4. Bias due to deviations<br>from intended interventions",
          "yref": "y"
         },
         {
          "font": {
           "color": "white",
           "family": "Arial",
           "size": 14
          },
          "showarrow": false,
          "text": "0%",
          "x": 93.80000000000001,
          "xref": "x",
          "y": "Domain 4. Bias due to deviations<br>from intended interventions",
          "yref": "y"
         },
         {
          "font": {
           "color": "rgb(27, 25, 25)",
           "family": "Arial",
           "size": 14
          },
          "showarrow": false,
          "text": "6%",
          "x": 96.85000000000001,
          "xref": "x",
          "y": "Domain 4. Bias due to deviations<br>from intended interventions",
          "yref": "y"
         },
         {
          "align": "right",
          "font": {
           "color": "rgb(67, 67, 67)",
           "family": "Arial",
           "size": 14
          },
          "showarrow": false,
          "text": "Domain 3. Bias in classification<br>of interventions",
          "x": 0.14,
          "xanchor": "right",
          "xref": "paper",
          "y": "Domain 3. Bias in classification<br>of interventions",
          "yref": "y"
         },
         {
          "font": {
           "color": "rgb(27, 25, 25)",
           "family": "Arial",
           "size": 14
          },
          "showarrow": false,
          "text": "56%",
          "x": 28.05,
          "xref": "x",
          "y": "Domain 3. Bias in classification<br>of interventions",
          "yref": "y"
         },
         {
          "font": {
           "color": "rgb(27, 25, 25)",
           "family": "Arial",
           "size": 14
          },
          "showarrow": false,
          "text": "26%",
          "x": 68.9,
          "xref": "x",
          "y": "Domain 3. Bias in classification<br>of interventions",
          "yref": "y"
         },
         {
          "font": {
           "color": "rgb(27, 25, 25)",
           "family": "Arial",
           "size": 14
          },
          "showarrow": false,
          "text": "10%",
          "x": 86.60000000000001,
          "xref": "x",
          "y": "Domain 3. Bias in classification<br>of interventions",
          "yref": "y"
         },
         {
          "font": {
           "color": "white",
           "family": "Arial",
           "size": 14
          },
          "showarrow": false,
          "text": "1%",
          "x": 92.1,
          "xref": "x",
          "y": "Domain 3. Bias in classification<br>of interventions",
          "yref": "y"
         },
         {
          "font": {
           "color": "rgb(27, 25, 25)",
           "family": "Arial",
           "size": 14
          },
          "showarrow": false,
          "text": "7%",
          "x": 96.35000000000001,
          "xref": "x",
          "y": "Domain 3. Bias in classification<br>of interventions",
          "yref": "y"
         },
         {
          "align": "right",
          "font": {
           "color": "rgb(67, 67, 67)",
           "family": "Arial",
           "size": 14
          },
          "showarrow": false,
          "text": "Domain 2. Bias in selection of<br>participants into the study",
          "x": 0.14,
          "xanchor": "right",
          "xref": "paper",
          "y": "Domain 2. Bias in selection of<br>participants into the study",
          "yref": "y"
         },
         {
          "font": {
           "color": "rgb(27, 25, 25)",
           "family": "Arial",
           "size": 14
          },
          "showarrow": false,
          "text": "61%",
          "x": 30.5,
          "xref": "x",
          "y": "Domain 2. Bias in selection of<br>participants into the study",
          "yref": "y"
         },
         {
          "font": {
           "color": "rgb(27, 25, 25)",
           "family": "Arial",
           "size": 14
          },
          "showarrow": false,
          "text": "24%",
          "x": 73.2,
          "xref": "x",
          "y": "Domain 2. Bias in selection of<br>participants into the study",
          "yref": "y"
         },
         {
          "font": {
           "color": "rgb(27, 25, 25)",
           "family": "Arial",
           "size": 14
          },
          "showarrow": false,
          "text": "8%",
          "x": 89.65,
          "xref": "x",
          "y": "Domain 2. Bias in selection of<br>participants into the study",
          "yref": "y"
         },
         {
          "font": {
           "color": "white",
           "family": "Arial",
           "size": 14
          },
          "showarrow": false,
          "text": "0%",
          "x": 93.9,
          "xref": "x",
          "y": "Domain 2. Bias in selection of<br>participants into the study",
          "yref": "y"
         },
         {
          "font": {
           "color": "rgb(27, 25, 25)",
           "family": "Arial",
           "size": 14
          },
          "showarrow": false,
          "text": "6%",
          "x": 96.95,
          "xref": "x",
          "y": "Domain 2. Bias in selection of<br>participants into the study",
          "yref": "y"
         },
         {
          "align": "right",
          "font": {
           "color": "rgb(67, 67, 67)",
           "family": "Arial",
           "size": 14
          },
          "showarrow": false,
          "text": "Domain 1. Bias due to confounding",
          "x": 0.14,
          "xanchor": "right",
          "xref": "paper",
          "y": "Domain 1. Bias due to confounding",
          "yref": "y"
         },
         {
          "font": {
           "color": "rgb(27, 25, 25)",
           "family": "Arial",
           "size": 14
          },
          "showarrow": false,
          "text": "34%",
          "x": 17.05,
          "xref": "x",
          "y": "Domain 1. Bias due to confounding",
          "yref": "y"
         },
         {
          "font": {
           "color": "rgb(67, 67, 67)",
           "family": "Arial",
           "size": 14
          },
          "showarrow": false,
          "text": "Low",
          "x": 17.05,
          "xref": "x",
          "y": 1.1,
          "yref": "paper"
         },
         {
          "font": {
           "color": "rgb(27, 25, 25)",
           "family": "Arial",
           "size": 14
          },
          "showarrow": false,
          "text": "33%",
          "x": 50.55,
          "xref": "x",
          "y": "Domain 1. Bias due to confounding",
          "yref": "y"
         },
         {
          "font": {
           "color": "rgb(27, 25, 25)",
           "family": "Arial",
           "size": 14
          },
          "showarrow": false,
          "text": "Moderate",
          "x": 50.55,
          "xref": "x",
          "y": 1.1,
          "yref": "paper"
         },
         {
          "font": {
           "color": "rgb(27, 25, 25)",
           "family": "Arial",
           "size": 14
          },
          "showarrow": false,
          "text": "10%",
          "x": 71.9,
          "xref": "x",
          "y": "Domain 1. Bias due to confounding",
          "yref": "y"
         },
         {
          "font": {
           "color": "rgb(27, 25, 25)",
           "family": "Arial",
           "size": 14
          },
          "showarrow": false,
          "text": "Serious",
          "x": 71.9,
          "xref": "x",
          "y": 1.1,
          "yref": "paper"
         },
         {
          "font": {
           "color": "white",
           "family": "Arial",
           "size": 14
          },
          "showarrow": false,
          "text": "15%",
          "x": 84.1,
          "xref": "x",
          "y": "Domain 1. Bias due to confounding",
          "yref": "y"
         },
         {
          "font": {
           "color": "rgb(27, 25, 25)",
           "family": "Arial",
           "size": 14
          },
          "showarrow": false,
          "text": "Critical",
          "x": 84.1,
          "xref": "x",
          "y": 1.1,
          "yref": "paper"
         },
         {
          "font": {
           "color": "rgb(27, 25, 25)",
           "family": "Arial",
           "size": 14
          },
          "showarrow": false,
          "text": "8%",
          "x": 95.64999999999999,
          "xref": "x",
          "y": "Domain 1. Bias due to confounding",
          "yref": "y"
         },
         {
          "font": {
           "color": "rgb(27, 25, 25)",
           "family": "Arial",
           "size": 14
          },
          "showarrow": false,
          "text": "NI",
          "x": 95.64999999999999,
          "xref": "x",
          "y": 1.1,
          "yref": "paper"
         }
        ],
        "barmode": "stack",
        "font": {
         "color": "rgb(27, 25, 25)",
         "family": "Arial",
         "size": 14
        },
        "margin": {
         "b": 80,
         "l": 120,
         "r": 10,
         "t": 140
        },
        "paper_bgcolor": "rgb(248, 248, 255)",
        "plot_bgcolor": "rgb(248, 248, 255)",
        "showlegend": false,
        "template": {
         "data": {
          "bar": [
           {
            "error_x": {
             "color": "#2a3f5f"
            },
            "error_y": {
             "color": "#2a3f5f"
            },
            "marker": {
             "line": {
              "color": "#E5ECF6",
              "width": 0.5
             },
             "pattern": {
              "fillmode": "overlay",
              "size": 10,
              "solidity": 0.2
             }
            },
            "type": "bar"
           }
          ],
          "barpolar": [
           {
            "marker": {
             "line": {
              "color": "#E5ECF6",
              "width": 0.5
             },
             "pattern": {
              "fillmode": "overlay",
              "size": 10,
              "solidity": 0.2
             }
            },
            "type": "barpolar"
           }
          ],
          "carpet": [
           {
            "aaxis": {
             "endlinecolor": "#2a3f5f",
             "gridcolor": "white",
             "linecolor": "white",
             "minorgridcolor": "white",
             "startlinecolor": "#2a3f5f"
            },
            "baxis": {
             "endlinecolor": "#2a3f5f",
             "gridcolor": "white",
             "linecolor": "white",
             "minorgridcolor": "white",
             "startlinecolor": "#2a3f5f"
            },
            "type": "carpet"
           }
          ],
          "choropleth": [
           {
            "colorbar": {
             "outlinewidth": 0,
             "ticks": ""
            },
            "type": "choropleth"
           }
          ],
          "contour": [
           {
            "colorbar": {
             "outlinewidth": 0,
             "ticks": ""
            },
            "colorscale": [
             [
              0,
              "#0d0887"
             ],
             [
              0.1111111111111111,
              "#46039f"
             ],
             [
              0.2222222222222222,
              "#7201a8"
             ],
             [
              0.3333333333333333,
              "#9c179e"
             ],
             [
              0.4444444444444444,
              "#bd3786"
             ],
             [
              0.5555555555555556,
              "#d8576b"
             ],
             [
              0.6666666666666666,
              "#ed7953"
             ],
             [
              0.7777777777777778,
              "#fb9f3a"
             ],
             [
              0.8888888888888888,
              "#fdca26"
             ],
             [
              1,
              "#f0f921"
             ]
            ],
            "type": "contour"
           }
          ],
          "contourcarpet": [
           {
            "colorbar": {
             "outlinewidth": 0,
             "ticks": ""
            },
            "type": "contourcarpet"
           }
          ],
          "heatmap": [
           {
            "colorbar": {
             "outlinewidth": 0,
             "ticks": ""
            },
            "colorscale": [
             [
              0,
              "#0d0887"
             ],
             [
              0.1111111111111111,
              "#46039f"
             ],
             [
              0.2222222222222222,
              "#7201a8"
             ],
             [
              0.3333333333333333,
              "#9c179e"
             ],
             [
              0.4444444444444444,
              "#bd3786"
             ],
             [
              0.5555555555555556,
              "#d8576b"
             ],
             [
              0.6666666666666666,
              "#ed7953"
             ],
             [
              0.7777777777777778,
              "#fb9f3a"
             ],
             [
              0.8888888888888888,
              "#fdca26"
             ],
             [
              1,
              "#f0f921"
             ]
            ],
            "type": "heatmap"
           }
          ],
          "heatmapgl": [
           {
            "colorbar": {
             "outlinewidth": 0,
             "ticks": ""
            },
            "colorscale": [
             [
              0,
              "#0d0887"
             ],
             [
              0.1111111111111111,
              "#46039f"
             ],
             [
              0.2222222222222222,
              "#7201a8"
             ],
             [
              0.3333333333333333,
              "#9c179e"
             ],
             [
              0.4444444444444444,
              "#bd3786"
             ],
             [
              0.5555555555555556,
              "#d8576b"
             ],
             [
              0.6666666666666666,
              "#ed7953"
             ],
             [
              0.7777777777777778,
              "#fb9f3a"
             ],
             [
              0.8888888888888888,
              "#fdca26"
             ],
             [
              1,
              "#f0f921"
             ]
            ],
            "type": "heatmapgl"
           }
          ],
          "histogram": [
           {
            "marker": {
             "pattern": {
              "fillmode": "overlay",
              "size": 10,
              "solidity": 0.2
             }
            },
            "type": "histogram"
           }
          ],
          "histogram2d": [
           {
            "colorbar": {
             "outlinewidth": 0,
             "ticks": ""
            },
            "colorscale": [
             [
              0,
              "#0d0887"
             ],
             [
              0.1111111111111111,
              "#46039f"
             ],
             [
              0.2222222222222222,
              "#7201a8"
             ],
             [
              0.3333333333333333,
              "#9c179e"
             ],
             [
              0.4444444444444444,
              "#bd3786"
             ],
             [
              0.5555555555555556,
              "#d8576b"
             ],
             [
              0.6666666666666666,
              "#ed7953"
             ],
             [
              0.7777777777777778,
              "#fb9f3a"
             ],
             [
              0.8888888888888888,
              "#fdca26"
             ],
             [
              1,
              "#f0f921"
             ]
            ],
            "type": "histogram2d"
           }
          ],
          "histogram2dcontour": [
           {
            "colorbar": {
             "outlinewidth": 0,
             "ticks": ""
            },
            "colorscale": [
             [
              0,
              "#0d0887"
             ],
             [
              0.1111111111111111,
              "#46039f"
             ],
             [
              0.2222222222222222,
              "#7201a8"
             ],
             [
              0.3333333333333333,
              "#9c179e"
             ],
             [
              0.4444444444444444,
              "#bd3786"
             ],
             [
              0.5555555555555556,
              "#d8576b"
             ],
             [
              0.6666666666666666,
              "#ed7953"
             ],
             [
              0.7777777777777778,
              "#fb9f3a"
             ],
             [
              0.8888888888888888,
              "#fdca26"
             ],
             [
              1,
              "#f0f921"
             ]
            ],
            "type": "histogram2dcontour"
           }
          ],
          "mesh3d": [
           {
            "colorbar": {
             "outlinewidth": 0,
             "ticks": ""
            },
            "type": "mesh3d"
           }
          ],
          "parcoords": [
           {
            "line": {
             "colorbar": {
              "outlinewidth": 0,
              "ticks": ""
             }
            },
            "type": "parcoords"
           }
          ],
          "pie": [
           {
            "automargin": true,
            "type": "pie"
           }
          ],
          "scatter": [
           {
            "fillpattern": {
             "fillmode": "overlay",
             "size": 10,
             "solidity": 0.2
            },
            "type": "scatter"
           }
          ],
          "scatter3d": [
           {
            "line": {
             "colorbar": {
              "outlinewidth": 0,
              "ticks": ""
             }
            },
            "marker": {
             "colorbar": {
              "outlinewidth": 0,
              "ticks": ""
             }
            },
            "type": "scatter3d"
           }
          ],
          "scattercarpet": [
           {
            "marker": {
             "colorbar": {
              "outlinewidth": 0,
              "ticks": ""
             }
            },
            "type": "scattercarpet"
           }
          ],
          "scattergeo": [
           {
            "marker": {
             "colorbar": {
              "outlinewidth": 0,
              "ticks": ""
             }
            },
            "type": "scattergeo"
           }
          ],
          "scattergl": [
           {
            "marker": {
             "colorbar": {
              "outlinewidth": 0,
              "ticks": ""
             }
            },
            "type": "scattergl"
           }
          ],
          "scattermapbox": [
           {
            "marker": {
             "colorbar": {
              "outlinewidth": 0,
              "ticks": ""
             }
            },
            "type": "scattermapbox"
           }
          ],
          "scatterpolar": [
           {
            "marker": {
             "colorbar": {
              "outlinewidth": 0,
              "ticks": ""
             }
            },
            "type": "scatterpolar"
           }
          ],
          "scatterpolargl": [
           {
            "marker": {
             "colorbar": {
              "outlinewidth": 0,
              "ticks": ""
             }
            },
            "type": "scatterpolargl"
           }
          ],
          "scatterternary": [
           {
            "marker": {
             "colorbar": {
              "outlinewidth": 0,
              "ticks": ""
             }
            },
            "type": "scatterternary"
           }
          ],
          "surface": [
           {
            "colorbar": {
             "outlinewidth": 0,
             "ticks": ""
            },
            "colorscale": [
             [
              0,
              "#0d0887"
             ],
             [
              0.1111111111111111,
              "#46039f"
             ],
             [
              0.2222222222222222,
              "#7201a8"
             ],
             [
              0.3333333333333333,
              "#9c179e"
             ],
             [
              0.4444444444444444,
              "#bd3786"
             ],
             [
              0.5555555555555556,
              "#d8576b"
             ],
             [
              0.6666666666666666,
              "#ed7953"
             ],
             [
              0.7777777777777778,
              "#fb9f3a"
             ],
             [
              0.8888888888888888,
              "#fdca26"
             ],
             [
              1,
              "#f0f921"
             ]
            ],
            "type": "surface"
           }
          ],
          "table": [
           {
            "cells": {
             "fill": {
              "color": "#EBF0F8"
             },
             "line": {
              "color": "white"
             }
            },
            "header": {
             "fill": {
              "color": "#C8D4E3"
             },
             "line": {
              "color": "white"
             }
            },
            "type": "table"
           }
          ]
         },
         "layout": {
          "annotationdefaults": {
           "arrowcolor": "#2a3f5f",
           "arrowhead": 0,
           "arrowwidth": 1
          },
          "autotypenumbers": "strict",
          "coloraxis": {
           "colorbar": {
            "outlinewidth": 0,
            "ticks": ""
           }
          },
          "colorscale": {
           "diverging": [
            [
             0,
             "#8e0152"
            ],
            [
             0.1,
             "#c51b7d"
            ],
            [
             0.2,
             "#de77ae"
            ],
            [
             0.3,
             "#f1b6da"
            ],
            [
             0.4,
             "#fde0ef"
            ],
            [
             0.5,
             "#f7f7f7"
            ],
            [
             0.6,
             "#e6f5d0"
            ],
            [
             0.7,
             "#b8e186"
            ],
            [
             0.8,
             "#7fbc41"
            ],
            [
             0.9,
             "#4d9221"
            ],
            [
             1,
             "#276419"
            ]
           ],
           "sequential": [
            [
             0,
             "#0d0887"
            ],
            [
             0.1111111111111111,
             "#46039f"
            ],
            [
             0.2222222222222222,
             "#7201a8"
            ],
            [
             0.3333333333333333,
             "#9c179e"
            ],
            [
             0.4444444444444444,
             "#bd3786"
            ],
            [
             0.5555555555555556,
             "#d8576b"
            ],
            [
             0.6666666666666666,
             "#ed7953"
            ],
            [
             0.7777777777777778,
             "#fb9f3a"
            ],
            [
             0.8888888888888888,
             "#fdca26"
            ],
            [
             1,
             "#f0f921"
            ]
           ],
           "sequentialminus": [
            [
             0,
             "#0d0887"
            ],
            [
             0.1111111111111111,
             "#46039f"
            ],
            [
             0.2222222222222222,
             "#7201a8"
            ],
            [
             0.3333333333333333,
             "#9c179e"
            ],
            [
             0.4444444444444444,
             "#bd3786"
            ],
            [
             0.5555555555555556,
             "#d8576b"
            ],
            [
             0.6666666666666666,
             "#ed7953"
            ],
            [
             0.7777777777777778,
             "#fb9f3a"
            ],
            [
             0.8888888888888888,
             "#fdca26"
            ],
            [
             1,
             "#f0f921"
            ]
           ]
          },
          "colorway": [
           "#636efa",
           "#EF553B",
           "#00cc96",
           "#ab63fa",
           "#FFA15A",
           "#19d3f3",
           "#FF6692",
           "#B6E880",
           "#FF97FF",
           "#FECB52"
          ],
          "font": {
           "color": "#2a3f5f"
          },
          "geo": {
           "bgcolor": "white",
           "lakecolor": "white",
           "landcolor": "#E5ECF6",
           "showlakes": true,
           "showland": true,
           "subunitcolor": "white"
          },
          "hoverlabel": {
           "align": "left"
          },
          "hovermode": "closest",
          "mapbox": {
           "style": "light"
          },
          "paper_bgcolor": "white",
          "plot_bgcolor": "#E5ECF6",
          "polar": {
           "angularaxis": {
            "gridcolor": "white",
            "linecolor": "white",
            "ticks": ""
           },
           "bgcolor": "#E5ECF6",
           "radialaxis": {
            "gridcolor": "white",
            "linecolor": "white",
            "ticks": ""
           }
          },
          "scene": {
           "xaxis": {
            "backgroundcolor": "#E5ECF6",
            "gridcolor": "white",
            "gridwidth": 2,
            "linecolor": "white",
            "showbackground": true,
            "ticks": "",
            "zerolinecolor": "white"
           },
           "yaxis": {
            "backgroundcolor": "#E5ECF6",
            "gridcolor": "white",
            "gridwidth": 2,
            "linecolor": "white",
            "showbackground": true,
            "ticks": "",
            "zerolinecolor": "white"
           },
           "zaxis": {
            "backgroundcolor": "#E5ECF6",
            "gridcolor": "white",
            "gridwidth": 2,
            "linecolor": "white",
            "showbackground": true,
            "ticks": "",
            "zerolinecolor": "white"
           }
          },
          "shapedefaults": {
           "line": {
            "color": "#2a3f5f"
           }
          },
          "ternary": {
           "aaxis": {
            "gridcolor": "white",
            "linecolor": "white",
            "ticks": ""
           },
           "baxis": {
            "gridcolor": "white",
            "linecolor": "white",
            "ticks": ""
           },
           "bgcolor": "#E5ECF6",
           "caxis": {
            "gridcolor": "white",
            "linecolor": "white",
            "ticks": ""
           }
          },
          "title": {
           "x": 0.05
          },
          "xaxis": {
           "automargin": true,
           "gridcolor": "white",
           "linecolor": "white",
           "ticks": "",
           "title": {
            "standoff": 15
           },
           "zerolinecolor": "white",
           "zerolinewidth": 2
          },
          "yaxis": {
           "automargin": true,
           "gridcolor": "white",
           "linecolor": "white",
           "ticks": "",
           "title": {
            "standoff": 15
           },
           "zerolinecolor": "white",
           "zerolinewidth": 2
          }
         }
        },
        "title": {
         "text": "<b>ROBINS-I</b>",
         "x": 0.5,
         "xanchor": "center",
         "y": 0.9,
         "yanchor": "top"
        },
        "xaxis": {
         "domain": [
          0.15,
          1
         ],
         "showgrid": false,
         "showline": false,
         "showticklabels": false,
         "zeroline": false
        },
        "yaxis": {
         "showgrid": false,
         "showline": false,
         "showticklabels": false,
         "zeroline": false
        }
       }
      }
     },
     "metadata": {},
     "output_type": "display_data"
    }
   ],
   "source": [
    "# Import plotly's graph objects library for creating visualizations\n",
    "import plotly.graph_objects as go\n",
    "# Reference to the plotly documentation on horizontal bar charts\n",
    "# https://plotly.com/python/horizontal-bar-charts/\n",
    "\n",
    "# Defining labels for categories\n",
    "top_labels = ['Low', 'Moderate', 'Serious', 'Critical', 'NI']\n",
    "\n",
    "# Active nontransparent color palette\n",
    "colors = ['rgb(66, 181, 64)', 'rgb(244, 222, 137)',\n",
    "          'rgb(239, 176, 95)', 'rgb(237, 0, 0)',\n",
    "          'rgb(173, 182, 182)']\n",
    "\n",
    "# Font color palette to match with the respective background colors for legibility\n",
    "font_colors = ['rgb(27, 25, 25)', 'rgb(27, 25, 25)',\n",
    "               'rgb(27, 25, 25)', 'white',\n",
    "               'rgb(27, 25, 25)']\n",
    "\n",
    "\n",
    "# Generate `x_data` which represents the percentage distributions of various domains \n",
    "# and the Overall Judgement in the `df_robinsi` DataFrame.\n",
    "\n",
    "# Steps:\n",
    "# 1. Count occurrences of each value for the specified domains and the Overall Judgement.\n",
    "# 2. Normalize these counts to get proportions (fractions of the total).\n",
    "# 3. Convert these proportions to percentages (multiply by 100).\n",
    "# 4. Round off the computed percentages to one decimal place.\n",
    "# 5. Concatenate these percentages side by side (axis=1).\n",
    "# 6. Reorder rows based on the predefined order in `top_labels`.\n",
    "# 7. Transpose the DataFrame to get domains as rows.\n",
    "# 8. Replace any missing values with zeros.\n",
    "# 9. Convert the resulting DataFrame to a numpy array.\n",
    "\n",
    "x_data = pd.concat([\n",
    "    df_robinsi.Overall_judgement.value_counts(normalize=True).mul(100).round(1),  # Percentage for Overall Judgement\n",
    "    df_robinsi.Domain7.value_counts(normalize=True).mul(100).round(1),            # Percentage for Domain7\n",
    "    df_robinsi.Domain6.value_counts(normalize=True).mul(100).round(1),            # Percentage for Domain6\n",
    "    df_robinsi.Domain5.value_counts(normalize=True).mul(100).round(1),            # Percentage for Domain5\n",
    "    df_robinsi.Domain4.value_counts(normalize=True).mul(100).round(1),            # Percentage for Domain4\n",
    "    df_robinsi.Domain3.value_counts(normalize=True).mul(100).round(1),            # Percentage for Domain3\n",
    "    df_robinsi.Domain2.value_counts(normalize=True).mul(100).round(1),            # Percentage for Domain2\n",
    "    df_robinsi.Domain1.value_counts(normalize=True).mul(100).round(1)             # Percentage for Domain1\n",
    "], axis=1).reindex(top_labels).T.fillna(0).to_numpy()\n",
    "\n",
    "\n",
    "# Define `y_data` which represents the labels for the bar chart. \n",
    "# These labels give a description of various domains and the Overall Judgement.\n",
    "\n",
    "# The labels are:\n",
    "# 1. Overall judgement: Represents the general judgement on the research.\n",
    "# 2. Domain 7: Deals with biases when selecting the results to be reported.\n",
    "# 3. Domain 6: Pertains to biases during the measurement of outcomes.\n",
    "# 4. Domain 5: Concerns biases that arise due to missing data.\n",
    "# 5. Domain 4: Involves biases from deviations from the originally intended interventions.\n",
    "# 6. Domain 3: Deals with biases when classifying different interventions.\n",
    "# 7. Domain 2: Pertains to biases in selecting participants for the study.\n",
    "# 8. Domain 1: Represents biases due to external confounding factors.\n",
    "\n",
    "y_data = [ '<b>Overall judgement</b>', \n",
    "          'Domain 7. Bias in selection<br>of the reported result',\n",
    "          'Domain 6. Bias in measurement<br>of outcomes', \n",
    "          'Domain 5. Bias due to<br>missing data',\n",
    "          'Domain 4. Bias due to deviations<br>from intended interventions', \n",
    "          'Domain 3. Bias in classification<br>of interventions',\n",
    "          'Domain 2. Bias in selection of<br>participants into the study', \n",
    "          'Domain 1. Bias due to confounding' ]\n",
    "\n",
    "\n",
    "# Initialize an empty Plotly figure for the bar chart visualization.\n",
    "fig2a = go.Figure()\n",
    "\n",
    "# Loop through each domain and its associated bias percentage to populate the figure with bar chart traces.\n",
    "# Each domain will have multiple bars stacked on top of each other, \n",
    "# representing different levels of biases (e.g., Low, Moderate, Serious, etc.).\n",
    "for i in range(0, len(x_data[0])):\n",
    "    for xd, yd in zip(x_data, y_data):\n",
    "        fig2a.add_trace(go.Bar(\n",
    "            x=[xd[i]], y=[yd],       # x-data represents bias percentages, y-data represents domains\n",
    "            orientation='h',        # horizontal orientation for the bar chart\n",
    "            marker=dict(\n",
    "                color=colors[i],    # set color for each bar based on predefined colors list\n",
    "                line=dict(color='rgb(248, 248, 249)', width=1)  # define bar border color and width\n",
    "            )\n",
    "        ))\n",
    "\n",
    "# Configure the layout for the figure.\n",
    "fig2a.update_layout(\n",
    "    xaxis=dict(\n",
    "        showgrid=False,          \n",
    "        showline=False,        \n",
    "        showticklabels=False,    \n",
    "        zeroline=False,        \n",
    "        domain=[0.15, 1]        \n",
    "    ),\n",
    "    yaxis=dict(\n",
    "        showgrid=False,          \n",
    "        showline=False,          \n",
    "        showticklabels=False,    \n",
    "        zeroline=False,          \n",
    "    ),\n",
    "    barmode='stack',             \n",
    "    paper_bgcolor='rgb(248, 248, 255)',\n",
    "    plot_bgcolor='rgb(248, 248, 255)',   \n",
    "    margin=dict(l=120, r=10, t=140, b=80),  \n",
    "    showlegend=False,           \n",
    ")\n",
    "\n",
    "\n",
    "# Initialize an empty list to store annotation details\n",
    "annotations = []\n",
    "\n",
    "# Iterate through each domain description and its corresponding bias percentages\n",
    "for yd, xd in zip(y_data, x_data):\n",
    "    # Annotation for the y-axis label\n",
    "    annotations.append(dict(xref='paper', yref='y',\n",
    "                            x=0.14, y=yd,\n",
    "                            xanchor='right',\n",
    "                            text=str(yd),\n",
    "                            font=dict(family='Arial', size=14,\n",
    "                                      color='rgb(67, 67, 67)'),\n",
    "                            showarrow=False, align='right'))\n",
    "\n",
    "    # Annotation for the first percentage of each bar (x_axis)\n",
    "    annotations.append(dict(xref='x', yref='y',\n",
    "                            x=xd[0] / 2, y=yd,\n",
    "                            text=str(xd[0].round(0))[:-2] + '%',   # Formatting percentage value\n",
    "                            font=dict(family='Arial', size=14,\n",
    "                                      color='rgb(27, 25, 25)'),\n",
    "                            showarrow=False))\n",
    "\n",
    "    # Annotation for the first Likert scale label (on the top)\n",
    "    if yd == y_data[-1]:\n",
    "        annotations.append(dict(xref='x', yref='paper',\n",
    "                                x=xd[0] / 2, y=1.1,\n",
    "                                text=top_labels[0],     # Displaying the label for the first Likert scale\n",
    "                                font=dict(family='Arial', size=14,\n",
    "                                          color='rgb(67, 67, 67)'),\n",
    "                                showarrow=False))\n",
    "\n",
    "    space = xd[0]   # Initialize the starting position for subsequent annotations\n",
    "\n",
    "    # Loop through the rest of the bias percentages in the current domain\n",
    "    for i in range(1, len(xd)):\n",
    "            # Annotation for the rest of percentages for each bar (x_axis)\n",
    "            annotations.append(dict(xref='x', yref='y',\n",
    "                                    x=space + (xd[i]/2), y=yd,\n",
    "                                    text=str(xd[i].round(0))[:-2] + '%',  # Formatting percentage value\n",
    "                                    font=dict(family='Arial', size=14,\n",
    "                                              color=font_colors[i]),\n",
    "                                    showarrow=False))\n",
    "            # Annotation for the Likert scale label\n",
    "            if yd == y_data[-1]:\n",
    "                annotations.append(dict(xref='x', yref='paper',\n",
    "                                        x=space + (xd[i]/2), y=1.1,\n",
    "                                        text=top_labels[i],     # Displaying the label for the current Likert scale\n",
    "                                        font=dict(family='Arial', size=14,\n",
    "                                                  color='rgb(27, 25, 25)'),\n",
    "                                        showarrow=False))\n",
    "            space += xd[i]   # Update the position for the next annotation\n",
    "\n",
    "\n",
    "# Update the layout of the figure by adding the previously defined annotations\n",
    "fig2a.update_layout(annotations=annotations)\n",
    "\n",
    "# Update layout properties including the title and font settings\n",
    "fig2a.update_layout(title={\n",
    "        'text': '<b>ROBINS-I</b>',     \n",
    "        'y':0.9,                         \n",
    "        'x':0.5,                        \n",
    "        'xanchor': 'center',             \n",
    "        'yanchor': 'top'              \n",
    "    },\n",
    "    font={\n",
    "        'family': 'Arial',            \n",
    "        'color': 'rgb(27, 25, 25)',    \n",
    "        'size': 14                        \n",
    "})\n",
    "\n",
    "\n",
    "# Define configuration options for exporting the plot with specified resolution and settings\n",
    "config = {\n",
    "    'toImageButtonOptions': {\n",
    "        'format': 'png',         # Set the export format \n",
    "        'filename': 'fig2a',     # Specify the filename for the exported image\n",
    "        'scale': 6               # Multiply title/legend/axis/canvas sizes by this factor for higher resolution\n",
    "    }\n",
    "}\n",
    "\n",
    "fig2a.show(config=config)\n",
    "\n",
    "\n",
    "#TODO: Manually fix overlapping labels.\n",
    "#TODO: Add \"N={study count}\" to trace labels on-hover, so folks can see that N of studies was quite high in ROBINS-I (vs. RoB 2)"
   ]
  },
  {
   "cell_type": "code",
   "execution_count": 28,
   "metadata": {
    "colab": {
     "base_uri": "https://localhost:8080/",
     "height": 542
    },
    "id": "dTKgdxMLrRMy",
    "outputId": "58a35222-fd3f-44b6-983b-a44b3290c3ed"
   },
   "outputs": [
    {
     "data": {
      "application/vnd.plotly.v1+json": {
       "config": {
        "plotlyServerURL": "https://plot.ly",
        "toImageButtonOptions": {
         "filename": "fig2b",
         "format": "png",
         "scale": 6
        }
       },
       "data": [
        {
         "marker": {
          "color": "rgb(66, 181, 64)",
          "line": {
           "color": "rgb(248, 248, 249)",
           "width": 1
          }
         },
         "orientation": "h",
         "type": "bar",
         "x": [
          100
         ],
         "y": [
          "<b>Overall judgement</b>"
         ]
        },
        {
         "marker": {
          "color": "rgb(66, 181, 64)",
          "line": {
           "color": "rgb(248, 248, 249)",
           "width": 1
          }
         },
         "orientation": "h",
         "type": "bar",
         "x": [
          50
         ],
         "y": [
          "Domain 5. Selection of the<br>reported result"
         ]
        },
        {
         "marker": {
          "color": "rgb(66, 181, 64)",
          "line": {
           "color": "rgb(248, 248, 249)",
           "width": 1
          }
         },
         "orientation": "h",
         "type": "bar",
         "x": [
          100
         ],
         "y": [
          "Domain 4. Measurement of<br>the outcome"
         ]
        },
        {
         "marker": {
          "color": "rgb(66, 181, 64)",
          "line": {
           "color": "rgb(248, 248, 249)",
           "width": 1
          }
         },
         "orientation": "h",
         "type": "bar",
         "x": [
          100
         ],
         "y": [
          "Domain 3. Missing outcome data"
         ]
        },
        {
         "marker": {
          "color": "rgb(66, 181, 64)",
          "line": {
           "color": "rgb(248, 248, 249)",
           "width": 1
          }
         },
         "orientation": "h",
         "type": "bar",
         "x": [
          100
         ],
         "y": [
          "Domain 2. Deviations from<br>intended interventions"
         ]
        },
        {
         "marker": {
          "color": "rgb(66, 181, 64)",
          "line": {
           "color": "rgb(248, 248, 249)",
           "width": 1
          }
         },
         "orientation": "h",
         "type": "bar",
         "x": [
          100
         ],
         "y": [
          "Domain 1. Randomization process"
         ]
        },
        {
         "marker": {
          "color": "rgb(244, 222, 137)",
          "line": {
           "color": "rgb(248, 248, 249)",
           "width": 1
          }
         },
         "orientation": "h",
         "type": "bar",
         "x": [
          0
         ],
         "y": [
          "<b>Overall judgement</b>"
         ]
        },
        {
         "marker": {
          "color": "rgb(244, 222, 137)",
          "line": {
           "color": "rgb(248, 248, 249)",
           "width": 1
          }
         },
         "orientation": "h",
         "type": "bar",
         "x": [
          50
         ],
         "y": [
          "Domain 5. Selection of the<br>reported result"
         ]
        },
        {
         "marker": {
          "color": "rgb(244, 222, 137)",
          "line": {
           "color": "rgb(248, 248, 249)",
           "width": 1
          }
         },
         "orientation": "h",
         "type": "bar",
         "x": [
          0
         ],
         "y": [
          "Domain 4. Measurement of<br>the outcome"
         ]
        },
        {
         "marker": {
          "color": "rgb(244, 222, 137)",
          "line": {
           "color": "rgb(248, 248, 249)",
           "width": 1
          }
         },
         "orientation": "h",
         "type": "bar",
         "x": [
          0
         ],
         "y": [
          "Domain 3. Missing outcome data"
         ]
        },
        {
         "marker": {
          "color": "rgb(244, 222, 137)",
          "line": {
           "color": "rgb(248, 248, 249)",
           "width": 1
          }
         },
         "orientation": "h",
         "type": "bar",
         "x": [
          0
         ],
         "y": [
          "Domain 2. Deviations from<br>intended interventions"
         ]
        },
        {
         "marker": {
          "color": "rgb(244, 222, 137)",
          "line": {
           "color": "rgb(248, 248, 249)",
           "width": 1
          }
         },
         "orientation": "h",
         "type": "bar",
         "x": [
          0
         ],
         "y": [
          "Domain 1. Randomization process"
         ]
        }
       ],
       "layout": {
        "annotations": [
         {
          "align": "right",
          "font": {
           "color": "rgb(67, 67, 67)",
           "family": "Arial",
           "size": 14
          },
          "showarrow": false,
          "text": "<b>Overall judgement</b>",
          "x": 0.14,
          "xanchor": "right",
          "xref": "paper",
          "y": "<b>Overall judgement</b>",
          "yref": "y"
         },
         {
          "font": {
           "color": "rgb(27, 25, 25)",
           "family": "Arial",
           "size": 14
          },
          "showarrow": false,
          "text": "100%",
          "x": 50,
          "xref": "x",
          "y": "<b>Overall judgement</b>",
          "yref": "y"
         },
         {
          "font": {
           "color": "rgb(27, 25, 25)",
           "family": "Arial",
           "size": 14
          },
          "showarrow": false,
          "text": "0%",
          "x": 100,
          "xref": "x",
          "y": "<b>Overall judgement</b>",
          "yref": "y"
         },
         {
          "align": "right",
          "font": {
           "color": "rgb(67, 67, 67)",
           "family": "Arial",
           "size": 14
          },
          "showarrow": false,
          "text": "Domain 5. Selection of the<br>reported result",
          "x": 0.14,
          "xanchor": "right",
          "xref": "paper",
          "y": "Domain 5. Selection of the<br>reported result",
          "yref": "y"
         },
         {
          "font": {
           "color": "rgb(27, 25, 25)",
           "family": "Arial",
           "size": 14
          },
          "showarrow": false,
          "text": "50%",
          "x": 25,
          "xref": "x",
          "y": "Domain 5. Selection of the<br>reported result",
          "yref": "y"
         },
         {
          "font": {
           "color": "rgb(27, 25, 25)",
           "family": "Arial",
           "size": 14
          },
          "showarrow": false,
          "text": "50%",
          "x": 75,
          "xref": "x",
          "y": "Domain 5. Selection of the<br>reported result",
          "yref": "y"
         },
         {
          "align": "right",
          "font": {
           "color": "rgb(67, 67, 67)",
           "family": "Arial",
           "size": 14
          },
          "showarrow": false,
          "text": "Domain 4. Measurement of<br>the outcome",
          "x": 0.14,
          "xanchor": "right",
          "xref": "paper",
          "y": "Domain 4. Measurement of<br>the outcome",
          "yref": "y"
         },
         {
          "font": {
           "color": "rgb(27, 25, 25)",
           "family": "Arial",
           "size": 14
          },
          "showarrow": false,
          "text": "100%",
          "x": 50,
          "xref": "x",
          "y": "Domain 4. Measurement of<br>the outcome",
          "yref": "y"
         },
         {
          "font": {
           "color": "rgb(27, 25, 25)",
           "family": "Arial",
           "size": 14
          },
          "showarrow": false,
          "text": "0%",
          "x": 100,
          "xref": "x",
          "y": "Domain 4. Measurement of<br>the outcome",
          "yref": "y"
         },
         {
          "align": "right",
          "font": {
           "color": "rgb(67, 67, 67)",
           "family": "Arial",
           "size": 14
          },
          "showarrow": false,
          "text": "Domain 3. Missing outcome data",
          "x": 0.14,
          "xanchor": "right",
          "xref": "paper",
          "y": "Domain 3. Missing outcome data",
          "yref": "y"
         },
         {
          "font": {
           "color": "rgb(27, 25, 25)",
           "family": "Arial",
           "size": 14
          },
          "showarrow": false,
          "text": "100%",
          "x": 50,
          "xref": "x",
          "y": "Domain 3. Missing outcome data",
          "yref": "y"
         },
         {
          "font": {
           "color": "rgb(27, 25, 25)",
           "family": "Arial",
           "size": 14
          },
          "showarrow": false,
          "text": "0%",
          "x": 100,
          "xref": "x",
          "y": "Domain 3. Missing outcome data",
          "yref": "y"
         },
         {
          "align": "right",
          "font": {
           "color": "rgb(67, 67, 67)",
           "family": "Arial",
           "size": 14
          },
          "showarrow": false,
          "text": "Domain 2. Deviations from<br>intended interventions",
          "x": 0.14,
          "xanchor": "right",
          "xref": "paper",
          "y": "Domain 2. Deviations from<br>intended interventions",
          "yref": "y"
         },
         {
          "font": {
           "color": "rgb(27, 25, 25)",
           "family": "Arial",
           "size": 14
          },
          "showarrow": false,
          "text": "100%",
          "x": 50,
          "xref": "x",
          "y": "Domain 2. Deviations from<br>intended interventions",
          "yref": "y"
         },
         {
          "font": {
           "color": "rgb(27, 25, 25)",
           "family": "Arial",
           "size": 14
          },
          "showarrow": false,
          "text": "0%",
          "x": 100,
          "xref": "x",
          "y": "Domain 2. Deviations from<br>intended interventions",
          "yref": "y"
         },
         {
          "align": "right",
          "font": {
           "color": "rgb(67, 67, 67)",
           "family": "Arial",
           "size": 14
          },
          "showarrow": false,
          "text": "Domain 1. Randomization process",
          "x": 0.14,
          "xanchor": "right",
          "xref": "paper",
          "y": "Domain 1. Randomization process",
          "yref": "y"
         },
         {
          "font": {
           "color": "rgb(27, 25, 25)",
           "family": "Arial",
           "size": 14
          },
          "showarrow": false,
          "text": "100%",
          "x": 50,
          "xref": "x",
          "y": "Domain 1. Randomization process",
          "yref": "y"
         },
         {
          "font": {
           "color": "rgb(27, 25, 25)",
           "family": "Arial",
           "size": 14
          },
          "showarrow": false,
          "text": "Low",
          "x": 50,
          "xref": "x",
          "y": 1.1,
          "yref": "paper"
         },
         {
          "font": {
           "color": "rgb(27, 25, 25)",
           "family": "Arial",
           "size": 14
          },
          "showarrow": false,
          "text": "0%",
          "x": 100,
          "xref": "x",
          "y": "Domain 1. Randomization process",
          "yref": "y"
         },
         {
          "font": {
           "color": "rgb(27, 25, 25)",
           "family": "Arial",
           "size": 14
          },
          "showarrow": false,
          "text": "Some concerns",
          "x": 80,
          "xref": "x",
          "y": 1.1,
          "yref": "paper"
         }
        ],
        "barmode": "stack",
        "font": {
         "color": "rgb(27, 25, 25)",
         "family": "Arial",
         "size": 14
        },
        "margin": {
         "b": 80,
         "l": 120,
         "r": 10,
         "t": 140
        },
        "paper_bgcolor": "rgb(248, 248, 255)",
        "plot_bgcolor": "rgb(248, 248, 255)",
        "showlegend": false,
        "template": {
         "data": {
          "bar": [
           {
            "error_x": {
             "color": "#2a3f5f"
            },
            "error_y": {
             "color": "#2a3f5f"
            },
            "marker": {
             "line": {
              "color": "#E5ECF6",
              "width": 0.5
             },
             "pattern": {
              "fillmode": "overlay",
              "size": 10,
              "solidity": 0.2
             }
            },
            "type": "bar"
           }
          ],
          "barpolar": [
           {
            "marker": {
             "line": {
              "color": "#E5ECF6",
              "width": 0.5
             },
             "pattern": {
              "fillmode": "overlay",
              "size": 10,
              "solidity": 0.2
             }
            },
            "type": "barpolar"
           }
          ],
          "carpet": [
           {
            "aaxis": {
             "endlinecolor": "#2a3f5f",
             "gridcolor": "white",
             "linecolor": "white",
             "minorgridcolor": "white",
             "startlinecolor": "#2a3f5f"
            },
            "baxis": {
             "endlinecolor": "#2a3f5f",
             "gridcolor": "white",
             "linecolor": "white",
             "minorgridcolor": "white",
             "startlinecolor": "#2a3f5f"
            },
            "type": "carpet"
           }
          ],
          "choropleth": [
           {
            "colorbar": {
             "outlinewidth": 0,
             "ticks": ""
            },
            "type": "choropleth"
           }
          ],
          "contour": [
           {
            "colorbar": {
             "outlinewidth": 0,
             "ticks": ""
            },
            "colorscale": [
             [
              0,
              "#0d0887"
             ],
             [
              0.1111111111111111,
              "#46039f"
             ],
             [
              0.2222222222222222,
              "#7201a8"
             ],
             [
              0.3333333333333333,
              "#9c179e"
             ],
             [
              0.4444444444444444,
              "#bd3786"
             ],
             [
              0.5555555555555556,
              "#d8576b"
             ],
             [
              0.6666666666666666,
              "#ed7953"
             ],
             [
              0.7777777777777778,
              "#fb9f3a"
             ],
             [
              0.8888888888888888,
              "#fdca26"
             ],
             [
              1,
              "#f0f921"
             ]
            ],
            "type": "contour"
           }
          ],
          "contourcarpet": [
           {
            "colorbar": {
             "outlinewidth": 0,
             "ticks": ""
            },
            "type": "contourcarpet"
           }
          ],
          "heatmap": [
           {
            "colorbar": {
             "outlinewidth": 0,
             "ticks": ""
            },
            "colorscale": [
             [
              0,
              "#0d0887"
             ],
             [
              0.1111111111111111,
              "#46039f"
             ],
             [
              0.2222222222222222,
              "#7201a8"
             ],
             [
              0.3333333333333333,
              "#9c179e"
             ],
             [
              0.4444444444444444,
              "#bd3786"
             ],
             [
              0.5555555555555556,
              "#d8576b"
             ],
             [
              0.6666666666666666,
              "#ed7953"
             ],
             [
              0.7777777777777778,
              "#fb9f3a"
             ],
             [
              0.8888888888888888,
              "#fdca26"
             ],
             [
              1,
              "#f0f921"
             ]
            ],
            "type": "heatmap"
           }
          ],
          "heatmapgl": [
           {
            "colorbar": {
             "outlinewidth": 0,
             "ticks": ""
            },
            "colorscale": [
             [
              0,
              "#0d0887"
             ],
             [
              0.1111111111111111,
              "#46039f"
             ],
             [
              0.2222222222222222,
              "#7201a8"
             ],
             [
              0.3333333333333333,
              "#9c179e"
             ],
             [
              0.4444444444444444,
              "#bd3786"
             ],
             [
              0.5555555555555556,
              "#d8576b"
             ],
             [
              0.6666666666666666,
              "#ed7953"
             ],
             [
              0.7777777777777778,
              "#fb9f3a"
             ],
             [
              0.8888888888888888,
              "#fdca26"
             ],
             [
              1,
              "#f0f921"
             ]
            ],
            "type": "heatmapgl"
           }
          ],
          "histogram": [
           {
            "marker": {
             "pattern": {
              "fillmode": "overlay",
              "size": 10,
              "solidity": 0.2
             }
            },
            "type": "histogram"
           }
          ],
          "histogram2d": [
           {
            "colorbar": {
             "outlinewidth": 0,
             "ticks": ""
            },
            "colorscale": [
             [
              0,
              "#0d0887"
             ],
             [
              0.1111111111111111,
              "#46039f"
             ],
             [
              0.2222222222222222,
              "#7201a8"
             ],
             [
              0.3333333333333333,
              "#9c179e"
             ],
             [
              0.4444444444444444,
              "#bd3786"
             ],
             [
              0.5555555555555556,
              "#d8576b"
             ],
             [
              0.6666666666666666,
              "#ed7953"
             ],
             [
              0.7777777777777778,
              "#fb9f3a"
             ],
             [
              0.8888888888888888,
              "#fdca26"
             ],
             [
              1,
              "#f0f921"
             ]
            ],
            "type": "histogram2d"
           }
          ],
          "histogram2dcontour": [
           {
            "colorbar": {
             "outlinewidth": 0,
             "ticks": ""
            },
            "colorscale": [
             [
              0,
              "#0d0887"
             ],
             [
              0.1111111111111111,
              "#46039f"
             ],
             [
              0.2222222222222222,
              "#7201a8"
             ],
             [
              0.3333333333333333,
              "#9c179e"
             ],
             [
              0.4444444444444444,
              "#bd3786"
             ],
             [
              0.5555555555555556,
              "#d8576b"
             ],
             [
              0.6666666666666666,
              "#ed7953"
             ],
             [
              0.7777777777777778,
              "#fb9f3a"
             ],
             [
              0.8888888888888888,
              "#fdca26"
             ],
             [
              1,
              "#f0f921"
             ]
            ],
            "type": "histogram2dcontour"
           }
          ],
          "mesh3d": [
           {
            "colorbar": {
             "outlinewidth": 0,
             "ticks": ""
            },
            "type": "mesh3d"
           }
          ],
          "parcoords": [
           {
            "line": {
             "colorbar": {
              "outlinewidth": 0,
              "ticks": ""
             }
            },
            "type": "parcoords"
           }
          ],
          "pie": [
           {
            "automargin": true,
            "type": "pie"
           }
          ],
          "scatter": [
           {
            "fillpattern": {
             "fillmode": "overlay",
             "size": 10,
             "solidity": 0.2
            },
            "type": "scatter"
           }
          ],
          "scatter3d": [
           {
            "line": {
             "colorbar": {
              "outlinewidth": 0,
              "ticks": ""
             }
            },
            "marker": {
             "colorbar": {
              "outlinewidth": 0,
              "ticks": ""
             }
            },
            "type": "scatter3d"
           }
          ],
          "scattercarpet": [
           {
            "marker": {
             "colorbar": {
              "outlinewidth": 0,
              "ticks": ""
             }
            },
            "type": "scattercarpet"
           }
          ],
          "scattergeo": [
           {
            "marker": {
             "colorbar": {
              "outlinewidth": 0,
              "ticks": ""
             }
            },
            "type": "scattergeo"
           }
          ],
          "scattergl": [
           {
            "marker": {
             "colorbar": {
              "outlinewidth": 0,
              "ticks": ""
             }
            },
            "type": "scattergl"
           }
          ],
          "scattermapbox": [
           {
            "marker": {
             "colorbar": {
              "outlinewidth": 0,
              "ticks": ""
             }
            },
            "type": "scattermapbox"
           }
          ],
          "scatterpolar": [
           {
            "marker": {
             "colorbar": {
              "outlinewidth": 0,
              "ticks": ""
             }
            },
            "type": "scatterpolar"
           }
          ],
          "scatterpolargl": [
           {
            "marker": {
             "colorbar": {
              "outlinewidth": 0,
              "ticks": ""
             }
            },
            "type": "scatterpolargl"
           }
          ],
          "scatterternary": [
           {
            "marker": {
             "colorbar": {
              "outlinewidth": 0,
              "ticks": ""
             }
            },
            "type": "scatterternary"
           }
          ],
          "surface": [
           {
            "colorbar": {
             "outlinewidth": 0,
             "ticks": ""
            },
            "colorscale": [
             [
              0,
              "#0d0887"
             ],
             [
              0.1111111111111111,
              "#46039f"
             ],
             [
              0.2222222222222222,
              "#7201a8"
             ],
             [
              0.3333333333333333,
              "#9c179e"
             ],
             [
              0.4444444444444444,
              "#bd3786"
             ],
             [
              0.5555555555555556,
              "#d8576b"
             ],
             [
              0.6666666666666666,
              "#ed7953"
             ],
             [
              0.7777777777777778,
              "#fb9f3a"
             ],
             [
              0.8888888888888888,
              "#fdca26"
             ],
             [
              1,
              "#f0f921"
             ]
            ],
            "type": "surface"
           }
          ],
          "table": [
           {
            "cells": {
             "fill": {
              "color": "#EBF0F8"
             },
             "line": {
              "color": "white"
             }
            },
            "header": {
             "fill": {
              "color": "#C8D4E3"
             },
             "line": {
              "color": "white"
             }
            },
            "type": "table"
           }
          ]
         },
         "layout": {
          "annotationdefaults": {
           "arrowcolor": "#2a3f5f",
           "arrowhead": 0,
           "arrowwidth": 1
          },
          "autotypenumbers": "strict",
          "coloraxis": {
           "colorbar": {
            "outlinewidth": 0,
            "ticks": ""
           }
          },
          "colorscale": {
           "diverging": [
            [
             0,
             "#8e0152"
            ],
            [
             0.1,
             "#c51b7d"
            ],
            [
             0.2,
             "#de77ae"
            ],
            [
             0.3,
             "#f1b6da"
            ],
            [
             0.4,
             "#fde0ef"
            ],
            [
             0.5,
             "#f7f7f7"
            ],
            [
             0.6,
             "#e6f5d0"
            ],
            [
             0.7,
             "#b8e186"
            ],
            [
             0.8,
             "#7fbc41"
            ],
            [
             0.9,
             "#4d9221"
            ],
            [
             1,
             "#276419"
            ]
           ],
           "sequential": [
            [
             0,
             "#0d0887"
            ],
            [
             0.1111111111111111,
             "#46039f"
            ],
            [
             0.2222222222222222,
             "#7201a8"
            ],
            [
             0.3333333333333333,
             "#9c179e"
            ],
            [
             0.4444444444444444,
             "#bd3786"
            ],
            [
             0.5555555555555556,
             "#d8576b"
            ],
            [
             0.6666666666666666,
             "#ed7953"
            ],
            [
             0.7777777777777778,
             "#fb9f3a"
            ],
            [
             0.8888888888888888,
             "#fdca26"
            ],
            [
             1,
             "#f0f921"
            ]
           ],
           "sequentialminus": [
            [
             0,
             "#0d0887"
            ],
            [
             0.1111111111111111,
             "#46039f"
            ],
            [
             0.2222222222222222,
             "#7201a8"
            ],
            [
             0.3333333333333333,
             "#9c179e"
            ],
            [
             0.4444444444444444,
             "#bd3786"
            ],
            [
             0.5555555555555556,
             "#d8576b"
            ],
            [
             0.6666666666666666,
             "#ed7953"
            ],
            [
             0.7777777777777778,
             "#fb9f3a"
            ],
            [
             0.8888888888888888,
             "#fdca26"
            ],
            [
             1,
             "#f0f921"
            ]
           ]
          },
          "colorway": [
           "#636efa",
           "#EF553B",
           "#00cc96",
           "#ab63fa",
           "#FFA15A",
           "#19d3f3",
           "#FF6692",
           "#B6E880",
           "#FF97FF",
           "#FECB52"
          ],
          "font": {
           "color": "#2a3f5f"
          },
          "geo": {
           "bgcolor": "white",
           "lakecolor": "white",
           "landcolor": "#E5ECF6",
           "showlakes": true,
           "showland": true,
           "subunitcolor": "white"
          },
          "hoverlabel": {
           "align": "left"
          },
          "hovermode": "closest",
          "mapbox": {
           "style": "light"
          },
          "paper_bgcolor": "white",
          "plot_bgcolor": "#E5ECF6",
          "polar": {
           "angularaxis": {
            "gridcolor": "white",
            "linecolor": "white",
            "ticks": ""
           },
           "bgcolor": "#E5ECF6",
           "radialaxis": {
            "gridcolor": "white",
            "linecolor": "white",
            "ticks": ""
           }
          },
          "scene": {
           "xaxis": {
            "backgroundcolor": "#E5ECF6",
            "gridcolor": "white",
            "gridwidth": 2,
            "linecolor": "white",
            "showbackground": true,
            "ticks": "",
            "zerolinecolor": "white"
           },
           "yaxis": {
            "backgroundcolor": "#E5ECF6",
            "gridcolor": "white",
            "gridwidth": 2,
            "linecolor": "white",
            "showbackground": true,
            "ticks": "",
            "zerolinecolor": "white"
           },
           "zaxis": {
            "backgroundcolor": "#E5ECF6",
            "gridcolor": "white",
            "gridwidth": 2,
            "linecolor": "white",
            "showbackground": true,
            "ticks": "",
            "zerolinecolor": "white"
           }
          },
          "shapedefaults": {
           "line": {
            "color": "#2a3f5f"
           }
          },
          "ternary": {
           "aaxis": {
            "gridcolor": "white",
            "linecolor": "white",
            "ticks": ""
           },
           "baxis": {
            "gridcolor": "white",
            "linecolor": "white",
            "ticks": ""
           },
           "bgcolor": "#E5ECF6",
           "caxis": {
            "gridcolor": "white",
            "linecolor": "white",
            "ticks": ""
           }
          },
          "title": {
           "x": 0.05
          },
          "xaxis": {
           "automargin": true,
           "gridcolor": "white",
           "linecolor": "white",
           "ticks": "",
           "title": {
            "standoff": 15
           },
           "zerolinecolor": "white",
           "zerolinewidth": 2
          },
          "yaxis": {
           "automargin": true,
           "gridcolor": "white",
           "linecolor": "white",
           "ticks": "",
           "title": {
            "standoff": 15
           },
           "zerolinecolor": "white",
           "zerolinewidth": 2
          }
         }
        },
        "title": {
         "text": "<b>RoB 2</b>",
         "x": 0.5,
         "xanchor": "center",
         "y": 0.9,
         "yanchor": "top"
        },
        "xaxis": {
         "domain": [
          0.15,
          1
         ],
         "showgrid": false,
         "showline": false,
         "showticklabels": false,
         "zeroline": false
        },
        "yaxis": {
         "showgrid": false,
         "showline": false,
         "showticklabels": false,
         "zeroline": false
        }
       }
      }
     },
     "metadata": {},
     "output_type": "display_data"
    }
   ],
   "source": [
    "# Define the labels for the different levels of 'Overall_judgement'\n",
    "top_labels = ['Low', 'Some concerns', 'High']\n",
    "\n",
    "# Define a nontransparent color palette for the different levels\n",
    "colors = ['rgb(66, 181, 64)', 'rgb(244, 222, 137)', 'rgb(237, 0, 0)']\n",
    "\n",
    "# Define font colors for each level of 'Overall_judgement'\n",
    "font_colors = ['rgb(27, 25, 25)', 'rgb(27, 25, 25)', 'white']\n",
    "\n",
    "\n",
    "# Create a concatenated DataFrame for x-axis data\n",
    "x_data = pd.concat([\n",
    "    df_rob2.Overall_judgement.value_counts(normalize=True).mul(100).round(1),  # Calculate normalized percentages for 'Overall_judgement'\n",
    "    df_rob2.Domain5.value_counts(normalize=True).mul(100).round(1),  # Calculate normalized percentages for 'Domain5'\n",
    "    df_rob2.Domain4.value_counts(normalize=True).mul(100).round(1),  # Calculate normalized percentages for 'Domain4'\n",
    "    df_rob2.Domain3.value_counts(normalize=True).mul(100).round(1),  # Calculate normalized percentages for 'Domain3'\n",
    "    df_rob2.Domain2.value_counts(normalize=True).mul(100).round(1),  # Calculate normalized percentages for 'Domain2'\n",
    "    df_rob2.Domain1.value_counts(normalize=True).mul(100).round(1)   # Calculate normalized percentages for 'Domain1'\n",
    "], axis=1).reindex(top_labels[:2]).T.fillna(0).to_numpy()\n",
    "\n",
    "# Define y-axis labels for the different domains\n",
    "y_data = [\n",
    "    '<b>Overall judgement</b>', \n",
    "    'Domain 5. Selection of the<br>reported result',  \n",
    "    'Domain 4. Measurement of<br>the outcome',  \n",
    "    'Domain 3. Missing outcome data',  \n",
    "    'Domain 2. Deviations from<br>intended interventions',  \n",
    "    'Domain 1. Randomization process'  \n",
    "]\n",
    "\n",
    "\n",
    "# Create a new figure using Plotly\n",
    "fig2b = go.Figure()\n",
    "\n",
    "# Iterate over each index in the x_data arrays\n",
    "for i in range(0, len(x_data[0])):\n",
    "    # Iterate over the x_data and y_data lists simultaneously\n",
    "    for xd, yd in zip(x_data, y_data):\n",
    "        # Add a horizontal bar trace for each data point\n",
    "        fig2b.add_trace(go.Bar(\n",
    "            x=[xd[i]],  # Set the x-coordinate (width) of the bar\n",
    "            y=[yd],  # Set the y-coordinate (label) of the bar\n",
    "            orientation='h',  # Set the orientation to horizontal\n",
    "            marker=dict(\n",
    "                color=colors[i],  # Set the color of the bar\n",
    "                line=dict(color='rgb(248, 248, 249)', width=1)  # Set the bar border color and width\n",
    "            )\n",
    "        ))\n",
    "\n",
    "\n",
    "# Update the layout properties of the figure\n",
    "fig2b.update_layout(\n",
    "    xaxis=dict(\n",
    "        showgrid=False,\n",
    "        showline=False,\n",
    "        showticklabels=False,\n",
    "        zeroline=False,\n",
    "        domain=[0.15, 1]  # Set the domain for the x-axis (position within the figure)\n",
    "    ),\n",
    "    yaxis=dict(\n",
    "        showgrid=False,\n",
    "        showline=False,\n",
    "        showticklabels=False,\n",
    "        zeroline=False,\n",
    "    ),\n",
    "    barmode='stack',  # Set the bar mode to 'stack' for stacked bars\n",
    "    paper_bgcolor='rgb(248, 248, 255)',  # Set the background color of the plot area\n",
    "    plot_bgcolor='rgb(248, 248, 255)',  # Set the background color of the entire plot\n",
    "    margin=dict(l=120, r=10, t=140, b=80),  # Set the margins around the plot area\n",
    "    showlegend=False,  # Hide the legend\n",
    ")\n",
    "\n",
    "\n",
    "annotations = []\n",
    "\n",
    "for yd, xd in zip(y_data, x_data):\n",
    "    # labeling the y-axis\n",
    "    annotations.append(dict(xref='paper', yref='y',\n",
    "                            x=0.14, y=yd,\n",
    "                            xanchor='right',\n",
    "                            text=str(yd),\n",
    "                            font=dict(family='Arial', size=14,\n",
    "                                      color='rgb(67, 67, 67)'),\n",
    "                            showarrow=False, align='right'))\n",
    "    # labeling the first percentage of each bar (x_axis)\n",
    "    annotations.append(dict(xref='x', yref='y',\n",
    "                            x=xd[0] / 2, y=yd,\n",
    "                            text=str(xd[0].round(0))[:-2] + '%',\n",
    "                            font=dict(family='Arial', size=14,\n",
    "                                      color='rgb(27, 25, 25)'),\n",
    "                            showarrow=False))\n",
    "    # labeling the first Likert scale (on the top)\n",
    "    if yd == y_data[-1]:\n",
    "        annotations.append(dict(xref='x', yref='paper',\n",
    "                                x=xd[0] / 2, y=1.1,\n",
    "                                text=top_labels[0],\n",
    "                                font=dict(family='Arial', size=14,\n",
    "                                          color='rgb(27, 25, 25)'),\n",
    "                                showarrow=False))\n",
    "    space = xd[0]\n",
    "    for i in range(1, len(xd)):\n",
    "            # labeling the rest of percentages for each bar (x_axis)\n",
    "            annotations.append(dict(xref='x', yref='y',\n",
    "                                    x=space + (xd[i]/2), y=yd,\n",
    "                                    text=str(xd[i].round(0))[:-2] + '%',\n",
    "                                    font=dict(family='Arial', size=14,\n",
    "                                              color=font_colors[i]),\n",
    "                                    showarrow=False))\n",
    "            # labeling the Likert scale\n",
    "            if yd == y_data[-1]:\n",
    "                annotations.append(dict(xref='x', yref='paper',\n",
    "                                        x=80, y=1.1,\n",
    "                                        text=top_labels[i],\n",
    "                                        font=dict(family='Arial', size=14,\n",
    "                                                  color='rgb(27, 25, 25)'),\n",
    "                                        showarrow=False))\n",
    "            space += xd[i]\n",
    "\n",
    "# Update the layout properties of the figure with annotations\n",
    "fig2b.update_layout(annotations=annotations)\n",
    "\n",
    "# Update the layout properties of the figure with a title and font settings\n",
    "fig2b.update_layout(title={\n",
    "        'text': '<b>RoB 2</b>',\n",
    "        'y':0.9,\n",
    "        'x':0.5,\n",
    "        'xanchor': 'center',\n",
    "        'yanchor': 'top'\n",
    "    },\n",
    "    font={\n",
    "        'family': 'Arial',\n",
    "        'color': 'rgb(27, 25, 25)',\n",
    "        'size': 14\n",
    "})\n",
    "\n",
    "#Config plot resolution\n",
    "config = {\n",
    "  'toImageButtonOptions': {\n",
    "    'format': 'png', # one of png, svg, jpeg, webp\n",
    "    'filename': 'fig2b',\n",
    "    'scale':6 # Multiply title/legend/axis/canvas sizes by this factor\n",
    "  }\n",
    "}\n",
    "\n",
    "fig2b.show(config=config)\n",
    "\n",
    "#TODO: Add \"N={study count}\" to trace labels on-hover, so folks can see that N of studies was very low in RoB 2 (vs. ROBINS-I)"
   ]
  },
  {
   "cell_type": "markdown",
   "metadata": {
    "id": "XGPkGITuiYYz"
   },
   "source": [
    "### **Figure 3. Proportion meta-analysis by treatment and region.**"
   ]
  },
  {
   "cell_type": "markdown",
   "metadata": {},
   "source": [
    "In this section, we present a meta-analysis that focuses on treatment proportions, segmented by region."
   ]
  },
  {
   "cell_type": "code",
   "execution_count": 15,
   "metadata": {
    "colab": {
     "base_uri": "https://localhost:8080/"
    },
    "id": "1USqKPc4RhPy",
    "outputId": "48020cef-d46c-46aa-ec52-27071bd1ccbc"
   },
   "outputs": [
    {
     "name": "stdout",
     "output_type": "stream",
     "text": [
      "Requirement already satisfied: xlrd in /opt/homebrew/lib/python3.11/site-packages (2.0.1)\n",
      "\n",
      "\u001b[1m[\u001b[0m\u001b[34;49mnotice\u001b[0m\u001b[1;39;49m]\u001b[0m\u001b[39;49m A new release of pip is available: \u001b[0m\u001b[31;49m23.0.1\u001b[0m\u001b[39;49m -> \u001b[0m\u001b[32;49m23.2.1\u001b[0m\n",
      "\u001b[1m[\u001b[0m\u001b[34;49mnotice\u001b[0m\u001b[1;39;49m]\u001b[0m\u001b[39;49m To update, run: \u001b[0m\u001b[32;49mpython3.11 -m pip install --upgrade pip\u001b[0m\n",
      "Requirement already satisfied: numpy in /opt/homebrew/lib/python3.11/site-packages (1.24.2)\n",
      "\n",
      "\u001b[1m[\u001b[0m\u001b[34;49mnotice\u001b[0m\u001b[1;39;49m]\u001b[0m\u001b[39;49m A new release of pip is available: \u001b[0m\u001b[31;49m23.0.1\u001b[0m\u001b[39;49m -> \u001b[0m\u001b[32;49m23.2.1\u001b[0m\n",
      "\u001b[1m[\u001b[0m\u001b[34;49mnotice\u001b[0m\u001b[1;39;49m]\u001b[0m\u001b[39;49m To update, run: \u001b[0m\u001b[32;49mpython3.11 -m pip install --upgrade pip\u001b[0m\n",
      "Requirement already satisfied: pandas in /opt/homebrew/lib/python3.11/site-packages (1.5.3)\n",
      "Requirement already satisfied: python-dateutil>=2.8.1 in /opt/homebrew/lib/python3.11/site-packages (from pandas) (2.8.2)\n",
      "Requirement already satisfied: pytz>=2020.1 in /opt/homebrew/lib/python3.11/site-packages (from pandas) (2022.7.1)\n",
      "Requirement already satisfied: numpy>=1.21.0 in /opt/homebrew/lib/python3.11/site-packages (from pandas) (1.24.2)\n",
      "Requirement already satisfied: six>=1.5 in /opt/homebrew/lib/python3.11/site-packages (from python-dateutil>=2.8.1->pandas) (1.16.0)\n",
      "\n",
      "\u001b[1m[\u001b[0m\u001b[34;49mnotice\u001b[0m\u001b[1;39;49m]\u001b[0m\u001b[39;49m A new release of pip is available: \u001b[0m\u001b[31;49m23.0.1\u001b[0m\u001b[39;49m -> \u001b[0m\u001b[32;49m23.2.1\u001b[0m\n",
      "\u001b[1m[\u001b[0m\u001b[34;49mnotice\u001b[0m\u001b[1;39;49m]\u001b[0m\u001b[39;49m To update, run: \u001b[0m\u001b[32;49mpython3.11 -m pip install --upgrade pip\u001b[0m\n",
      "Requirement already satisfied: plotly in /opt/homebrew/lib/python3.11/site-packages (5.16.1)\n",
      "Requirement already satisfied: tenacity>=6.2.0 in /opt/homebrew/lib/python3.11/site-packages (from plotly) (8.2.3)\n",
      "Requirement already satisfied: packaging in /opt/homebrew/lib/python3.11/site-packages (from plotly) (23.0)\n",
      "\n",
      "\u001b[1m[\u001b[0m\u001b[34;49mnotice\u001b[0m\u001b[1;39;49m]\u001b[0m\u001b[39;49m A new release of pip is available: \u001b[0m\u001b[31;49m23.0.1\u001b[0m\u001b[39;49m -> \u001b[0m\u001b[32;49m23.2.1\u001b[0m\n",
      "\u001b[1m[\u001b[0m\u001b[34;49mnotice\u001b[0m\u001b[1;39;49m]\u001b[0m\u001b[39;49m To update, run: \u001b[0m\u001b[32;49mpython3.11 -m pip install --upgrade pip\u001b[0m\n",
      "Requirement already satisfied: rpy2==3.5.1 in /opt/homebrew/lib/python3.11/site-packages (3.5.1)\n",
      "Requirement already satisfied: cffi>=1.10.0 in /opt/homebrew/lib/python3.11/site-packages (from rpy2==3.5.1) (1.15.1)\n",
      "Requirement already satisfied: jinja2 in /opt/homebrew/lib/python3.11/site-packages (from rpy2==3.5.1) (3.1.2)\n",
      "Requirement already satisfied: pytz in /opt/homebrew/lib/python3.11/site-packages (from rpy2==3.5.1) (2022.7.1)\n",
      "Requirement already satisfied: tzlocal in /opt/homebrew/lib/python3.11/site-packages (from rpy2==3.5.1) (5.0.1)\n",
      "Requirement already satisfied: pycparser in /opt/homebrew/lib/python3.11/site-packages (from cffi>=1.10.0->rpy2==3.5.1) (2.21)\n",
      "Requirement already satisfied: MarkupSafe>=2.0 in /opt/homebrew/lib/python3.11/site-packages (from jinja2->rpy2==3.5.1) (2.1.3)\n",
      "\n",
      "\u001b[1m[\u001b[0m\u001b[34;49mnotice\u001b[0m\u001b[1;39;49m]\u001b[0m\u001b[39;49m A new release of pip is available: \u001b[0m\u001b[31;49m23.0.1\u001b[0m\u001b[39;49m -> \u001b[0m\u001b[32;49m23.2.1\u001b[0m\n",
      "\u001b[1m[\u001b[0m\u001b[34;49mnotice\u001b[0m\u001b[1;39;49m]\u001b[0m\u001b[39;49m To update, run: \u001b[0m\u001b[32;49mpython3.11 -m pip install --upgrade pip\u001b[0m\n",
      "Requirement already satisfied: jupyter-dash in /opt/homebrew/lib/python3.11/site-packages (0.4.2)\n",
      "Requirement already satisfied: nbformat in /opt/homebrew/lib/python3.11/site-packages (5.9.2)\n",
      "Requirement already satisfied: dash in /opt/homebrew/lib/python3.11/site-packages (from jupyter-dash) (2.13.0)\n",
      "Requirement already satisfied: requests in /opt/homebrew/lib/python3.11/site-packages (from jupyter-dash) (2.31.0)\n",
      "Requirement already satisfied: flask in /opt/homebrew/lib/python3.11/site-packages (from jupyter-dash) (2.2.5)\n",
      "Requirement already satisfied: retrying in /opt/homebrew/lib/python3.11/site-packages (from jupyter-dash) (1.3.4)\n",
      "Requirement already satisfied: ipython in /Users/noor/Library/Python/3.11/lib/python/site-packages (from jupyter-dash) (8.14.0)\n",
      "Requirement already satisfied: ipykernel in /Users/noor/Library/Python/3.11/lib/python/site-packages (from jupyter-dash) (6.25.1)\n",
      "Requirement already satisfied: ansi2html in /opt/homebrew/lib/python3.11/site-packages (from jupyter-dash) (1.8.0)\n",
      "Requirement already satisfied: nest-asyncio in /Users/noor/Library/Python/3.11/lib/python/site-packages (from jupyter-dash) (1.5.7)\n",
      "Requirement already satisfied: fastjsonschema in /opt/homebrew/lib/python3.11/site-packages (from nbformat) (2.18.0)\n",
      "Requirement already satisfied: jsonschema>=2.6 in /opt/homebrew/lib/python3.11/site-packages (from nbformat) (4.19.0)\n",
      "Requirement already satisfied: jupyter-core in /Users/noor/Library/Python/3.11/lib/python/site-packages (from nbformat) (5.3.1)\n",
      "Requirement already satisfied: traitlets>=5.1 in /Users/noor/Library/Python/3.11/lib/python/site-packages (from nbformat) (5.9.0)\n",
      "Requirement already satisfied: attrs>=22.2.0 in /opt/homebrew/lib/python3.11/site-packages (from jsonschema>=2.6->nbformat) (23.1.0)\n",
      "Requirement already satisfied: jsonschema-specifications>=2023.03.6 in /opt/homebrew/lib/python3.11/site-packages (from jsonschema>=2.6->nbformat) (2023.7.1)\n",
      "Requirement already satisfied: referencing>=0.28.4 in /opt/homebrew/lib/python3.11/site-packages (from jsonschema>=2.6->nbformat) (0.30.2)\n",
      "Requirement already satisfied: rpds-py>=0.7.1 in /opt/homebrew/lib/python3.11/site-packages (from jsonschema>=2.6->nbformat) (0.10.0)\n",
      "Requirement already satisfied: Werkzeug<2.3.0 in /opt/homebrew/lib/python3.11/site-packages (from dash->jupyter-dash) (2.2.3)\n",
      "Requirement already satisfied: plotly>=5.0.0 in /opt/homebrew/lib/python3.11/site-packages (from dash->jupyter-dash) (5.16.1)\n",
      "Requirement already satisfied: dash-html-components==2.0.0 in /opt/homebrew/lib/python3.11/site-packages (from dash->jupyter-dash) (2.0.0)\n",
      "Requirement already satisfied: dash-core-components==2.0.0 in /opt/homebrew/lib/python3.11/site-packages (from dash->jupyter-dash) (2.0.0)\n",
      "Requirement already satisfied: dash-table==5.0.0 in /opt/homebrew/lib/python3.11/site-packages (from dash->jupyter-dash) (5.0.0)\n",
      "Requirement already satisfied: typing-extensions>=4.1.1 in /opt/homebrew/lib/python3.11/site-packages (from dash->jupyter-dash) (4.7.1)\n",
      "Requirement already satisfied: setuptools in /opt/homebrew/lib/python3.11/site-packages (from dash->jupyter-dash) (67.6.1)\n",
      "Requirement already satisfied: Jinja2>=3.0 in /opt/homebrew/lib/python3.11/site-packages (from flask->jupyter-dash) (3.1.2)\n",
      "Requirement already satisfied: itsdangerous>=2.0 in /opt/homebrew/lib/python3.11/site-packages (from flask->jupyter-dash) (2.1.2)\n",
      "Requirement already satisfied: click>=8.0 in /opt/homebrew/lib/python3.11/site-packages (from flask->jupyter-dash) (8.1.7)\n",
      "Requirement already satisfied: appnope in /Users/noor/Library/Python/3.11/lib/python/site-packages (from ipykernel->jupyter-dash) (0.1.3)\n",
      "Requirement already satisfied: comm>=0.1.1 in /Users/noor/Library/Python/3.11/lib/python/site-packages (from ipykernel->jupyter-dash) (0.1.4)\n",
      "Requirement already satisfied: debugpy>=1.6.5 in /Users/noor/Library/Python/3.11/lib/python/site-packages (from ipykernel->jupyter-dash) (1.6.7.post1)\n",
      "Requirement already satisfied: jupyter-client>=6.1.12 in /Users/noor/Library/Python/3.11/lib/python/site-packages (from ipykernel->jupyter-dash) (8.3.0)\n",
      "Requirement already satisfied: matplotlib-inline>=0.1 in /Users/noor/Library/Python/3.11/lib/python/site-packages (from ipykernel->jupyter-dash) (0.1.6)\n",
      "Requirement already satisfied: packaging in /opt/homebrew/lib/python3.11/site-packages (from ipykernel->jupyter-dash) (23.0)\n",
      "Requirement already satisfied: psutil in /Users/noor/Library/Python/3.11/lib/python/site-packages (from ipykernel->jupyter-dash) (5.9.5)\n",
      "Requirement already satisfied: pyzmq>=20 in /Users/noor/Library/Python/3.11/lib/python/site-packages (from ipykernel->jupyter-dash) (25.1.1)\n",
      "Requirement already satisfied: tornado>=6.1 in /Users/noor/Library/Python/3.11/lib/python/site-packages (from ipykernel->jupyter-dash) (6.3.3)\n",
      "Requirement already satisfied: backcall in /Users/noor/Library/Python/3.11/lib/python/site-packages (from ipython->jupyter-dash) (0.2.0)\n",
      "Requirement already satisfied: decorator in /Users/noor/Library/Python/3.11/lib/python/site-packages (from ipython->jupyter-dash) (5.1.1)\n",
      "Requirement already satisfied: jedi>=0.16 in /Users/noor/Library/Python/3.11/lib/python/site-packages (from ipython->jupyter-dash) (0.19.0)\n",
      "Requirement already satisfied: pickleshare in /Users/noor/Library/Python/3.11/lib/python/site-packages (from ipython->jupyter-dash) (0.7.5)\n",
      "Requirement already satisfied: prompt-toolkit!=3.0.37,<3.1.0,>=3.0.30 in /Users/noor/Library/Python/3.11/lib/python/site-packages (from ipython->jupyter-dash) (3.0.39)\n",
      "Requirement already satisfied: pygments>=2.4.0 in /Users/noor/Library/Python/3.11/lib/python/site-packages (from ipython->jupyter-dash) (2.16.1)\n",
      "Requirement already satisfied: stack-data in /Users/noor/Library/Python/3.11/lib/python/site-packages (from ipython->jupyter-dash) (0.6.2)\n",
      "Requirement already satisfied: pexpect>4.3 in /Users/noor/Library/Python/3.11/lib/python/site-packages (from ipython->jupyter-dash) (4.8.0)\n",
      "Requirement already satisfied: platformdirs>=2.5 in /Users/noor/Library/Python/3.11/lib/python/site-packages (from jupyter-core->nbformat) (3.10.0)\n",
      "Requirement already satisfied: charset-normalizer<4,>=2 in /opt/homebrew/lib/python3.11/site-packages (from requests->jupyter-dash) (3.2.0)\n",
      "Requirement already satisfied: idna<4,>=2.5 in /opt/homebrew/lib/python3.11/site-packages (from requests->jupyter-dash) (3.4)\n",
      "Requirement already satisfied: urllib3<3,>=1.21.1 in /opt/homebrew/lib/python3.11/site-packages (from requests->jupyter-dash) (2.0.4)\n",
      "Requirement already satisfied: certifi>=2017.4.17 in /opt/homebrew/lib/python3.11/site-packages (from requests->jupyter-dash) (2023.7.22)\n",
      "Requirement already satisfied: six>=1.7.0 in /opt/homebrew/lib/python3.11/site-packages (from retrying->jupyter-dash) (1.16.0)\n",
      "Requirement already satisfied: parso<0.9.0,>=0.8.3 in /Users/noor/Library/Python/3.11/lib/python/site-packages (from jedi>=0.16->ipython->jupyter-dash) (0.8.3)\n",
      "Requirement already satisfied: MarkupSafe>=2.0 in /opt/homebrew/lib/python3.11/site-packages (from Jinja2>=3.0->flask->jupyter-dash) (2.1.3)\n",
      "Requirement already satisfied: python-dateutil>=2.8.2 in /opt/homebrew/lib/python3.11/site-packages (from jupyter-client>=6.1.12->ipykernel->jupyter-dash) (2.8.2)\n",
      "Requirement already satisfied: ptyprocess>=0.5 in /Users/noor/Library/Python/3.11/lib/python/site-packages (from pexpect>4.3->ipython->jupyter-dash) (0.7.0)\n",
      "Requirement already satisfied: tenacity>=6.2.0 in /opt/homebrew/lib/python3.11/site-packages (from plotly>=5.0.0->dash->jupyter-dash) (8.2.3)\n",
      "Requirement already satisfied: wcwidth in /Users/noor/Library/Python/3.11/lib/python/site-packages (from prompt-toolkit!=3.0.37,<3.1.0,>=3.0.30->ipython->jupyter-dash) (0.2.6)\n",
      "Requirement already satisfied: executing>=1.2.0 in /Users/noor/Library/Python/3.11/lib/python/site-packages (from stack-data->ipython->jupyter-dash) (1.2.0)\n",
      "Requirement already satisfied: asttokens>=2.1.0 in /Users/noor/Library/Python/3.11/lib/python/site-packages (from stack-data->ipython->jupyter-dash) (2.2.1)\n",
      "Requirement already satisfied: pure-eval in /Users/noor/Library/Python/3.11/lib/python/site-packages (from stack-data->ipython->jupyter-dash) (0.2.2)\n",
      "\n",
      "\u001b[1m[\u001b[0m\u001b[34;49mnotice\u001b[0m\u001b[1;39;49m]\u001b[0m\u001b[39;49m A new release of pip is available: \u001b[0m\u001b[31;49m23.0.1\u001b[0m\u001b[39;49m -> \u001b[0m\u001b[32;49m23.2.1\u001b[0m\n",
      "\u001b[1m[\u001b[0m\u001b[34;49mnotice\u001b[0m\u001b[1;39;49m]\u001b[0m\u001b[39;49m To update, run: \u001b[0m\u001b[32;49mpython3.11 -m pip install --upgrade pip\u001b[0m\n",
      "\n",
      "R version 4.2.2 (2022-10-31) -- \"Innocent and Trusting\"\n",
      "Copyright (C) 2022 The R Foundation for Statistical Computing\n",
      "Platform: aarch64-apple-darwin20 (64-bit)\n",
      "\n",
      "R is free software and comes with ABSOLUTELY NO WARRANTY.\n",
      "You are welcome to redistribute it under certain conditions.\n",
      "Type 'license()' or 'licence()' for distribution details.\n",
      "\n",
      "  Natural language support but running in an English locale\n",
      "\n",
      "R is a collaborative project with many contributors.\n",
      "Type 'contributors()' for more information and\n",
      "'citation()' on how to cite R or R packages in publications.\n",
      "\n",
      "Type 'demo()' for some demos, 'help()' for on-line help, or\n",
      "'help.start()' for an HTML browser interface to help.\n",
      "Type 'q()' to quit R.\n",
      "\n",
      "> install.packages(\"metafor\", repos=\"https://cran.rstudio.com\")\n",
      "trying URL 'https://cran.rstudio.com/bin/macosx/big-sur-arm64/contrib/4.2/metafor_4.2-0.tgz'\n",
      "Content type 'application/x-gzip' length 4990335 bytes (4.8 MB)\n",
      "==================================================\n",
      "downloaded 4.8 MB\n",
      "\n",
      "\n",
      "The downloaded binary packages are in\n",
      "\t/var/folders/sk/sy9ttjr53fjfkmt13qcrdcf00000gn/T//RtmpIIbFcH/downloaded_packages\n",
      "> \n",
      "\n",
      "R version 4.2.2 (2022-10-31) -- \"Innocent and Trusting\"\n",
      "Copyright (C) 2022 The R Foundation for Statistical Computing\n",
      "Platform: aarch64-apple-darwin20 (64-bit)\n",
      "\n",
      "R is free software and comes with ABSOLUTELY NO WARRANTY.\n",
      "You are welcome to redistribute it under certain conditions.\n",
      "Type 'license()' or 'licence()' for distribution details.\n",
      "\n",
      "  Natural language support but running in an English locale\n",
      "\n",
      "R is a collaborative project with many contributors.\n",
      "Type 'contributors()' for more information and\n",
      "'citation()' on how to cite R or R packages in publications.\n",
      "\n",
      "Type 'demo()' for some demos, 'help()' for on-line help, or\n",
      "'help.start()' for an HTML browser interface to help.\n",
      "Type 'q()' to quit R.\n",
      "\n",
      "> install.packages(\"multcomp\", repos=\"https://cran.rstudio.com\")\n",
      "trying URL 'https://cran.rstudio.com/bin/macosx/big-sur-arm64/contrib/4.2/multcomp_1.4-25.tgz'\n",
      "Content type 'application/x-gzip' length 735446 bytes (718 KB)\n",
      "==================================================\n",
      "downloaded 718 KB\n",
      "\n",
      "\n",
      "The downloaded binary packages are in\n",
      "\t/var/folders/sk/sy9ttjr53fjfkmt13qcrdcf00000gn/T//RtmpUjx6UJ/downloaded_packages\n",
      "> \n"
     ]
    }
   ],
   "source": [
    "!pip install xlrd\n",
    "!pip install numpy\n",
    "!pip install pandas\n",
    "!pip install plotly\n",
    "!pip install rpy2==3.5.1\n",
    "!pip install jupyter-dash nbformat\n",
    "!echo \"install.packages(\\\"metafor\\\", repos=\\\"https://cran.rstudio.com\\\")\" | R --no-save\n",
    "!echo \"install.packages(\\\"multcomp\\\", repos=\\\"https://cran.rstudio.com\\\")\" | R --no-save"
   ]
  },
  {
   "cell_type": "code",
   "execution_count": 1,
   "metadata": {
    "id": "K3YFE9unRzGR"
   },
   "outputs": [],
   "source": [
    "import numpy as np\n",
    "import pandas as pd\n",
    "import plotly.colors\n",
    "import rpy2.robjects\n",
    "from pprint import pprint\n",
    "import plotly.express as px\n",
    "from scipy.stats import binomtest\n",
    "import plotly.graph_objects as go\n",
    "from rpy2.robjects import pandas2ri\n",
    "from plotly.subplots import make_subplots\n",
    "from rpy2.robjects.packages import importr\n",
    "from rpy2.robjects.conversion import localconverter"
   ]
  },
  {
   "cell_type": "markdown",
   "metadata": {},
   "source": [
    "`df_forest`, provides a detailed overview of various studies related to specific outcomes in medical treatments. Each row in the dataframe corresponds to a particular study, uniquely identified by an `IID`. An accompanying `URL` column offers a hyperlink to the study's DOI for easy reference. The dataframe captures essential treatment outcomes. Each of these outcomes is associated with a specific treatment type, which is captured in the `Treatment` column. Treatments range from conservative approaches to various surgical procedures like VPS, ETV, and ETV_CPC, among others. Moreover, the dataframe reflects the outcome-specific number of subgroups (or participants) from each study. In instances where this number isn't directly available, the dataframe defaults to the total number of participants from the original study. This comprehensive summary serves as a valuable resource for understanding and comparing treatment outcomes across multiple studies."
   ]
  },
  {
   "cell_type": "code",
   "execution_count": 4,
   "metadata": {
    "colab": {
     "base_uri": "https://localhost:8080/",
     "height": 996
    },
    "id": "1jeDDXTuieOh",
    "outputId": "1733787f-1bc3-472e-d8ff-65bcb198d57e"
   },
   "outputs": [
    {
     "name": "stderr",
     "output_type": "stream",
     "text": [
      "/var/folders/sk/sy9ttjr53fjfkmt13qcrdcf00000gn/T/ipykernel_43004/1177479788.py:7: FutureWarning: Not prepending group keys to the result index of transform-like apply. In the future, the group keys will be included in the index, regardless of whether the applied function returns a like-indexed object.\n",
      "To preserve the previous behavior, use\n",
      "\n",
      "\t>>> .groupby(..., group_keys=False)\n",
      "\n",
      "To adopt the future behavior and silence this warning, use \n",
      "\n",
      "\t>>> .groupby(..., group_keys=True)\n",
      "  df_forest['Study'] = df_forest.groupby('Study')['Study'].apply(\n"
     ]
    },
    {
     "data": {
      "text/html": [
       "<div>\n",
       "<style scoped>\n",
       "    .dataframe tbody tr th:only-of-type {\n",
       "        vertical-align: middle;\n",
       "    }\n",
       "\n",
       "    .dataframe tbody tr th {\n",
       "        vertical-align: top;\n",
       "    }\n",
       "\n",
       "    .dataframe thead th {\n",
       "        text-align: right;\n",
       "    }\n",
       "</style>\n",
       "<table border=\"1\" class=\"dataframe\">\n",
       "  <thead>\n",
       "    <tr style=\"text-align: right;\">\n",
       "      <th></th>\n",
       "      <th>IID</th>\n",
       "      <th>Study</th>\n",
       "      <th>URL</th>\n",
       "      <th>Outcome</th>\n",
       "      <th>Rate</th>\n",
       "      <th>Year_of_publication</th>\n",
       "      <th>Income_group</th>\n",
       "      <th>Region</th>\n",
       "      <th>Country</th>\n",
       "      <th>Study_design</th>\n",
       "      <th>...</th>\n",
       "      <th>N_female</th>\n",
       "      <th>N_male</th>\n",
       "      <th>Age_mean</th>\n",
       "      <th>Age_median</th>\n",
       "      <th>Age_sd</th>\n",
       "      <th>Age_range</th>\n",
       "      <th>Years_of_data_collection</th>\n",
       "      <th>Publication_language</th>\n",
       "      <th>Treatment</th>\n",
       "      <th>N_subgroups</th>\n",
       "    </tr>\n",
       "  </thead>\n",
       "  <tbody>\n",
       "    <tr>\n",
       "      <th>0</th>\n",
       "      <td>ID 4</td>\n",
       "      <td>Sacar et al., 2006</td>\n",
       "      <td>&lt;a style='color:inherit' href='https://doi.org...</td>\n",
       "      <td>Mortality_intraop_1st_line</td>\n",
       "      <td>0.0</td>\n",
       "      <td>2006</td>\n",
       "      <td>Upper middle income</td>\n",
       "      <td>Europe &amp; Central Asia</td>\n",
       "      <td>Turkey</td>\n",
       "      <td>Retrospective study (unspecified)</td>\n",
       "      <td>...</td>\n",
       "      <td>3.0</td>\n",
       "      <td>4.0</td>\n",
       "      <td>45.56</td>\n",
       "      <td>NaN</td>\n",
       "      <td>NaN</td>\n",
       "      <td>NaN</td>\n",
       "      <td>2000-2004</td>\n",
       "      <td>English</td>\n",
       "      <td>VPS</td>\n",
       "      <td>7</td>\n",
       "    </tr>\n",
       "    <tr>\n",
       "      <th>1</th>\n",
       "      <td>ID 5</td>\n",
       "      <td>Clemmensen et al., 2010</td>\n",
       "      <td>&lt;a style='color:inherit' href='https://doi.org...</td>\n",
       "      <td>Mortality_intraop_1st_line</td>\n",
       "      <td>0.0</td>\n",
       "      <td>2010</td>\n",
       "      <td>High income</td>\n",
       "      <td>Europe &amp; Central Asia</td>\n",
       "      <td>Denmark</td>\n",
       "      <td>Retrospective study (unspecified)</td>\n",
       "      <td>...</td>\n",
       "      <td>NaN</td>\n",
       "      <td>NaN</td>\n",
       "      <td>NaN</td>\n",
       "      <td>NaN</td>\n",
       "      <td>NaN</td>\n",
       "      <td>NaN</td>\n",
       "      <td>1983-2007</td>\n",
       "      <td>English</td>\n",
       "      <td>VPS</td>\n",
       "      <td>59</td>\n",
       "    </tr>\n",
       "    <tr>\n",
       "      <th>2</th>\n",
       "      <td>ID 6</td>\n",
       "      <td>Sandquist et al., 2003</td>\n",
       "      <td>&lt;a style='color:inherit' href='https://doi.org...</td>\n",
       "      <td>Mortality_intraop_1st_line</td>\n",
       "      <td>0.0</td>\n",
       "      <td>2003</td>\n",
       "      <td>High income</td>\n",
       "      <td>North America</td>\n",
       "      <td>United States</td>\n",
       "      <td>Prospective study (unspecified)</td>\n",
       "      <td>...</td>\n",
       "      <td>NaN</td>\n",
       "      <td>NaN</td>\n",
       "      <td>NaN</td>\n",
       "      <td>NaN</td>\n",
       "      <td>NaN</td>\n",
       "      <td>NaN</td>\n",
       "      <td>NaN</td>\n",
       "      <td>English</td>\n",
       "      <td>VPS</td>\n",
       "      <td>5</td>\n",
       "    </tr>\n",
       "    <tr>\n",
       "      <th>3</th>\n",
       "      <td>ID 8</td>\n",
       "      <td>Bluestone et al., 1972</td>\n",
       "      <td>&lt;a style='color:inherit' href='https://doi.org...</td>\n",
       "      <td>Failure_rate</td>\n",
       "      <td>1.0</td>\n",
       "      <td>1972</td>\n",
       "      <td>High income</td>\n",
       "      <td>North America</td>\n",
       "      <td>United States</td>\n",
       "      <td>Retrospective study (unspecified)</td>\n",
       "      <td>...</td>\n",
       "      <td>10.0</td>\n",
       "      <td>2.0</td>\n",
       "      <td>NaN</td>\n",
       "      <td>NaN</td>\n",
       "      <td>NaN</td>\n",
       "      <td>NaN</td>\n",
       "      <td>1966-1971</td>\n",
       "      <td>English</td>\n",
       "      <td>VPS</td>\n",
       "      <td>1</td>\n",
       "    </tr>\n",
       "    <tr>\n",
       "      <th>4</th>\n",
       "      <td>ID 9</td>\n",
       "      <td>Díaz Llopis et al., 1993</td>\n",
       "      <td>&lt;a style='color:inherit' href='https://doi.org...</td>\n",
       "      <td>Complication_rate_1st_line</td>\n",
       "      <td>0.587933</td>\n",
       "      <td>1993</td>\n",
       "      <td>High income</td>\n",
       "      <td>Europe &amp; Central Asia</td>\n",
       "      <td>Spain</td>\n",
       "      <td>Retrospective study (unspecified)</td>\n",
       "      <td>...</td>\n",
       "      <td>NaN</td>\n",
       "      <td>NaN</td>\n",
       "      <td>NaN</td>\n",
       "      <td>NaN</td>\n",
       "      <td>NaN</td>\n",
       "      <td>NaN</td>\n",
       "      <td>1986-1988</td>\n",
       "      <td>English</td>\n",
       "      <td>VPS</td>\n",
       "      <td>779</td>\n",
       "    </tr>\n",
       "    <tr>\n",
       "      <th>...</th>\n",
       "      <td>...</td>\n",
       "      <td>...</td>\n",
       "      <td>...</td>\n",
       "      <td>...</td>\n",
       "      <td>...</td>\n",
       "      <td>...</td>\n",
       "      <td>...</td>\n",
       "      <td>...</td>\n",
       "      <td>...</td>\n",
       "      <td>...</td>\n",
       "      <td>...</td>\n",
       "      <td>...</td>\n",
       "      <td>...</td>\n",
       "      <td>...</td>\n",
       "      <td>...</td>\n",
       "      <td>...</td>\n",
       "      <td>...</td>\n",
       "      <td>...</td>\n",
       "      <td>...</td>\n",
       "      <td>...</td>\n",
       "      <td>...</td>\n",
       "    </tr>\n",
       "    <tr>\n",
       "      <th>76</th>\n",
       "      <td>ID 166</td>\n",
       "      <td>Alcocer Maldonado et al., 2017</td>\n",
       "      <td>&lt;a style='color:inherit' href='https://www.sci...</td>\n",
       "      <td>Mortality_intraop_1st_line</td>\n",
       "      <td>0.0</td>\n",
       "      <td>2017</td>\n",
       "      <td>Upper middle income</td>\n",
       "      <td>Latin America &amp; Caribbean</td>\n",
       "      <td>Mexico</td>\n",
       "      <td>Retrospective study (unspecified)</td>\n",
       "      <td>...</td>\n",
       "      <td>26.0</td>\n",
       "      <td>21.0</td>\n",
       "      <td>5.00</td>\n",
       "      <td>NaN</td>\n",
       "      <td>6.0</td>\n",
       "      <td>NaN</td>\n",
       "      <td>2011-2014</td>\n",
       "      <td>Spanish</td>\n",
       "      <td>VPS</td>\n",
       "      <td>47</td>\n",
       "    </tr>\n",
       "    <tr>\n",
       "      <th>77</th>\n",
       "      <td>ID 172</td>\n",
       "      <td>Ojo et al., 2015</td>\n",
       "      <td>&lt;a style='color:inherit' href='https://www.ajo...</td>\n",
       "      <td>Failure_rate</td>\n",
       "      <td>0.0</td>\n",
       "      <td>2015</td>\n",
       "      <td>Lower middle income</td>\n",
       "      <td>Sub-Saharan Africa</td>\n",
       "      <td>Nigeria</td>\n",
       "      <td>Prospective study (unspecified)</td>\n",
       "      <td>...</td>\n",
       "      <td>NaN</td>\n",
       "      <td>NaN</td>\n",
       "      <td>NaN</td>\n",
       "      <td>NaN</td>\n",
       "      <td>NaN</td>\n",
       "      <td>NaN</td>\n",
       "      <td>2009-2011</td>\n",
       "      <td>English</td>\n",
       "      <td>ETV</td>\n",
       "      <td>9</td>\n",
       "    </tr>\n",
       "    <tr>\n",
       "      <th>78</th>\n",
       "      <td>ID 172</td>\n",
       "      <td>Ojo et al., 2015</td>\n",
       "      <td>&lt;a style='color:inherit' href='https://www.ajo...</td>\n",
       "      <td>Mortality_intraop_1st_line</td>\n",
       "      <td>0.0</td>\n",
       "      <td>2015</td>\n",
       "      <td>Lower middle income</td>\n",
       "      <td>Sub-Saharan Africa</td>\n",
       "      <td>Nigeria</td>\n",
       "      <td>Prospective study (unspecified)</td>\n",
       "      <td>...</td>\n",
       "      <td>NaN</td>\n",
       "      <td>NaN</td>\n",
       "      <td>NaN</td>\n",
       "      <td>NaN</td>\n",
       "      <td>NaN</td>\n",
       "      <td>NaN</td>\n",
       "      <td>2009-2011</td>\n",
       "      <td>English</td>\n",
       "      <td>ETV</td>\n",
       "      <td>9</td>\n",
       "    </tr>\n",
       "    <tr>\n",
       "      <th>79</th>\n",
       "      <td>ID 172</td>\n",
       "      <td>Ojo et al., 2015</td>\n",
       "      <td>&lt;a style='color:inherit' href='https://www.ajo...</td>\n",
       "      <td>Mortality_periop_1st_line</td>\n",
       "      <td>0.0</td>\n",
       "      <td>2015</td>\n",
       "      <td>Lower middle income</td>\n",
       "      <td>Sub-Saharan Africa</td>\n",
       "      <td>Nigeria</td>\n",
       "      <td>Prospective study (unspecified)</td>\n",
       "      <td>...</td>\n",
       "      <td>NaN</td>\n",
       "      <td>NaN</td>\n",
       "      <td>NaN</td>\n",
       "      <td>NaN</td>\n",
       "      <td>NaN</td>\n",
       "      <td>NaN</td>\n",
       "      <td>2009-2011</td>\n",
       "      <td>English</td>\n",
       "      <td>ETV</td>\n",
       "      <td>9</td>\n",
       "    </tr>\n",
       "    <tr>\n",
       "      <th>80</th>\n",
       "      <td>ID 172</td>\n",
       "      <td>Ojo et al., 2015</td>\n",
       "      <td>&lt;a style='color:inherit' href='https://www.ajo...</td>\n",
       "      <td>Complication_rate_1st_line</td>\n",
       "      <td>0.0</td>\n",
       "      <td>2015</td>\n",
       "      <td>Lower middle income</td>\n",
       "      <td>Sub-Saharan Africa</td>\n",
       "      <td>Nigeria</td>\n",
       "      <td>Prospective study (unspecified)</td>\n",
       "      <td>...</td>\n",
       "      <td>NaN</td>\n",
       "      <td>NaN</td>\n",
       "      <td>NaN</td>\n",
       "      <td>NaN</td>\n",
       "      <td>NaN</td>\n",
       "      <td>NaN</td>\n",
       "      <td>2009-2011</td>\n",
       "      <td>English</td>\n",
       "      <td>ETV</td>\n",
       "      <td>9</td>\n",
       "    </tr>\n",
       "  </tbody>\n",
       "</table>\n",
       "<p>81 rows × 22 columns</p>\n",
       "</div>"
      ],
      "text/plain": [
       "       IID                           Study  \\\n",
       "0     ID 4              Sacar et al., 2006   \n",
       "1     ID 5         Clemmensen et al., 2010   \n",
       "2     ID 6          Sandquist et al., 2003   \n",
       "3     ID 8          Bluestone et al., 1972   \n",
       "4     ID 9        Díaz Llopis et al., 1993   \n",
       "..     ...                             ...   \n",
       "76  ID 166  Alcocer Maldonado et al., 2017   \n",
       "77  ID 172                Ojo et al., 2015   \n",
       "78  ID 172                Ojo et al., 2015   \n",
       "79  ID 172                Ojo et al., 2015   \n",
       "80  ID 172                Ojo et al., 2015   \n",
       "\n",
       "                                                  URL  \\\n",
       "0   <a style='color:inherit' href='https://doi.org...   \n",
       "1   <a style='color:inherit' href='https://doi.org...   \n",
       "2   <a style='color:inherit' href='https://doi.org...   \n",
       "3   <a style='color:inherit' href='https://doi.org...   \n",
       "4   <a style='color:inherit' href='https://doi.org...   \n",
       "..                                                ...   \n",
       "76  <a style='color:inherit' href='https://www.sci...   \n",
       "77  <a style='color:inherit' href='https://www.ajo...   \n",
       "78  <a style='color:inherit' href='https://www.ajo...   \n",
       "79  <a style='color:inherit' href='https://www.ajo...   \n",
       "80  <a style='color:inherit' href='https://www.ajo...   \n",
       "\n",
       "                       Outcome      Rate  Year_of_publication  \\\n",
       "0   Mortality_intraop_1st_line       0.0                 2006   \n",
       "1   Mortality_intraop_1st_line       0.0                 2010   \n",
       "2   Mortality_intraop_1st_line       0.0                 2003   \n",
       "3                 Failure_rate       1.0                 1972   \n",
       "4   Complication_rate_1st_line  0.587933                 1993   \n",
       "..                         ...       ...                  ...   \n",
       "76  Mortality_intraop_1st_line       0.0                 2017   \n",
       "77                Failure_rate       0.0                 2015   \n",
       "78  Mortality_intraop_1st_line       0.0                 2015   \n",
       "79   Mortality_periop_1st_line       0.0                 2015   \n",
       "80  Complication_rate_1st_line       0.0                 2015   \n",
       "\n",
       "           Income_group                     Region        Country  \\\n",
       "0   Upper middle income      Europe & Central Asia         Turkey   \n",
       "1           High income      Europe & Central Asia        Denmark   \n",
       "2           High income              North America  United States   \n",
       "3           High income              North America  United States   \n",
       "4           High income      Europe & Central Asia          Spain   \n",
       "..                  ...                        ...            ...   \n",
       "76  Upper middle income  Latin America & Caribbean         Mexico   \n",
       "77  Lower middle income         Sub-Saharan Africa        Nigeria   \n",
       "78  Lower middle income         Sub-Saharan Africa        Nigeria   \n",
       "79  Lower middle income         Sub-Saharan Africa        Nigeria   \n",
       "80  Lower middle income         Sub-Saharan Africa        Nigeria   \n",
       "\n",
       "                         Study_design  ... N_female  N_male  Age_mean  \\\n",
       "0   Retrospective study (unspecified)  ...      3.0     4.0     45.56   \n",
       "1   Retrospective study (unspecified)  ...      NaN     NaN       NaN   \n",
       "2     Prospective study (unspecified)  ...      NaN     NaN       NaN   \n",
       "3   Retrospective study (unspecified)  ...     10.0     2.0       NaN   \n",
       "4   Retrospective study (unspecified)  ...      NaN     NaN       NaN   \n",
       "..                                ...  ...      ...     ...       ...   \n",
       "76  Retrospective study (unspecified)  ...     26.0    21.0      5.00   \n",
       "77    Prospective study (unspecified)  ...      NaN     NaN       NaN   \n",
       "78    Prospective study (unspecified)  ...      NaN     NaN       NaN   \n",
       "79    Prospective study (unspecified)  ...      NaN     NaN       NaN   \n",
       "80    Prospective study (unspecified)  ...      NaN     NaN       NaN   \n",
       "\n",
       "    Age_median  Age_sd  Age_range  Years_of_data_collection  \\\n",
       "0          NaN     NaN        NaN                 2000-2004   \n",
       "1          NaN     NaN        NaN                 1983-2007   \n",
       "2          NaN     NaN        NaN                       NaN   \n",
       "3          NaN     NaN        NaN                 1966-1971   \n",
       "4          NaN     NaN        NaN                 1986-1988   \n",
       "..         ...     ...        ...                       ...   \n",
       "76         NaN     6.0        NaN                 2011-2014   \n",
       "77         NaN     NaN        NaN                 2009-2011   \n",
       "78         NaN     NaN        NaN                 2009-2011   \n",
       "79         NaN     NaN        NaN                 2009-2011   \n",
       "80         NaN     NaN        NaN                 2009-2011   \n",
       "\n",
       "   Publication_language Treatment N_subgroups  \n",
       "0               English       VPS           7  \n",
       "1               English       VPS          59  \n",
       "2               English       VPS           5  \n",
       "3               English       VPS           1  \n",
       "4               English       VPS         779  \n",
       "..                  ...       ...         ...  \n",
       "76              Spanish       VPS          47  \n",
       "77              English       ETV           9  \n",
       "78              English       ETV           9  \n",
       "79              English       ETV           9  \n",
       "80              English       ETV           9  \n",
       "\n",
       "[81 rows x 22 columns]"
      ]
     },
     "execution_count": 4,
     "metadata": {},
     "output_type": "execute_result"
    }
   ],
   "source": [
    "#Create data frame\n",
    "df_forest = pd.DataFrame()\n",
    "\n",
    "#Create 'Study', a column which concatenates the first author's name with the year of publication of the study.\n",
    "#If more than one study share the same name, it adds a lower-case letter to the end of the name to distinguish between them.\n",
    "df_forest['Study'] = df_studies['First_author'] + ' et al., ' + df_studies['Year_of_publication'].astype(str) #TODO: Ask Noor if replacing \"et al.\" (w/ period) with \"et al\" (w/o period) will affect code downstream\n",
    "df_forest['Study'] = df_forest.groupby('Study')['Study'].apply(\n",
    "    lambda n: n+list(map(chr,np.arange(len(n))+97)) if len(n)>1 else n\n",
    ")\n",
    "\n",
    "#Add a hyperlink column\n",
    "df_forest['URL'] = df_studies['DOI'].replace('http',\"\"\"<a style='color:inherit' href='http\"\"\", inplace=False, regex=True) + \"\"\"'>\"\"\" + df_forest['Study'] + \"\"\"</a>\"\"\"\n",
    "df_forest = df_forest.join(df_studies['IID'])[['IID','Study','URL']]\n",
    "\n",
    "#Add all outcome and study metadata\n",
    "df_forest = df_forest.merge(\n",
    "    df_outcomes.melt(id_vars=['IID'], var_name='Outcome', value_name='Rate'),\n",
    "    on='IID'\n",
    ").dropna(subset='Rate').merge(\n",
    "    df_studies.drop(columns=['DOI','First_author']),\n",
    "    on='IID'\n",
    ")\n",
    "\n",
    "#Subset primary and secondary outcomes\n",
    "outcomes = [\n",
    "    'Failure_rate',\n",
    "    # 'Time_to_failure_mean',\n",
    "    'Mortality_intraop_1st_line',\n",
    "    'Mortality_periop_1st_line',\n",
    "    'Complication_rate_1st_line',\n",
    "]\n",
    "df_forest = df_forest.query(f'Outcome.str.contains(\"{\"_|\".join(outcomes)}_\")')\n",
    "\n",
    "#Create 'Treatment' column & reformat 'Outcome' column\n",
    "df_forest['Treatment'] = df_forest.Outcome.str.extract('.+_(conservative|VPS|ETV|ETV_CPC|ETV_to_VP)$')\n",
    "df_forest['Outcome'] = df_forest.Outcome.str.extract('(.+)_(?:conservative|VPS|ETV|ETV_CPC|ETV_to_VP)$')\n",
    "\n",
    "#Update N with the outcome-specific N recorded in df_management\n",
    "df_forest['N_subgroups'] = None\n",
    "\n",
    "#Create dictionary mapping outcome to N recorded in df_management\n",
    "n_subgroups_mapping = {\n",
    "    'conservative': 'Conservative_1st_line',\n",
    "    'VPS': 'VPS_1st_line',\n",
    "    'ETV': 'ETV_1st_line',\n",
    "    'ETV_CPC': 'ETV_CPC_1st_line',\n",
    "    'ETV_to_VP': 'ETV_to_VPS_1st_line'\n",
    "}\n",
    "\n",
    "# Set the 'IID' column as the index of the DataFrame 'df_forest'\n",
    "df_forest.set_index('IID', inplace=True)\n",
    "\n",
    "# Loop through the indices of the DataFrame 'df_forest'\n",
    "for ix in range(len(df_forest)):\n",
    "    # Extract the 'IID' and 'Treatment' values for the current index\n",
    "    ID, TX = df_forest.index[ix], df_forest['Treatment'][ix]\n",
    "    \n",
    "    # Get the number of subgroups based on the 'Treatment' value for the current 'IID'\n",
    "    N_SUBGROUP = df_management.query(f'IID == \"{ID}\"')[n_subgroups_mapping[TX]].values[0]\n",
    "    \n",
    "    # If the calculated 'N_SUBGROUP' is NaN, get the 'N' value from the 'df_studies' DataFrame\n",
    "    # Otherwise, use the calculated 'N_SUBGROUP' value\n",
    "    N_SUBGROUP = df_studies.query(f'IID == \"{ID}\"').N.values[0] if np.isnan(N_SUBGROUP) else N_SUBGROUP\n",
    "    \n",
    "    # Update the 'N_subgroups' column in the 'df_forest' DataFrame with the calculated value\n",
    "    df_forest.loc[ID, 'N_subgroups'] = int(N_SUBGROUP)\n",
    "\n",
    "\n",
    "df_forest.reset_index(inplace=True)\n",
    "df_forest.drop_duplicates(ignore_index=True, inplace=True)\n",
    "df_forest"
   ]
  },
  {
   "cell_type": "code",
   "execution_count": 5,
   "metadata": {
    "id": "QFTzqeUdwupF"
   },
   "outputs": [],
   "source": [
    "#Create dictionaries\n",
    "measure_type = {\n",
    "    'conservative': {\n",
    "        'Failure_rate': ['Failure_rate_conservative'],\n",
    "        # 'Time_to_failure_mean': ['Time_to_failure_mean_conservative'],\n",
    "        'Mortality_periop_1st_line': ['_Mortality_periop_1st_line_conservative'],\n",
    "        'Complication_rate_1st_line': ['Complication_rate_1st_line_conservative'],\n",
    "        'Mortality_intraop_1st_line': ['Mortality_intraop_1st_line_conservative']\n",
    "    },\n",
    "    'VPS': {\n",
    "        'Failure_rate': ['Failure_rate_VPS'],\n",
    "        # 'Time_to_failure_mean': ['Time_to_failure_mean_VPS'],\n",
    "        'Mortality_periop_1st_line': ['Mortality_periop_1st_line_VPS'],\n",
    "        'Complication_rate_1st_line': ['Complication_rate_1st_line_VPS'],\n",
    "        'Mortality_intraop_1st_line': ['Mortality_intraop_1st_line_VPS']\n",
    "    },\n",
    "    'ETV': {\n",
    "        'Failure_rate': ['Failure_rate_ETV'],\n",
    "        # 'Time_to_failure_mean': ['Time_to_failure_mean_ETV'],\n",
    "        'Mortality_periop_1st_line': ['Mortality_periop_1st_line_ETV'],\n",
    "        'Complication_rate_1st_line': ['Complication_rate_1st_line_ETV'],\n",
    "        'Mortality_intraop_1st_line': ['Mortality_intraop_1st_line_ETV']\n",
    "    },\n",
    "    'ETV_CPC': {\n",
    "        'Failure_rate': ['Failure_rate_ETV_CPC'],\n",
    "        # 'Time_to_failure_mean': ['Time_to_failure_mean_ETV_CPC'],\n",
    "        'Mortality_periop_1st_line': ['Mortality_periop_1st_line_ETV_CPC'],\n",
    "        'Complication_rate_1st_line': ['Complication_rate_1st_line_ETV_CPC'],\n",
    "        'Mortality_intraop_1st_line': ['Mortality_intraop_1st_line_ETV_CPC']\n",
    "    },\n",
    "    'ETV_to_VPS': {\n",
    "        'Failure_rate': ['Failure_rate_ETV_to_VPS'],\n",
    "        # 'Time_to_failure_mean': ['Time_to_failure_mean_ETV_to_VPS'],\n",
    "        'Mortality_periop_1st_line': ['Mortality_periop_1st_line_ETV_to_VPS'],\n",
    "        'Complication_rate_1st_line': ['Complication_rate_1st_line_ETV_to_VPS'],\n",
    "        'Mortality_intraop_1st_line': ['Mortality_intraop_1st_line_ETV_to_VPS']\n",
    "    }\n",
    "}"
   ]
  },
  {
   "cell_type": "markdown",
   "metadata": {},
   "source": [
    "## Using meta-analysis tools\n",
    "\n",
    "We employed the R package [metafor](http://www.metafor-project.org/doku.php) to employ a mixed-effect (ME) model for analyzing the data associated with each measurement. This approach enables us to estimate a comprehensive range of R<sup>2</sup> values based on the effect sizes and sample sizes. To concisely convey these findings, we utilized forest plots. In these plots, each study is represented by a square and a horizontal error bar, showcasing the effect size and its associated sample size. Additionally, for each measurement, we use a diamond and an additional error bar to display the results derived from the ME model. Finally, to depict the prediction interval, we employ two hourglass symbols and a dotted line."
   ]
  },
  {
   "cell_type": "code",
   "execution_count": 6,
   "metadata": {
    "id": "X_lM4bZPysrL"
   },
   "outputs": [
    {
     "name": "stdout",
     "output_type": "stream",
     "text": [
      "Treatment 'conservative' contains no data for outcome 'Mortality_intraop_1st_line'\n",
      "Treatment 'ETV_to_VP' contains no data for outcome 'Mortality_intraop_1st_line'\n",
      "Treatment 'conservative' contains no data for outcome 'Mortality_periop_1st_line'\n",
      "\n",
      "{'Complication_rate_1st_line_ETV': {'I2': 78.8726921946477,\n",
      "                                    'I2_reg': {'Europe & Central Asia': 0.0,\n",
      "                                               'North America': 0.0,\n",
      "                                               'Sub-Saharan Africa': 0.0},\n",
      "                                    'cilb': 0.0,\n",
      "                                    'cilb_reg': {'Europe & Central Asia': 0.06022730321775105,\n",
      "                                                 'North America': 0.0,\n",
      "                                                 'Sub-Saharan Africa': 0.0},\n",
      "                                    'ciub': 0.5464187957845617,\n",
      "                                    'ciub_reg': {'Europe & Central Asia': 0.43977269678224906,\n",
      "                                                 'North America': 0.620372146778881,\n",
      "                                                 'Sub-Saharan Africa': 0.0006897703427044135},\n",
      "                                    'country': ['United States',\n",
      "                                                'France',\n",
      "                                                'Nigeria'],\n",
      "                                    'fill': None,\n",
      "                                    'ni': [7, 20, 9],\n",
      "                                    'pred': 0.14478742279484969,\n",
      "                                    'pred_reg': {'Europe & Central Asia': 0.25000000000000006,\n",
      "                                                 'North America': 0.2857142857,\n",
      "                                                 'Sub-Saharan Africa': 1.1111086419807957e-06},\n",
      "                                    'pval': 0.13443326764940502,\n",
      "                                    'region': ['North America',\n",
      "                                               'Europe & Central Asia',\n",
      "                                               'Sub-Saharan Africa'],\n",
      "                                    'slab': [\"<a style='color:inherit' \"\n",
      "                                             \"href='https://doi.org/10.1093/neuros/nyz302'>Flanders \"\n",
      "                                             'et al., 2019</a>',\n",
      "                                             \"<a style='color:inherit' \"\n",
      "                                             \"href='https://doi.org/10.1016/j.wneu.2015.07.071'>Beuriat \"\n",
      "                                             'et al., 2016</a>',\n",
      "                                             \"<a style='color:inherit' \"\n",
      "                                             \"href='https://www.ajol.info/index.php/njcp/article/view/114862/104498'>Ojo \"\n",
      "                                             'et al., 2015</a>'],\n",
      "                                    'vi': [0.029154518949562686,\n",
      "                                           0.009375,\n",
      "                                           1.2345610425514406e-07],\n",
      "                                    'vitf': None,\n",
      "                                    'yi': [0.2857142857,\n",
      "                                           0.25,\n",
      "                                           1.1111086419807957e-06],\n",
      "                                    'yitf': None},\n",
      " 'Complication_rate_1st_line_ETV_CPC': {'I2': 0.0,\n",
      "                                        'I2_reg': {'Sub-Saharan Africa': 0.0},\n",
      "                                        'cilb': 0.0,\n",
      "                                        'cilb_reg': {'Sub-Saharan Africa': 0.0},\n",
      "                                        'ciub': 0.0062077951779327505,\n",
      "                                        'ciub_reg': {'Sub-Saharan Africa': 0.0062077951779327505},\n",
      "                                        'country': ['Congo, Dem. Rep.'],\n",
      "                                        'fill': None,\n",
      "                                        'ni': [1],\n",
      "                                        'pred': 9.999800003999919e-06,\n",
      "                                        'pred_reg': {'Sub-Saharan Africa': 9.999800003999919e-06},\n",
      "                                        'pval': None,\n",
      "                                        'region': ['Sub-Saharan Africa'],\n",
      "                                        'slab': [\"<a style='color:inherit' \"\n",
      "                                                 \"href='https://doi.org/10.1007/s00383-018-4238-0'>Cairo \"\n",
      "                                                 'et al., 2018</a>'],\n",
      "                                        'vi': [9.999500017999438e-06],\n",
      "                                        'vitf': None,\n",
      "                                        'yi': [9.99980000399992e-06],\n",
      "                                        'yitf': None},\n",
      " 'Complication_rate_1st_line_ETV_to_VP': {'I2': 0.0,\n",
      "                                          'I2_reg': {'Europe & Central Asia': 0.0},\n",
      "                                          'cilb': 0.0,\n",
      "                                          'cilb_reg': {'Europe & Central Asia': 0.0},\n",
      "                                          'ciub': 0.3064905747383051,\n",
      "                                          'ciub_reg': {'Europe & Central Asia': 0.3064905747383051},\n",
      "                                          'country': ['France'],\n",
      "                                          'fill': None,\n",
      "                                          'ni': [20],\n",
      "                                          'pred': 0.15,\n",
      "                                          'pred_reg': {'Europe & Central Asia': 0.15},\n",
      "                                          'pval': None,\n",
      "                                          'region': ['Europe & Central Asia'],\n",
      "                                          'slab': [\"<a style='color:inherit' \"\n",
      "                                                   \"href='https://doi.org/10.1016/j.wneu.2015.07.071'>Beuriat \"\n",
      "                                                   'et al., 2016</a>'],\n",
      "                                          'vi': [0.0063750000000000005],\n",
      "                                          'vitf': None,\n",
      "                                          'yi': [0.15],\n",
      "                                          'yitf': None},\n",
      " 'Complication_rate_1st_line_VPS': {'I2': 98.93826683584169,\n",
      "                                    'I2_reg': {'East Asia & Pacific': 0.0,\n",
      "                                               'Europe & Central Asia': 98.24435719647113,\n",
      "                                               'Latin America & Caribbean': 88.7848051795419,\n",
      "                                               'Middle East & North Africa': 0.0,\n",
      "                                               'North America': 40.806903924353904,\n",
      "                                               'South Asia': 91.31862009760938,\n",
      "                                               'Sub-Saharan Africa': 0.0},\n",
      "                                    'cilb': 0.11173244699133683,\n",
      "                                    'cilb_reg': {'East Asia & Pacific': 0.0,\n",
      "                                                 'Europe & Central Asia': 0.1294619835680338,\n",
      "                                                 'Latin America & Caribbean': 0.01412211435803784,\n",
      "                                                 'Middle East & North Africa': 0.0,\n",
      "                                                 'North America': 0.0,\n",
      "                                                 'South Asia': 0.0,\n",
      "                                                 'Sub-Saharan Africa': 0.0},\n",
      "                                    'ciub': 0.30555009769474045,\n",
      "                                    'ciub_reg': {'East Asia & Pacific': 0.620372146778881,\n",
      "                                                 'Europe & Central Asia': 0.42311238569346526,\n",
      "                                                 'Latin America & Caribbean': 0.8359803756391491,\n",
      "                                                 'Middle East & North Africa': 0.0020692995357326507,\n",
      "                                                 'North America': 0.20531088622458749,\n",
      "                                                 'South Asia': 0.9047718399409772,\n",
      "                                                 'Sub-Saharan Africa': 0.9839855938160216},\n",
      "                                    'country': ['United States',\n",
      "                                                'United States',\n",
      "                                                'United States',\n",
      "                                                'Turkey',\n",
      "                                                'France',\n",
      "                                                'Turkey',\n",
      "                                                'Turkey',\n",
      "                                                'Italy',\n",
      "                                                'Italy',\n",
      "                                                'Spain',\n",
      "                                                'Pakistan',\n",
      "                                                'India',\n",
      "                                                'Korea, Rep.',\n",
      "                                                'Brazil',\n",
      "                                                'Brazil',\n",
      "                                                'Brazil',\n",
      "                                                'Brazil',\n",
      "                                                'Iran, Islamic Rep.',\n",
      "                                                'Congo, Dem. Rep.'],\n",
      "                                    'fill': <rpy2.robjects.vectors.BoolVector object at 0x139ceff90> [10]\n",
      "R classes: ('logical',)\n",
      "[       0,        0,        0,        0, ...,        0,        0,        0,        0],\n",
      "                                    'ni': [7,\n",
      "                                           68,\n",
      "                                           69,\n",
      "                                           794,\n",
      "                                           20,\n",
      "                                           55,\n",
      "                                           144,\n",
      "                                           29,\n",
      "                                           170,\n",
      "                                           779,\n",
      "                                           75,\n",
      "                                           2,\n",
      "                                           7,\n",
      "                                           193,\n",
      "                                           32,\n",
      "                                           5,\n",
      "                                           27,\n",
      "                                           3,\n",
      "                                           1],\n",
      "                                    'pred': 0.20864127234303864,\n",
      "                                    'pred_reg': {'East Asia & Pacific': 0.2857142857,\n",
      "                                                 'Europe & Central Asia': 0.2762871846307495,\n",
      "                                                 'Latin America & Caribbean': 0.4250512449985934,\n",
      "                                                 'Middle East & North Africa': 3.3333111112592582e-06,\n",
      "                                                 'North America': 0.08029415821643039,\n",
      "                                                 'South Asia': 0.060900547291569504,\n",
      "                                                 'Sub-Saharan Africa': 0.2},\n",
      "                                    'pval': 0.0054844660899642595,\n",
      "                                    'region': ['North America',\n",
      "                                               'North America',\n",
      "                                               'North America',\n",
      "                                               'Europe & Central Asia',\n",
      "                                               'Europe & Central Asia',\n",
      "                                               'Europe & Central Asia',\n",
      "                                               'Europe & Central Asia',\n",
      "                                               'Europe & Central Asia',\n",
      "                                               'Europe & Central Asia',\n",
      "                                               'Europe & Central Asia',\n",
      "                                               'South Asia',\n",
      "                                               'South Asia',\n",
      "                                               'East Asia & Pacific',\n",
      "                                               'Latin America & Caribbean',\n",
      "                                               'Latin America & Caribbean',\n",
      "                                               'Latin America & Caribbean',\n",
      "                                               'Latin America & Caribbean',\n",
      "                                               'Middle East & North Africa',\n",
      "                                               'Sub-Saharan Africa'],\n",
      "                                    'slab': [\"<a style='color:inherit' \"\n",
      "                                             \"href='https://doi.org/10.1093/neuros/nyz302'>Flanders \"\n",
      "                                             'et al., 2019</a>',\n",
      "                                             \"<a style='color:inherit' \"\n",
      "                                             \"href='https://doi.org/10.1177/088307389601100504'>Miller \"\n",
      "                                             'et al., 1996</a>',\n",
      "                                             \"<a style='color:inherit' \"\n",
      "                                             \"href='https://doi.org/10.1159/000120890'>Parent \"\n",
      "                                             'et al., 1995</a>',\n",
      "                                             \"<a style='color:inherit' \"\n",
      "                                             \"href='https://jpma.org.pk/article-details/8517?article_id=8517'>Arslan \"\n",
      "                                             'et al., 2018</a>',\n",
      "                                             \"<a style='color:inherit' \"\n",
      "                                             \"href='https://doi.org/10.1016/j.wneu.2015.07.071'>Beuriat \"\n",
      "                                             'et al., 2016</a>',\n",
      "                                             \"<a style='color:inherit' \"\n",
      "                                             \"href='https://doi.org/10.1007/s00381-015-2701-y'>Demir \"\n",
      "                                             'et al., 2015</a>',\n",
      "                                             \"<a style='color:inherit' \"\n",
      "                                             \"href='https://doi.org/10.5137/1019-5149.jtn.4263-11.1'>Arslan \"\n",
      "                                             'et al., 2011</a>',\n",
      "                                             \"<a style='color:inherit' \"\n",
      "                                             \"href='https://doi.org/10.1007/s00381-002-0557-4'>Rendeli \"\n",
      "                                             'et al., 2002</a>',\n",
      "                                             \"<a style='color:inherit' \"\n",
      "                                             \"href='https://doi.org/10.1007/bf00261592'>Caldarelli \"\n",
      "                                             'et al., 1996</a>',\n",
      "                                             \"<a style='color:inherit' \"\n",
      "                                             \"href='https://doi.org/10.1038/sc.1993.5'>Díaz \"\n",
      "                                             'Llopis et al., 1993</a>',\n",
      "                                             \"<a style='color:inherit' \"\n",
      "                                             \"href='https://pubmed.ncbi.nlm.nih.gov/30632328/'>Khattak \"\n",
      "                                             'et al., 2018</a>',\n",
      "                                             \"<a style='color:inherit' \"\n",
      "                                             \"href='https://doi.org/10.1159/000095569'>Rath \"\n",
      "                                             'et al., 2006</a>',\n",
      "                                             \"<a style='color:inherit' \"\n",
      "                                             \"href='https://www.jkns.or.kr/journal/view.php?number=5024'>Lee \"\n",
      "                                             'et al., 1992</a>',\n",
      "                                             \"<a style='color:inherit' \"\n",
      "                                             \"href='https://doi.org/10.3171/2019.7.focus19462'>Protzenko \"\n",
      "                                             'et al., 2019</a>',\n",
      "                                             \"<a style='color:inherit' \"\n",
      "                                             \"href='https://doi.org/10.1007/s00381-016-3012-7'>Rodrigues \"\n",
      "                                             'et al., 2016</a>',\n",
      "                                             \"<a style='color:inherit' \"\n",
      "                                             \"href='https://doi.org/10.1007/s00381-016-3237-5'>de \"\n",
      "                                             'Oliveira et al., 2016</a>',\n",
      "                                             \"<a style='color:inherit' \"\n",
      "                                             \"href='https://doi.org/10.1590/s0004-282x2004000600006'>Ulsenheimer \"\n",
      "                                             'et al., 2004</a>',\n",
      "                                             \"<a style='color:inherit' \"\n",
      "                                             \"href='https://doi.org/10.3171/ped.2007.106.4.316'>Keshavarzi \"\n",
      "                                             'et al., 2007</a>',\n",
      "                                             \"<a style='color:inherit' \"\n",
      "                                             \"href='https://doi.org/10.1007/s00383-018-4238-0'>Cairo \"\n",
      "                                             'et al., 2018</a>'],\n",
      "                                    'vi': [0.01311614522151712,\n",
      "                                           0.0006201658864395482,\n",
      "                                           0.0016437905809868222,\n",
      "                                           0.00022078998449430296,\n",
      "                                           0.006944444445555556,\n",
      "                                           0.004003005257490608,\n",
      "                                           0.000932021068996485,\n",
      "                                           0.007380376399376767,\n",
      "                                           0.0007378383878282108,\n",
      "                                           0.0003109984435314506,\n",
      "                                           0.0015407407404148148,\n",
      "                                           2.4999375011249826e-06,\n",
      "                                           0.029154518949562686,\n",
      "                                           0.001243523316062176,\n",
      "                                           0.005859375,\n",
      "                                           0.03200000000000001,\n",
      "                                           0.006401463191129401,\n",
      "                                           1.1110925928148125e-06,\n",
      "                                           0.16000000000000003],\n",
      "                                    'vitf': [0.01311614522151712,\n",
      "                                             0.0006201658864395482,\n",
      "                                             0.0016437905809868222,\n",
      "                                             0.00022078998449430296,\n",
      "                                             0.006944444445555556,\n",
      "                                             0.004003005257490608,\n",
      "                                             0.000932021068996485,\n",
      "                                             0.007380376399376767,\n",
      "                                             0.0007378383878282108,\n",
      "                                             0.0003109984435314506,\n",
      "                                             0.0015407407404148148,\n",
      "                                             2.4999375011249826e-06,\n",
      "                                             0.029154518949562686,\n",
      "                                             0.001243523316062176,\n",
      "                                             0.005859375,\n",
      "                                             0.03200000000000001,\n",
      "                                             0.006401463191129401,\n",
      "                                             1.1110925928148125e-06,\n",
      "                                             0.16000000000000003],\n",
      "                                    'yi': [0.1022727273,\n",
      "                                           0.04411764706,\n",
      "                                           0.1304347826,\n",
      "                                           0.2267002519,\n",
      "                                           0.1666666667,\n",
      "                                           0.327272727,\n",
      "                                           0.1597222222,\n",
      "                                           0.3103448276,\n",
      "                                           0.1470588235,\n",
      "                                           0.587933,\n",
      "                                           0.1333333333,\n",
      "                                           4.999950000499995e-06,\n",
      "                                           0.2857142857,\n",
      "                                           0.4,\n",
      "                                           0.25,\n",
      "                                           0.2,\n",
      "                                           0.7777777778,\n",
      "                                           3.3333111112592582e-06,\n",
      "                                           0.2],\n",
      "                                    'yitf': [0.1022727273,\n",
      "                                             0.04411764706,\n",
      "                                             0.1304347826,\n",
      "                                             0.2267002519,\n",
      "                                             0.1666666667,\n",
      "                                             0.327272727,\n",
      "                                             0.1597222222,\n",
      "                                             0.3103448276,\n",
      "                                             0.1470588235,\n",
      "                                             0.587933,\n",
      "                                             0.1333333333,\n",
      "                                             4.999950000499995e-06,\n",
      "                                             0.2857142857,\n",
      "                                             0.4,\n",
      "                                             0.25,\n",
      "                                             0.2,\n",
      "                                             0.7777777778,\n",
      "                                             3.3333111112592582e-06,\n",
      "                                             0.2]},\n",
      " 'Complication_rate_1st_line_conservative': {'I2': 92.59012035523178,\n",
      "                                             'I2_reg': {'Europe & Central Asia': 0.0,\n",
      "                                                        'Latin America & Caribbean': 0.0},\n",
      "                                             'cilb': 0.0,\n",
      "                                             'cilb_reg': {'Europe & Central Asia': 0.0,\n",
      "                                                          'Latin America & Caribbean': 0.1555217897357301},\n",
      "                                             'ciub': 1.0,\n",
      "                                             'ciub_reg': {'Europe & Central Asia': 0.0031039363747889454,\n",
      "                                                          'Latin America & Caribbean': 0.5111448768642699},\n",
      "                                             'country': ['Netherlands',\n",
      "                                                         'Brazil'],\n",
      "                                             'fill': None,\n",
      "                                             'ni': [2, 27],\n",
      "                                             'pred': 0.1543270523884256,\n",
      "                                             'pred_reg': {'Europe & Central Asia': 4.999950000499995e-06,\n",
      "                                                          'Latin America & Caribbean': 0.3333333333},\n",
      "                                             'pval': nan,\n",
      "                                             'region': ['Europe & Central Asia',\n",
      "                                                        'Latin America & '\n",
      "                                                        'Caribbean'],\n",
      "                                             'slab': ['<a '\n",
      "                                                      \"style='color:inherit' \"\n",
      "                                                      \"href='https://doi.org/10.3171/2019.7.FOCUS19447'>Spoor \"\n",
      "                                                      'et al., 2019</a>',\n",
      "                                                      '<a '\n",
      "                                                      \"style='color:inherit' \"\n",
      "                                                      \"href='https://doi.org/10.1590/s0004-282x2004000600006'>Ulsenheimer \"\n",
      "                                                      'et al., 2004</a>'],\n",
      "                                             'vi': [2.4999375011249826e-06,\n",
      "                                                    0.008230452674485597],\n",
      "                                             'vitf': None,\n",
      "                                             'yi': [4.999950000499995e-06,\n",
      "                                                    0.3333333333],\n",
      "                                             'yitf': None},\n",
      " 'Failure_rate_ETV': {'I2': 98.34704475543168,\n",
      "                      'I2_reg': {'Europe & Central Asia': 0.0,\n",
      "                                 'Latin America & Caribbean': 0.0,\n",
      "                                 'North America': 0.0,\n",
      "                                 'Sub-Saharan Africa': 0.0},\n",
      "                      'cilb': 0.1251791031596432,\n",
      "                      'cilb_reg': {'Europe & Central Asia': 0.0,\n",
      "                                   'Latin America & Caribbean': 0.5107245073365475,\n",
      "                                   'North America': 0.0,\n",
      "                                   'Sub-Saharan Africa': 0.0},\n",
      "                      'ciub': 0.6213365405266833,\n",
      "                      'ciub_reg': {'Europe & Central Asia': 0.9966580270139471,\n",
      "                                   'Latin America & Caribbean': 0.6873053525988079,\n",
      "                                   'North America': 0.620372146778881,\n",
      "                                   'Sub-Saharan Africa': 0.0006897703427044135},\n",
      "                      'country': ['United States',\n",
      "                                  'Netherlands',\n",
      "                                  'Italy',\n",
      "                                  'Brazil',\n",
      "                                  'Brazil',\n",
      "                                  'Nigeria'],\n",
      "                      'fill': None,\n",
      "                      'ni': [7, 2, 5, 193, 4, 9],\n",
      "                      'pred': 0.37325782184316325,\n",
      "                      'pred_reg': {'Europe & Central Asia': 0.42774566473988446,\n",
      "                                   'Latin America & Caribbean': 0.5990149299676777,\n",
      "                                   'North America': 0.2857142857,\n",
      "                                   'Sub-Saharan Africa': 1.1111086419807957e-06},\n",
      "                      'pval': 0.19103525900862728,\n",
      "                      'region': ['North America',\n",
      "                                 'Europe & Central Asia',\n",
      "                                 'Europe & Central Asia',\n",
      "                                 'Latin America & Caribbean',\n",
      "                                 'Latin America & Caribbean',\n",
      "                                 'Sub-Saharan Africa'],\n",
      "                      'slab': [\"<a style='color:inherit' \"\n",
      "                               \"href='https://doi.org/10.1093/neuros/nyz302'>Flanders \"\n",
      "                               'et al., 2019</a>',\n",
      "                               \"<a style='color:inherit' \"\n",
      "                               \"href='https://doi.org/10.3171/2019.7.FOCUS19447'>Spoor \"\n",
      "                               'et al., 2019</a>',\n",
      "                               \"<a style='color:inherit' \"\n",
      "                               \"href='https://doi.org/10.1055/s-0029-1202282'>Faggin \"\n",
      "                               'et al., 2009</a>',\n",
      "                               \"<a style='color:inherit' \"\n",
      "                               \"href='https://doi.org/10.3171/2019.7.focus19462'>Protzenko \"\n",
      "                               'et al., 2019</a>',\n",
      "                               \"<a style='color:inherit' \"\n",
      "                               \"href='https://doi.org/10.1590/0004-282x20150169'>Oliveira \"\n",
      "                               'et al., 2015</a>',\n",
      "                               \"<a style='color:inherit' \"\n",
      "                               \"href='https://www.ajol.info/index.php/njcp/article/view/114862/104498'>Ojo \"\n",
      "                               'et al., 2015</a>'],\n",
      "                      'vi': [0.029154518949562686,\n",
      "                             0.125,\n",
      "                             0.048,\n",
      "                             0.001243523316062176,\n",
      "                             0.061875,\n",
      "                             1.2345610425514406e-07],\n",
      "                      'vitf': None,\n",
      "                      'yi': [0.2857142857,\n",
      "                             0.5,\n",
      "                             0.4,\n",
      "                             0.6,\n",
      "                             0.55,\n",
      "                             1.1111086419807957e-06],\n",
      "                      'yitf': None},\n",
      " 'Failure_rate_ETV_CPC': {'I2': 0.0,\n",
      "                          'I2_reg': {'Europe & Central Asia': 0.0},\n",
      "                          'cilb': 0.08420369854728185,\n",
      "                          'cilb_reg': {'Europe & Central Asia': 0.08420369854728185},\n",
      "                          'ciub': 0.4782963014527183,\n",
      "                          'ciub_reg': {'Europe & Central Asia': 0.4782963014527183},\n",
      "                          'country': ['France'],\n",
      "                          'fill': None,\n",
      "                          'ni': [20],\n",
      "                          'pred': 0.28125000000000006,\n",
      "                          'pred_reg': {'Europe & Central Asia': 0.28125000000000006},\n",
      "                          'pval': None,\n",
      "                          'region': ['Europe & Central Asia'],\n",
      "                          'slab': [\"<a style='color:inherit' \"\n",
      "                                   \"href='https://doi.org/10.1016/j.wneu.2015.07.071'>Beuriat \"\n",
      "                                   'et al., 2016</a>'],\n",
      "                          'vi': [0.010107421875],\n",
      "                          'vitf': None,\n",
      "                          'yi': [0.28125],\n",
      "                          'yitf': None},\n",
      " 'Failure_rate_ETV_to_VP': {'I2': 90.71364285548042,\n",
      "                            'I2_reg': {'Europe & Central Asia': 0.0,\n",
      "                                       'Latin America & Caribbean': 0.0},\n",
      "                            'cilb': 0.0,\n",
      "                            'cilb_reg': {'Europe & Central Asia': 0.14096269690460592,\n",
      "                                         'Latin America & Caribbean': 0.0},\n",
      "                            'ciub': 1.0,\n",
      "                            'ciub_reg': {'Europe & Central Asia': 0.5590373030953941,\n",
      "                                         'Latin America & Caribbean': 0.0015519778840209816},\n",
      "                            'country': ['France', 'Brazil'],\n",
      "                            'fill': None,\n",
      "                            'ni': [20, 4],\n",
      "                            'pred': 0.15875202677442296,\n",
      "                            'pred_reg': {'Europe & Central Asia': 0.35000000000000003,\n",
      "                                         'Latin America & Caribbean': 2.4999875000624998e-06},\n",
      "                            'pval': nan,\n",
      "                            'region': ['Europe & Central Asia',\n",
      "                                       'Latin America & Caribbean'],\n",
      "                            'slab': [\"<a style='color:inherit' \"\n",
      "                                     \"href='https://doi.org/10.1016/j.wneu.2015.07.071'>Beuriat \"\n",
      "                                     'et al., 2016</a>',\n",
      "                                     \"<a style='color:inherit' \"\n",
      "                                     \"href='https://doi.org/10.1590/0004-282x20150169'>Oliveira \"\n",
      "                                     'et al., 2015</a>'],\n",
      "                            'vi': [0.011375, 6.249921875703122e-07],\n",
      "                            'vitf': None,\n",
      "                            'yi': [0.35, 2.4999875000625e-06],\n",
      "                            'yitf': None},\n",
      " 'Failure_rate_VPS': {'I2': 99.9841985900077,\n",
      "                      'I2_reg': {'Europe & Central Asia': 87.08309250474166,\n",
      "                                 'Latin America & Caribbean': 98.32593146541642,\n",
      "                                 'North America': 99.43323354106367},\n",
      "                      'cilb': 0.2594489776913524,\n",
      "                      'cilb_reg': {'Europe & Central Asia': 0.21623300881465396,\n",
      "                                   'Latin America & Caribbean': 0.0,\n",
      "                                   'North America': 0.0},\n",
      "                      'ciub': 0.5662114412747277,\n",
      "                      'ciub_reg': {'Europe & Central Asia': 0.5110635355921422,\n",
      "                                   'Latin America & Caribbean': 0.628791615962958,\n",
      "                                   'North America': 1.0},\n",
      "                      'country': ['United States',\n",
      "                                  'United States',\n",
      "                                  'Canada',\n",
      "                                  'United States',\n",
      "                                  'Netherlands',\n",
      "                                  'Germany',\n",
      "                                  'France',\n",
      "                                  'Netherlands',\n",
      "                                  'Turkey',\n",
      "                                  'Italy',\n",
      "                                  'Italy',\n",
      "                                  'Brazil',\n",
      "                                  'Brazil',\n",
      "                                  'Brazil',\n",
      "                                  'Brazil',\n",
      "                                  'Brazil'],\n",
      "                      'fill': None,\n",
      "                      'ni': [7,\n",
      "                             68,\n",
      "                             85,\n",
      "                             1,\n",
      "                             2,\n",
      "                             39,\n",
      "                             20,\n",
      "                             8,\n",
      "                             144,\n",
      "                             29,\n",
      "                             170,\n",
      "                             193,\n",
      "                             32,\n",
      "                             4,\n",
      "                             30,\n",
      "                             27],\n",
      "                      'pred': 0.41283020948304006,\n",
      "                      'pred_reg': {'Europe & Central Asia': 0.3636482722033981,\n",
      "                                   'Latin America & Caribbean': 0.2853325699526395,\n",
      "                                   'North America': 0.6043156819180655},\n",
      "                      'pval': 0.3389718594090101,\n",
      "                      'region': ['North America',\n",
      "                                 'North America',\n",
      "                                 'North America',\n",
      "                                 'North America',\n",
      "                                 'Europe & Central Asia',\n",
      "                                 'Europe & Central Asia',\n",
      "                                 'Europe & Central Asia',\n",
      "                                 'Europe & Central Asia',\n",
      "                                 'Europe & Central Asia',\n",
      "                                 'Europe & Central Asia',\n",
      "                                 'Europe & Central Asia',\n",
      "                                 'Latin America & Caribbean',\n",
      "                                 'Latin America & Caribbean',\n",
      "                                 'Latin America & Caribbean',\n",
      "                                 'Latin America & Caribbean',\n",
      "                                 'Latin America & Caribbean'],\n",
      "                      'slab': [\"<a style='color:inherit' \"\n",
      "                               \"href='https://doi.org/10.1093/neuros/nyz302'>Flanders \"\n",
      "                               'et al., 2019</a>',\n",
      "                               \"<a style='color:inherit' \"\n",
      "                               \"href='https://doi.org/10.1177/088307389601100504'>Miller \"\n",
      "                               'et al., 1996</a>',\n",
      "                               \"<a style='color:inherit' \"\n",
      "                               \"href='https://doi.org/10.1007/bf00298448'>Steinbok \"\n",
      "                               'et al., 1992</a>',\n",
      "                               \"<a style='color:inherit' \"\n",
      "                               \"href='https://doi.org/10.1177/000348947208100604'>Bluestone \"\n",
      "                               'et al., 1972</a>',\n",
      "                               \"<a style='color:inherit' \"\n",
      "                               \"href='https://doi.org/10.3171/2019.7.FOCUS19447'>Spoor \"\n",
      "                               'et al., 2019</a>',\n",
      "                               \"<a style='color:inherit' \"\n",
      "                               \"href='https://doi.org/10.1007/s00381-018-3781-2'>Al-Hakim \"\n",
      "                               'et al., 2018</a>',\n",
      "                               \"<a style='color:inherit' \"\n",
      "                               \"href='https://doi.org/10.1016/j.wneu.2015.07.071'>Beuriat \"\n",
      "                               'et al., 2016</a>',\n",
      "                               \"<a style='color:inherit' \"\n",
      "                               \"href='https://doi.org/10.1007/s00381-012-1961-z'>Fani \"\n",
      "                               'et al., 2013</a>',\n",
      "                               \"<a style='color:inherit' \"\n",
      "                               \"href='https://doi.org/10.5137/1019-5149.jtn.4263-11.1'>Arslan \"\n",
      "                               'et al., 2011</a>',\n",
      "                               \"<a style='color:inherit' \"\n",
      "                               \"href='https://doi.org/10.1007/s00381-002-0557-4'>Rendeli \"\n",
      "                               'et al., 2002</a>',\n",
      "                               \"<a style='color:inherit' \"\n",
      "                               \"href='https://doi.org/10.1007/bf00261592'>Caldarelli \"\n",
      "                               'et al., 1996</a>',\n",
      "                               \"<a style='color:inherit' \"\n",
      "                               \"href='https://doi.org/10.3171/2019.7.focus19462'>Protzenko \"\n",
      "                               'et al., 2019</a>',\n",
      "                               \"<a style='color:inherit' \"\n",
      "                               \"href='https://doi.org/10.1007/s00381-016-3012-7'>Rodrigues \"\n",
      "                               'et al., 2016</a>',\n",
      "                               \"<a style='color:inherit' \"\n",
      "                               \"href='https://doi.org/10.1590/0004-282x20150169'>Oliveira \"\n",
      "                               'et al., 2015</a>',\n",
      "                               \"<a style='color:inherit' \"\n",
      "                               \"href='https://doi.org/10.1159/000209285'>Pinto \"\n",
      "                               'et al., 2009</a>',\n",
      "                               \"<a style='color:inherit' \"\n",
      "                               \"href='https://doi.org/10.1590/s0004-282x2004000600006'>Ulsenheimer \"\n",
      "                               'et al., 2004</a>'],\n",
      "                      'vi': [0.034533648170247934,\n",
      "                             0.001526562181701608,\n",
      "                             0.0014264197029285573,\n",
      "                             9.999500018045284e-06,\n",
      "                             0.09861212564598246,\n",
      "                             0.006284615384615385,\n",
      "                             0.0125,\n",
      "                             0.02147371445330724,\n",
      "                             0.000932021068996485,\n",
      "                             0.007380376399376767,\n",
      "                             0.0014606146956995727,\n",
      "                             0.0012911290034362086,\n",
      "                             0.005859375,\n",
      "                             6.249921875703122e-07,\n",
      "                             0.00217,\n",
      "                             0.008230452674485597],\n",
      "                      'vitf': None,\n",
      "                      'yi': [0.4090909091,\n",
      "                             0.1176470588,\n",
      "                             0.8588235294,\n",
      "                             0.999990000199996,\n",
      "                             0.7297297297,\n",
      "                             0.43,\n",
      "                             0.5,\n",
      "                             0.2203389831,\n",
      "                             0.1597222222,\n",
      "                             0.3103448276,\n",
      "                             0.45882352939999993,\n",
      "                             0.47150259070000006,\n",
      "                             0.25,\n",
      "                             2.4999875000625e-06,\n",
      "                             0.07,\n",
      "                             0.6666666667],\n",
      "                      'yitf': None},\n",
      " 'Failure_rate_conservative': {'I2': 99.99999699467291,\n",
      "                               'I2_reg': {'Europe & Central Asia': 0.0,\n",
      "                                          'Latin America & Caribbean': 0.0,\n",
      "                                          'North America': 0.0},\n",
      "                               'cilb': 0.0,\n",
      "                               'cilb_reg': {'Europe & Central Asia': 0.0,\n",
      "                                            'Latin America & Caribbean': 0.0,\n",
      "                                            'North America': 0.9999269653117642},\n",
      "                               'ciub': 1.0,\n",
      "                               'ciub_reg': {'Europe & Central Asia': 0.0031039363747889454,\n",
      "                                            'Latin America & Caribbean': 0.00022992387321482655,\n",
      "                                            'North America': 1.0},\n",
      "                               'country': ['Canada', 'Netherlands', 'Brazil'],\n",
      "                               'fill': None,\n",
      "                               'ni': [85, 2, 27],\n",
      "                               'pred': 0.33333564249976166,\n",
      "                               'pred_reg': {'Europe & Central Asia': 4.999950000499995e-06,\n",
      "                                            'Latin America & Caribbean': 3.7037009602215116e-07,\n",
      "                                            'North America': 0.9999998823529688},\n",
      "                               'pval': 0.5796279526801187,\n",
      "                               'region': ['North America',\n",
      "                                          'Europe & Central Asia',\n",
      "                                          'Latin America & Caribbean'],\n",
      "                               'slab': [\"<a style='color:inherit' \"\n",
      "                                        \"href='https://doi.org/10.1007/bf00298448'>Steinbok \"\n",
      "                                        'et al., 1992</a>',\n",
      "                                        \"<a style='color:inherit' \"\n",
      "                                        \"href='https://doi.org/10.3171/2019.7.FOCUS19447'>Spoor \"\n",
      "                                        'et al., 2019</a>',\n",
      "                                        \"<a style='color:inherit' \"\n",
      "                                        \"href='https://doi.org/10.1590/s0004-282x2004000600006'>Ulsenheimer \"\n",
      "                                        'et al., 2004</a>'],\n",
      "                               'vi': [1.384082231830654e-09,\n",
      "                                      2.4999375011249826e-06,\n",
      "                                      1.3717395722230692e-08],\n",
      "                               'vitf': None,\n",
      "                               'yi': [0.9999998823529688,\n",
      "                                      4.999950000499995e-06,\n",
      "                                      3.7037009602215116e-07],\n",
      "                               'yitf': None},\n",
      " 'Mortality_intraop_1st_line_ETV': {'I2': 0.0,\n",
      "                                    'I2_reg': {'Sub-Saharan Africa': 0.0},\n",
      "                                    'cilb': 0.0,\n",
      "                                    'cilb_reg': {'Sub-Saharan Africa': 0.0},\n",
      "                                    'ciub': 0.0006897703427044135,\n",
      "                                    'ciub_reg': {'Sub-Saharan Africa': 0.0006897703427044135},\n",
      "                                    'country': ['Nigeria'],\n",
      "                                    'fill': None,\n",
      "                                    'ni': [9],\n",
      "                                    'pred': 1.1111086419807957e-06,\n",
      "                                    'pred_reg': {'Sub-Saharan Africa': 1.1111086419807957e-06},\n",
      "                                    'pval': None,\n",
      "                                    'region': ['Sub-Saharan Africa'],\n",
      "                                    'slab': [\"<a style='color:inherit' \"\n",
      "                                             \"href='https://www.ajol.info/index.php/njcp/article/view/114862/104498'>Ojo \"\n",
      "                                             'et al., 2015</a>'],\n",
      "                                    'vi': [1.2345610425514406e-07],\n",
      "                                    'vitf': None,\n",
      "                                    'yi': [1.1111086419807957e-06],\n",
      "                                    'yitf': None},\n",
      " 'Mortality_intraop_1st_line_ETV_CPC': {'I2': 0.0,\n",
      "                                        'I2_reg': {'North America': 0.0},\n",
      "                                        'cilb': 0.0,\n",
      "                                        'cilb_reg': {'North America': 0.0},\n",
      "                                        'ciub': 0.0008868468798588161,\n",
      "                                        'ciub_reg': {'North America': 0.0008868468798588161},\n",
      "                                        'country': ['United States'],\n",
      "                                        'fill': None,\n",
      "                                        'ni': [7],\n",
      "                                        'pred': 1.4285673469504373e-06,\n",
      "                                        'pred_reg': {'North America': 1.4285673469504373e-06},\n",
      "                                        'pval': None,\n",
      "                                        'region': ['North America'],\n",
      "                                        'slab': [\"<a style='color:inherit' \"\n",
      "                                                 \"href='https://doi.org/10.3171/2015.5.peds14692'>Weil \"\n",
      "                                                 'et al., 2016</a>'],\n",
      "                                        'vi': [2.040801749346106e-07],\n",
      "                                        'vitf': None,\n",
      "                                        'yi': [1.4285673469504376e-06],\n",
      "                                        'yitf': None},\n",
      " 'Mortality_intraop_1st_line_VPS': {'I2': 0.0,\n",
      "                                    'I2_reg': {'Europe & Central Asia': 0.0,\n",
      "                                               'Latin America & Caribbean': 0.0,\n",
      "                                               'North America': 0.0},\n",
      "                                    'cilb': 0.0,\n",
      "                                    'cilb_reg': {'Europe & Central Asia': 0.0,\n",
      "                                                 'Latin America & Caribbean': 0.0,\n",
      "                                                 'North America': 0.0},\n",
      "                                    'ciub': 6.134581886416597e-06,\n",
      "                                    'ciub_reg': {'Europe & Central Asia': 1.8247431093396064e-07,\n",
      "                                                 'Latin America & Caribbean': 2.6847951465750855e-06,\n",
      "                                                 'North America': 0.0010727152473316713},\n",
      "                                    'country': ['United States',\n",
      "                                                'United States',\n",
      "                                                'United States',\n",
      "                                                'Turkey',\n",
      "                                                'Poland',\n",
      "                                                'Denmark',\n",
      "                                                'Turkey',\n",
      "                                                'Italy',\n",
      "                                                'United Kingdom',\n",
      "                                                'Mexico',\n",
      "                                                'Brazil'],\n",
      "                                    'fill': None,\n",
      "                                    'ni': [1,\n",
      "                                           5,\n",
      "                                           8,\n",
      "                                           39,\n",
      "                                           86,\n",
      "                                           59,\n",
      "                                           7,\n",
      "                                           170,\n",
      "                                           4,\n",
      "                                           47,\n",
      "                                           4],\n",
      "                                    'pred': 9.866558226083195e-08,\n",
      "                                    'pred_reg': {'Europe & Central Asia': 8.824312041107113e-08,\n",
      "                                                 'Latin America & Caribbean': 2.292134901148541e-07,\n",
      "                                                 'North America': 5.5071936413068916e-06},\n",
      "                                    'pval': 0.23231010738807584,\n",
      "                                    'region': ['North America',\n",
      "                                               'North America',\n",
      "                                               'North America',\n",
      "                                               'Europe & Central Asia',\n",
      "                                               'Europe & Central Asia',\n",
      "                                               'Europe & Central Asia',\n",
      "                                               'Europe & Central Asia',\n",
      "                                               'Europe & Central Asia',\n",
      "                                               'Europe & Central Asia',\n",
      "                                               'Latin America & Caribbean',\n",
      "                                               'Latin America & Caribbean'],\n",
      "                                    'slab': [\"<a style='color:inherit' \"\n",
      "                                             \"href='https://doi.org/10.3171/2019.7.focus19434'>Lu \"\n",
      "                                             'et al., 2019</a>',\n",
      "                                             \"<a style='color:inherit' \"\n",
      "                                             \"href='https://doi.org/10.1159/000072870'>Sandquist \"\n",
      "                                             'et al., 2003</a>',\n",
      "                                             \"<a style='color:inherit' \"\n",
      "                                             \"href='https://doi.org/10.3171/jns.1992.77.4.0551'>Rosseau \"\n",
      "                                             'et al., 1992</a>',\n",
      "                                             \"<a style='color:inherit' \"\n",
      "                                             \"href='https://doi.org/10.14245%2Fkjs.2017.14.1.7'>Eseoğlu \"\n",
      "                                             'et al., 2017</a>',\n",
      "                                             \"<a style='color:inherit' \"\n",
      "                                             \"href='https://advances.umw.edu.pl/en/article/2011/20/5/543/'>Rysiakiewicz \"\n",
      "                                             'et al., 2011</a>',\n",
      "                                             \"<a style='color:inherit' \"\n",
      "                                             \"href='https://doi.org/10.1007/s00381-010-1113-2'>Clemmensen \"\n",
      "                                             'et al., 2010</a>',\n",
      "                                             \"<a style='color:inherit' \"\n",
      "                                             \"href='https://doi.org/10.1186/1471-2334-6-43'>Sacar \"\n",
      "                                             'et al., 2006</a>',\n",
      "                                             \"<a style='color:inherit' \"\n",
      "                                             \"href='https://doi.org/10.1007/bf00261592'>Caldarelli \"\n",
      "                                             'et al., 1996</a>',\n",
      "                                             \"<a style='color:inherit' \"\n",
      "                                             \"href='https://doi.org/10.1136%2Fbjo.52.9.670'>Harcourt \"\n",
      "                                             'et al., 1968</a>',\n",
      "                                             \"<a style='color:inherit' \"\n",
      "                                             \"href='https://www.scielo.org.mx/scielo.php?script=sci_arttext&pid=S1870-72032017000200105'>Alcocer \"\n",
      "                                             'Maldonado et al., 2017</a>',\n",
      "                                             \"<a style='color:inherit' \"\n",
      "                                             \"href='https://doi.org/10.1590/0004-282x20150169'>Oliveira \"\n",
      "                                             'et al., 2015</a>'],\n",
      "                                    'vi': [9.999500017999438e-06,\n",
      "                                           3.9999600002879994e-07,\n",
      "                                           0.0046227810649112425,\n",
      "                                           6.574613530242612e-09,\n",
      "                                           1.352081420504184e-09,\n",
      "                                           2.872735284524245e-09,\n",
      "                                           2.040801749346106e-07,\n",
      "                                           3.4602065947488414e-10,\n",
      "                                           6.249921875703122e-07,\n",
      "                                           4.526930448940821e-09,\n",
      "                                           6.249921875703122e-07],\n",
      "                                    'vitf': None,\n",
      "                                    'yi': [9.99980000399992e-06,\n",
      "                                           1.999992000032e-06,\n",
      "                                           0.03846153846,\n",
      "                                           2.5641012491788464e-07,\n",
      "                                           1.1627904272580402e-07,\n",
      "                                           1.694914679689939e-07,\n",
      "                                           1.4285673469504376e-06,\n",
      "                                           5.88235224913503e-08,\n",
      "                                           2.4999875000625e-06,\n",
      "                                           2.1276586690814172e-07,\n",
      "                                           2.4999875000625e-06],\n",
      "                                    'yitf': None},\n",
      " 'Mortality_periop_1st_line_ETV': {'I2': 0.0,\n",
      "                                   'I2_reg': {'Europe & Central Asia': 0.0,\n",
      "                                              'Sub-Saharan Africa': 0.0},\n",
      "                                   'cilb': 0.0,\n",
      "                                   'cilb_reg': {'Europe & Central Asia': 0.0,\n",
      "                                                'Sub-Saharan Africa': 0.0},\n",
      "                                   'ciub': 3.5086884808440464e-06,\n",
      "                                   'ciub_reg': {'Europe & Central Asia': 0.00031039712828084126,\n",
      "                                                'Sub-Saharan Africa': 0.0006897703427044135},\n",
      "                                   'country': ['France', 'Nigeria'],\n",
      "                                   'fill': None,\n",
      "                                   'ni': [20, 9],\n",
      "                                   'pred': 6.029100328061736e-07,\n",
      "                                   'pred_reg': {'Europe & Central Asia': 4.999995000004999e-07,\n",
      "                                                'Sub-Saharan Africa': 1.1111086419807957e-06},\n",
      "                                   'pval': nan,\n",
      "                                   'region': ['Europe & Central Asia',\n",
      "                                              'Sub-Saharan Africa'],\n",
      "                                   'slab': [\"<a style='color:inherit' \"\n",
      "                                            \"href='https://doi.org/10.1016/j.wneu.2015.07.071'>Beuriat \"\n",
      "                                            'et al., 2016</a>',\n",
      "                                            \"<a style='color:inherit' \"\n",
      "                                            \"href='https://www.ajol.info/index.php/njcp/article/view/114862/104498'>Ojo \"\n",
      "                                            'et al., 2015</a>'],\n",
      "                                   'vi': [2.4999937500112504e-08,\n",
      "                                          1.2345610425514406e-07],\n",
      "                                   'vitf': None,\n",
      "                                   'yi': [4.999995000005e-07,\n",
      "                                          1.1111086419807957e-06],\n",
      "                                   'yitf': None},\n",
      " 'Mortality_periop_1st_line_ETV_CPC': {'I2': 0.0,\n",
      "                                       'I2_reg': {'North America': 0.0,\n",
      "                                                  'Sub-Saharan Africa': 0.0},\n",
      "                                       'cilb': 0.0,\n",
      "                                       'cilb_reg': {'North America': 0.0,\n",
      "                                                    'Sub-Saharan Africa': 0.0},\n",
      "                                       'ciub': 0.005192770649299259,\n",
      "                                       'ciub_reg': {'North America': 0.0008868468798588161,\n",
      "                                                    'Sub-Saharan Africa': 0.02756518734940952},\n",
      "                                       'country': ['United States', 'Uganda'],\n",
      "                                       'fill': None,\n",
      "                                       'ni': [7, 93],\n",
      "                                       'pred': 2.0529308982359514e-05,\n",
      "                                       'pred_reg': {'North America': 1.4285673469504373e-06,\n",
      "                                                    'Sub-Saharan Africa': 0.008695652173999998},\n",
      "                                       'pval': nan,\n",
      "                                       'region': ['North America',\n",
      "                                                  'Sub-Saharan Africa'],\n",
      "                                       'slab': [\"<a style='color:inherit' \"\n",
      "                                                \"href='https://doi.org/10.3171/2015.5.peds14692'>Weil \"\n",
      "                                                'et al., 2016</a>',\n",
      "                                                \"<a style='color:inherit' \"\n",
      "                                                \"href='https://doi.org/10.3171/ped.2008.2.11.310'>Warf \"\n",
      "                                                'et al., 2008</a>'],\n",
      "                                       'vi': [2.040801749346106e-07,\n",
      "                                              9.26885785727829e-05],\n",
      "                                       'vitf': None,\n",
      "                                       'yi': [1.4285673469504376e-06,\n",
      "                                              0.008695652174],\n",
      "                                       'yitf': None},\n",
      " 'Mortality_periop_1st_line_ETV_to_VP': {'I2': 0.0,\n",
      "                                         'I2_reg': {'Europe & Central Asia': 0.0},\n",
      "                                         'cilb': 0.0,\n",
      "                                         'cilb_reg': {'Europe & Central Asia': 0.0},\n",
      "                                         'ciub': 0.00031039712828084126,\n",
      "                                         'ciub_reg': {'Europe & Central Asia': 0.00031039712828084126},\n",
      "                                         'country': ['France'],\n",
      "                                         'fill': None,\n",
      "                                         'ni': [20],\n",
      "                                         'pred': 4.999995000004999e-07,\n",
      "                                         'pred_reg': {'Europe & Central Asia': 4.999995000004999e-07},\n",
      "                                         'pval': None,\n",
      "                                         'region': ['Europe & Central Asia'],\n",
      "                                         'slab': [\"<a style='color:inherit' \"\n",
      "                                                  \"href='https://doi.org/10.1016/j.wneu.2015.07.071'>Beuriat \"\n",
      "                                                  'et al., 2016</a>'],\n",
      "                                         'vi': [2.4999937500112504e-08],\n",
      "                                         'vitf': None,\n",
      "                                         'yi': [4.999995000005e-07],\n",
      "                                         'yitf': None},\n",
      " 'Mortality_periop_1st_line_VPS': {'I2': 61.4667751915023,\n",
      "                                   'I2_reg': {'Europe & Central Asia': 42.44190640363888,\n",
      "                                              'Latin America & Caribbean': 0.0,\n",
      "                                              'North America': 92.54629175269396},\n",
      "                                   'cilb': 0.0,\n",
      "                                   'cilb_reg': {'Europe & Central Asia': 0.0,\n",
      "                                                'Latin America & Caribbean': 0.0,\n",
      "                                                'North America': 0.0},\n",
      "                                   'ciub': 0.00033980129875870016,\n",
      "                                   'ciub_reg': {'Europe & Central Asia': 0.0002475335093126152,\n",
      "                                                'Latin America & Caribbean': 4.211859192628985e-06,\n",
      "                                                'North America': 0.46779909750847576},\n",
      "                                   'country': ['United States',\n",
      "                                               'United States',\n",
      "                                               'Turkey',\n",
      "                                               'France',\n",
      "                                               'Poland',\n",
      "                                               'Italy',\n",
      "                                               'United Kingdom',\n",
      "                                               'Brazil',\n",
      "                                               'Brazil'],\n",
      "                                   'fill': None,\n",
      "                                   'ni': [1, 187, 39, 20, 86, 170, 4, 4, 28],\n",
      "                                   'pred': 2.73747387597383e-06,\n",
      "                                   'pred_reg': {'Europe & Central Asia': 6.218739904605768e-07,\n",
      "                                                'Latin America & Caribbean': 3.9999994999975723e-07,\n",
      "                                                'North America': 0.03197744728464986},\n",
      "                                   'pval': 0.1361105470273231,\n",
      "                                   'region': ['North America',\n",
      "                                              'North America',\n",
      "                                              'Europe & Central Asia',\n",
      "                                              'Europe & Central Asia',\n",
      "                                              'Europe & Central Asia',\n",
      "                                              'Europe & Central Asia',\n",
      "                                              'Europe & Central Asia',\n",
      "                                              'Latin America & Caribbean',\n",
      "                                              'Latin America & Caribbean'],\n",
      "                                   'slab': [\"<a style='color:inherit' \"\n",
      "                                            \"href='https://doi.org/10.3171/2019.7.focus19434'>Lu \"\n",
      "                                            'et al., 2019</a>',\n",
      "                                            \"<a style='color:inherit' \"\n",
      "                                            \"href='https://doi.org/10.1007/s00381-003-0759-4'>Tuli \"\n",
      "                                            'et al., 2003</a>',\n",
      "                                            \"<a style='color:inherit' \"\n",
      "                                            \"href='https://doi.org/10.14245%2Fkjs.2017.14.1.7'>Eseoğlu \"\n",
      "                                            'et al., 2017</a>',\n",
      "                                            \"<a style='color:inherit' \"\n",
      "                                            \"href='https://doi.org/10.1016/j.wneu.2015.07.071'>Beuriat \"\n",
      "                                            'et al., 2016</a>',\n",
      "                                            \"<a style='color:inherit' \"\n",
      "                                            \"href='https://advances.umw.edu.pl/en/article/2011/20/5/543/'>Rysiakiewicz \"\n",
      "                                            'et al., 2011</a>',\n",
      "                                            \"<a style='color:inherit' \"\n",
      "                                            \"href='https://doi.org/10.1007/bf00261592'>Caldarelli \"\n",
      "                                            'et al., 1996</a>',\n",
      "                                            \"<a style='color:inherit' \"\n",
      "                                            \"href='https://doi.org/10.1136%2Fbjo.52.9.670'>Harcourt \"\n",
      "                                            'et al., 1968</a>',\n",
      "                                            \"<a style='color:inherit' \"\n",
      "                                            \"href='https://doi.org/10.1590/0004-282x20150169'>Oliveira \"\n",
      "                                            'et al., 2015</a>',\n",
      "                                            \"<a style='color:inherit' \"\n",
      "                                            \"href='https://doi.org/10.1007/s00381-003-0853-7'>Machado \"\n",
      "                                            'et al., 2004</a>'],\n",
      "                                   'vi': [9.999500017999438e-06,\n",
      "                                          0.0003425096877005347,\n",
      "                                          6.574613530242612e-09,\n",
      "                                          2.4999937500112504e-08,\n",
      "                                          0.000804376131152086,\n",
      "                                          3.4602065947488414e-10,\n",
      "                                          6.249921875703122e-07,\n",
      "                                          6.249921875703122e-07,\n",
      "                                          1.275507926387768e-08],\n",
      "                                   'vitf': None,\n",
      "                                   'yi': [9.99980000399992e-06,\n",
      "                                          0.06878,\n",
      "                                          2.5641012491788464e-07,\n",
      "                                          4.999995000005e-07,\n",
      "                                          0.07476635514,\n",
      "                                          5.88235224913503e-08,\n",
      "                                          2.4999875000625e-06,\n",
      "                                          2.4999875000625e-06,\n",
      "                                          3.5714260204099856e-07],\n",
      "                                   'yitf': None}}\n"
     ]
    }
   ],
   "source": [
    "#Conduct meta-analysis\n",
    "\n",
    "#The code performs a meta-analysis using 'metafor'\n",
    "#to estimate the effect size and 95% CI for the given treatment and outcome\n",
    "metafor = importr('metafor')\n",
    "stats = importr('stats')\n",
    "\n",
    "#The input is df_forest\n",
    "#The output is the dictionary 'metastudy', whose keys are 'measure_type'\n",
    "#which contains the estimated effect sizes and 95% CI\n",
    "#for each treatment and outcome for all groups with enough studies\n",
    "#to perform meta-analysis\n",
    "metastudy = {}\n",
    "\n",
    "#Output will be ordered by region and year of publication\n",
    "region_order = {\n",
    "    'Sub-Saharan Africa': 0,\n",
    "    'Middle East & North Africa': 1,\n",
    "    'Latin America & Caribbean': 2,\n",
    "    'East Asia & Pacific': 3,\n",
    "    'South Asia': 4,\n",
    "    'Europe & Central Asia': 5,\n",
    "    'North America': 6\n",
    "}\n",
    "\n",
    "\n",
    "def run_meta_analysis(df):\n",
    "    #Calculates effect sizes & sampling variances for raw proportions\n",
    "    xi = rpy2.robjects.FloatVector(df.Rate*df.N_subgroups)\n",
    "    ni = rpy2.robjects.FloatVector(df.N_subgroups)\n",
    "    slab = rpy2.robjects.FactorVector(df.Study)\n",
    "    dat = metafor.escalc(measure=\"PR\", xi=xi, ni=ni, add=0.00001, to=\"only0\", slab=slab)\n",
    "\n",
    "    #Builds random-effects model\n",
    "    with localconverter(rpy2.robjects.default_converter + pandas2ri.converter): pd_dat = rpy2.robjects.conversion.rpy2py(dat)\n",
    "    yi, vi = rpy2.robjects.FloatVector(pd_dat.yi), rpy2.robjects.FloatVector(pd_dat.vi)\n",
    "    fit = metafor.rma(yi=yi, vi=vi, measure=\"PR\", method=\"DL\", test=\"knha\", slab=slab)\n",
    "    res = stats.predict(fit)\n",
    "\n",
    "    #And add the results to the dictionary with appropriate keys\n",
    "    results = dict(zip(res.names,list(res)))\n",
    "    results['I2'] = fit.rx2('I2')[0]\n",
    "    return results, pd_dat, fit\n",
    "\n",
    "\n",
    "#The code iterates over the unique outcomes in the data frame\n",
    "for outcome in df_forest['Outcome'].unique():\n",
    "\n",
    "    #For each outcome with more than one study,\n",
    "    #it iterates over the unique treatments\n",
    "    #and subsets the data for the current outcome and treatment\n",
    "    nstudies = len(df_forest['Outcome'][df_forest['Outcome']==outcome])\n",
    "\n",
    "    if nstudies < 2: print(f\"Insufficient no. studies to perform meta-analysis for '{outcome}'\")\n",
    "    else:\n",
    "        for group in df_forest['Treatment'].unique():\n",
    "\n",
    "            #Creates a subset of the data with only the rows that correspond to the current outcome and treatment.\n",
    "            subset = df_forest[(df_forest['Treatment'] == group) & (df_forest['Outcome'] == outcome)]\n",
    "\n",
    "            if subset.empty: print(f\"Treatment '{group}' contains no data for outcome '{outcome}'\")\n",
    "            else:\n",
    "\n",
    "                #Run global meta-analysis.\n",
    "                subset = subset.sort_values(by=['Region','Year_of_publication'], key=lambda x: x.map(region_order).fillna(x), ascending=False)\n",
    "                results, pd_dat, fit = run_meta_analysis(subset)\n",
    "\n",
    "                #Egger's & trim-and-fill.\n",
    "                pval, yi_tf, vi_tf, fill = None, None, None, None\n",
    "                if len(rpy2.robjects.FloatVector(pd_dat.yi))>1:\n",
    "                  try:\n",
    "                    pval = metafor.regtest(rpy2.robjects.FloatVector(pd_dat.yi), rpy2.robjects.FloatVector(pd_dat.vi), model=\"lm\").rx2('pval')[0]\n",
    "                    if pval<0.05:\n",
    "                      yi_tf, vi_tf, fill = metafor.trimfill(fit).rx2('yi'), metafor.trimfill(fit).rx2('vi'), metafor.trimfill(fit).rx2('fill')\n",
    "                      with localconverter(rpy2.robjects.default_converter + pandas2ri.converter):\n",
    "                        yi_tf = rpy2.robjects.conversion.rpy2py(yi_tf).tolist()\n",
    "                        vi_tf = rpy2.robjects.conversion.rpy2py(vi_tf).tolist()\n",
    "                        fill = rpy2.robjects.conversion.rpy2py(fill).tolist()\n",
    "                  except: pass\n",
    "\n",
    "                #Stores global results in the metastudy dictionary.\n",
    "                key = f\"{outcome}_{group}\"\n",
    "                metastudy[key] = dict(pred=results['pred'][0],\n",
    "                                      I2=results['I2'],\n",
    "                                      cilb=results['ci.lb'][0] if results['ci.lb'][0]>=0 else 0.,\n",
    "                                      ciub=results['ci.ub'][0] if results['ci.ub'][0]<=1 else 1.,\n",
    "                                      #crub=results['cr.ub'][0],\n",
    "                                      #crlb=results['cr.lb'][0],\n",
    "                                      pred_reg=dict(),\n",
    "                                      I2_reg=dict(),\n",
    "                                      cilb_reg=dict(),\n",
    "                                      ciub_reg=dict(),\n",
    "                                      ni=subset.N_subgroups.to_list(),\n",
    "                                      yi=pd_dat.yi.to_list(),\n",
    "                                      vi=pd_dat.vi.to_list(),\n",
    "                                      pval=pval,\n",
    "                                      yitf=yi_tf,\n",
    "                                      vitf=vi_tf,\n",
    "                                      fill=fill,\n",
    "                                      slab=subset.URL.to_list(),\n",
    "                                      #slab=subset.Study.to_list())\n",
    "                                      country=subset.Country.to_list(),\n",
    "                                      region=subset.Region.to_list())\n",
    "\n",
    "                #Run regional meta-analysis.\n",
    "                for region in subset['Region'].unique():\n",
    "                    regional_subset = subset[ subset['Region']==region ]\n",
    "                    if regional_subset.empty: print(f\"Region '{region}' contains no data for treatment {group} and outcome '{outcome}'\")\n",
    "                    else:\n",
    "                      regional_results, _, _ = run_meta_analysis(regional_subset)\n",
    "                      metastudy[key]['pred_reg'][region] = regional_results['pred'][0]\n",
    "                      metastudy[key]['cilb_reg'][region] = regional_results['ci.lb'][0] if regional_results['ci.lb'][0]>=0 else 0.\n",
    "                      metastudy[key]['ciub_reg'][region] = regional_results['ci.ub'][0] if regional_results['ci.ub'][0]<=1 else 1.\n",
    "                      metastudy[key]['I2_reg'][region] = regional_results['I2']\n",
    "\n",
    "\n",
    "print()\n",
    "pprint(metastudy)"
   ]
  },
  {
   "cell_type": "code",
   "execution_count": 36,
   "metadata": {
    "colab": {
     "base_uri": "https://localhost:8080/",
     "height": 1000
    },
    "id": "jnA534lMK1ca",
    "outputId": "24064eec-c74b-4646-c16b-d9b345cb88e6"
   },
   "outputs": [
    {
     "name": "stdout",
     "output_type": "stream",
     "text": [
      "Error processing Complication_rate_1st_line_CPC: 'Complication_rate_1st_line_CPC'. Skipping to next measure...\n",
      "row: 2, col: 4\n",
      "Error processing Mortality_intraop_1st_line_conservative: 'Mortality_intraop_1st_line_conservative'. Skipping to next measure...\n",
      "row: 3, col: 1\n",
      "Error processing Mortality_periop_1st_line_conservative: 'Mortality_periop_1st_line_conservative'. Skipping to next measure...\n",
      "row: 4, col: 1\n"
     ]
    },
    {
     "data": {
      "application/vnd.plotly.v1+json": {
       "config": {
        "plotlyServerURL": "https://plot.ly",
        "toImageButtonOptions": {
         "filename": "fig3",
         "format": "png",
         "scale": 6
        }
       },
       "data": [
        {
         "error_x": {
          "array": [
           0.67
          ],
          "arrayminus": [
           0.33
          ],
          "type": "data"
         },
         "hovertemplate": "<b>%{y}</b><br>Pooled estimate [95% CI]: <b>%{x:.2f}</b> [0.0, 1.0]<br>I<sup>2</sup>: 100.0%<br>N: 114<extra></extra>",
         "marker": {
          "color": "black",
          "size": 6.535159753833509,
          "symbol": "diamond-wide"
         },
         "mode": "markers",
         "type": "scatter",
         "x": [
          0.33
         ],
         "xaxis": "x",
         "y": [
          "<b>Global effect</b>"
         ],
         "yaxis": "y"
        },
        {
         "hoverinfo": "skip",
         "marker": {
          "color": "white"
         },
         "type": "scatter",
         "xaxis": "x",
         "y": [
          "             "
         ],
         "yaxis": "y"
        },
        {
         "error_x": {
          "array": [
           0
          ],
          "arrayminus": [
           0
          ],
          "type": "data"
         },
         "hovertemplate": "<b>%{y}</b><br>Estimate [95% CI]: <b>%{x:.2f}</b> [1.0, 1.0]<br>I<sup>2</sup>: 0.0%<br>N: 85<extra></extra>",
         "marker": {
          "color": "black",
          "size": 6.072740553421622,
          "symbol": "diamond-wide"
         },
         "mode": "markers",
         "type": "scatter",
         "x": [
          null
         ],
         "xaxis": "x",
         "y": [
          "<b>North America</b>"
         ],
         "yaxis": "y"
        },
        {
         "customdata": [
          [
           "0.9575296600887505",
           "1.0",
           "North America",
           "Canada"
          ]
         ],
         "error_x": {
          "array": [
           1.1764703122807418e-7
          ],
          "arrayminus": [
           0.04247022226421826
          ],
          "type": "data"
         },
         "hovertemplate": "<b>%{y}</b><br>Proportion [95% CI]: <b>%{x:.2f}</b> [%{customdata[0]:.2f}; %{customdata[1]:.2f}]<br>Country: %{customdata[3]}<br>Region: %{customdata[2]}<br>N: %{text}<br><extra></extra>",
         "marker": {
          "color": "rgb(127, 60, 141)",
          "size": [
           6.072740553421622
          ],
          "symbol": "square"
         },
         "mode": "markers",
         "text": [
          "85"
         ],
         "type": "scatter",
         "x": [
          0.9999998823529688
         ],
         "xaxis": "x",
         "y": [
          "<a style='color:inherit' href='https://doi.org/10.1007/bf00298448'>Steinbok et al., 1992</a>"
         ],
         "yaxis": "y"
        },
        {
         "hoverinfo": "skip",
         "marker": {
          "color": "white"
         },
         "type": "scatter",
         "xaxis": "x",
         "y": [
          "                     "
         ],
         "yaxis": "y"
        },
        {
         "error_x": {
          "array": [
           0
          ],
          "arrayminus": [
           0
          ],
          "type": "data"
         },
         "hovertemplate": "<b>%{y}</b><br>Estimate [95% CI]: <b>%{x:.2f}</b> [0.0, 0.0]<br>I<sup>2</sup>: 0.0%<br>N: 2<extra></extra>",
         "marker": {
          "color": "black",
          "size": 2.378414230005442,
          "symbol": "diamond-wide"
         },
         "mode": "markers",
         "type": "scatter",
         "x": [
          null
         ],
         "xaxis": "x",
         "y": [
          "<b>Europe & Central Asia</b>"
         ],
         "yaxis": "y"
        },
        {
         "customdata": [
          [
           "0.0",
           "0.841886116991607",
           "Europe & Central Asia",
           "Netherlands"
          ]
         ],
         "error_x": {
          "array": [
           0.8418811170416065
          ],
          "arrayminus": [
           0.000004999950000499995
          ],
          "type": "data"
         },
         "hovertemplate": "<b>%{y}</b><br>Proportion [95% CI]: <b>%{x:.2f}</b> [%{customdata[0]:.2f}; %{customdata[1]:.2f}]<br>Country: %{customdata[3]}<br>Region: %{customdata[2]}<br>N: %{text}<br><extra></extra>",
         "marker": {
          "color": "rgb(127, 60, 141)",
          "size": [
           2.378414230005442
          ],
          "symbol": "square"
         },
         "mode": "markers",
         "text": [
          "2"
         ],
         "type": "scatter",
         "x": [
          0.000004999950000499995
         ],
         "xaxis": "x",
         "y": [
          "<a style='color:inherit' href='https://doi.org/10.3171/2019.7.FOCUS19447'>Spoor et al., 2019</a>"
         ],
         "yaxis": "y"
        },
        {
         "hoverinfo": "skip",
         "marker": {
          "color": "white"
         },
         "type": "scatter",
         "xaxis": "x",
         "y": [
          "                         "
         ],
         "yaxis": "y"
        },
        {
         "error_x": {
          "array": [
           0
          ],
          "arrayminus": [
           0
          ],
          "type": "data"
         },
         "hovertemplate": "<b>%{y}</b><br>Estimate [95% CI]: <b>%{x:.2f}</b> [0.0, 0.0]<br>I<sup>2</sup>: 0.0%<br>N: 27<extra></extra>",
         "marker": {
          "color": "black",
          "size": 4.559014113909555,
          "symbol": "diamond-wide"
         },
         "mode": "markers",
         "type": "scatter",
         "x": [
          null
         ],
         "xaxis": "x",
         "y": [
          "<b>Latin America & Caribbean</b>"
         ],
         "yaxis": "y"
        },
        {
         "customdata": [
          [
           "0.0",
           "0.12770286761543387",
           "Latin America & Caribbean",
           "Brazil"
          ]
         ],
         "error_x": {
          "array": [
           0.12770249724533786
          ],
          "arrayminus": [
           3.7037009602215116e-7
          ],
          "type": "data"
         },
         "hovertemplate": "<b>%{y}</b><br>Proportion [95% CI]: <b>%{x:.2f}</b> [%{customdata[0]:.2f}; %{customdata[1]:.2f}]<br>Country: %{customdata[3]}<br>Region: %{customdata[2]}<br>N: %{text}<br><extra></extra>",
         "marker": {
          "color": "rgb(127, 60, 141)",
          "size": [
           4.559014113909555
          ],
          "symbol": "square"
         },
         "mode": "markers",
         "text": [
          "27"
         ],
         "type": "scatter",
         "x": [
          3.7037009602215116e-7
         ],
         "xaxis": "x",
         "y": [
          "<a style='color:inherit' href='https://doi.org/10.1590/s0004-282x2004000600006'>Ulsenheimer et al., 2004</a>"
         ],
         "yaxis": "y"
        },
        {
         "error_x": {
          "array": [
           0.15
          ],
          "arrayminus": [
           0.15
          ],
          "type": "data"
         },
         "hovertemplate": "<b>%{y}</b><br>Pooled estimate [95% CI]: <b>%{x:.2f}</b> [0.26, 0.57]<br>I<sup>2</sup>: 99.98%<br>N: 859<extra></extra>",
         "marker": {
          "color": "black",
          "size": 10.827502349019499,
          "symbol": "diamond-wide"
         },
         "mode": "markers",
         "type": "scatter",
         "x": [
          0.41
         ],
         "xaxis": "x2",
         "y": [
          "<b>Global effect</b>"
         ],
         "yaxis": "y2"
        },
        {
         "hoverinfo": "skip",
         "marker": {
          "color": "white"
         },
         "type": "scatter",
         "xaxis": "x2",
         "y": [
          "             "
         ],
         "yaxis": "y2"
        },
        {
         "error_x": {
          "array": [
           0.4
          ],
          "arrayminus": [
           0.6
          ],
          "type": "data"
         },
         "hovertemplate": "<b>%{y}</b><br>Estimate [95% CI]: <b>%{x:.2f}</b> [0.0, 1.0]<br>I<sup>2</sup>: 99.43%<br>N: 161<extra></extra>",
         "marker": {
          "color": "black",
          "size": 7.1242059320178335,
          "symbol": "diamond-wide"
         },
         "mode": "markers",
         "type": "scatter",
         "x": [
          0.6
         ],
         "xaxis": "x2",
         "y": [
          "<b>North America</b>"
         ],
         "yaxis": "y2"
        },
        {
         "customdata": [
          [
           "0.09898827844243689",
           "0.81594843235993",
           "North America",
           "United States"
          ],
          [
           "0.05218374466988076",
           "0.2187171057078085",
           "North America",
           "United States"
          ],
          [
           "0.7663753811449798",
           "0.9248686534535081",
           "North America",
           "Canada"
          ],
          [
           "0.025000000000000022",
           "1.0",
           "North America",
           "United States"
          ]
         ],
         "error_x": {
          "array": [
           0.40685752325992997,
           0.1010700469078085,
           0.06604512405350815,
           0.000009999800004045767
          ],
          "arrayminus": [
           0.3101026306575631,
           0.06546331413011924,
           0.09244814825502012,
           0.9749900001999959
          ],
          "type": "data"
         },
         "hovertemplate": "<b>%{y}</b><br>Proportion [95% CI]: <b>%{x:.2f}</b> [%{customdata[0]:.2f}; %{customdata[1]:.2f}]<br>Country: %{customdata[3]}<br>Region: %{customdata[2]}<br>N: %{text}<br><extra></extra>",
         "marker": {
          "color": "rgb(17, 165, 121)",
          "size": [
           3.2531531233955713,
           5.743243422051801,
           6.072740553421622,
           2
          ],
          "symbol": "square"
         },
         "mode": "markers",
         "text": [
          "7",
          "68",
          "85",
          "1"
         ],
         "type": "scatter",
         "x": [
          0.4090909091,
          0.1176470588,
          0.8588235294,
          0.999990000199996
         ],
         "xaxis": "x2",
         "y": [
          "<a style='color:inherit' href='https://doi.org/10.1093/neuros/nyz302'>Flanders et al., 2019</a>",
          "<a style='color:inherit' href='https://doi.org/10.1177/088307389601100504'>Miller et al., 1996</a>",
          "<a style='color:inherit' href='https://doi.org/10.1007/bf00298448'>Steinbok et al., 1992</a>",
          "<a style='color:inherit' href='https://doi.org/10.1177/000348947208100604'>Bluestone et al., 1972</a>"
         ],
         "yaxis": "y2"
        },
        {
         "hoverinfo": "skip",
         "marker": {
          "color": "white"
         },
         "type": "scatter",
         "xaxis": "x2",
         "y": [
          "                     "
         ],
         "yaxis": "y2"
        },
        {
         "error_x": {
          "array": [
           0.15
          ],
          "arrayminus": [
           0.15
          ],
          "type": "data"
         },
         "hovertemplate": "<b>%{y}</b><br>Estimate [95% CI]: <b>%{x:.2f}</b> [0.22, 0.51]<br>I<sup>2</sup>: 87.08%<br>N: 412<extra></extra>",
         "marker": {
          "color": "black",
          "size": 9.010612216755183,
          "symbol": "diamond-wide"
         },
         "mode": "markers",
         "type": "scatter",
         "x": [
          0.36
         ],
         "xaxis": "x2",
         "y": [
          "<b>Europe & Central Asia</b>"
         ],
         "yaxis": "y2"
        },
        {
         "customdata": [
          [
           "0.01257911709367899",
           "0.987420882906321",
           "Europe & Central Asia",
           "Netherlands"
          ],
          [
           "0.2781076296764094",
           "0.6037919829857287",
           "Europe & Central Asia",
           "Germany"
          ],
          [
           "0.27195784956079133",
           "0.7280421504392086",
           "Europe & Central Asia",
           "France"
          ],
          [
           "0.03185402624994424",
           "0.6508557944128243",
           "Europe & Central Asia",
           "Netherlands"
          ],
          [
           "0.10402634219208506",
           "0.22996045482214617",
           "Europe & Central Asia",
           "Turkey"
          ],
          [
           "0.15284593960863158",
           "0.5083233538099897",
           "Europe & Central Asia",
           "Italy"
          ],
          [
           "0.3822854364357649",
           "0.5368224450567968",
           "Europe & Central Asia",
           "Italy"
          ]
         ],
         "error_x": {
          "array": [
           0.25769115320632097,
           0.17379198298572868,
           0.2280421504392086,
           0.43051681131282427,
           0.07023823262214615,
           0.19797852620998974,
           0.07799891565679684
          ],
          "arrayminus": [
           0.7171506126063211,
           0.1518923703235906,
           0.22804215043920867,
           0.18848495685005576,
           0.05569588000791495,
           0.1574988879913684,
           0.07653809296423503
          ],
          "type": "data"
         },
         "hovertemplate": "<b>%{y}</b><br>Proportion [95% CI]: <b>%{x:.2f}</b> [%{customdata[0]:.2f}; %{customdata[1]:.2f}]<br>Country: %{customdata[3]}<br>Region: %{customdata[2]}<br>N: %{text}<br><extra></extra>",
         "marker": {
          "color": "rgb(17, 165, 121)",
          "size": [
           2.378414230005442,
           4.997998798878767,
           4.229485053762256,
           3.363585661014858,
           6.928203230275509,
           4.641191574212168,
           7.221746273694555
          ],
          "symbol": "square"
         },
         "mode": "markers",
         "text": [
          "2",
          "39",
          "20",
          "8",
          "144",
          "29",
          "170"
         ],
         "type": "scatter",
         "x": [
          0.7297297297,
          0.43,
          0.5,
          0.2203389831,
          0.1597222222,
          0.3103448276,
          0.45882352939999993
         ],
         "xaxis": "x2",
         "y": [
          "<a style='color:inherit' href='https://doi.org/10.3171/2019.7.FOCUS19447'>Spoor et al., 2019</a>",
          "<a style='color:inherit' href='https://doi.org/10.1007/s00381-018-3781-2'>Al-Hakim et al., 2018</a>",
          "<a style='color:inherit' href='https://doi.org/10.1016/j.wneu.2015.07.071'>Beuriat et al., 2016</a>",
          "<a style='color:inherit' href='https://doi.org/10.1007/s00381-012-1961-z'>Fani et al., 2013</a>",
          "<a style='color:inherit' href='https://doi.org/10.5137/1019-5149.jtn.4263-11.1'>Arslan et al., 2011</a>",
          "<a style='color:inherit' href='https://doi.org/10.1007/s00381-002-0557-4'>Rendeli et al., 2002</a>",
          "<a style='color:inherit' href='https://doi.org/10.1007/bf00261592'>Caldarelli et al., 1996</a>"
         ],
         "yaxis": "y2"
        },
        {
         "hoverinfo": "skip",
         "marker": {
          "color": "white"
         },
         "type": "scatter",
         "xaxis": "x2",
         "y": [
          "                         "
         ],
         "yaxis": "y2"
        },
        {
         "error_x": {
          "array": [
           0.34
          ],
          "arrayminus": [
           0.29
          ],
          "type": "data"
         },
         "hovertemplate": "<b>%{y}</b><br>Estimate [95% CI]: <b>%{x:.2f}</b> [0.0, 0.63]<br>I<sup>2</sup>: 98.33%<br>N: 286<extra></extra>",
         "marker": {
          "color": "black",
          "size": 8.224727235668734,
          "symbol": "diamond-wide"
         },
         "mode": "markers",
         "type": "scatter",
         "x": [
          0.29
         ],
         "xaxis": "x2",
         "y": [
          "<b>Latin America & Caribbean</b>"
         ],
         "yaxis": "y2"
        },
        {
         "customdata": [
          [
           "0.3994079805108585",
           "0.5444859873052732",
           "Latin America & Caribbean",
           "Brazil"
          ],
          [
           "0.11461600510260381",
           "0.43404937492227846",
           "Latin America & Caribbean",
           "Brazil"
          ],
          [
           "0.0",
           "0.6023646356164858",
           "Latin America & Caribbean",
           "Brazil"
          ],
          [
           "0.008178134460656279",
           "0.22073540152296212",
           "Latin America & Caribbean",
           "Brazil"
          ],
          [
           "0.4603927139075695",
           "0.834811820312585",
           "Latin America & Caribbean",
           "Brazil"
          ]
         ],
         "error_x": {
          "array": [
           0.07298339660527314,
           0.18404937492227846,
           0.6023621356289858,
           0.1507354015229621,
           0.16814515361258509
          ],
          "arrayminus": [
           0.07209461018914154,
           0.1353839948973962,
           0.0000024999875000625,
           0.061821865539343726,
           0.2062739527924305
          ],
          "type": "data"
         },
         "hovertemplate": "<b>%{y}</b><br>Proportion [95% CI]: <b>%{x:.2f}</b> [%{customdata[0]:.2f}; %{customdata[1]:.2f}]<br>Country: %{customdata[3]}<br>Region: %{customdata[2]}<br>N: %{text}<br><extra></extra>",
         "marker": {
          "color": "rgb(17, 165, 121)",
          "size": [
           7.4545137975457,
           4.756828460010884,
           2.8284271247461903,
           4.680694638641432,
           4.559014113909555
          ],
          "symbol": "square"
         },
         "mode": "markers",
         "text": [
          "193",
          "32",
          "4",
          "30",
          "27"
         ],
         "type": "scatter",
         "x": [
          0.47150259070000006,
          0.25,
          0.0000024999875000625,
          0.07,
          0.6666666667
         ],
         "xaxis": "x2",
         "y": [
          "<a style='color:inherit' href='https://doi.org/10.3171/2019.7.focus19462'>Protzenko et al., 2019</a>",
          "<a style='color:inherit' href='https://doi.org/10.1007/s00381-016-3012-7'>Rodrigues et al., 2016</a>",
          "<a style='color:inherit' href='https://doi.org/10.1590/0004-282x20150169'>Oliveira et al., 2015</a>",
          "<a style='color:inherit' href='https://doi.org/10.1159/000209285'>Pinto et al., 2009</a>",
          "<a style='color:inherit' href='https://doi.org/10.1590/s0004-282x2004000600006'>Ulsenheimer et al., 2004</a>"
         ],
         "yaxis": "y2"
        },
        {
         "error_x": {
          "array": [
           0.25
          ],
          "arrayminus": [
           0.25
          ],
          "type": "data"
         },
         "hovertemplate": "<b>%{y}</b><br>Pooled estimate [95% CI]: <b>%{x:.2f}</b> [0.13, 0.62]<br>I<sup>2</sup>: 98.35%<br>N: 220<extra></extra>",
         "marker": {
          "color": "black",
          "size": 7.702570213686163,
          "symbol": "diamond-wide"
         },
         "mode": "markers",
         "type": "scatter",
         "x": [
          0.37
         ],
         "xaxis": "x3",
         "y": [
          "<b>Global effect</b>"
         ],
         "yaxis": "y3"
        },
        {
         "hoverinfo": "skip",
         "marker": {
          "color": "white"
         },
         "type": "scatter",
         "xaxis": "x3",
         "y": [
          "             "
         ],
         "yaxis": "y3"
        },
        {
         "error_x": {
          "array": [
           0.33
          ],
          "arrayminus": [
           0.29
          ],
          "type": "data"
         },
         "hovertemplate": "<b>%{y}</b><br>Estimate [95% CI]: <b>%{x:.2f}</b> [0.0, 0.62]<br>I<sup>2</sup>: 0.0%<br>N: 7<extra></extra>",
         "marker": {
          "color": "black",
          "size": 3.2531531233955713,
          "symbol": "diamond-wide"
         },
         "mode": "markers",
         "type": "scatter",
         "x": [
          null
         ],
         "xaxis": "x3",
         "y": [
          "<b>North America</b>"
         ],
         "yaxis": "y3"
        },
        {
         "customdata": [
          [
           "0.036692566176085656",
           "0.7095791362626575",
           "North America",
           "United States"
          ]
         ],
         "error_x": {
          "array": [
           0.42386485056265744
          ],
          "arrayminus": [
           0.24902171952391436
          ],
          "type": "data"
         },
         "hovertemplate": "<b>%{y}</b><br>Proportion [95% CI]: <b>%{x:.2f}</b> [%{customdata[0]:.2f}; %{customdata[1]:.2f}]<br>Country: %{customdata[3]}<br>Region: %{customdata[2]}<br>N: %{text}<br><extra></extra>",
         "marker": {
          "color": "rgb(57, 105, 172)",
          "size": [
           3.2531531233955713
          ],
          "symbol": "square"
         },
         "mode": "markers",
         "text": [
          "7"
         ],
         "type": "scatter",
         "x": [
          0.2857142857
         ],
         "xaxis": "x3",
         "y": [
          "<a style='color:inherit' href='https://doi.org/10.1093/neuros/nyz302'>Flanders et al., 2019</a>"
         ],
         "yaxis": "y3"
        },
        {
         "hoverinfo": "skip",
         "marker": {
          "color": "white"
         },
         "type": "scatter",
         "xaxis": "x3",
         "y": [
          "                  "
         ],
         "yaxis": "y3"
        },
        {
         "error_x": {
          "array": [
           0
          ],
          "arrayminus": [
           0
          ],
          "type": "data"
         },
         "hovertemplate": "<b>%{y}</b><br>Estimate [95% CI]: <b>%{x:.2f}</b> [0.0, 0.0]<br>I<sup>2</sup>: 0.0%<br>N: 9<extra></extra>",
         "marker": {
          "color": "black",
          "size": 3.4641016151377544,
          "symbol": "diamond-wide"
         },
         "mode": "markers",
         "type": "scatter",
         "x": [
          null
         ],
         "xaxis": "x3",
         "y": [
          "<b>Sub-Saharan Africa</b>"
         ],
         "yaxis": "y3"
        },
        {
         "customdata": [
          [
           "0.0",
           "0.3362671168799429",
           "Sub-Saharan Africa",
           "Nigeria"
          ]
         ],
         "error_x": {
          "array": [
           0.3362660057713009
          ],
          "arrayminus": [
           0.0000011111086419807957
          ],
          "type": "data"
         },
         "hovertemplate": "<b>%{y}</b><br>Proportion [95% CI]: <b>%{x:.2f}</b> [%{customdata[0]:.2f}; %{customdata[1]:.2f}]<br>Country: %{customdata[3]}<br>Region: %{customdata[2]}<br>N: %{text}<br><extra></extra>",
         "marker": {
          "color": "rgb(57, 105, 172)",
          "size": [
           3.4641016151377544
          ],
          "symbol": "square"
         },
         "mode": "markers",
         "text": [
          "9"
         ],
         "type": "scatter",
         "x": [
          0.0000011111086419807957
         ],
         "xaxis": "x3",
         "y": [
          "<a style='color:inherit' href='https://www.ajol.info/index.php/njcp/article/view/114862/104498'>Ojo et al., 2015</a>"
         ],
         "yaxis": "y3"
        },
        {
         "hoverinfo": "skip",
         "marker": {
          "color": "white"
         },
         "type": "scatter",
         "xaxis": "x3",
         "y": [
          "                     "
         ],
         "yaxis": "y3"
        },
        {
         "error_x": {
          "array": [
           0.57
          ],
          "arrayminus": [
           0.43
          ],
          "type": "data"
         },
         "hovertemplate": "<b>%{y}</b><br>Estimate [95% CI]: <b>%{x:.2f}</b> [0.0, 1.0]<br>I<sup>2</sup>: 0.0%<br>N: 7<extra></extra>",
         "marker": {
          "color": "black",
          "size": 3.2531531233955713,
          "symbol": "diamond-wide"
         },
         "mode": "markers",
         "type": "scatter",
         "x": [
          0.43
         ],
         "xaxis": "x3",
         "y": [
          "<b>Europe & Central Asia</b>"
         ],
         "yaxis": "y3"
        },
        {
         "customdata": [
          [
           "0.01257911709367899",
           "0.987420882906321",
           "Europe & Central Asia",
           "Netherlands"
          ],
          [
           "0.05274495052631566",
           "0.8533672003653274",
           "Europe & Central Asia",
           "Italy"
          ]
         ],
         "error_x": {
          "array": [
           0.487420882906321,
           0.4533672003653274
          ],
          "arrayminus": [
           0.487420882906321,
           0.34725504947368435
          ],
          "type": "data"
         },
         "hovertemplate": "<b>%{y}</b><br>Proportion [95% CI]: <b>%{x:.2f}</b> [%{customdata[0]:.2f}; %{customdata[1]:.2f}]<br>Country: %{customdata[3]}<br>Region: %{customdata[2]}<br>N: %{text}<br><extra></extra>",
         "marker": {
          "color": "rgb(57, 105, 172)",
          "size": [
           2.378414230005442,
           2.990697562442441
          ],
          "symbol": "square"
         },
         "mode": "markers",
         "text": [
          "2",
          "5"
         ],
         "type": "scatter",
         "x": [
          0.5,
          0.4
         ],
         "xaxis": "x3",
         "y": [
          "<a style='color:inherit' href='https://doi.org/10.3171/2019.7.FOCUS19447'>Spoor et al., 2019</a>",
          "<a style='color:inherit' href='https://doi.org/10.1055/s-0029-1202282'>Faggin et al., 2009</a>"
         ],
         "yaxis": "y3"
        },
        {
         "hoverinfo": "skip",
         "marker": {
          "color": "white"
         },
         "type": "scatter",
         "xaxis": "x3",
         "y": [
          "                         "
         ],
         "yaxis": "y3"
        },
        {
         "error_x": {
          "array": [
           0.09
          ],
          "arrayminus": [
           0.09
          ],
          "type": "data"
         },
         "hovertemplate": "<b>%{y}</b><br>Estimate [95% CI]: <b>%{x:.2f}</b> [0.51, 0.69]<br>I<sup>2</sup>: 0.0%<br>N: 197<extra></extra>",
         "marker": {
          "color": "black",
          "size": 7.492841609861562,
          "symbol": "diamond-wide"
         },
         "mode": "markers",
         "type": "scatter",
         "x": [
          0.6
         ],
         "xaxis": "x3",
         "y": [
          "<b>Latin America & Caribbean</b>"
         ],
         "yaxis": "y3"
        },
        {
         "customdata": [
          [
           "0.5282435111871279",
           "0.6706751768461557",
           "Latin America & Caribbean",
           "Brazil"
          ],
          [
           "0.06758598648854298",
           "0.932414013511457",
           "Latin America & Caribbean",
           "Brazil"
          ]
         ],
         "error_x": {
          "array": [
           0.07067517684615576,
           0.382414013511457
          ],
          "arrayminus": [
           0.07175648881287211,
           0.4824140135114571
          ],
          "type": "data"
         },
         "hovertemplate": "<b>%{y}</b><br>Proportion [95% CI]: <b>%{x:.2f}</b> [%{customdata[0]:.2f}; %{customdata[1]:.2f}]<br>Country: %{customdata[3]}<br>Region: %{customdata[2]}<br>N: %{text}<br><extra></extra>",
         "marker": {
          "color": "rgb(57, 105, 172)",
          "size": [
           7.4545137975457,
           2.8284271247461903
          ],
          "symbol": "square"
         },
         "mode": "markers",
         "text": [
          "193",
          "4"
         ],
         "type": "scatter",
         "x": [
          0.6,
          0.55
         ],
         "xaxis": "x3",
         "y": [
          "<a style='color:inherit' href='https://doi.org/10.3171/2019.7.focus19462'>Protzenko et al., 2019</a>",
          "<a style='color:inherit' href='https://doi.org/10.1590/0004-282x20150169'>Oliveira et al., 2015</a>"
         ],
         "yaxis": "y3"
        },
        {
         "error_x": {
          "array": [
           0.2
          ],
          "arrayminus": [
           0.2
          ],
          "type": "data"
         },
         "hovertemplate": "<b>%{y}</b><br>Pooled estimate [95% CI]: <b>%{x:.2f}</b> [0.08, 0.48]<br>I<sup>2</sup>: 0.0%<br>N: 20<extra></extra>",
         "marker": {
          "color": "black",
          "size": 4.229485053762256,
          "symbol": "diamond-wide"
         },
         "mode": "markers",
         "type": "scatter",
         "x": [
          null
         ],
         "xaxis": "x4",
         "y": [
          "<b>Global effect</b>"
         ],
         "yaxis": "y4"
        },
        {
         "hoverinfo": "skip",
         "marker": {
          "color": "white"
         },
         "type": "scatter",
         "xaxis": "x4",
         "y": [
          "                     "
         ],
         "yaxis": "y4"
        },
        {
         "error_x": {
          "array": [
           0.2
          ],
          "arrayminus": [
           0.2
          ],
          "type": "data"
         },
         "hovertemplate": "<b>%{y}</b><br>Estimate [95% CI]: <b>%{x:.2f}</b> [0.08, 0.48]<br>I<sup>2</sup>: 0.0%<br>N: 20<extra></extra>",
         "marker": {
          "color": "black",
          "size": 4.229485053762256,
          "symbol": "diamond-wide"
         },
         "mode": "markers",
         "type": "scatter",
         "x": [
          null
         ],
         "xaxis": "x4",
         "y": [
          "<b>Europe & Central Asia</b>"
         ],
         "yaxis": "y4"
        },
        {
         "customdata": [
          [
           "0.11893159040572766",
           "0.5427891822764719",
           "Europe & Central Asia",
           "France"
          ]
         ],
         "error_x": {
          "array": [
           0.2615391822764719
          ],
          "arrayminus": [
           0.16231840959427235
          ],
          "type": "data"
         },
         "hovertemplate": "<b>%{y}</b><br>Proportion [95% CI]: <b>%{x:.2f}</b> [%{customdata[0]:.2f}; %{customdata[1]:.2f}]<br>Country: %{customdata[3]}<br>Region: %{customdata[2]}<br>N: %{text}<br><extra></extra>",
         "marker": {
          "color": "rgb(242, 183, 1)",
          "size": [
           4.229485053762256
          ],
          "symbol": "square"
         },
         "mode": "markers",
         "text": [
          "20"
         ],
         "type": "scatter",
         "x": [
          0.28125
         ],
         "xaxis": "x4",
         "y": [
          "<a style='color:inherit' href='https://doi.org/10.1016/j.wneu.2015.07.071'>Beuriat et al., 2016</a>"
         ],
         "yaxis": "y4"
        },
        {
         "error_x": {
          "array": [
           0.85
          ],
          "arrayminus": [
           0.15
          ],
          "type": "data"
         },
         "hovertemplate": "<b>%{y}</b><br>Pooled estimate [95% CI]: <b>%{x:.2f}</b> [0.0, 1.0]<br>I<sup>2</sup>: 92.59%<br>N: 29<extra></extra>",
         "marker": {
          "color": "black",
          "size": 4.641191574212168,
          "symbol": "diamond-wide"
         },
         "mode": "markers",
         "type": "scatter",
         "x": [
          0.15
         ],
         "xaxis": "x5",
         "y": [
          "<b>Global effect</b>"
         ],
         "yaxis": "y5"
        },
        {
         "hoverinfo": "skip",
         "marker": {
          "color": "white"
         },
         "type": "scatter",
         "xaxis": "x5",
         "y": [
          "                     "
         ],
         "yaxis": "y5"
        },
        {
         "error_x": {
          "array": [
           0
          ],
          "arrayminus": [
           0
          ],
          "type": "data"
         },
         "hovertemplate": "<b>%{y}</b><br>Estimate [95% CI]: <b>%{x:.2f}</b> [0.0, 0.0]<br>I<sup>2</sup>: 0.0%<br>N: 2<extra></extra>",
         "marker": {
          "color": "black",
          "size": 2.378414230005442,
          "symbol": "diamond-wide"
         },
         "mode": "markers",
         "type": "scatter",
         "x": [
          null
         ],
         "xaxis": "x5",
         "y": [
          "<b>Europe & Central Asia</b>"
         ],
         "yaxis": "y5"
        },
        {
         "customdata": [
          [
           "0.0",
           "0.841886116991607",
           "Europe & Central Asia",
           "Netherlands"
          ]
         ],
         "error_x": {
          "array": [
           0.8418811170416065
          ],
          "arrayminus": [
           0.000004999950000499995
          ],
          "type": "data"
         },
         "hovertemplate": "<b>%{y}</b><br>Proportion [95% CI]: <b>%{x:.2f}</b> [%{customdata[0]:.2f}; %{customdata[1]:.2f}]<br>Country: %{customdata[3]}<br>Region: %{customdata[2]}<br>N: %{text}<br><extra></extra>",
         "marker": {
          "color": "rgb(127, 60, 141)",
          "size": [
           2.378414230005442
          ],
          "symbol": "square"
         },
         "mode": "markers",
         "text": [
          "2"
         ],
         "type": "scatter",
         "x": [
          0.000004999950000499995
         ],
         "xaxis": "x5",
         "y": [
          "<a style='color:inherit' href='https://doi.org/10.3171/2019.7.FOCUS19447'>Spoor et al., 2019</a>"
         ],
         "yaxis": "y5"
        },
        {
         "hoverinfo": "skip",
         "marker": {
          "color": "white"
         },
         "type": "scatter",
         "xaxis": "x5",
         "y": [
          "                         "
         ],
         "yaxis": "y5"
        },
        {
         "error_x": {
          "array": [
           0.18
          ],
          "arrayminus": [
           0.18
          ],
          "type": "data"
         },
         "hovertemplate": "<b>%{y}</b><br>Estimate [95% CI]: <b>%{x:.2f}</b> [0.16, 0.51]<br>I<sup>2</sup>: 0.0%<br>N: 27<extra></extra>",
         "marker": {
          "color": "black",
          "size": 4.559014113909555,
          "symbol": "diamond-wide"
         },
         "mode": "markers",
         "type": "scatter",
         "x": [
          null
         ],
         "xaxis": "x5",
         "y": [
          "<b>Latin America & Caribbean</b>"
         ],
         "yaxis": "y5"
        },
        {
         "customdata": [
          [
           "0.16518817968741492",
           "0.5396072860924305",
           "Latin America & Caribbean",
           "Brazil"
          ]
         ],
         "error_x": {
          "array": [
           0.2062739527924305
          ],
          "arrayminus": [
           0.16814515361258506
          ],
          "type": "data"
         },
         "hovertemplate": "<b>%{y}</b><br>Proportion [95% CI]: <b>%{x:.2f}</b> [%{customdata[0]:.2f}; %{customdata[1]:.2f}]<br>Country: %{customdata[3]}<br>Region: %{customdata[2]}<br>N: %{text}<br><extra></extra>",
         "marker": {
          "color": "rgb(127, 60, 141)",
          "size": [
           4.559014113909555
          ],
          "symbol": "square"
         },
         "mode": "markers",
         "text": [
          "27"
         ],
         "type": "scatter",
         "x": [
          0.3333333333
         ],
         "xaxis": "x5",
         "y": [
          "<a style='color:inherit' href='https://doi.org/10.1590/s0004-282x2004000600006'>Ulsenheimer et al., 2004</a>"
         ],
         "yaxis": "y5"
        },
        {
         "error_x": {
          "array": [
           0.1
          ],
          "arrayminus": [
           0.1
          ],
          "type": "data"
         },
         "hovertemplate": "<b>%{y}</b><br>Pooled estimate [95% CI]: <b>%{x:.2f}</b> [0.11, 0.31]<br>I<sup>2</sup>: 98.94%<br>N: 2480<extra></extra>",
         "marker": {
          "color": "black",
          "size": 14.113766101498909,
          "symbol": "diamond-wide"
         },
         "mode": "markers",
         "type": "scatter",
         "x": [
          0.21
         ],
         "xaxis": "x6",
         "y": [
          "<b>Global effect</b>"
         ],
         "yaxis": "y6"
        },
        {
         "hoverinfo": "skip",
         "marker": {
          "color": "white"
         },
         "type": "scatter",
         "xaxis": "x6",
         "y": [
          "                          "
         ],
         "yaxis": "y6"
        },
        {
         "error_x": {
          "array": [
           0
          ],
          "arrayminus": [
           0
          ],
          "type": "data"
         },
         "hovertemplate": "<b>%{y}</b><br>Estimate [95% CI]: <b>%{x:.2f}</b> [0.0, 0.0]<br>I<sup>2</sup>: 0.0%<br>N: 3<extra></extra>",
         "marker": {
          "color": "black",
          "size": 2.6321480259049848,
          "symbol": "diamond-wide"
         },
         "mode": "markers",
         "type": "scatter",
         "x": [
          null
         ],
         "xaxis": "x6",
         "y": [
          "<b>Middle East & North Africa</b>"
         ],
         "yaxis": "y6"
        },
        {
         "customdata": [
          [
           "0.0",
           "0.7075982261787133",
           "Middle East & North Africa",
           "Iran, Islamic Rep."
          ]
         ],
         "error_x": {
          "array": [
           0.707594892867602
          ],
          "arrayminus": [
           0.0000033333111112592582
          ],
          "type": "data"
         },
         "hovertemplate": "<b>%{y}</b><br>Proportion [95% CI]: <b>%{x:.2f}</b> [%{customdata[0]:.2f}; %{customdata[1]:.2f}]<br>Country: %{customdata[3]}<br>Region: %{customdata[2]}<br>N: %{text}<br><extra></extra>",
         "marker": {
          "color": "rgb(17, 165, 121)",
          "size": [
           2.6321480259049848
          ],
          "symbol": "square"
         },
         "mode": "markers",
         "text": [
          "3"
         ],
         "type": "scatter",
         "x": [
          0.0000033333111112592582
         ],
         "xaxis": "x6",
         "y": [
          "<a style='color:inherit' href='https://doi.org/10.3171/ped.2007.106.4.316'>Keshavarzi et al., 2007</a>"
         ],
         "yaxis": "y6"
        },
        {
         "hoverinfo": "skip",
         "marker": {
          "color": "white"
         },
         "type": "scatter",
         "xaxis": "x6",
         "y": [
          "                         "
         ],
         "yaxis": "y6"
        },
        {
         "error_x": {
          "array": [
           0.41
          ],
          "arrayminus": [
           0.41
          ],
          "type": "data"
         },
         "hovertemplate": "<b>%{y}</b><br>Estimate [95% CI]: <b>%{x:.2f}</b> [0.01, 0.84]<br>I<sup>2</sup>: 88.78%<br>N: 257<extra></extra>",
         "marker": {
          "color": "black",
          "size": 8.007801081915408,
          "symbol": "diamond-wide"
         },
         "mode": "markers",
         "type": "scatter",
         "x": [
          0.43
         ],
         "xaxis": "x6",
         "y": [
          "<b>Latin America & Caribbean</b>"
         ],
         "yaxis": "y6"
        },
        {
         "customdata": [
          [
           "0.3293248231538442",
           "0.47175648881287213",
           "Latin America & Caribbean",
           "Brazil"
          ],
          [
           "0.11461600510260381",
           "0.43404937492227846",
           "Latin America & Caribbean",
           "Brazil"
          ],
          [
           "0.005050763379468115",
           "0.7164179361180895",
           "Latin America & Caribbean",
           "Brazil"
          ],
          [
           "0.5774169399556212",
           "0.9137830600524457",
           "Latin America & Caribbean",
           "Brazil"
          ]
         ],
         "error_x": {
          "array": [
           0.07175648881287211,
           0.18404937492227846,
           0.5164179361180894,
           0.13600528225244568
          ],
          "arrayminus": [
           0.07067517684615582,
           0.1353839948973962,
           0.1949492366205319,
           0.20036083784437886
          ],
          "type": "data"
         },
         "hovertemplate": "<b>%{y}</b><br>Proportion [95% CI]: <b>%{x:.2f}</b> [%{customdata[0]:.2f}; %{customdata[1]:.2f}]<br>Country: %{customdata[3]}<br>Region: %{customdata[2]}<br>N: %{text}<br><extra></extra>",
         "marker": {
          "color": "rgb(17, 165, 121)",
          "size": [
           7.4545137975457,
           4.756828460010884,
           2.990697562442441,
           4.559014113909555
          ],
          "symbol": "square"
         },
         "mode": "markers",
         "text": [
          "193",
          "32",
          "5",
          "27"
         ],
         "type": "scatter",
         "x": [
          0.4,
          0.25,
          0.2,
          0.7777777778
         ],
         "xaxis": "x6",
         "y": [
          "<a style='color:inherit' href='https://doi.org/10.3171/2019.7.focus19462'>Protzenko et al., 2019</a>",
          "<a style='color:inherit' href='https://doi.org/10.1007/s00381-016-3012-7'>Rodrigues et al., 2016</a>",
          "<a style='color:inherit' href='https://doi.org/10.1007/s00381-016-3237-5'>de Oliveira et al., 2016</a>",
          "<a style='color:inherit' href='https://doi.org/10.1590/s0004-282x2004000600006'>Ulsenheimer et al., 2004</a>"
         ],
         "yaxis": "y6"
        },
        {
         "hoverinfo": "skip",
         "marker": {
          "color": "white"
         },
         "type": "scatter",
         "xaxis": "x6",
         "y": [
          "                   "
         ],
         "yaxis": "y6"
        },
        {
         "error_x": {
          "array": [
           0.33
          ],
          "arrayminus": [
           0.29
          ],
          "type": "data"
         },
         "hovertemplate": "<b>%{y}</b><br>Estimate [95% CI]: <b>%{x:.2f}</b> [0.0, 0.62]<br>I<sup>2</sup>: 0.0%<br>N: 7<extra></extra>",
         "marker": {
          "color": "black",
          "size": 3.2531531233955713,
          "symbol": "diamond-wide"
         },
         "mode": "markers",
         "type": "scatter",
         "x": [
          null
         ],
         "xaxis": "x6",
         "y": [
          "<b>East Asia & Pacific</b>"
         ],
         "yaxis": "y6"
        },
        {
         "customdata": [
          [
           "0.036692566176085656",
           "0.7095791362626575",
           "East Asia & Pacific",
           "Korea, Rep."
          ]
         ],
         "error_x": {
          "array": [
           0.42386485056265744
          ],
          "arrayminus": [
           0.24902171952391436
          ],
          "type": "data"
         },
         "hovertemplate": "<b>%{y}</b><br>Proportion [95% CI]: <b>%{x:.2f}</b> [%{customdata[0]:.2f}; %{customdata[1]:.2f}]<br>Country: %{customdata[3]}<br>Region: %{customdata[2]}<br>N: %{text}<br><extra></extra>",
         "marker": {
          "color": "rgb(17, 165, 121)",
          "size": [
           3.2531531233955713
          ],
          "symbol": "square"
         },
         "mode": "markers",
         "text": [
          "7"
         ],
         "type": "scatter",
         "x": [
          0.2857142857
         ],
         "xaxis": "x6",
         "y": [
          "<a style='color:inherit' href='https://www.jkns.or.kr/journal/view.php?number=5024'>Lee et al., 1992</a>"
         ],
         "yaxis": "y6"
        },
        {
         "hoverinfo": "skip",
         "marker": {
          "color": "white"
         },
         "type": "scatter",
         "xaxis": "x6",
         "y": [
          "          "
         ],
         "yaxis": "y6"
        },
        {
         "error_x": {
          "array": [
           0.84
          ],
          "arrayminus": [
           0.06
          ],
          "type": "data"
         },
         "hovertemplate": "<b>%{y}</b><br>Estimate [95% CI]: <b>%{x:.2f}</b> [0.0, 0.9]<br>I<sup>2</sup>: 91.32%<br>N: 77<extra></extra>",
         "marker": {
          "color": "black",
          "size": 5.924513275330598,
          "symbol": "diamond-wide"
         },
         "mode": "markers",
         "type": "scatter",
         "x": [
          0.06
         ],
         "xaxis": "x6",
         "y": [
          "<b>South Asia</b>"
         ],
         "yaxis": "y6"
        },
        {
         "customdata": [
          [
           "0.06583383367895039",
           "0.23156644189706177",
           "South Asia",
           "Pakistan"
          ],
          [
           "0.0",
           "0.841886116991607",
           "South Asia",
           "India"
          ]
         ],
         "error_x": {
          "array": [
           0.09823310859706177,
           0.8418811170416065
          ],
          "arrayminus": [
           0.0674994996210496,
           0.000004999950000499995
          ],
          "type": "data"
         },
         "hovertemplate": "<b>%{y}</b><br>Proportion [95% CI]: <b>%{x:.2f}</b> [%{customdata[0]:.2f}; %{customdata[1]:.2f}]<br>Country: %{customdata[3]}<br>Region: %{customdata[2]}<br>N: %{text}<br><extra></extra>",
         "marker": {
          "color": "rgb(17, 165, 121)",
          "size": [
           5.885661912765424,
           2.378414230005442
          ],
          "symbol": "square"
         },
         "mode": "markers",
         "text": [
          "75",
          "2"
         ],
         "type": "scatter",
         "x": [
          0.1333333333,
          0.000004999950000499995
         ],
         "xaxis": "x6",
         "y": [
          "<a style='color:inherit' href='https://pubmed.ncbi.nlm.nih.gov/30632328/'>Khattak et al., 2018</a>",
          "<a style='color:inherit' href='https://doi.org/10.1159/000095569'>Rath et al., 2006</a>"
         ],
         "yaxis": "y6"
        },
        {
         "hoverinfo": "skip",
         "marker": {
          "color": "white"
         },
         "type": "scatter",
         "xaxis": "x6",
         "y": [
          "                  "
         ],
         "yaxis": "y6"
        },
        {
         "error_x": {
          "array": [
           0.78
          ],
          "arrayminus": [
           0.2
          ],
          "type": "data"
         },
         "hovertemplate": "<b>%{y}</b><br>Estimate [95% CI]: <b>%{x:.2f}</b> [0.0, 0.98]<br>I<sup>2</sup>: 0.0%<br>N: 1<extra></extra>",
         "marker": {
          "color": "black",
          "size": 2,
          "symbol": "diamond-wide"
         },
         "mode": "markers",
         "type": "scatter",
         "x": [
          null
         ],
         "xaxis": "x6",
         "y": [
          "<b>Sub-Saharan Africa</b>"
         ],
         "yaxis": "y6"
        },
        {
         "customdata": [
          [
           "0.0",
           "0.975",
           "Sub-Saharan Africa",
           "Congo, Dem. Rep."
          ]
         ],
         "error_x": {
          "array": [
           0.7749999999999999
          ],
          "arrayminus": [
           0.2
          ],
          "type": "data"
         },
         "hovertemplate": "<b>%{y}</b><br>Proportion [95% CI]: <b>%{x:.2f}</b> [%{customdata[0]:.2f}; %{customdata[1]:.2f}]<br>Country: %{customdata[3]}<br>Region: %{customdata[2]}<br>N: %{text}<br><extra></extra>",
         "marker": {
          "color": "rgb(17, 165, 121)",
          "size": [
           2
          ],
          "symbol": "square"
         },
         "mode": "markers",
         "text": [
          "1"
         ],
         "type": "scatter",
         "x": [
          0.2
         ],
         "xaxis": "x6",
         "y": [
          "<a style='color:inherit' href='https://doi.org/10.1007/s00383-018-4238-0'>Cairo et al., 2018</a>"
         ],
         "yaxis": "y6"
        },
        {
         "hoverinfo": "skip",
         "marker": {
          "color": "white"
         },
         "type": "scatter",
         "xaxis": "x6",
         "y": [
          "             "
         ],
         "yaxis": "y6"
        },
        {
         "error_x": {
          "array": [
           0.13
          ],
          "arrayminus": [
           0.08
          ],
          "type": "data"
         },
         "hovertemplate": "<b>%{y}</b><br>Estimate [95% CI]: <b>%{x:.2f}</b> [0.0, 0.21]<br>I<sup>2</sup>: 40.81%<br>N: 144<extra></extra>",
         "marker": {
          "color": "black",
          "size": 6.928203230275509,
          "symbol": "diamond-wide"
         },
         "mode": "markers",
         "type": "scatter",
         "x": [
          0.08
         ],
         "xaxis": "x6",
         "y": [
          "<b>North America</b>"
         ],
         "yaxis": "y6"
        },
        {
         "customdata": [
          [
           "0.0036102968619008097",
           "0.5787231970431982",
           "North America",
           "United States"
          ],
          [
           "0.00919219520278767",
           "0.12356262433177885",
           "North America",
           "United States"
          ],
          [
           "0.06141709974012224",
           "0.2332189597948613",
           "North America",
           "United States"
          ]
         ],
         "error_x": {
          "array": [
           0.47645046974319816,
           0.07944497727177885,
           0.1027841771948613
          ],
          "arrayminus": [
           0.09866243043809919,
           0.03492545185721233,
           0.06901768285987775
          ],
          "type": "data"
         },
         "hovertemplate": "<b>%{y}</b><br>Proportion [95% CI]: <b>%{x:.2f}</b> [%{customdata[0]:.2f}; %{customdata[1]:.2f}]<br>Country: %{customdata[3]}<br>Region: %{customdata[2]}<br>N: %{text}<br><extra></extra>",
         "marker": {
          "color": "rgb(17, 165, 121)",
          "size": [
           3.2531531233955713,
           5.743243422051801,
           5.764242834204012
          ],
          "symbol": "square"
         },
         "mode": "markers",
         "text": [
          "7",
          "68",
          "69"
         ],
         "type": "scatter",
         "x": [
          0.1022727273,
          0.04411764706,
          0.1304347826
         ],
         "xaxis": "x6",
         "y": [
          "<a style='color:inherit' href='https://doi.org/10.1093/neuros/nyz302'>Flanders et al., 2019</a>",
          "<a style='color:inherit' href='https://doi.org/10.1177/088307389601100504'>Miller et al., 1996</a>",
          "<a style='color:inherit' href='https://doi.org/10.1159/000120890'>Parent et al., 1995</a>"
         ],
         "yaxis": "y6"
        },
        {
         "hoverinfo": "skip",
         "marker": {
          "color": "white"
         },
         "type": "scatter",
         "xaxis": "x6",
         "y": [
          "                     "
         ],
         "yaxis": "y6"
        },
        {
         "error_x": {
          "array": [
           0.15
          ],
          "arrayminus": [
           0.15
          ],
          "type": "data"
         },
         "hovertemplate": "<b>%{y}</b><br>Estimate [95% CI]: <b>%{x:.2f}</b> [0.13, 0.42]<br>I<sup>2</sup>: 98.24%<br>N: 1991<extra></extra>",
         "marker": {
          "color": "black",
          "size": 13.359733984574126,
          "symbol": "diamond-wide"
         },
         "mode": "markers",
         "type": "scatter",
         "x": [
          0.28
         ],
         "xaxis": "x6",
         "y": [
          "<b>Europe & Central Asia</b>"
         ],
         "yaxis": "y6"
        },
        {
         "customdata": [
          [
           "0.19800655395131053",
           "0.25743915648602206",
           "Europe & Central Asia",
           "Turkey"
          ],
          [
           "0.03207093718554477",
           "0.37892682654529564",
           "Europe & Central Asia",
           "France"
          ],
          [
           "0.20680811686740405",
           "0.4670710482354229",
           "Europe & Central Asia",
           "Turkey"
          ],
          [
           "0.10402634219208506",
           "0.22996045482214617",
           "Europe & Central Asia",
           "Turkey"
          ],
          [
           "0.15284593960863158",
           "0.5083233538099897",
           "Europe & Central Asia",
           "Italy"
          ],
          [
           "0.09748528413167172",
           "0.20938860094861797",
           "Europe & Central Asia",
           "Italy"
          ],
          [
           "0.5524482064433116",
           "0.6227501790916099",
           "Europe & Central Asia",
           "Spain"
          ]
         ],
         "error_x": {
          "array": [
           0.030738904586022048,
           0.21226015984529564,
           0.1397983212354229,
           0.07023823262214615,
           0.19797852620998974,
           0.06232977744861798,
           0.03481717909160986
          ],
          "arrayminus": [
           0.02869369794868948,
           0.13459572951445523,
           0.12046461013259593,
           0.05569588000791495,
           0.1574988879913684,
           0.04957353936832827,
           0.03548479355668843
          ],
          "type": "data"
         },
         "hovertemplate": "<b>%{y}</b><br>Proportion [95% CI]: <b>%{x:.2f}</b> [%{customdata[0]:.2f}; %{customdata[1]:.2f}]<br>Country: %{customdata[3]}<br>Region: %{customdata[2]}<br>N: %{text}<br><extra></extra>",
         "marker": {
          "color": "rgb(17, 165, 121)",
          "size": [
           10.616591846202008,
           4.229485053762256,
           5.4465396306630005,
           6.928203230275509,
           4.641191574212168,
           7.221746273694555,
           10.566091325349355
          ],
          "symbol": "square"
         },
         "mode": "markers",
         "text": [
          "794",
          "20",
          "55",
          "144",
          "29",
          "170",
          "779"
         ],
         "type": "scatter",
         "x": [
          0.2267002519,
          0.1666666667,
          0.327272727,
          0.1597222222,
          0.3103448276,
          0.1470588235,
          0.587933
         ],
         "xaxis": "x6",
         "y": [
          "<a style='color:inherit' href='https://jpma.org.pk/article-details/8517?article_id=8517'>Arslan et al., 2018</a>",
          "<a style='color:inherit' href='https://doi.org/10.1016/j.wneu.2015.07.071'>Beuriat et al., 2016</a>",
          "<a style='color:inherit' href='https://doi.org/10.1007/s00381-015-2701-y'>Demir et al., 2015</a>",
          "<a style='color:inherit' href='https://doi.org/10.5137/1019-5149.jtn.4263-11.1'>Arslan et al., 2011</a>",
          "<a style='color:inherit' href='https://doi.org/10.1007/s00381-002-0557-4'>Rendeli et al., 2002</a>",
          "<a style='color:inherit' href='https://doi.org/10.1007/bf00261592'>Caldarelli et al., 1996</a>",
          "<a style='color:inherit' href='https://doi.org/10.1038/sc.1993.5'>Díaz Llopis et al., 1993</a>"
         ],
         "yaxis": "y6"
        },
        {
         "error_x": {
          "array": [
           0.4
          ],
          "arrayminus": [
           0.14
          ],
          "type": "data"
         },
         "hovertemplate": "<b>%{y}</b><br>Pooled estimate [95% CI]: <b>%{x:.2f}</b> [0.0, 0.55]<br>I<sup>2</sup>: 78.87%<br>N: 36<extra></extra>",
         "marker": {
          "color": "black",
          "size": 4.898979485566356,
          "symbol": "diamond-wide"
         },
         "mode": "markers",
         "type": "scatter",
         "x": [
          0.14
         ],
         "xaxis": "x7",
         "y": [
          "<b>Global effect</b>"
         ],
         "yaxis": "y7"
        },
        {
         "hoverinfo": "skip",
         "marker": {
          "color": "white"
         },
         "type": "scatter",
         "xaxis": "x7",
         "y": [
          "             "
         ],
         "yaxis": "y7"
        },
        {
         "error_x": {
          "array": [
           0.33
          ],
          "arrayminus": [
           0.29
          ],
          "type": "data"
         },
         "hovertemplate": "<b>%{y}</b><br>Estimate [95% CI]: <b>%{x:.2f}</b> [0.0, 0.62]<br>I<sup>2</sup>: 0.0%<br>N: 7<extra></extra>",
         "marker": {
          "color": "black",
          "size": 3.2531531233955713,
          "symbol": "diamond-wide"
         },
         "mode": "markers",
         "type": "scatter",
         "x": [
          null
         ],
         "xaxis": "x7",
         "y": [
          "<b>North America</b>"
         ],
         "yaxis": "y7"
        },
        {
         "customdata": [
          [
           "0.036692566176085656",
           "0.7095791362626575",
           "North America",
           "United States"
          ]
         ],
         "error_x": {
          "array": [
           0.42386485056265744
          ],
          "arrayminus": [
           0.24902171952391436
          ],
          "type": "data"
         },
         "hovertemplate": "<b>%{y}</b><br>Proportion [95% CI]: <b>%{x:.2f}</b> [%{customdata[0]:.2f}; %{customdata[1]:.2f}]<br>Country: %{customdata[3]}<br>Region: %{customdata[2]}<br>N: %{text}<br><extra></extra>",
         "marker": {
          "color": "rgb(57, 105, 172)",
          "size": [
           3.2531531233955713
          ],
          "symbol": "square"
         },
         "mode": "markers",
         "text": [
          "7"
         ],
         "type": "scatter",
         "x": [
          0.2857142857
         ],
         "xaxis": "x7",
         "y": [
          "<a style='color:inherit' href='https://doi.org/10.1093/neuros/nyz302'>Flanders et al., 2019</a>"
         ],
         "yaxis": "y7"
        },
        {
         "hoverinfo": "skip",
         "marker": {
          "color": "white"
         },
         "type": "scatter",
         "xaxis": "x7",
         "y": [
          "                     "
         ],
         "yaxis": "y7"
        },
        {
         "error_x": {
          "array": [
           0.19
          ],
          "arrayminus": [
           0.19
          ],
          "type": "data"
         },
         "hovertemplate": "<b>%{y}</b><br>Estimate [95% CI]: <b>%{x:.2f}</b> [0.06, 0.44]<br>I<sup>2</sup>: 0.0%<br>N: 20<extra></extra>",
         "marker": {
          "color": "black",
          "size": 4.229485053762256,
          "symbol": "diamond-wide"
         },
         "mode": "markers",
         "type": "scatter",
         "x": [
          null
         ],
         "xaxis": "x7",
         "y": [
          "<b>Europe & Central Asia</b>"
         ],
         "yaxis": "y7"
        },
        {
         "customdata": [
          [
           "0.08657146910143455",
           "0.49104587170795755",
           "Europe & Central Asia",
           "France"
          ]
         ],
         "error_x": {
          "array": [
           0.24104587170795755
          ],
          "arrayminus": [
           0.16342853089856546
          ],
          "type": "data"
         },
         "hovertemplate": "<b>%{y}</b><br>Proportion [95% CI]: <b>%{x:.2f}</b> [%{customdata[0]:.2f}; %{customdata[1]:.2f}]<br>Country: %{customdata[3]}<br>Region: %{customdata[2]}<br>N: %{text}<br><extra></extra>",
         "marker": {
          "color": "rgb(57, 105, 172)",
          "size": [
           4.229485053762256
          ],
          "symbol": "square"
         },
         "mode": "markers",
         "text": [
          "20"
         ],
         "type": "scatter",
         "x": [
          0.25
         ],
         "xaxis": "x7",
         "y": [
          "<a style='color:inherit' href='https://doi.org/10.1016/j.wneu.2015.07.071'>Beuriat et al., 2016</a>"
         ],
         "yaxis": "y7"
        },
        {
         "hoverinfo": "skip",
         "marker": {
          "color": "white"
         },
         "type": "scatter",
         "xaxis": "x7",
         "y": [
          "                  "
         ],
         "yaxis": "y7"
        },
        {
         "error_x": {
          "array": [
           0
          ],
          "arrayminus": [
           0
          ],
          "type": "data"
         },
         "hovertemplate": "<b>%{y}</b><br>Estimate [95% CI]: <b>%{x:.2f}</b> [0.0, 0.0]<br>I<sup>2</sup>: 0.0%<br>N: 9<extra></extra>",
         "marker": {
          "color": "black",
          "size": 3.4641016151377544,
          "symbol": "diamond-wide"
         },
         "mode": "markers",
         "type": "scatter",
         "x": [
          null
         ],
         "xaxis": "x7",
         "y": [
          "<b>Sub-Saharan Africa</b>"
         ],
         "yaxis": "y7"
        },
        {
         "customdata": [
          [
           "0.0",
           "0.3362671168799429",
           "Sub-Saharan Africa",
           "Nigeria"
          ]
         ],
         "error_x": {
          "array": [
           0.3362660057713009
          ],
          "arrayminus": [
           0.0000011111086419807957
          ],
          "type": "data"
         },
         "hovertemplate": "<b>%{y}</b><br>Proportion [95% CI]: <b>%{x:.2f}</b> [%{customdata[0]:.2f}; %{customdata[1]:.2f}]<br>Country: %{customdata[3]}<br>Region: %{customdata[2]}<br>N: %{text}<br><extra></extra>",
         "marker": {
          "color": "rgb(57, 105, 172)",
          "size": [
           3.4641016151377544
          ],
          "symbol": "square"
         },
         "mode": "markers",
         "text": [
          "9"
         ],
         "type": "scatter",
         "x": [
          0.0000011111086419807957
         ],
         "xaxis": "x7",
         "y": [
          "<a style='color:inherit' href='https://www.ajol.info/index.php/njcp/article/view/114862/104498'>Ojo et al., 2015</a>"
         ],
         "yaxis": "y7"
        },
        {
         "error_x": {
          "array": [
           0
          ],
          "arrayminus": [
           0
          ],
          "type": "data"
         },
         "hovertemplate": "<b>%{y}</b><br>Pooled estimate [95% CI]: <b>%{x:.2f}</b> [0.0, 0.0]<br>I<sup>2</sup>: 0.0%<br>N: 430<extra></extra>",
         "marker": {
          "color": "black",
          "size": 9.107456583114239,
          "symbol": "diamond-wide"
         },
         "mode": "markers",
         "type": "scatter",
         "x": [
          0
         ],
         "xaxis": "x10",
         "y": [
          "<b>Global effect</b>"
         ],
         "yaxis": "y10"
        },
        {
         "hoverinfo": "skip",
         "marker": {
          "color": "white"
         },
         "type": "scatter",
         "xaxis": "x10",
         "y": [
          "             "
         ],
         "yaxis": "y10"
        },
        {
         "error_x": {
          "array": [
           0
          ],
          "arrayminus": [
           0
          ],
          "type": "data"
         },
         "hovertemplate": "<b>%{y}</b><br>Estimate [95% CI]: <b>%{x:.2f}</b> [0.0, 0.0]<br>I<sup>2</sup>: 0.0%<br>N: 14<extra></extra>",
         "marker": {
          "color": "black",
          "size": 3.8686728405353388,
          "symbol": "diamond-wide"
         },
         "mode": "markers",
         "type": "scatter",
         "x": [
          0
         ],
         "xaxis": "x10",
         "y": [
          "<b>North America</b>"
         ],
         "yaxis": "y10"
        },
        {
         "customdata": [
          [
           "0.0",
           "0.975",
           "North America",
           "United States"
          ],
          [
           "0.0",
           "0.5218237501049814",
           "North America",
           "United States"
          ],
          [
           "0.0",
           "0.3694166475528192",
           "North America",
           "United States"
          ]
         ],
         "error_x": {
          "array": [
           0.9749900001999959,
           0.5218217501129814,
           0.3309551090928192
          ],
          "arrayminus": [
           0.00000999980000399992,
           0.000001999992000032,
           0.03846153846
          ],
          "type": "data"
         },
         "hovertemplate": "<b>%{y}</b><br>Proportion [95% CI]: <b>%{x:.2f}</b> [%{customdata[0]:.2f}; %{customdata[1]:.2f}]<br>Country: %{customdata[3]}<br>Region: %{customdata[2]}<br>N: %{text}<br><extra></extra>",
         "marker": {
          "color": "rgb(17, 165, 121)",
          "size": [
           2,
           2.990697562442441,
           3.363585661014858
          ],
          "symbol": "square"
         },
         "mode": "markers",
         "text": [
          "1",
          "5",
          "8"
         ],
         "type": "scatter",
         "x": [
          0.00000999980000399992,
          0.000001999992000032,
          0.03846153846
         ],
         "xaxis": "x10",
         "y": [
          "<a style='color:inherit' href='https://doi.org/10.3171/2019.7.focus19434'>Lu et al., 2019</a>",
          "<a style='color:inherit' href='https://doi.org/10.1159/000072870'>Sandquist et al., 2003</a>",
          "<a style='color:inherit' href='https://doi.org/10.3171/jns.1992.77.4.0551'>Rosseau et al., 1992</a>"
         ],
         "yaxis": "y10"
        },
        {
         "hoverinfo": "skip",
         "marker": {
          "color": "white"
         },
         "type": "scatter",
         "xaxis": "x10",
         "y": [
          "                     "
         ],
         "yaxis": "y10"
        },
        {
         "error_x": {
          "array": [
           0
          ],
          "arrayminus": [
           0
          ],
          "type": "data"
         },
         "hovertemplate": "<b>%{y}</b><br>Estimate [95% CI]: <b>%{x:.2f}</b> [0.0, 0.0]<br>I<sup>2</sup>: 0.0%<br>N: 365<extra></extra>",
         "marker": {
          "color": "black",
          "size": 8.74184721315645,
          "symbol": "diamond-wide"
         },
         "mode": "markers",
         "type": "scatter",
         "x": [
          0
         ],
         "xaxis": "x10",
         "y": [
          "<b>Europe & Central Asia</b>"
         ],
         "yaxis": "y10"
        },
        {
         "customdata": [
          [
           "0.0",
           "0.09025110096033434",
           "Europe & Central Asia",
           "Turkey"
          ],
          [
           "0.0",
           "0.04198701530414452",
           "Europe & Central Asia",
           "Poland"
          ],
          [
           "0.0",
           "0.06060890095033983",
           "Europe & Central Asia",
           "Denmark"
          ],
          [
           "0.0",
           "0.4096163972250487",
           "Europe & Central Asia",
           "Turkey"
          ],
          [
           "0.0",
           "0.021465554980945514",
           "Europe & Central Asia",
           "Italy"
          ],
          [
           "0.0",
           "0.6023646356164858",
           "Europe & Central Asia",
           "United Kingdom"
          ]
         ],
         "error_x": {
          "array": [
           0.09025084455020942,
           0.04198689902510179,
           0.060608731458871856,
           0.40961496865770175,
           0.021465496157423023,
           0.6023621356289858
          ],
          "arrayminus": [
           2.5641012491788464e-7,
           1.1627904272580402e-7,
           1.694914679689939e-7,
           0.0000014285673469504376,
           5.88235224913503e-8,
           0.0000024999875000625
          ],
          "type": "data"
         },
         "hovertemplate": "<b>%{y}</b><br>Proportion [95% CI]: <b>%{x:.2f}</b> [%{customdata[0]:.2f}; %{customdata[1]:.2f}]<br>Country: %{customdata[3]}<br>Region: %{customdata[2]}<br>N: %{text}<br><extra></extra>",
         "marker": {
          "color": "rgb(17, 165, 121)",
          "size": [
           4.997998798878767,
           6.090523292951339,
           5.542976004952072,
           3.2531531233955713,
           7.221746273694555,
           2.8284271247461903
          ],
          "symbol": "square"
         },
         "mode": "markers",
         "text": [
          "39",
          "86",
          "59",
          "7",
          "170",
          "4"
         ],
         "type": "scatter",
         "x": [
          2.5641012491788464e-7,
          1.1627904272580402e-7,
          1.694914679689939e-7,
          0.0000014285673469504376,
          5.88235224913503e-8,
          0.0000024999875000625
         ],
         "xaxis": "x10",
         "y": [
          "<a style='color:inherit' href='https://doi.org/10.14245%2Fkjs.2017.14.1.7'>Eseoğlu et al., 2017</a>",
          "<a style='color:inherit' href='https://advances.umw.edu.pl/en/article/2011/20/5/543/'>Rysiakiewicz et al., 2011</a>",
          "<a style='color:inherit' href='https://doi.org/10.1007/s00381-010-1113-2'>Clemmensen et al., 2010</a>",
          "<a style='color:inherit' href='https://doi.org/10.1186/1471-2334-6-43'>Sacar et al., 2006</a>",
          "<a style='color:inherit' href='https://doi.org/10.1007/bf00261592'>Caldarelli et al., 1996</a>",
          "<a style='color:inherit' href='https://doi.org/10.1136%2Fbjo.52.9.670'>Harcourt et al., 1968</a>"
         ],
         "yaxis": "y10"
        },
        {
         "hoverinfo": "skip",
         "marker": {
          "color": "white"
         },
         "type": "scatter",
         "xaxis": "x10",
         "y": [
          "                         "
         ],
         "yaxis": "y10"
        },
        {
         "error_x": {
          "array": [
           0
          ],
          "arrayminus": [
           0
          ],
          "type": "data"
         },
         "hovertemplate": "<b>%{y}</b><br>Estimate [95% CI]: <b>%{x:.2f}</b> [0.0, 0.0]<br>I<sup>2</sup>: 0.0%<br>N: 51<extra></extra>",
         "marker": {
          "color": "black",
          "size": 5.344690235567577,
          "symbol": "diamond-wide"
         },
         "mode": "markers",
         "type": "scatter",
         "x": [
          0
         ],
         "xaxis": "x10",
         "y": [
          "<b>Latin America & Caribbean</b>"
         ],
         "yaxis": "y10"
        },
        {
         "customdata": [
          [
           "0.0",
           "0.07548573369105858",
           "Latin America & Caribbean",
           "Mexico"
          ],
          [
           "0.0",
           "0.6023646356164858",
           "Latin America & Caribbean",
           "Brazil"
          ]
         ],
         "error_x": {
          "array": [
           0.07548552092519167,
           0.6023621356289858
          ],
          "arrayminus": [
           2.1276586690814172e-7,
           0.0000024999875000625
          ],
          "type": "data"
         },
         "hovertemplate": "<b>%{y}</b><br>Proportion [95% CI]: <b>%{x:.2f}</b> [%{customdata[0]:.2f}; %{customdata[1]:.2f}]<br>Country: %{customdata[3]}<br>Region: %{customdata[2]}<br>N: %{text}<br><extra></extra>",
         "marker": {
          "color": "rgb(17, 165, 121)",
          "size": [
           5.236660997391771,
           2.8284271247461903
          ],
          "symbol": "square"
         },
         "mode": "markers",
         "text": [
          "47",
          "4"
         ],
         "type": "scatter",
         "x": [
          2.1276586690814172e-7,
          0.0000024999875000625
         ],
         "xaxis": "x10",
         "y": [
          "<a style='color:inherit' href='https://www.scielo.org.mx/scielo.php?script=sci_arttext&pid=S1870-72032017000200105'>Alcocer Maldonado et al., 2017</a>",
          "<a style='color:inherit' href='https://doi.org/10.1590/0004-282x20150169'>Oliveira et al., 2015</a>"
         ],
         "yaxis": "y10"
        },
        {
         "error_x": {
          "array": [
           0
          ],
          "arrayminus": [
           0
          ],
          "type": "data"
         },
         "hovertemplate": "<b>%{y}</b><br>Pooled estimate [95% CI]: <b>%{x:.2f}</b> [0.0, 0.0]<br>I<sup>2</sup>: 0.0%<br>N: 9<extra></extra>",
         "marker": {
          "color": "black",
          "size": 3.4641016151377544,
          "symbol": "diamond-wide"
         },
         "mode": "markers",
         "type": "scatter",
         "x": [
          null
         ],
         "xaxis": "x11",
         "y": [
          "<b>Global effect</b>"
         ],
         "yaxis": "y11"
        },
        {
         "hoverinfo": "skip",
         "marker": {
          "color": "white"
         },
         "type": "scatter",
         "xaxis": "x11",
         "y": [
          "                  "
         ],
         "yaxis": "y11"
        },
        {
         "error_x": {
          "array": [
           0
          ],
          "arrayminus": [
           0
          ],
          "type": "data"
         },
         "hovertemplate": "<b>%{y}</b><br>Estimate [95% CI]: <b>%{x:.2f}</b> [0.0, 0.0]<br>I<sup>2</sup>: 0.0%<br>N: 9<extra></extra>",
         "marker": {
          "color": "black",
          "size": 3.4641016151377544,
          "symbol": "diamond-wide"
         },
         "mode": "markers",
         "type": "scatter",
         "x": [
          null
         ],
         "xaxis": "x11",
         "y": [
          "<b>Sub-Saharan Africa</b>"
         ],
         "yaxis": "y11"
        },
        {
         "customdata": [
          [
           "0.0",
           "0.3362671168799429",
           "Sub-Saharan Africa",
           "Nigeria"
          ]
         ],
         "error_x": {
          "array": [
           0.3362660057713009
          ],
          "arrayminus": [
           0.0000011111086419807957
          ],
          "type": "data"
         },
         "hovertemplate": "<b>%{y}</b><br>Proportion [95% CI]: <b>%{x:.2f}</b> [%{customdata[0]:.2f}; %{customdata[1]:.2f}]<br>Country: %{customdata[3]}<br>Region: %{customdata[2]}<br>N: %{text}<br><extra></extra>",
         "marker": {
          "color": "rgb(57, 105, 172)",
          "size": [
           3.4641016151377544
          ],
          "symbol": "square"
         },
         "mode": "markers",
         "text": [
          "9"
         ],
         "type": "scatter",
         "x": [
          0.0000011111086419807957
         ],
         "xaxis": "x11",
         "y": [
          "<a style='color:inherit' href='https://www.ajol.info/index.php/njcp/article/view/114862/104498'>Ojo et al., 2015</a>"
         ],
         "yaxis": "y11"
        },
        {
         "error_x": {
          "array": [
           0
          ],
          "arrayminus": [
           0
          ],
          "type": "data"
         },
         "hovertemplate": "<b>%{y}</b><br>Pooled estimate [95% CI]: <b>%{x:.2f}</b> [0.0, 0.0]<br>I<sup>2</sup>: 0.0%<br>N: 7<extra></extra>",
         "marker": {
          "color": "black",
          "size": 3.2531531233955713,
          "symbol": "diamond-wide"
         },
         "mode": "markers",
         "type": "scatter",
         "x": [
          null
         ],
         "xaxis": "x12",
         "y": [
          "<b>Global effect</b>"
         ],
         "yaxis": "y12"
        },
        {
         "hoverinfo": "skip",
         "marker": {
          "color": "white"
         },
         "type": "scatter",
         "xaxis": "x12",
         "y": [
          "             "
         ],
         "yaxis": "y12"
        },
        {
         "error_x": {
          "array": [
           0
          ],
          "arrayminus": [
           0
          ],
          "type": "data"
         },
         "hovertemplate": "<b>%{y}</b><br>Estimate [95% CI]: <b>%{x:.2f}</b> [0.0, 0.0]<br>I<sup>2</sup>: 0.0%<br>N: 7<extra></extra>",
         "marker": {
          "color": "black",
          "size": 3.2531531233955713,
          "symbol": "diamond-wide"
         },
         "mode": "markers",
         "type": "scatter",
         "x": [
          null
         ],
         "xaxis": "x12",
         "y": [
          "<b>North America</b>"
         ],
         "yaxis": "y12"
        },
        {
         "customdata": [
          [
           "0.0",
           "0.4096163972250487",
           "North America",
           "United States"
          ]
         ],
         "error_x": {
          "array": [
           0.40961496865770175
          ],
          "arrayminus": [
           0.0000014285673469504376
          ],
          "type": "data"
         },
         "hovertemplate": "<b>%{y}</b><br>Proportion [95% CI]: <b>%{x:.2f}</b> [%{customdata[0]:.2f}; %{customdata[1]:.2f}]<br>Country: %{customdata[3]}<br>Region: %{customdata[2]}<br>N: %{text}<br><extra></extra>",
         "marker": {
          "color": "rgb(242, 183, 1)",
          "size": [
           3.2531531233955713
          ],
          "symbol": "square"
         },
         "mode": "markers",
         "text": [
          "7"
         ],
         "type": "scatter",
         "x": [
          0.0000014285673469504376
         ],
         "xaxis": "x12",
         "y": [
          "<a style='color:inherit' href='https://doi.org/10.3171/2015.5.peds14692'>Weil et al., 2016</a>"
         ],
         "yaxis": "y12"
        },
        {
         "error_x": {
          "array": [
           0
          ],
          "arrayminus": [
           0
          ],
          "type": "data"
         },
         "hovertemplate": "<b>%{y}</b><br>Pooled estimate [95% CI]: <b>%{x:.2f}</b> [0.0, 0.0]<br>I<sup>2</sup>: 61.47%<br>N: 539<extra></extra>",
         "marker": {
          "color": "black",
          "size": 9.636674433120131,
          "symbol": "diamond-wide"
         },
         "mode": "markers",
         "type": "scatter",
         "x": [
          0
         ],
         "xaxis": "x14",
         "y": [
          "<b>Global effect</b>"
         ],
         "yaxis": "y14"
        },
        {
         "hoverinfo": "skip",
         "marker": {
          "color": "white"
         },
         "type": "scatter",
         "xaxis": "x14",
         "y": [
          "             "
         ],
         "yaxis": "y14"
        },
        {
         "error_x": {
          "array": [
           0.44
          ],
          "arrayminus": [
           0.03
          ],
          "type": "data"
         },
         "hovertemplate": "<b>%{y}</b><br>Estimate [95% CI]: <b>%{x:.2f}</b> [0.0, 0.47]<br>I<sup>2</sup>: 92.55%<br>N: 188<extra></extra>",
         "marker": {
          "color": "black",
          "size": 7.405757004061662,
          "symbol": "diamond-wide"
         },
         "mode": "markers",
         "type": "scatter",
         "x": [
          0.03
         ],
         "xaxis": "x14",
         "y": [
          "<b>North America</b>"
         ],
         "yaxis": "y14"
        },
        {
         "customdata": [
          [
           "0.0",
           "0.975",
           "North America",
           "United States"
          ],
          [
           "0.037532568076629635",
           "0.11594535268726343",
           "North America",
           "United States"
          ]
         ],
         "error_x": {
          "array": [
           0.9749900001999959,
           0.047165352687263434
          ],
          "arrayminus": [
           0.00000999980000399992,
           0.03124743192337036
          ],
          "type": "data"
         },
         "hovertemplate": "<b>%{y}</b><br>Proportion [95% CI]: <b>%{x:.2f}</b> [%{customdata[0]:.2f}; %{customdata[1]:.2f}]<br>Country: %{customdata[3]}<br>Region: %{customdata[2]}<br>N: %{text}<br><extra></extra>",
         "marker": {
          "color": "rgb(17, 165, 121)",
          "size": [
           2,
           7.395889217985175
          ],
          "symbol": "square"
         },
         "mode": "markers",
         "text": [
          "1",
          "187"
         ],
         "type": "scatter",
         "x": [
          0.00000999980000399992,
          0.06878
         ],
         "xaxis": "x14",
         "y": [
          "<a style='color:inherit' href='https://doi.org/10.3171/2019.7.focus19434'>Lu et al., 2019</a>",
          "<a style='color:inherit' href='https://doi.org/10.1007/s00381-003-0759-4'>Tuli et al., 2003</a>"
         ],
         "yaxis": "y14"
        },
        {
         "hoverinfo": "skip",
         "marker": {
          "color": "white"
         },
         "type": "scatter",
         "xaxis": "x14",
         "y": [
          "                     "
         ],
         "yaxis": "y14"
        },
        {
         "error_x": {
          "array": [
           0
          ],
          "arrayminus": [
           0
          ],
          "type": "data"
         },
         "hovertemplate": "<b>%{y}</b><br>Estimate [95% CI]: <b>%{x:.2f}</b> [0.0, 0.0]<br>I<sup>2</sup>: 42.44%<br>N: 319<extra></extra>",
         "marker": {
          "color": "black",
          "size": 8.452353778561745,
          "symbol": "diamond-wide"
         },
         "mode": "markers",
         "type": "scatter",
         "x": [
          0
         ],
         "xaxis": "x14",
         "y": [
          "<b>Europe & Central Asia</b>"
         ],
         "yaxis": "y14"
        },
        {
         "customdata": [
          [
           "0.0",
           "0.09025110096033434",
           "Europe & Central Asia",
           "Turkey"
          ],
          [
           "0.0",
           "0.1684334709830855",
           "Europe & Central Asia",
           "France"
          ],
          [
           "0.026032404666556194",
           "0.14569196431941908",
           "Europe & Central Asia",
           "Poland"
          ],
          [
           "0.0",
           "0.021465554980945514",
           "Europe & Central Asia",
           "Italy"
          ],
          [
           "0.0",
           "0.6023646356164858",
           "Europe & Central Asia",
           "United Kingdom"
          ]
         ],
         "error_x": {
          "array": [
           0.09025084455020942,
           0.1684329709835855,
           0.07092560917941908,
           0.021465496157423023,
           0.6023621356289858
          ],
          "arrayminus": [
           2.5641012491788464e-7,
           4.999995000005e-7,
           0.04873395047344381,
           5.88235224913503e-8,
           0.0000024999875000625
          ],
          "type": "data"
         },
         "hovertemplate": "<b>%{y}</b><br>Proportion [95% CI]: <b>%{x:.2f}</b> [%{customdata[0]:.2f}; %{customdata[1]:.2f}]<br>Country: %{customdata[3]}<br>Region: %{customdata[2]}<br>N: %{text}<br><extra></extra>",
         "marker": {
          "color": "rgb(17, 165, 121)",
          "size": [
           4.997998798878767,
           4.229485053762256,
           6.090523292951339,
           7.221746273694555,
           2.8284271247461903
          ],
          "symbol": "square"
         },
         "mode": "markers",
         "text": [
          "39",
          "20",
          "86",
          "170",
          "4"
         ],
         "type": "scatter",
         "x": [
          2.5641012491788464e-7,
          4.999995000005e-7,
          0.07476635514,
          5.88235224913503e-8,
          0.0000024999875000625
         ],
         "xaxis": "x14",
         "y": [
          "<a style='color:inherit' href='https://doi.org/10.14245%2Fkjs.2017.14.1.7'>Eseoğlu et al., 2017</a>",
          "<a style='color:inherit' href='https://doi.org/10.1016/j.wneu.2015.07.071'>Beuriat et al., 2016</a>",
          "<a style='color:inherit' href='https://advances.umw.edu.pl/en/article/2011/20/5/543/'>Rysiakiewicz et al., 2011</a>",
          "<a style='color:inherit' href='https://doi.org/10.1007/bf00261592'>Caldarelli et al., 1996</a>",
          "<a style='color:inherit' href='https://doi.org/10.1136%2Fbjo.52.9.670'>Harcourt et al., 1968</a>"
         ],
         "yaxis": "y14"
        },
        {
         "hoverinfo": "skip",
         "marker": {
          "color": "white"
         },
         "type": "scatter",
         "xaxis": "x14",
         "y": [
          "                         "
         ],
         "yaxis": "y14"
        },
        {
         "error_x": {
          "array": [
           0
          ],
          "arrayminus": [
           0
          ],
          "type": "data"
         },
         "hovertemplate": "<b>%{y}</b><br>Estimate [95% CI]: <b>%{x:.2f}</b> [0.0, 0.0]<br>I<sup>2</sup>: 0.0%<br>N: 32<extra></extra>",
         "marker": {
          "color": "black",
          "size": 4.756828460010884,
          "symbol": "diamond-wide"
         },
         "mode": "markers",
         "type": "scatter",
         "x": [
          0
         ],
         "xaxis": "x14",
         "y": [
          "<b>Latin America & Caribbean</b>"
         ],
         "yaxis": "y14"
        },
        {
         "customdata": [
          [
           "0.0",
           "0.6023646356164858",
           "Latin America & Caribbean",
           "Brazil"
          ],
          [
           "0.0",
           "0.1234361185002694",
           "Latin America & Caribbean",
           "Brazil"
          ]
         ],
         "error_x": {
          "array": [
           0.6023621356289858,
           0.12343576135766736
          ],
          "arrayminus": [
           0.0000024999875000625,
           3.5714260204099856e-7
          ],
          "type": "data"
         },
         "hovertemplate": "<b>%{y}</b><br>Proportion [95% CI]: <b>%{x:.2f}</b> [%{customdata[0]:.2f}; %{customdata[1]:.2f}]<br>Country: %{customdata[3]}<br>Region: %{customdata[2]}<br>N: %{text}<br><extra></extra>",
         "marker": {
          "color": "rgb(17, 165, 121)",
          "size": [
           2.8284271247461903,
           4.600653267582412
          ],
          "symbol": "square"
         },
         "mode": "markers",
         "text": [
          "4",
          "28"
         ],
         "type": "scatter",
         "x": [
          0.0000024999875000625,
          3.5714260204099856e-7
         ],
         "xaxis": "x14",
         "y": [
          "<a style='color:inherit' href='https://doi.org/10.1590/0004-282x20150169'>Oliveira et al., 2015</a>",
          "<a style='color:inherit' href='https://doi.org/10.1007/s00381-003-0853-7'>Machado et al., 2004</a>"
         ],
         "yaxis": "y14"
        },
        {
         "error_x": {
          "array": [
           0
          ],
          "arrayminus": [
           0
          ],
          "type": "data"
         },
         "hovertemplate": "<b>%{y}</b><br>Pooled estimate [95% CI]: <b>%{x:.2f}</b> [0.0, 0.0]<br>I<sup>2</sup>: 0.0%<br>N: 29<extra></extra>",
         "marker": {
          "color": "black",
          "size": 4.641191574212168,
          "symbol": "diamond-wide"
         },
         "mode": "markers",
         "type": "scatter",
         "x": [
          0
         ],
         "xaxis": "x15",
         "y": [
          "<b>Global effect</b>"
         ],
         "yaxis": "y15"
        },
        {
         "hoverinfo": "skip",
         "marker": {
          "color": "white"
         },
         "type": "scatter",
         "xaxis": "x15",
         "y": [
          "                     "
         ],
         "yaxis": "y15"
        },
        {
         "error_x": {
          "array": [
           0
          ],
          "arrayminus": [
           0
          ],
          "type": "data"
         },
         "hovertemplate": "<b>%{y}</b><br>Estimate [95% CI]: <b>%{x:.2f}</b> [0.0, 0.0]<br>I<sup>2</sup>: 0.0%<br>N: 20<extra></extra>",
         "marker": {
          "color": "black",
          "size": 4.229485053762256,
          "symbol": "diamond-wide"
         },
         "mode": "markers",
         "type": "scatter",
         "x": [
          null
         ],
         "xaxis": "x15",
         "y": [
          "<b>Europe & Central Asia</b>"
         ],
         "yaxis": "y15"
        },
        {
         "customdata": [
          [
           "0.0",
           "0.1684334709830855",
           "Europe & Central Asia",
           "France"
          ]
         ],
         "error_x": {
          "array": [
           0.1684329709835855
          ],
          "arrayminus": [
           4.999995000005e-7
          ],
          "type": "data"
         },
         "hovertemplate": "<b>%{y}</b><br>Proportion [95% CI]: <b>%{x:.2f}</b> [%{customdata[0]:.2f}; %{customdata[1]:.2f}]<br>Country: %{customdata[3]}<br>Region: %{customdata[2]}<br>N: %{text}<br><extra></extra>",
         "marker": {
          "color": "rgb(57, 105, 172)",
          "size": [
           4.229485053762256
          ],
          "symbol": "square"
         },
         "mode": "markers",
         "text": [
          "20"
         ],
         "type": "scatter",
         "x": [
          4.999995000005e-7
         ],
         "xaxis": "x15",
         "y": [
          "<a style='color:inherit' href='https://doi.org/10.1016/j.wneu.2015.07.071'>Beuriat et al., 2016</a>"
         ],
         "yaxis": "y15"
        },
        {
         "hoverinfo": "skip",
         "marker": {
          "color": "white"
         },
         "type": "scatter",
         "xaxis": "x15",
         "y": [
          "                  "
         ],
         "yaxis": "y15"
        },
        {
         "error_x": {
          "array": [
           0
          ],
          "arrayminus": [
           0
          ],
          "type": "data"
         },
         "hovertemplate": "<b>%{y}</b><br>Estimate [95% CI]: <b>%{x:.2f}</b> [0.0, 0.0]<br>I<sup>2</sup>: 0.0%<br>N: 9<extra></extra>",
         "marker": {
          "color": "black",
          "size": 3.4641016151377544,
          "symbol": "diamond-wide"
         },
         "mode": "markers",
         "type": "scatter",
         "x": [
          null
         ],
         "xaxis": "x15",
         "y": [
          "<b>Sub-Saharan Africa</b>"
         ],
         "yaxis": "y15"
        },
        {
         "customdata": [
          [
           "0.0",
           "0.3362671168799429",
           "Sub-Saharan Africa",
           "Nigeria"
          ]
         ],
         "error_x": {
          "array": [
           0.3362660057713009
          ],
          "arrayminus": [
           0.0000011111086419807957
          ],
          "type": "data"
         },
         "hovertemplate": "<b>%{y}</b><br>Proportion [95% CI]: <b>%{x:.2f}</b> [%{customdata[0]:.2f}; %{customdata[1]:.2f}]<br>Country: %{customdata[3]}<br>Region: %{customdata[2]}<br>N: %{text}<br><extra></extra>",
         "marker": {
          "color": "rgb(57, 105, 172)",
          "size": [
           3.4641016151377544
          ],
          "symbol": "square"
         },
         "mode": "markers",
         "text": [
          "9"
         ],
         "type": "scatter",
         "x": [
          0.0000011111086419807957
         ],
         "xaxis": "x15",
         "y": [
          "<a style='color:inherit' href='https://www.ajol.info/index.php/njcp/article/view/114862/104498'>Ojo et al., 2015</a>"
         ],
         "yaxis": "y15"
        },
        {
         "error_x": {
          "array": [
           0.01
          ],
          "arrayminus": [
           0
          ],
          "type": "data"
         },
         "hovertemplate": "<b>%{y}</b><br>Pooled estimate [95% CI]: <b>%{x:.2f}</b> [0.0, 0.01]<br>I<sup>2</sup>: 0.0%<br>N: 100<extra></extra>",
         "marker": {
          "color": "black",
          "size": 6.324555320336759,
          "symbol": "diamond-wide"
         },
         "mode": "markers",
         "type": "scatter",
         "x": [
          0
         ],
         "xaxis": "x16",
         "y": [
          "<b>Global effect</b>"
         ],
         "yaxis": "y16"
        },
        {
         "hoverinfo": "skip",
         "marker": {
          "color": "white"
         },
         "type": "scatter",
         "xaxis": "x16",
         "y": [
          "             "
         ],
         "yaxis": "y16"
        },
        {
         "error_x": {
          "array": [
           0
          ],
          "arrayminus": [
           0
          ],
          "type": "data"
         },
         "hovertemplate": "<b>%{y}</b><br>Estimate [95% CI]: <b>%{x:.2f}</b> [0.0, 0.0]<br>I<sup>2</sup>: 0.0%<br>N: 7<extra></extra>",
         "marker": {
          "color": "black",
          "size": 3.2531531233955713,
          "symbol": "diamond-wide"
         },
         "mode": "markers",
         "type": "scatter",
         "x": [
          null
         ],
         "xaxis": "x16",
         "y": [
          "<b>North America</b>"
         ],
         "yaxis": "y16"
        },
        {
         "customdata": [
          [
           "0.0",
           "0.4096163972250487",
           "North America",
           "United States"
          ]
         ],
         "error_x": {
          "array": [
           0.40961496865770175
          ],
          "arrayminus": [
           0.0000014285673469504376
          ],
          "type": "data"
         },
         "hovertemplate": "<b>%{y}</b><br>Proportion [95% CI]: <b>%{x:.2f}</b> [%{customdata[0]:.2f}; %{customdata[1]:.2f}]<br>Country: %{customdata[3]}<br>Region: %{customdata[2]}<br>N: %{text}<br><extra></extra>",
         "marker": {
          "color": "rgb(242, 183, 1)",
          "size": [
           3.2531531233955713
          ],
          "symbol": "square"
         },
         "mode": "markers",
         "text": [
          "7"
         ],
         "type": "scatter",
         "x": [
          0.0000014285673469504376
         ],
         "xaxis": "x16",
         "y": [
          "<a style='color:inherit' href='https://doi.org/10.3171/2015.5.peds14692'>Weil et al., 2016</a>"
         ],
         "yaxis": "y16"
        },
        {
         "hoverinfo": "skip",
         "marker": {
          "color": "white"
         },
         "type": "scatter",
         "xaxis": "x16",
         "y": [
          "                  "
         ],
         "yaxis": "y16"
        },
        {
         "error_x": {
          "array": [
           0.02
          ],
          "arrayminus": [
           0.01
          ],
          "type": "data"
         },
         "hovertemplate": "<b>%{y}</b><br>Estimate [95% CI]: <b>%{x:.2f}</b> [0.0, 0.03]<br>I<sup>2</sup>: 0.0%<br>N: 93<extra></extra>",
         "marker": {
          "color": "black",
          "size": 6.210845598142963,
          "symbol": "diamond-wide"
         },
         "mode": "markers",
         "type": "scatter",
         "x": [
          null
         ],
         "xaxis": "x16",
         "y": [
          "<b>Sub-Saharan Africa</b>"
         ],
         "yaxis": "y16"
        },
        {
         "customdata": [
          [
           "0.00027219744174309307",
           "0.058458164514379636",
           "Sub-Saharan Africa",
           "Uganda"
          ]
         ],
         "error_x": {
          "array": [
           0.049762512340379636
          ],
          "arrayminus": [
           0.008423454732256907
          ],
          "type": "data"
         },
         "hovertemplate": "<b>%{y}</b><br>Proportion [95% CI]: <b>%{x:.2f}</b> [%{customdata[0]:.2f}; %{customdata[1]:.2f}]<br>Country: %{customdata[3]}<br>Region: %{customdata[2]}<br>N: %{text}<br><extra></extra>",
         "marker": {
          "color": "rgb(242, 183, 1)",
          "size": [
           6.210845598142963
          ],
          "symbol": "square"
         },
         "mode": "markers",
         "text": [
          "93"
         ],
         "type": "scatter",
         "x": [
          0.008695652174
         ],
         "xaxis": "x16",
         "y": [
          "<a style='color:inherit' href='https://doi.org/10.3171/ped.2008.2.11.310'>Warf et al., 2008</a>"
         ],
         "yaxis": "y16"
        }
       ],
       "layout": {
        "annotations": [
         {
          "font": {
           "size": 16
          },
          "showarrow": false,
          "text": "<b>Conservative</b>",
          "x": 0.04999999999999999,
          "xanchor": "center",
          "xref": "paper",
          "y": 1,
          "yanchor": "bottom",
          "yref": "paper"
         },
         {
          "font": {
           "size": 16
          },
          "showarrow": false,
          "text": "<b>VPS</b>",
          "x": 0.35,
          "xanchor": "center",
          "xref": "paper",
          "y": 1,
          "yanchor": "bottom",
          "yref": "paper"
         },
         {
          "font": {
           "size": 16
          },
          "showarrow": false,
          "text": "<b>ETV</b>",
          "x": 0.6499999999999999,
          "xanchor": "center",
          "xref": "paper",
          "y": 1,
          "yanchor": "bottom",
          "yref": "paper"
         },
         {
          "font": {
           "size": 16
          },
          "showarrow": false,
          "text": "<b>ETV/CPC</b>",
          "x": 0.95,
          "xanchor": "center",
          "xref": "paper",
          "y": 1,
          "yanchor": "bottom",
          "yref": "paper"
         },
         {
          "font": {
           "size": 16
          },
          "showarrow": false,
          "text": "<b>Conservative",
          "x": 0.04999999999999999,
          "xanchor": "center",
          "xref": "paper",
          "y": 0.7375,
          "yanchor": "bottom",
          "yref": "paper"
         },
         {
          "font": {
           "size": 16
          },
          "showarrow": false,
          "text": "<b>VPS</b>",
          "x": 0.35,
          "xanchor": "center",
          "xref": "paper",
          "y": 0.7375,
          "yanchor": "bottom",
          "yref": "paper"
         },
         {
          "font": {
           "size": 16
          },
          "showarrow": false,
          "text": "<b>ETV</b>",
          "x": 0.6499999999999999,
          "xanchor": "center",
          "xref": "paper",
          "y": 0.7375,
          "yanchor": "bottom",
          "yref": "paper"
         },
         {
          "font": {
           "size": 16
          },
          "showarrow": false,
          "text": "<b>VPS",
          "x": 0.35,
          "xanchor": "center",
          "xref": "paper",
          "y": 0.475,
          "yanchor": "bottom",
          "yref": "paper"
         },
         {
          "font": {
           "size": 16
          },
          "showarrow": false,
          "text": "<b>ETV</b>",
          "x": 0.6499999999999999,
          "xanchor": "center",
          "xref": "paper",
          "y": 0.475,
          "yanchor": "bottom",
          "yref": "paper"
         },
         {
          "font": {
           "size": 16
          },
          "showarrow": false,
          "text": "<b>ETV/CPC</b>",
          "x": 0.95,
          "xanchor": "center",
          "xref": "paper",
          "y": 0.475,
          "yanchor": "bottom",
          "yref": "paper"
         },
         {
          "font": {
           "size": 16
          },
          "showarrow": false,
          "text": "<b>VPS</b>",
          "x": 0.35,
          "xanchor": "center",
          "xref": "paper",
          "y": 0.2125,
          "yanchor": "bottom",
          "yref": "paper"
         },
         {
          "font": {
           "size": 16
          },
          "showarrow": false,
          "text": "<b>ETV</b>",
          "x": 0.6499999999999999,
          "xanchor": "center",
          "xref": "paper",
          "y": 0.2125,
          "yanchor": "bottom",
          "yref": "paper"
         },
         {
          "font": {
           "size": 16
          },
          "showarrow": false,
          "text": "<b>ETV/CPC</b>",
          "x": 0.95,
          "xanchor": "center",
          "xref": "paper",
          "y": 0.2125,
          "yanchor": "bottom",
          "yref": "paper"
         }
        ],
        "font": {
         "color": "black",
         "family": "Arial"
        },
        "height": 1900,
        "plot_bgcolor": "white",
        "showlegend": false,
        "template": {
         "data": {
          "bar": [
           {
            "error_x": {
             "color": "#2a3f5f"
            },
            "error_y": {
             "color": "#2a3f5f"
            },
            "marker": {
             "line": {
              "color": "#E5ECF6",
              "width": 0.5
             },
             "pattern": {
              "fillmode": "overlay",
              "size": 10,
              "solidity": 0.2
             }
            },
            "type": "bar"
           }
          ],
          "barpolar": [
           {
            "marker": {
             "line": {
              "color": "#E5ECF6",
              "width": 0.5
             },
             "pattern": {
              "fillmode": "overlay",
              "size": 10,
              "solidity": 0.2
             }
            },
            "type": "barpolar"
           }
          ],
          "carpet": [
           {
            "aaxis": {
             "endlinecolor": "#2a3f5f",
             "gridcolor": "white",
             "linecolor": "white",
             "minorgridcolor": "white",
             "startlinecolor": "#2a3f5f"
            },
            "baxis": {
             "endlinecolor": "#2a3f5f",
             "gridcolor": "white",
             "linecolor": "white",
             "minorgridcolor": "white",
             "startlinecolor": "#2a3f5f"
            },
            "type": "carpet"
           }
          ],
          "choropleth": [
           {
            "colorbar": {
             "outlinewidth": 0,
             "ticks": ""
            },
            "type": "choropleth"
           }
          ],
          "contour": [
           {
            "colorbar": {
             "outlinewidth": 0,
             "ticks": ""
            },
            "colorscale": [
             [
              0,
              "#0d0887"
             ],
             [
              0.1111111111111111,
              "#46039f"
             ],
             [
              0.2222222222222222,
              "#7201a8"
             ],
             [
              0.3333333333333333,
              "#9c179e"
             ],
             [
              0.4444444444444444,
              "#bd3786"
             ],
             [
              0.5555555555555556,
              "#d8576b"
             ],
             [
              0.6666666666666666,
              "#ed7953"
             ],
             [
              0.7777777777777778,
              "#fb9f3a"
             ],
             [
              0.8888888888888888,
              "#fdca26"
             ],
             [
              1,
              "#f0f921"
             ]
            ],
            "type": "contour"
           }
          ],
          "contourcarpet": [
           {
            "colorbar": {
             "outlinewidth": 0,
             "ticks": ""
            },
            "type": "contourcarpet"
           }
          ],
          "heatmap": [
           {
            "colorbar": {
             "outlinewidth": 0,
             "ticks": ""
            },
            "colorscale": [
             [
              0,
              "#0d0887"
             ],
             [
              0.1111111111111111,
              "#46039f"
             ],
             [
              0.2222222222222222,
              "#7201a8"
             ],
             [
              0.3333333333333333,
              "#9c179e"
             ],
             [
              0.4444444444444444,
              "#bd3786"
             ],
             [
              0.5555555555555556,
              "#d8576b"
             ],
             [
              0.6666666666666666,
              "#ed7953"
             ],
             [
              0.7777777777777778,
              "#fb9f3a"
             ],
             [
              0.8888888888888888,
              "#fdca26"
             ],
             [
              1,
              "#f0f921"
             ]
            ],
            "type": "heatmap"
           }
          ],
          "heatmapgl": [
           {
            "colorbar": {
             "outlinewidth": 0,
             "ticks": ""
            },
            "colorscale": [
             [
              0,
              "#0d0887"
             ],
             [
              0.1111111111111111,
              "#46039f"
             ],
             [
              0.2222222222222222,
              "#7201a8"
             ],
             [
              0.3333333333333333,
              "#9c179e"
             ],
             [
              0.4444444444444444,
              "#bd3786"
             ],
             [
              0.5555555555555556,
              "#d8576b"
             ],
             [
              0.6666666666666666,
              "#ed7953"
             ],
             [
              0.7777777777777778,
              "#fb9f3a"
             ],
             [
              0.8888888888888888,
              "#fdca26"
             ],
             [
              1,
              "#f0f921"
             ]
            ],
            "type": "heatmapgl"
           }
          ],
          "histogram": [
           {
            "marker": {
             "pattern": {
              "fillmode": "overlay",
              "size": 10,
              "solidity": 0.2
             }
            },
            "type": "histogram"
           }
          ],
          "histogram2d": [
           {
            "colorbar": {
             "outlinewidth": 0,
             "ticks": ""
            },
            "colorscale": [
             [
              0,
              "#0d0887"
             ],
             [
              0.1111111111111111,
              "#46039f"
             ],
             [
              0.2222222222222222,
              "#7201a8"
             ],
             [
              0.3333333333333333,
              "#9c179e"
             ],
             [
              0.4444444444444444,
              "#bd3786"
             ],
             [
              0.5555555555555556,
              "#d8576b"
             ],
             [
              0.6666666666666666,
              "#ed7953"
             ],
             [
              0.7777777777777778,
              "#fb9f3a"
             ],
             [
              0.8888888888888888,
              "#fdca26"
             ],
             [
              1,
              "#f0f921"
             ]
            ],
            "type": "histogram2d"
           }
          ],
          "histogram2dcontour": [
           {
            "colorbar": {
             "outlinewidth": 0,
             "ticks": ""
            },
            "colorscale": [
             [
              0,
              "#0d0887"
             ],
             [
              0.1111111111111111,
              "#46039f"
             ],
             [
              0.2222222222222222,
              "#7201a8"
             ],
             [
              0.3333333333333333,
              "#9c179e"
             ],
             [
              0.4444444444444444,
              "#bd3786"
             ],
             [
              0.5555555555555556,
              "#d8576b"
             ],
             [
              0.6666666666666666,
              "#ed7953"
             ],
             [
              0.7777777777777778,
              "#fb9f3a"
             ],
             [
              0.8888888888888888,
              "#fdca26"
             ],
             [
              1,
              "#f0f921"
             ]
            ],
            "type": "histogram2dcontour"
           }
          ],
          "mesh3d": [
           {
            "colorbar": {
             "outlinewidth": 0,
             "ticks": ""
            },
            "type": "mesh3d"
           }
          ],
          "parcoords": [
           {
            "line": {
             "colorbar": {
              "outlinewidth": 0,
              "ticks": ""
             }
            },
            "type": "parcoords"
           }
          ],
          "pie": [
           {
            "automargin": true,
            "type": "pie"
           }
          ],
          "scatter": [
           {
            "fillpattern": {
             "fillmode": "overlay",
             "size": 10,
             "solidity": 0.2
            },
            "type": "scatter"
           }
          ],
          "scatter3d": [
           {
            "line": {
             "colorbar": {
              "outlinewidth": 0,
              "ticks": ""
             }
            },
            "marker": {
             "colorbar": {
              "outlinewidth": 0,
              "ticks": ""
             }
            },
            "type": "scatter3d"
           }
          ],
          "scattercarpet": [
           {
            "marker": {
             "colorbar": {
              "outlinewidth": 0,
              "ticks": ""
             }
            },
            "type": "scattercarpet"
           }
          ],
          "scattergeo": [
           {
            "marker": {
             "colorbar": {
              "outlinewidth": 0,
              "ticks": ""
             }
            },
            "type": "scattergeo"
           }
          ],
          "scattergl": [
           {
            "marker": {
             "colorbar": {
              "outlinewidth": 0,
              "ticks": ""
             }
            },
            "type": "scattergl"
           }
          ],
          "scattermapbox": [
           {
            "marker": {
             "colorbar": {
              "outlinewidth": 0,
              "ticks": ""
             }
            },
            "type": "scattermapbox"
           }
          ],
          "scatterpolar": [
           {
            "marker": {
             "colorbar": {
              "outlinewidth": 0,
              "ticks": ""
             }
            },
            "type": "scatterpolar"
           }
          ],
          "scatterpolargl": [
           {
            "marker": {
             "colorbar": {
              "outlinewidth": 0,
              "ticks": ""
             }
            },
            "type": "scatterpolargl"
           }
          ],
          "scatterternary": [
           {
            "marker": {
             "colorbar": {
              "outlinewidth": 0,
              "ticks": ""
             }
            },
            "type": "scatterternary"
           }
          ],
          "surface": [
           {
            "colorbar": {
             "outlinewidth": 0,
             "ticks": ""
            },
            "colorscale": [
             [
              0,
              "#0d0887"
             ],
             [
              0.1111111111111111,
              "#46039f"
             ],
             [
              0.2222222222222222,
              "#7201a8"
             ],
             [
              0.3333333333333333,
              "#9c179e"
             ],
             [
              0.4444444444444444,
              "#bd3786"
             ],
             [
              0.5555555555555556,
              "#d8576b"
             ],
             [
              0.6666666666666666,
              "#ed7953"
             ],
             [
              0.7777777777777778,
              "#fb9f3a"
             ],
             [
              0.8888888888888888,
              "#fdca26"
             ],
             [
              1,
              "#f0f921"
             ]
            ],
            "type": "surface"
           }
          ],
          "table": [
           {
            "cells": {
             "fill": {
              "color": "#EBF0F8"
             },
             "line": {
              "color": "white"
             }
            },
            "header": {
             "fill": {
              "color": "#C8D4E3"
             },
             "line": {
              "color": "white"
             }
            },
            "type": "table"
           }
          ]
         },
         "layout": {
          "annotationdefaults": {
           "arrowcolor": "#2a3f5f",
           "arrowhead": 0,
           "arrowwidth": 1
          },
          "autotypenumbers": "strict",
          "coloraxis": {
           "colorbar": {
            "outlinewidth": 0,
            "ticks": ""
           }
          },
          "colorscale": {
           "diverging": [
            [
             0,
             "#8e0152"
            ],
            [
             0.1,
             "#c51b7d"
            ],
            [
             0.2,
             "#de77ae"
            ],
            [
             0.3,
             "#f1b6da"
            ],
            [
             0.4,
             "#fde0ef"
            ],
            [
             0.5,
             "#f7f7f7"
            ],
            [
             0.6,
             "#e6f5d0"
            ],
            [
             0.7,
             "#b8e186"
            ],
            [
             0.8,
             "#7fbc41"
            ],
            [
             0.9,
             "#4d9221"
            ],
            [
             1,
             "#276419"
            ]
           ],
           "sequential": [
            [
             0,
             "#0d0887"
            ],
            [
             0.1111111111111111,
             "#46039f"
            ],
            [
             0.2222222222222222,
             "#7201a8"
            ],
            [
             0.3333333333333333,
             "#9c179e"
            ],
            [
             0.4444444444444444,
             "#bd3786"
            ],
            [
             0.5555555555555556,
             "#d8576b"
            ],
            [
             0.6666666666666666,
             "#ed7953"
            ],
            [
             0.7777777777777778,
             "#fb9f3a"
            ],
            [
             0.8888888888888888,
             "#fdca26"
            ],
            [
             1,
             "#f0f921"
            ]
           ],
           "sequentialminus": [
            [
             0,
             "#0d0887"
            ],
            [
             0.1111111111111111,
             "#46039f"
            ],
            [
             0.2222222222222222,
             "#7201a8"
            ],
            [
             0.3333333333333333,
             "#9c179e"
            ],
            [
             0.4444444444444444,
             "#bd3786"
            ],
            [
             0.5555555555555556,
             "#d8576b"
            ],
            [
             0.6666666666666666,
             "#ed7953"
            ],
            [
             0.7777777777777778,
             "#fb9f3a"
            ],
            [
             0.8888888888888888,
             "#fdca26"
            ],
            [
             1,
             "#f0f921"
            ]
           ]
          },
          "colorway": [
           "#636efa",
           "#EF553B",
           "#00cc96",
           "#ab63fa",
           "#FFA15A",
           "#19d3f3",
           "#FF6692",
           "#B6E880",
           "#FF97FF",
           "#FECB52"
          ],
          "font": {
           "color": "#2a3f5f"
          },
          "geo": {
           "bgcolor": "white",
           "lakecolor": "white",
           "landcolor": "#E5ECF6",
           "showlakes": true,
           "showland": true,
           "subunitcolor": "white"
          },
          "hoverlabel": {
           "align": "left"
          },
          "hovermode": "closest",
          "mapbox": {
           "style": "light"
          },
          "paper_bgcolor": "white",
          "plot_bgcolor": "#E5ECF6",
          "polar": {
           "angularaxis": {
            "gridcolor": "white",
            "linecolor": "white",
            "ticks": ""
           },
           "bgcolor": "#E5ECF6",
           "radialaxis": {
            "gridcolor": "white",
            "linecolor": "white",
            "ticks": ""
           }
          },
          "scene": {
           "xaxis": {
            "backgroundcolor": "#E5ECF6",
            "gridcolor": "white",
            "gridwidth": 2,
            "linecolor": "white",
            "showbackground": true,
            "ticks": "",
            "zerolinecolor": "white"
           },
           "yaxis": {
            "backgroundcolor": "#E5ECF6",
            "gridcolor": "white",
            "gridwidth": 2,
            "linecolor": "white",
            "showbackground": true,
            "ticks": "",
            "zerolinecolor": "white"
           },
           "zaxis": {
            "backgroundcolor": "#E5ECF6",
            "gridcolor": "white",
            "gridwidth": 2,
            "linecolor": "white",
            "showbackground": true,
            "ticks": "",
            "zerolinecolor": "white"
           }
          },
          "shapedefaults": {
           "line": {
            "color": "#2a3f5f"
           }
          },
          "ternary": {
           "aaxis": {
            "gridcolor": "white",
            "linecolor": "white",
            "ticks": ""
           },
           "baxis": {
            "gridcolor": "white",
            "linecolor": "white",
            "ticks": ""
           },
           "bgcolor": "#E5ECF6",
           "caxis": {
            "gridcolor": "white",
            "linecolor": "white",
            "ticks": ""
           }
          },
          "title": {
           "x": 0.05
          },
          "xaxis": {
           "automargin": true,
           "gridcolor": "white",
           "linecolor": "white",
           "ticks": "",
           "title": {
            "standoff": 15
           },
           "zerolinecolor": "white",
           "zerolinewidth": 2
          },
          "yaxis": {
           "automargin": true,
           "gridcolor": "white",
           "linecolor": "white",
           "ticks": "",
           "title": {
            "standoff": 15
           },
           "zerolinecolor": "white",
           "zerolinewidth": 2
          }
         }
        },
        "title": {
         "font": {
          "color": "black",
          "family": "Arial"
         },
         "text": "<b>Surgical outcomes by treatment</b>"
        },
        "width": 1400,
        "xaxis": {
         "anchor": "y",
         "domain": [
          0,
          0.09999999999999998
         ],
         "linecolor": "black",
         "mirror": true,
         "range": [
          0,
          1
         ],
         "showline": true,
         "tickcolor": "black",
         "ticks": "outside"
        },
        "xaxis10": {
         "anchor": "y10",
         "domain": [
          0.3,
          0.39999999999999997
         ],
         "linecolor": "black",
         "mirror": true,
         "range": [
          0,
          1
         ],
         "showline": true,
         "tickcolor": "black",
         "ticks": "outside"
        },
        "xaxis11": {
         "anchor": "y11",
         "domain": [
          0.6,
          0.7
         ],
         "linecolor": "black",
         "mirror": true,
         "range": [
          0,
          1
         ],
         "showline": true,
         "tickcolor": "black",
         "ticks": "outside"
        },
        "xaxis12": {
         "anchor": "y12",
         "domain": [
          0.9,
          1
         ],
         "linecolor": "black",
         "mirror": true,
         "range": [
          0,
          1
         ],
         "showline": true,
         "tickcolor": "black",
         "ticks": "outside"
        },
        "xaxis13": {
         "anchor": "y13",
         "domain": [
          0,
          0.09999999999999998
         ],
         "linecolor": "black",
         "mirror": true,
         "range": [
          0,
          1
         ],
         "showline": true,
         "tickcolor": "black",
         "ticks": "outside"
        },
        "xaxis14": {
         "anchor": "y14",
         "domain": [
          0.3,
          0.39999999999999997
         ],
         "linecolor": "black",
         "mirror": true,
         "range": [
          0,
          1
         ],
         "showline": true,
         "tickcolor": "black",
         "ticks": "outside"
        },
        "xaxis15": {
         "anchor": "y15",
         "domain": [
          0.6,
          0.7
         ],
         "linecolor": "black",
         "mirror": true,
         "range": [
          0,
          1
         ],
         "showline": true,
         "tickcolor": "black",
         "ticks": "outside"
        },
        "xaxis16": {
         "anchor": "y16",
         "domain": [
          0.9,
          1
         ],
         "linecolor": "black",
         "mirror": true,
         "range": [
          0,
          1
         ],
         "showline": true,
         "tickcolor": "black",
         "ticks": "outside"
        },
        "xaxis2": {
         "anchor": "y2",
         "domain": [
          0.3,
          0.39999999999999997
         ],
         "linecolor": "black",
         "mirror": true,
         "range": [
          0,
          1
         ],
         "showline": true,
         "tickcolor": "black",
         "ticks": "outside"
        },
        "xaxis3": {
         "anchor": "y3",
         "domain": [
          0.6,
          0.7
         ],
         "linecolor": "black",
         "mirror": true,
         "range": [
          0,
          1
         ],
         "showline": true,
         "tickcolor": "black",
         "ticks": "outside"
        },
        "xaxis4": {
         "anchor": "y4",
         "domain": [
          0.9,
          1
         ],
         "linecolor": "black",
         "mirror": true,
         "range": [
          0,
          1
         ],
         "showline": true,
         "tickcolor": "black",
         "ticks": "outside"
        },
        "xaxis5": {
         "anchor": "y5",
         "domain": [
          0,
          0.09999999999999998
         ],
         "linecolor": "black",
         "mirror": true,
         "range": [
          0,
          1
         ],
         "showline": true,
         "tickcolor": "black",
         "ticks": "outside"
        },
        "xaxis6": {
         "anchor": "y6",
         "domain": [
          0.3,
          0.39999999999999997
         ],
         "linecolor": "black",
         "mirror": true,
         "range": [
          0,
          1
         ],
         "showline": true,
         "tickcolor": "black",
         "ticks": "outside"
        },
        "xaxis7": {
         "anchor": "y7",
         "domain": [
          0.6,
          0.7
         ],
         "linecolor": "black",
         "mirror": true,
         "range": [
          0,
          1
         ],
         "showline": true,
         "tickcolor": "black",
         "ticks": "outside"
        },
        "xaxis8": {
         "anchor": "y8",
         "domain": [
          0.9,
          1
         ],
         "linecolor": "black",
         "mirror": true,
         "range": [
          0,
          1
         ],
         "showline": true,
         "tickcolor": "black",
         "ticks": "outside"
        },
        "xaxis9": {
         "anchor": "y9",
         "domain": [
          0,
          0.09999999999999998
         ],
         "linecolor": "black",
         "mirror": true,
         "range": [
          0,
          1
         ],
         "showline": true,
         "tickcolor": "black",
         "ticks": "outside"
        },
        "yaxis": {
         "anchor": "x",
         "domain": [
          0.7875,
          1
         ],
         "linecolor": "black",
         "mirror": true,
         "showline": true,
         "ticksuffix": "  ",
         "title": {
          "text": "Failure rate"
         }
        },
        "yaxis10": {
         "anchor": "x10",
         "domain": [
          0.2625,
          0.475
         ],
         "linecolor": "black",
         "mirror": true,
         "showline": true,
         "ticksuffix": "  ",
         "title": {
          "text": ""
         }
        },
        "yaxis11": {
         "anchor": "x11",
         "domain": [
          0.2625,
          0.475
         ],
         "linecolor": "black",
         "mirror": true,
         "showline": true,
         "ticksuffix": "  ",
         "title": {
          "text": ""
         }
        },
        "yaxis12": {
         "anchor": "x12",
         "domain": [
          0.2625,
          0.475
         ],
         "linecolor": "black",
         "mirror": true,
         "showline": true,
         "ticksuffix": "  ",
         "title": {
          "text": ""
         }
        },
        "yaxis13": {
         "anchor": "x13",
         "domain": [
          0,
          0.2125
         ],
         "linecolor": "black",
         "mirror": true,
         "showline": true,
         "ticksuffix": "  ",
         "title": {
          "text": "Perioperative mortality"
         }
        },
        "yaxis14": {
         "anchor": "x14",
         "domain": [
          0,
          0.2125
         ],
         "linecolor": "black",
         "mirror": true,
         "showline": true,
         "ticksuffix": "  ",
         "title": {
          "text": ""
         }
        },
        "yaxis15": {
         "anchor": "x15",
         "domain": [
          0,
          0.2125
         ],
         "linecolor": "black",
         "mirror": true,
         "showline": true,
         "ticksuffix": "  ",
         "title": {
          "text": ""
         }
        },
        "yaxis16": {
         "anchor": "x16",
         "domain": [
          0,
          0.2125
         ],
         "linecolor": "black",
         "mirror": true,
         "showline": true,
         "ticksuffix": "  ",
         "title": {
          "text": ""
         }
        },
        "yaxis2": {
         "anchor": "x2",
         "domain": [
          0.7875,
          1
         ],
         "linecolor": "black",
         "mirror": true,
         "showline": true,
         "ticksuffix": "  ",
         "title": {
          "text": ""
         }
        },
        "yaxis3": {
         "anchor": "x3",
         "domain": [
          0.7875,
          1
         ],
         "linecolor": "black",
         "mirror": true,
         "showline": true,
         "ticksuffix": "  ",
         "title": {
          "text": ""
         }
        },
        "yaxis4": {
         "anchor": "x4",
         "domain": [
          0.7875,
          1
         ],
         "linecolor": "black",
         "mirror": true,
         "showline": true,
         "ticksuffix": "  ",
         "title": {
          "text": ""
         }
        },
        "yaxis5": {
         "anchor": "x5",
         "domain": [
          0.525,
          0.7375
         ],
         "linecolor": "black",
         "mirror": true,
         "showline": true,
         "ticksuffix": "  ",
         "title": {
          "text": "Complication rate"
         }
        },
        "yaxis6": {
         "anchor": "x6",
         "domain": [
          0.525,
          0.7375
         ],
         "linecolor": "black",
         "mirror": true,
         "showline": true,
         "ticksuffix": "  ",
         "title": {
          "text": ""
         }
        },
        "yaxis7": {
         "anchor": "x7",
         "domain": [
          0.525,
          0.7375
         ],
         "linecolor": "black",
         "mirror": true,
         "showline": true,
         "ticksuffix": "  ",
         "title": {
          "text": ""
         }
        },
        "yaxis8": {
         "anchor": "x8",
         "domain": [
          0.525,
          0.7375
         ],
         "linecolor": "black",
         "mirror": true,
         "showline": true,
         "ticksuffix": "  ",
         "title": {
          "text": ""
         }
        },
        "yaxis9": {
         "anchor": "x9",
         "domain": [
          0.2625,
          0.475
         ],
         "linecolor": "black",
         "mirror": true,
         "showline": true,
         "ticksuffix": "  ",
         "title": {
          "text": "Intraoperative mortality"
         }
        }
       }
      }
     },
     "metadata": {},
     "output_type": "display_data"
    }
   ],
   "source": [
    "#Generate figure\n",
    "\n",
    "#This is the label of each subplot. they correspond to the order of what is contained in subplot_titles\n",
    "#The titles list contains the labels for each subplot, which correspond to the order of the metastudy keys in subplot_titles.\n",
    "titles = [\n",
    "    '<b>Conservative</b>', '<b>VPS</b>', '<b>ETV</b>', '<b>ETV/CPC</b>',\n",
    "    '<b>Conservative', '<b>VPS</b>', '<b>ETV</b>', '',\n",
    "    '', '<b>VPS', '<b>ETV</b>', '<b>ETV/CPC</b>',\n",
    "    '', '<b>VPS</b>', '<b>ETV</b>', '<b>ETV/CPC</b>',\n",
    "]\n",
    "\n",
    "l = [\n",
    "    'Failure_rate_conservative',\n",
    "    'Failure_rate_VPS',\n",
    "    'Failure_rate_ETV',\n",
    "    'Failure_rate_ETV_CPC',\n",
    "\n",
    "    'Complication_rate_1st_line_conservative',\n",
    "    'Complication_rate_1st_line_VPS',\n",
    "    'Complication_rate_1st_line_ETV',\n",
    "    'Complication_rate_1st_line_CPC',\n",
    "\n",
    "    'Mortality_intraop_1st_line_conservative',\n",
    "    'Mortality_intraop_1st_line_VPS',\n",
    "    'Mortality_intraop_1st_line_ETV',\n",
    "    'Mortality_intraop_1st_line_ETV_CPC',\n",
    "\n",
    "    'Mortality_periop_1st_line_conservative',\n",
    "    'Mortality_periop_1st_line_VPS',\n",
    "    'Mortality_periop_1st_line_ETV',\n",
    "    'Mortality_periop_1st_line_ETV_CPC',\n",
    "]\n",
    "\n",
    "color_dict = {\n",
    "    'Failure_rate_conservative': 'rgb(127, 60, 141)',\n",
    "    'Complication_rate_1st_line_conservative': 'rgb(127, 60, 141)',\n",
    "    'Mortality_intraop_1st_line_conservative': 'rgb(127, 60, 141)',\n",
    "    'Mortality_periop_1st_line_conservative': 'rgb(127, 60, 141)',\n",
    "\n",
    "    'Failure_rate_VPS': 'rgb(17, 165, 121)',\n",
    "    'Complication_rate_1st_line_VPS': 'rgb(17, 165, 121)',\n",
    "    'Mortality_intraop_1st_line_VPS': 'rgb(17, 165, 121)',\n",
    "    'Mortality_periop_1st_line_VPS' : 'rgb(17, 165, 121)',\n",
    "\n",
    "    'Failure_rate_ETV': 'rgb(57, 105, 172)',\n",
    "    'Complication_rate_1st_line_ETV': 'rgb(57, 105, 172)',\n",
    "    'Mortality_intraop_1st_line_ETV': 'rgb(57, 105, 172)',\n",
    "    'Mortality_periop_1st_line_ETV': 'rgb(57, 105, 172)',\n",
    "\n",
    "    'Failure_rate_ETV_CPC': 'rgb(242, 183, 1)',\n",
    "    'Complication_rate_1st_line_ETV_CPC': 'rgb(242, 183, 1)',\n",
    "    'Mortality_intraop_1st_line_ETV_CPC': 'rgb(242, 183, 1)',\n",
    "    'Mortality_periop_1st_line_ETV_CPC': 'rgb(242, 183, 1)',\n",
    "}\n",
    "\n",
    "#Lambdas\n",
    "subset_regional_data = lambda key: [ metastudy[m][key][ix] for ix in range(len(metastudy[m]['region'])) if metastudy[m]['region'][ix]==region ]\n",
    "\n",
    "#Create subplots\n",
    "fig3 = make_subplots(rows=4, cols=4, subplot_titles=titles, horizontal_spacing=0.2, vertical_spacing=0.05)\n",
    "\n",
    "#Create a reverse dictionary where the keys are the outcome names, and the values are the outcome types.\n",
    "#This is used to sort the subplot titles based on measure type using a lambda function.\n",
    "measure_type_reverse = { m:t for t, mlist in measure_type.items() for m in mlist }\n",
    "\n",
    "#Add region headers\n",
    "\n",
    "\n",
    "#Add traces for each measure\n",
    "#The row and col variables start at 1, and the loop increments the column index until it reaches 4, then it resets the column index to 1 and increments the row index.\n",
    "#This continues until all the subplots have been created.\n",
    "row, col = 1, 1\n",
    "for m in l:\n",
    "\n",
    "    try:\n",
    "\n",
    "      #Add global estimate\n",
    "      fig3.add_trace(go.Scatter(\n",
    "              x=[round(metastudy[m]['pred'], 2) if len(metastudy[m]['ni'])>1 else None],\n",
    "              y=['<b>Global effect</b>'],\n",
    "              mode='markers',\n",
    "              marker=dict(color='black'),\n",
    "              marker_symbol='diamond-wide',\n",
    "              marker_size=2*np.power(sum(metastudy[m]['ni']), 1/4),\n",
    "              hovertemplate='<b>%{y}</b><br>'+\n",
    "                            'Pooled estimate [95% CI]: '+\n",
    "                            '<b>%{x:.2f}</b> '+\n",
    "                            f'[{round(metastudy[m][\"cilb\"], 2)}, '+\n",
    "                            f'{round(metastudy[m][\"ciub\"], 2)}]<br>'+\n",
    "                            f'I<sup>2</sup>: {round(metastudy[m][\"I2\"], 2)}%<br>'+\n",
    "                            f'N: {sum(metastudy[m][\"ni\"])}'+\n",
    "                            '<extra></extra>',\n",
    "              error_x=dict(type='data',\n",
    "                arrayminus=[round( metastudy[m]['pred'] - metastudy[m][\"cilb\"], 2 )],\n",
    "                array=[round( metastudy[m][\"ciub\"] - metastudy[m]['pred'], 2)]\n",
    "            )\n",
    "          ),\n",
    "          row=row, col=col\n",
    "      )\n",
    "\n",
    "      #Cycle through regional estimates + individual studies\n",
    "      color_key = measure_type_reverse.get(m)\n",
    "      marker_color = color_dict.get(color_key, 'gray') if color_key is not None else 'gray'\n",
    "      for region in set(metastudy[m]['region']):\n",
    "\n",
    "          #Add blank space\n",
    "          fig3.add_trace(go.Scatter(x=None, y=[f'{\" \"*len(region)}'], marker=dict(color='white'), hoverinfo='skip'), row=row, col=col)\n",
    "\n",
    "          #Add regional estimate\n",
    "          fig3.add_trace(go.Scatter(\n",
    "                  x=[round(metastudy[m]['pred_reg'][region], 2) if len(subset_regional_data('yi'))>1 else None],\n",
    "                  y=[f'<b>{region}</b>'],\n",
    "                  mode='markers',\n",
    "                  marker=dict(color='black'),\n",
    "                  marker_symbol='diamond-wide',\n",
    "                  marker_size=2*np.power(sum(subset_regional_data('ni')), 1/4),\n",
    "                  hovertemplate='<b>%{y}</b><br>'+\n",
    "                                'Estimate [95% CI]: '+\n",
    "                                '<b>%{x:.2f}</b> '+\n",
    "                                f'[{round(metastudy[m][\"cilb_reg\"][region], 2)}, '+\n",
    "                                f'{round(metastudy[m][\"ciub_reg\"][region], 2)}]<br>'+\n",
    "                                f'I<sup>2</sup>: {round(metastudy[m][\"I2_reg\"][region], 2)}%<br>'+\n",
    "                                f'N: {sum(subset_regional_data(\"ni\"))}'+\n",
    "                                '<extra></extra>',\n",
    "                  error_x=dict(type='data',\n",
    "                    arrayminus=[round( metastudy[m]['pred_reg'][region] - metastudy[m][\"cilb_reg\"][region], 2 )],\n",
    "                    array=[round( metastudy[m][\"ciub_reg\"][region] - metastudy[m]['pred_reg'][region], 2)]\n",
    "                )\n",
    "              ),\n",
    "              row=row, col=col\n",
    "          )\n",
    "\n",
    "          #Add individual studies for the region\n",
    "          fig3.add_trace(go.Scatter(\n",
    "                x=subset_regional_data('yi'),\n",
    "                y=subset_regional_data('slab'),\n",
    "                text=subset_regional_data('ni'),\n",
    "                customdata=np.transpose([[\n",
    "                        #95% CI lower bound\n",
    "                        binomtest(k=int(round(k_n*n)), n=n).proportion_ci().low for k_n,n in zip(\n",
    "                            subset_regional_data('yi'),\n",
    "                            subset_regional_data('ni')\n",
    "                    )],\n",
    "                        #95% CI upper bound\n",
    "                    [   binomtest(k=int(round(k_n*n)), n=n).proportion_ci().high for k_n,n in zip(\n",
    "                            subset_regional_data('yi'),\n",
    "                            subset_regional_data('ni')\n",
    "                    )],\n",
    "                        #Region\n",
    "                        subset_regional_data('region'),\n",
    "\n",
    "                        #Country\n",
    "                        subset_regional_data('country')\n",
    "                ]),\n",
    "                mode='markers',\n",
    "                marker = dict(color=color_dict[m]),\n",
    "                marker_symbol='square',\n",
    "                marker_size=2*np.power(subset_regional_data('ni'), 1/4),\n",
    "                hovertemplate='<b>%{y}</b><br>'+\n",
    "                              'Proportion [95% CI]: <b>%{x:.2f}</b> [%{customdata[0]:.2f}; %{customdata[1]:.2f}]<br>'+\n",
    "                              'Country: %{customdata[3]}<br>'+\n",
    "                              'Region: %{customdata[2]}<br>'+\n",
    "                              'N: %{text}<br>'+\n",
    "                              '<extra></extra>',\n",
    "                error_x=dict(type='data',\n",
    "                    arrayminus=[ (k_n - binomtest(k=int(round(k_n*n)), n=n).proportion_ci().low) for k_n, n in zip(subset_regional_data('yi'), subset_regional_data('ni')) ],\n",
    "                    array=[ (binomtest(k=int(round(k_n*n)), n=n).proportion_ci().high - k_n) for k_n, n in zip(subset_regional_data('yi'), subset_regional_data('ni')) ]\n",
    "                )\n",
    "              ),\n",
    "              row=row, col=col\n",
    "          )\n",
    "\n",
    "    except Exception as err:\n",
    "        if m != '': print(f\"Error processing {m}: {err}. Skipping to next measure...\\nrow: {row}, col: {col}\")\n",
    "        # fig3.add_trace(go.Scatter(), row=row, col=col)\n",
    "\n",
    "    finally:\n",
    "        #Update row and column indices\n",
    "        if col == 4:\n",
    "            col = 1\n",
    "            row += 1\n",
    "        else:\n",
    "            col += 1\n",
    "        continue\n",
    "\n",
    "\n",
    "#Define titles for each row\n",
    "row_titles = [['Failure rate', '', '', ''],\n",
    "              ['Complication rate', '', '', ''],\n",
    "              ['Intraoperative mortality', '', '', ''],\n",
    "              ['Perioperative mortality', '', '', '']]\n",
    "\n",
    "#Update layout\n",
    "fig3.update_layout(\n",
    "    title=dict(text='<b>Surgical outcomes by treatment</b>'),\n",
    "    font_family=\"Arial\",\n",
    "    font_color=\"black\",\n",
    "    title_font_family=\"Arial\",\n",
    "    title_font_color=\"black\",\n",
    "    plot_bgcolor='white',\n",
    "    width=1400,\n",
    "    height=1900,\n",
    "    showlegend=False\n",
    ")\n",
    "\n",
    "#Add titles on y-axis\n",
    "for row in range(1, 5):\n",
    "    for col in range(1, 5):\n",
    "        title = row_titles[row-1][col-1]\n",
    "        fig3.update_xaxes(range=[0,1], showline=True, linecolor='black', mirror=True, ticks=\"outside\", tickcolor='black', row=row, col=col)\n",
    "        fig3.update_yaxes(title_text=title, ticksuffix = \"  \", showline=True, linecolor='black', mirror=True, row=row, col=col)\n",
    "\n",
    "#Config plot resolution\n",
    "config = {\n",
    "  'toImageButtonOptions': {\n",
    "    'format': 'png', # one of png, svg, jpeg, webp\n",
    "    'filename': 'fig3',\n",
    "    'scale':6 # Multiply title/legend/axis/canvas sizes by this factor\n",
    "  }\n",
    "}\n",
    "\n",
    "#Show plot\n",
    "fig3.show(config=config)\n",
    "\n",
    "#TODO:\n",
    "# - Need to cross check accuracy of every data point with the original sheet (value, study, year, income level)\n",
    "# - Need to cross check accuracy of plot aesthetics (yaxis title, subplot title, colour) - has the right thing been plotted in the right place?"
   ]
  },
  {
   "cell_type": "code",
   "execution_count": 37,
   "metadata": {
    "colab": {
     "base_uri": "https://localhost:8080/"
    },
    "id": "NPjJNAB4XdfU",
    "outputId": "0d81204d-d993-4e03-b2b3-f501a2b579cd"
   },
   "outputs": [
    {
     "name": "stdout",
     "output_type": "stream",
     "text": [
      "Egger's test (P values)\n",
      "\n",
      "Failure_rate_conservative: 0.58\n",
      "Failure_rate_VPS: 0.34\n",
      "Failure_rate_ETV: 0.19\n",
      "Complication_rate_1st_line_conservative: nan\n",
      "Complication_rate_1st_line_VPS: 0.005\n",
      "\tyi: [0.1022727273, 0.04411764706, 0.1304347826, 0.2267002519, 0.1666666667, 0.327272727, 0.1597222222, 0.3103448276, 0.1470588235, 0.587933, 0.1333333333, 4.999950000499995e-06, 0.2857142857, 0.4, 0.25, 0.2, 0.7777777778, 3.3333111112592582e-06, 0.2]\n",
      "\tyitf: [0.1022727273, 0.04411764706, 0.1304347826, 0.2267002519, 0.1666666667, 0.327272727, 0.1597222222, 0.3103448276, 0.1470588235, 0.587933, 0.1333333333, 4.999950000499995e-06, 0.2857142857, 0.4, 0.25, 0.2, 0.7777777778, 3.3333111112592582e-06, 0.2]\n",
      "\n",
      "\tvi: [0.01311614522151712, 0.0006201658864395482, 0.0016437905809868222, 0.00022078998449430296, 0.006944444445555556, 0.004003005257490608, 0.000932021068996485, 0.007380376399376767, 0.0007378383878282108, 0.0003109984435314506, 0.0015407407404148148, 2.4999375011249826e-06, 0.029154518949562686, 0.001243523316062176, 0.005859375, 0.03200000000000001, 0.006401463191129401, 1.1110925928148125e-06, 0.16000000000000003]\n",
      "\tvitf: [0.01311614522151712, 0.0006201658864395482, 0.0016437905809868222, 0.00022078998449430296, 0.006944444445555556, 0.004003005257490608, 0.000932021068996485, 0.007380376399376767, 0.0007378383878282108, 0.0003109984435314506, 0.0015407407404148148, 2.4999375011249826e-06, 0.029154518949562686, 0.001243523316062176, 0.005859375, 0.03200000000000001, 0.006401463191129401, 1.1110925928148125e-06, 0.16000000000000003]\n",
      "\n",
      "\tfill:  [1] FALSE FALSE FALSE FALSE FALSE FALSE FALSE FALSE FALSE FALSE FALSE FALSE\n",
      "[13] FALSE FALSE FALSE FALSE FALSE FALSE FALSE\n",
      "\n",
      "Complication_rate_1st_line_ETV: 0.13\n",
      "Mortality_intraop_1st_line_VPS: 0.23\n",
      "Mortality_periop_1st_line_VPS: 0.14\n",
      "Mortality_periop_1st_line_ETV: nan\n",
      "Mortality_periop_1st_line_ETV_CPC: nan\n"
     ]
    }
   ],
   "source": [
    "# Print Egger's test results (P values) and associated information\n",
    "\n",
    "print('Egger\\'s test (P values)\\n')\n",
    "for m in l:\n",
    "  try:\n",
    "    # Check if the p-value for the current measure is less than or equal to 0.05\n",
    "    if metastudy[m]['pval']<=0.05:\n",
    "        print(f\"{m}: {round(metastudy[m]['pval'],3)}\")\n",
    "        print(f\"\\tyi: {metastudy[m]['yi']}\")\n",
    "        print(f\"\\tyitf: {metastudy[m]['yitf']}\")\n",
    "        print()\n",
    "        print(f\"\\tvi: {metastudy[m]['vi']}\")\n",
    "        print(f\"\\tvitf: {metastudy[m]['vitf']}\")\n",
    "        print()\n",
    "        print(f\"\\tfill: {metastudy[m]['fill']}\")\n",
    "\n",
    "    else: print(f\"{m}: {round(metastudy[m]['pval'],2)}\")\n",
    "  except: pass"
   ]
  },
  {
   "cell_type": "markdown",
   "metadata": {
    "id": "0HIVGLIoxfqR"
   },
   "source": [
    "### **Supplemental Figure 3. Proportion meta-analysis by treatment and income level.**"
   ]
  },
  {
   "cell_type": "markdown",
   "metadata": {},
   "source": [
    "This supplemental figure offers insights into the meta-analysis of treatment proportions, specifically based on income levels."
   ]
  },
  {
   "cell_type": "code",
   "execution_count": 23,
   "metadata": {
    "id": "2wa9bXzZNFEU"
   },
   "outputs": [
    {
     "data": {
      "text/html": [
       "<div>\n",
       "<style scoped>\n",
       "    .dataframe tbody tr th:only-of-type {\n",
       "        vertical-align: middle;\n",
       "    }\n",
       "\n",
       "    .dataframe tbody tr th {\n",
       "        vertical-align: top;\n",
       "    }\n",
       "\n",
       "    .dataframe thead th {\n",
       "        text-align: right;\n",
       "    }\n",
       "</style>\n",
       "<table border=\"1\" class=\"dataframe\">\n",
       "  <thead>\n",
       "    <tr style=\"text-align: right;\">\n",
       "      <th></th>\n",
       "      <th>IID</th>\n",
       "      <th>Study</th>\n",
       "      <th>URL</th>\n",
       "      <th>Outcome</th>\n",
       "      <th>Rate</th>\n",
       "      <th>Year_of_publication</th>\n",
       "      <th>Income_group</th>\n",
       "      <th>Region</th>\n",
       "      <th>Country</th>\n",
       "      <th>Study_design</th>\n",
       "      <th>...</th>\n",
       "      <th>N_female</th>\n",
       "      <th>N_male</th>\n",
       "      <th>Age_mean</th>\n",
       "      <th>Age_median</th>\n",
       "      <th>Age_sd</th>\n",
       "      <th>Age_range</th>\n",
       "      <th>Years_of_data_collection</th>\n",
       "      <th>Publication_language</th>\n",
       "      <th>Treatment</th>\n",
       "      <th>N_subgroups</th>\n",
       "    </tr>\n",
       "  </thead>\n",
       "  <tbody>\n",
       "    <tr>\n",
       "      <th>0</th>\n",
       "      <td>ID 4</td>\n",
       "      <td>Sacar et al., 2006</td>\n",
       "      <td>&lt;a style='color:inherit' href='https://doi.org...</td>\n",
       "      <td>Mortality_intraop_1st_line</td>\n",
       "      <td>0.0</td>\n",
       "      <td>2006</td>\n",
       "      <td>Upper middle income</td>\n",
       "      <td>Europe &amp; Central Asia</td>\n",
       "      <td>Turkey</td>\n",
       "      <td>Retrospective study (unspecified)</td>\n",
       "      <td>...</td>\n",
       "      <td>3.0</td>\n",
       "      <td>4.0</td>\n",
       "      <td>45.56</td>\n",
       "      <td>NaN</td>\n",
       "      <td>NaN</td>\n",
       "      <td>NaN</td>\n",
       "      <td>2000-2004</td>\n",
       "      <td>English</td>\n",
       "      <td>VPS</td>\n",
       "      <td>7</td>\n",
       "    </tr>\n",
       "    <tr>\n",
       "      <th>1</th>\n",
       "      <td>ID 5</td>\n",
       "      <td>Clemmensen et al., 2010</td>\n",
       "      <td>&lt;a style='color:inherit' href='https://doi.org...</td>\n",
       "      <td>Mortality_intraop_1st_line</td>\n",
       "      <td>0.0</td>\n",
       "      <td>2010</td>\n",
       "      <td>High income</td>\n",
       "      <td>Europe &amp; Central Asia</td>\n",
       "      <td>Denmark</td>\n",
       "      <td>Retrospective study (unspecified)</td>\n",
       "      <td>...</td>\n",
       "      <td>NaN</td>\n",
       "      <td>NaN</td>\n",
       "      <td>NaN</td>\n",
       "      <td>NaN</td>\n",
       "      <td>NaN</td>\n",
       "      <td>NaN</td>\n",
       "      <td>1983-2007</td>\n",
       "      <td>English</td>\n",
       "      <td>VPS</td>\n",
       "      <td>59</td>\n",
       "    </tr>\n",
       "    <tr>\n",
       "      <th>2</th>\n",
       "      <td>ID 6</td>\n",
       "      <td>Sandquist et al., 2003</td>\n",
       "      <td>&lt;a style='color:inherit' href='https://doi.org...</td>\n",
       "      <td>Mortality_intraop_1st_line</td>\n",
       "      <td>0.0</td>\n",
       "      <td>2003</td>\n",
       "      <td>High income</td>\n",
       "      <td>North America</td>\n",
       "      <td>United States</td>\n",
       "      <td>Prospective study (unspecified)</td>\n",
       "      <td>...</td>\n",
       "      <td>NaN</td>\n",
       "      <td>NaN</td>\n",
       "      <td>NaN</td>\n",
       "      <td>NaN</td>\n",
       "      <td>NaN</td>\n",
       "      <td>NaN</td>\n",
       "      <td>NaN</td>\n",
       "      <td>English</td>\n",
       "      <td>VPS</td>\n",
       "      <td>5</td>\n",
       "    </tr>\n",
       "    <tr>\n",
       "      <th>3</th>\n",
       "      <td>ID 8</td>\n",
       "      <td>Bluestone et al., 1972</td>\n",
       "      <td>&lt;a style='color:inherit' href='https://doi.org...</td>\n",
       "      <td>Failure_rate</td>\n",
       "      <td>1.0</td>\n",
       "      <td>1972</td>\n",
       "      <td>High income</td>\n",
       "      <td>North America</td>\n",
       "      <td>United States</td>\n",
       "      <td>Retrospective study (unspecified)</td>\n",
       "      <td>...</td>\n",
       "      <td>10.0</td>\n",
       "      <td>2.0</td>\n",
       "      <td>NaN</td>\n",
       "      <td>NaN</td>\n",
       "      <td>NaN</td>\n",
       "      <td>NaN</td>\n",
       "      <td>1966-1971</td>\n",
       "      <td>English</td>\n",
       "      <td>VPS</td>\n",
       "      <td>1</td>\n",
       "    </tr>\n",
       "    <tr>\n",
       "      <th>4</th>\n",
       "      <td>ID 9</td>\n",
       "      <td>Díaz Llopis et al., 1993</td>\n",
       "      <td>&lt;a style='color:inherit' href='https://doi.org...</td>\n",
       "      <td>Complication_rate_1st_line</td>\n",
       "      <td>0.587933</td>\n",
       "      <td>1993</td>\n",
       "      <td>High income</td>\n",
       "      <td>Europe &amp; Central Asia</td>\n",
       "      <td>Spain</td>\n",
       "      <td>Retrospective study (unspecified)</td>\n",
       "      <td>...</td>\n",
       "      <td>NaN</td>\n",
       "      <td>NaN</td>\n",
       "      <td>NaN</td>\n",
       "      <td>NaN</td>\n",
       "      <td>NaN</td>\n",
       "      <td>NaN</td>\n",
       "      <td>1986-1988</td>\n",
       "      <td>English</td>\n",
       "      <td>VPS</td>\n",
       "      <td>779</td>\n",
       "    </tr>\n",
       "    <tr>\n",
       "      <th>...</th>\n",
       "      <td>...</td>\n",
       "      <td>...</td>\n",
       "      <td>...</td>\n",
       "      <td>...</td>\n",
       "      <td>...</td>\n",
       "      <td>...</td>\n",
       "      <td>...</td>\n",
       "      <td>...</td>\n",
       "      <td>...</td>\n",
       "      <td>...</td>\n",
       "      <td>...</td>\n",
       "      <td>...</td>\n",
       "      <td>...</td>\n",
       "      <td>...</td>\n",
       "      <td>...</td>\n",
       "      <td>...</td>\n",
       "      <td>...</td>\n",
       "      <td>...</td>\n",
       "      <td>...</td>\n",
       "      <td>...</td>\n",
       "      <td>...</td>\n",
       "    </tr>\n",
       "    <tr>\n",
       "      <th>76</th>\n",
       "      <td>ID 166</td>\n",
       "      <td>Alcocer Maldonado et al., 2017</td>\n",
       "      <td>&lt;a style='color:inherit' href='https://www.sci...</td>\n",
       "      <td>Mortality_intraop_1st_line</td>\n",
       "      <td>0.0</td>\n",
       "      <td>2017</td>\n",
       "      <td>Upper middle income</td>\n",
       "      <td>Latin America &amp; Caribbean</td>\n",
       "      <td>Mexico</td>\n",
       "      <td>Retrospective study (unspecified)</td>\n",
       "      <td>...</td>\n",
       "      <td>26.0</td>\n",
       "      <td>21.0</td>\n",
       "      <td>5.00</td>\n",
       "      <td>NaN</td>\n",
       "      <td>6.0</td>\n",
       "      <td>NaN</td>\n",
       "      <td>2011-2014</td>\n",
       "      <td>Spanish</td>\n",
       "      <td>VPS</td>\n",
       "      <td>47</td>\n",
       "    </tr>\n",
       "    <tr>\n",
       "      <th>77</th>\n",
       "      <td>ID 172</td>\n",
       "      <td>Ojo et al., 2015</td>\n",
       "      <td>&lt;a style='color:inherit' href='https://www.ajo...</td>\n",
       "      <td>Failure_rate</td>\n",
       "      <td>0.0</td>\n",
       "      <td>2015</td>\n",
       "      <td>Lower middle income</td>\n",
       "      <td>Sub-Saharan Africa</td>\n",
       "      <td>Nigeria</td>\n",
       "      <td>Prospective study (unspecified)</td>\n",
       "      <td>...</td>\n",
       "      <td>NaN</td>\n",
       "      <td>NaN</td>\n",
       "      <td>NaN</td>\n",
       "      <td>NaN</td>\n",
       "      <td>NaN</td>\n",
       "      <td>NaN</td>\n",
       "      <td>2009-2011</td>\n",
       "      <td>English</td>\n",
       "      <td>ETV</td>\n",
       "      <td>9</td>\n",
       "    </tr>\n",
       "    <tr>\n",
       "      <th>78</th>\n",
       "      <td>ID 172</td>\n",
       "      <td>Ojo et al., 2015</td>\n",
       "      <td>&lt;a style='color:inherit' href='https://www.ajo...</td>\n",
       "      <td>Mortality_intraop_1st_line</td>\n",
       "      <td>0.0</td>\n",
       "      <td>2015</td>\n",
       "      <td>Lower middle income</td>\n",
       "      <td>Sub-Saharan Africa</td>\n",
       "      <td>Nigeria</td>\n",
       "      <td>Prospective study (unspecified)</td>\n",
       "      <td>...</td>\n",
       "      <td>NaN</td>\n",
       "      <td>NaN</td>\n",
       "      <td>NaN</td>\n",
       "      <td>NaN</td>\n",
       "      <td>NaN</td>\n",
       "      <td>NaN</td>\n",
       "      <td>2009-2011</td>\n",
       "      <td>English</td>\n",
       "      <td>ETV</td>\n",
       "      <td>9</td>\n",
       "    </tr>\n",
       "    <tr>\n",
       "      <th>79</th>\n",
       "      <td>ID 172</td>\n",
       "      <td>Ojo et al., 2015</td>\n",
       "      <td>&lt;a style='color:inherit' href='https://www.ajo...</td>\n",
       "      <td>Mortality_periop_1st_line</td>\n",
       "      <td>0.0</td>\n",
       "      <td>2015</td>\n",
       "      <td>Lower middle income</td>\n",
       "      <td>Sub-Saharan Africa</td>\n",
       "      <td>Nigeria</td>\n",
       "      <td>Prospective study (unspecified)</td>\n",
       "      <td>...</td>\n",
       "      <td>NaN</td>\n",
       "      <td>NaN</td>\n",
       "      <td>NaN</td>\n",
       "      <td>NaN</td>\n",
       "      <td>NaN</td>\n",
       "      <td>NaN</td>\n",
       "      <td>2009-2011</td>\n",
       "      <td>English</td>\n",
       "      <td>ETV</td>\n",
       "      <td>9</td>\n",
       "    </tr>\n",
       "    <tr>\n",
       "      <th>80</th>\n",
       "      <td>ID 172</td>\n",
       "      <td>Ojo et al., 2015</td>\n",
       "      <td>&lt;a style='color:inherit' href='https://www.ajo...</td>\n",
       "      <td>Complication_rate_1st_line</td>\n",
       "      <td>0.0</td>\n",
       "      <td>2015</td>\n",
       "      <td>Lower middle income</td>\n",
       "      <td>Sub-Saharan Africa</td>\n",
       "      <td>Nigeria</td>\n",
       "      <td>Prospective study (unspecified)</td>\n",
       "      <td>...</td>\n",
       "      <td>NaN</td>\n",
       "      <td>NaN</td>\n",
       "      <td>NaN</td>\n",
       "      <td>NaN</td>\n",
       "      <td>NaN</td>\n",
       "      <td>NaN</td>\n",
       "      <td>2009-2011</td>\n",
       "      <td>English</td>\n",
       "      <td>ETV</td>\n",
       "      <td>9</td>\n",
       "    </tr>\n",
       "  </tbody>\n",
       "</table>\n",
       "<p>81 rows × 22 columns</p>\n",
       "</div>"
      ],
      "text/plain": [
       "       IID                           Study  \\\n",
       "0     ID 4              Sacar et al., 2006   \n",
       "1     ID 5         Clemmensen et al., 2010   \n",
       "2     ID 6          Sandquist et al., 2003   \n",
       "3     ID 8          Bluestone et al., 1972   \n",
       "4     ID 9        Díaz Llopis et al., 1993   \n",
       "..     ...                             ...   \n",
       "76  ID 166  Alcocer Maldonado et al., 2017   \n",
       "77  ID 172                Ojo et al., 2015   \n",
       "78  ID 172                Ojo et al., 2015   \n",
       "79  ID 172                Ojo et al., 2015   \n",
       "80  ID 172                Ojo et al., 2015   \n",
       "\n",
       "                                                  URL  \\\n",
       "0   <a style='color:inherit' href='https://doi.org...   \n",
       "1   <a style='color:inherit' href='https://doi.org...   \n",
       "2   <a style='color:inherit' href='https://doi.org...   \n",
       "3   <a style='color:inherit' href='https://doi.org...   \n",
       "4   <a style='color:inherit' href='https://doi.org...   \n",
       "..                                                ...   \n",
       "76  <a style='color:inherit' href='https://www.sci...   \n",
       "77  <a style='color:inherit' href='https://www.ajo...   \n",
       "78  <a style='color:inherit' href='https://www.ajo...   \n",
       "79  <a style='color:inherit' href='https://www.ajo...   \n",
       "80  <a style='color:inherit' href='https://www.ajo...   \n",
       "\n",
       "                       Outcome      Rate  Year_of_publication  \\\n",
       "0   Mortality_intraop_1st_line       0.0                 2006   \n",
       "1   Mortality_intraop_1st_line       0.0                 2010   \n",
       "2   Mortality_intraop_1st_line       0.0                 2003   \n",
       "3                 Failure_rate       1.0                 1972   \n",
       "4   Complication_rate_1st_line  0.587933                 1993   \n",
       "..                         ...       ...                  ...   \n",
       "76  Mortality_intraop_1st_line       0.0                 2017   \n",
       "77                Failure_rate       0.0                 2015   \n",
       "78  Mortality_intraop_1st_line       0.0                 2015   \n",
       "79   Mortality_periop_1st_line       0.0                 2015   \n",
       "80  Complication_rate_1st_line       0.0                 2015   \n",
       "\n",
       "           Income_group                     Region        Country  \\\n",
       "0   Upper middle income      Europe & Central Asia         Turkey   \n",
       "1           High income      Europe & Central Asia        Denmark   \n",
       "2           High income              North America  United States   \n",
       "3           High income              North America  United States   \n",
       "4           High income      Europe & Central Asia          Spain   \n",
       "..                  ...                        ...            ...   \n",
       "76  Upper middle income  Latin America & Caribbean         Mexico   \n",
       "77  Lower middle income         Sub-Saharan Africa        Nigeria   \n",
       "78  Lower middle income         Sub-Saharan Africa        Nigeria   \n",
       "79  Lower middle income         Sub-Saharan Africa        Nigeria   \n",
       "80  Lower middle income         Sub-Saharan Africa        Nigeria   \n",
       "\n",
       "                         Study_design  ... N_female  N_male  Age_mean  \\\n",
       "0   Retrospective study (unspecified)  ...      3.0     4.0     45.56   \n",
       "1   Retrospective study (unspecified)  ...      NaN     NaN       NaN   \n",
       "2     Prospective study (unspecified)  ...      NaN     NaN       NaN   \n",
       "3   Retrospective study (unspecified)  ...     10.0     2.0       NaN   \n",
       "4   Retrospective study (unspecified)  ...      NaN     NaN       NaN   \n",
       "..                                ...  ...      ...     ...       ...   \n",
       "76  Retrospective study (unspecified)  ...     26.0    21.0      5.00   \n",
       "77    Prospective study (unspecified)  ...      NaN     NaN       NaN   \n",
       "78    Prospective study (unspecified)  ...      NaN     NaN       NaN   \n",
       "79    Prospective study (unspecified)  ...      NaN     NaN       NaN   \n",
       "80    Prospective study (unspecified)  ...      NaN     NaN       NaN   \n",
       "\n",
       "    Age_median  Age_sd  Age_range  Years_of_data_collection  \\\n",
       "0          NaN     NaN        NaN                 2000-2004   \n",
       "1          NaN     NaN        NaN                 1983-2007   \n",
       "2          NaN     NaN        NaN                       NaN   \n",
       "3          NaN     NaN        NaN                 1966-1971   \n",
       "4          NaN     NaN        NaN                 1986-1988   \n",
       "..         ...     ...        ...                       ...   \n",
       "76         NaN     6.0        NaN                 2011-2014   \n",
       "77         NaN     NaN        NaN                 2009-2011   \n",
       "78         NaN     NaN        NaN                 2009-2011   \n",
       "79         NaN     NaN        NaN                 2009-2011   \n",
       "80         NaN     NaN        NaN                 2009-2011   \n",
       "\n",
       "   Publication_language Treatment N_subgroups  \n",
       "0               English       VPS           7  \n",
       "1               English       VPS          59  \n",
       "2               English       VPS           5  \n",
       "3               English       VPS           1  \n",
       "4               English       VPS         779  \n",
       "..                  ...       ...         ...  \n",
       "76              Spanish       VPS          47  \n",
       "77              English       ETV           9  \n",
       "78              English       ETV           9  \n",
       "79              English       ETV           9  \n",
       "80              English       ETV           9  \n",
       "\n",
       "[81 rows x 22 columns]"
      ]
     },
     "execution_count": 23,
     "metadata": {},
     "output_type": "execute_result"
    }
   ],
   "source": [
    "#TODO: Combine LIC & LMIC into LLMIC group due to insufficient LIC studies\n",
    "#      (Adapted from https://doi.org/10.1093/neuonc/noad019)\n",
    "df_forest"
   ]
  },
  {
   "cell_type": "code",
   "execution_count": 26,
   "metadata": {
    "id": "ZWs8qosbyCk9"
   },
   "outputs": [
    {
     "name": "stdout",
     "output_type": "stream",
     "text": [
      "Treatment 'conservative' contains no data for outcome 'Mortality_intraop_1st_line'\n",
      "Treatment 'ETV_to_VP' contains no data for outcome 'Mortality_intraop_1st_line'\n",
      "Treatment 'conservative' contains no data for outcome 'Mortality_periop_1st_line'\n",
      "\n",
      "{'Complication_rate_1st_line_ETV': {'I2': 78.8726921946477,\n",
      "                                    'I2_reg': {'High income': 0.0,\n",
      "                                               'Lower middle income': 0.0},\n",
      "                                    'cilb': 0.0,\n",
      "                                    'cilb_reg': {'High income': 0.06397347333858458,\n",
      "                                                 'Lower middle income': 0.0},\n",
      "                                    'ciub': 0.5464187957845617,\n",
      "                                    'ciub_reg': {'High income': 0.45340652192560726,\n",
      "                                                 'Lower middle income': 0.0006897703427044135},\n",
      "                                    'country': ['United States',\n",
      "                                                'France',\n",
      "                                                'Nigeria'],\n",
      "                                    'income': ['High income',\n",
      "                                               'High income',\n",
      "                                               'Lower middle income'],\n",
      "                                    'ni': [7, 20, 9],\n",
      "                                    'pred': 0.14478742279484969,\n",
      "                                    'pred_reg': {'High income': 0.25868999763209594,\n",
      "                                                 'Lower middle income': 1.1111086419807957e-06},\n",
      "                                    'slab': [\"<a style='color:inherit' \"\n",
      "                                             \"href='https://doi.org/10.1093/neuros/nyz302'>Flanders \"\n",
      "                                             'et al., 2019</a>',\n",
      "                                             \"<a style='color:inherit' \"\n",
      "                                             \"href='https://doi.org/10.1016/j.wneu.2015.07.071'>Beuriat \"\n",
      "                                             'et al., 2016</a>',\n",
      "                                             \"<a style='color:inherit' \"\n",
      "                                             \"href='https://www.ajol.info/index.php/njcp/article/view/114862/104498'>Ojo \"\n",
      "                                             'et al., 2015</a>'],\n",
      "                                    'vi': [0.029154518949562686,\n",
      "                                           0.009375,\n",
      "                                           1.2345610425514406e-07],\n",
      "                                    'yi': [0.2857142857,\n",
      "                                           0.25,\n",
      "                                           1.1111086419807957e-06]},\n",
      " 'Complication_rate_1st_line_ETV_CPC': {'I2': 0.0,\n",
      "                                        'I2_reg': {'Low income': 0.0},\n",
      "                                        'cilb': 0.0,\n",
      "                                        'cilb_reg': {'Low income': 0.0},\n",
      "                                        'ciub': 0.0062077951779327505,\n",
      "                                        'ciub_reg': {'Low income': 0.0062077951779327505},\n",
      "                                        'country': ['Congo, Dem. Rep.'],\n",
      "                                        'income': ['Low income'],\n",
      "                                        'ni': [1],\n",
      "                                        'pred': 9.999800003999919e-06,\n",
      "                                        'pred_reg': {'Low income': 9.999800003999919e-06},\n",
      "                                        'slab': [\"<a style='color:inherit' \"\n",
      "                                                 \"href='https://doi.org/10.1007/s00383-018-4238-0'>Cairo \"\n",
      "                                                 'et al., 2018</a>'],\n",
      "                                        'vi': [9.999500017999438e-06],\n",
      "                                        'yi': [9.99980000399992e-06]},\n",
      " 'Complication_rate_1st_line_ETV_to_VP': {'I2': 0.0,\n",
      "                                          'I2_reg': {'High income': 0.0},\n",
      "                                          'cilb': 0.0,\n",
      "                                          'cilb_reg': {'High income': 0.0},\n",
      "                                          'ciub': 0.3064905747383051,\n",
      "                                          'ciub_reg': {'High income': 0.3064905747383051},\n",
      "                                          'country': ['France'],\n",
      "                                          'income': ['High income'],\n",
      "                                          'ni': [20],\n",
      "                                          'pred': 0.15,\n",
      "                                          'pred_reg': {'High income': 0.15},\n",
      "                                          'slab': [\"<a style='color:inherit' \"\n",
      "                                                   \"href='https://doi.org/10.1016/j.wneu.2015.07.071'>Beuriat \"\n",
      "                                                   'et al., 2016</a>'],\n",
      "                                          'vi': [0.0063750000000000005],\n",
      "                                          'yi': [0.15]},\n",
      " 'Complication_rate_1st_line_VPS': {'I2': 98.93826683584169,\n",
      "                                    'I2_reg': {'High income': 98.3448198050008,\n",
      "                                               'Low income': 0.0,\n",
      "                                               'Lower middle income': 82.65701360344919,\n",
      "                                               'Upper middle income': 91.92809074372008},\n",
      "                                    'cilb': 0.11173244699133693,\n",
      "                                    'cilb_reg': {'High income': 0.07333203759684487,\n",
      "                                                 'Low income': 0.0,\n",
      "                                                 'Lower middle income': 0.0,\n",
      "                                                 'Upper middle income': 0.1436473497454681},\n",
      "                                    'ciub': 0.3055500976947405,\n",
      "                                    'ciub_reg': {'High income': 0.37006932497030937,\n",
      "                                                 'Low income': 0.9839855938160216,\n",
      "                                                 'Lower middle income': 0.03226106837193616,\n",
      "                                                 'Upper middle income': 0.5243895327536047},\n",
      "                                    'country': ['United States',\n",
      "                                                'France',\n",
      "                                                'Italy',\n",
      "                                                'United States',\n",
      "                                                'Italy',\n",
      "                                                'United States',\n",
      "                                                'Spain',\n",
      "                                                'Korea, Rep.',\n",
      "                                                'Brazil',\n",
      "                                                'Turkey',\n",
      "                                                'Brazil',\n",
      "                                                'Brazil',\n",
      "                                                'Turkey',\n",
      "                                                'Turkey',\n",
      "                                                'Brazil',\n",
      "                                                'Pakistan',\n",
      "                                                'Iran, Islamic Rep.',\n",
      "                                                'India',\n",
      "                                                'Congo, Dem. Rep.'],\n",
      "                                    'income': ['High income',\n",
      "                                               'High income',\n",
      "                                               'High income',\n",
      "                                               'High income',\n",
      "                                               'High income',\n",
      "                                               'High income',\n",
      "                                               'High income',\n",
      "                                               'High income',\n",
      "                                               'Upper middle income',\n",
      "                                               'Upper middle income',\n",
      "                                               'Upper middle income',\n",
      "                                               'Upper middle income',\n",
      "                                               'Upper middle income',\n",
      "                                               'Upper middle income',\n",
      "                                               'Upper middle income',\n",
      "                                               'Lower middle income',\n",
      "                                               'Lower middle income',\n",
      "                                               'Lower middle income',\n",
      "                                               'Low income'],\n",
      "                                    'ni': [7,\n",
      "                                           20,\n",
      "                                           29,\n",
      "                                           68,\n",
      "                                           170,\n",
      "                                           69,\n",
      "                                           779,\n",
      "                                           7,\n",
      "                                           193,\n",
      "                                           794,\n",
      "                                           32,\n",
      "                                           5,\n",
      "                                           55,\n",
      "                                           144,\n",
      "                                           27,\n",
      "                                           75,\n",
      "                                           3,\n",
      "                                           2,\n",
      "                                           1],\n",
      "                                    'pred': 0.20864127234303873,\n",
      "                                    'pred_reg': {'High income': 0.22170068128357712,\n",
      "                                                 'Low income': 0.2,\n",
      "                                                 'Lower middle income': 0.0008104869185817878,\n",
      "                                                 'Upper middle income': 0.3340184412495364},\n",
      "                                    'slab': [\"<a style='color:inherit' \"\n",
      "                                             \"href='https://doi.org/10.1093/neuros/nyz302'>Flanders \"\n",
      "                                             'et al., 2019</a>',\n",
      "                                             \"<a style='color:inherit' \"\n",
      "                                             \"href='https://doi.org/10.1016/j.wneu.2015.07.071'>Beuriat \"\n",
      "                                             'et al., 2016</a>',\n",
      "                                             \"<a style='color:inherit' \"\n",
      "                                             \"href='https://doi.org/10.1007/s00381-002-0557-4'>Rendeli \"\n",
      "                                             'et al., 2002</a>',\n",
      "                                             \"<a style='color:inherit' \"\n",
      "                                             \"href='https://doi.org/10.1177/088307389601100504'>Miller \"\n",
      "                                             'et al., 1996</a>',\n",
      "                                             \"<a style='color:inherit' \"\n",
      "                                             \"href='https://doi.org/10.1007/bf00261592'>Caldarelli \"\n",
      "                                             'et al., 1996</a>',\n",
      "                                             \"<a style='color:inherit' \"\n",
      "                                             \"href='https://doi.org/10.1159/000120890'>Parent \"\n",
      "                                             'et al., 1995</a>',\n",
      "                                             \"<a style='color:inherit' \"\n",
      "                                             \"href='https://doi.org/10.1038/sc.1993.5'>Díaz \"\n",
      "                                             'Llopis et al., 1993</a>',\n",
      "                                             \"<a style='color:inherit' \"\n",
      "                                             \"href='https://www.jkns.or.kr/journal/view.php?number=5024'>Lee \"\n",
      "                                             'et al., 1992</a>',\n",
      "                                             \"<a style='color:inherit' \"\n",
      "                                             \"href='https://doi.org/10.3171/2019.7.focus19462'>Protzenko \"\n",
      "                                             'et al., 2019</a>',\n",
      "                                             \"<a style='color:inherit' \"\n",
      "                                             \"href='https://jpma.org.pk/article-details/8517?article_id=8517'>Arslan \"\n",
      "                                             'et al., 2018</a>',\n",
      "                                             \"<a style='color:inherit' \"\n",
      "                                             \"href='https://doi.org/10.1007/s00381-016-3012-7'>Rodrigues \"\n",
      "                                             'et al., 2016</a>',\n",
      "                                             \"<a style='color:inherit' \"\n",
      "                                             \"href='https://doi.org/10.1007/s00381-016-3237-5'>de \"\n",
      "                                             'Oliveira et al., 2016</a>',\n",
      "                                             \"<a style='color:inherit' \"\n",
      "                                             \"href='https://doi.org/10.1007/s00381-015-2701-y'>Demir \"\n",
      "                                             'et al., 2015</a>',\n",
      "                                             \"<a style='color:inherit' \"\n",
      "                                             \"href='https://doi.org/10.5137/1019-5149.jtn.4263-11.1'>Arslan \"\n",
      "                                             'et al., 2011</a>',\n",
      "                                             \"<a style='color:inherit' \"\n",
      "                                             \"href='https://doi.org/10.1590/s0004-282x2004000600006'>Ulsenheimer \"\n",
      "                                             'et al., 2004</a>',\n",
      "                                             \"<a style='color:inherit' \"\n",
      "                                             \"href='https://pubmed.ncbi.nlm.nih.gov/30632328/'>Khattak \"\n",
      "                                             'et al., 2018</a>',\n",
      "                                             \"<a style='color:inherit' \"\n",
      "                                             \"href='https://doi.org/10.3171/ped.2007.106.4.316'>Keshavarzi \"\n",
      "                                             'et al., 2007</a>',\n",
      "                                             \"<a style='color:inherit' \"\n",
      "                                             \"href='https://doi.org/10.1159/000095569'>Rath \"\n",
      "                                             'et al., 2006</a>',\n",
      "                                             \"<a style='color:inherit' \"\n",
      "                                             \"href='https://doi.org/10.1007/s00383-018-4238-0'>Cairo \"\n",
      "                                             'et al., 2018</a>'],\n",
      "                                    'vi': [0.01311614522151712,\n",
      "                                           0.006944444445555556,\n",
      "                                           0.007380376399376767,\n",
      "                                           0.0006201658864395482,\n",
      "                                           0.0007378383878282108,\n",
      "                                           0.0016437905809868222,\n",
      "                                           0.0003109984435314506,\n",
      "                                           0.029154518949562686,\n",
      "                                           0.001243523316062176,\n",
      "                                           0.00022078998449430296,\n",
      "                                           0.005859375,\n",
      "                                           0.03200000000000001,\n",
      "                                           0.004003005257490608,\n",
      "                                           0.000932021068996485,\n",
      "                                           0.006401463191129401,\n",
      "                                           0.0015407407404148148,\n",
      "                                           1.1110925928148125e-06,\n",
      "                                           2.4999375011249826e-06,\n",
      "                                           0.16000000000000003],\n",
      "                                    'yi': [0.1022727273,\n",
      "                                           0.1666666667,\n",
      "                                           0.3103448276,\n",
      "                                           0.04411764706,\n",
      "                                           0.1470588235,\n",
      "                                           0.1304347826,\n",
      "                                           0.587933,\n",
      "                                           0.2857142857,\n",
      "                                           0.4,\n",
      "                                           0.2267002519,\n",
      "                                           0.25,\n",
      "                                           0.2,\n",
      "                                           0.327272727,\n",
      "                                           0.1597222222,\n",
      "                                           0.7777777778,\n",
      "                                           0.1333333333,\n",
      "                                           3.3333111112592582e-06,\n",
      "                                           4.999950000499995e-06,\n",
      "                                           0.2]},\n",
      " 'Complication_rate_1st_line_conservative': {'I2': 92.59012035523178,\n",
      "                                             'I2_reg': {'High income': 0.0,\n",
      "                                                        'Upper middle income': 0.0},\n",
      "                                             'cilb': 0.0,\n",
      "                                             'cilb_reg': {'High income': 0.0,\n",
      "                                                          'Upper middle income': 0.1555217897357301},\n",
      "                                             'ciub': 1.0,\n",
      "                                             'ciub_reg': {'High income': 0.0031039363747889454,\n",
      "                                                          'Upper middle income': 0.5111448768642699},\n",
      "                                             'country': ['Netherlands',\n",
      "                                                         'Brazil'],\n",
      "                                             'income': ['High income',\n",
      "                                                        'Upper middle income'],\n",
      "                                             'ni': [2, 27],\n",
      "                                             'pred': 0.1543270523884256,\n",
      "                                             'pred_reg': {'High income': 4.999950000499995e-06,\n",
      "                                                          'Upper middle income': 0.3333333333},\n",
      "                                             'slab': ['<a '\n",
      "                                                      \"style='color:inherit' \"\n",
      "                                                      \"href='https://doi.org/10.3171/2019.7.FOCUS19447'>Spoor \"\n",
      "                                                      'et al., 2019</a>',\n",
      "                                                      '<a '\n",
      "                                                      \"style='color:inherit' \"\n",
      "                                                      \"href='https://doi.org/10.1590/s0004-282x2004000600006'>Ulsenheimer \"\n",
      "                                                      'et al., 2004</a>'],\n",
      "                                             'vi': [2.4999375011249826e-06,\n",
      "                                                    0.008230452674485597],\n",
      "                                             'yi': [4.999950000499995e-06,\n",
      "                                                    0.3333333333]},\n",
      " 'Failure_rate_ETV': {'I2': 98.34704475543168,\n",
      "                      'I2_reg': {'High income': 0.0,\n",
      "                                 'Lower middle income': 0.0,\n",
      "                                 'Upper middle income': 0.0},\n",
      "                      'cilb': 0.1251791031596432,\n",
      "                      'cilb_reg': {'High income': 0.11647152851411402,\n",
      "                                   'Lower middle income': 0.0,\n",
      "                                   'Upper middle income': 0.5107245073365475},\n",
      "                      'ciub': 0.6213365405266833,\n",
      "                      'ciub_reg': {'High income': 0.5846900342982383,\n",
      "                                   'Lower middle income': 0.0006897703427044135,\n",
      "                                   'Upper middle income': 0.6873053525988079},\n",
      "                      'country': ['Netherlands',\n",
      "                                  'United States',\n",
      "                                  'Italy',\n",
      "                                  'Brazil',\n",
      "                                  'Brazil',\n",
      "                                  'Nigeria'],\n",
      "                      'income': ['High income',\n",
      "                                 'High income',\n",
      "                                 'High income',\n",
      "                                 'Upper middle income',\n",
      "                                 'Upper middle income',\n",
      "                                 'Lower middle income'],\n",
      "                      'ni': [2, 7, 5, 193, 4, 9],\n",
      "                      'pred': 0.37325782184316325,\n",
      "                      'pred_reg': {'High income': 0.35058078140617616,\n",
      "                                   'Lower middle income': 1.1111086419807957e-06,\n",
      "                                   'Upper middle income': 0.5990149299676777},\n",
      "                      'slab': [\"<a style='color:inherit' \"\n",
      "                               \"href='https://doi.org/10.3171/2019.7.FOCUS19447'>Spoor \"\n",
      "                               'et al., 2019</a>',\n",
      "                               \"<a style='color:inherit' \"\n",
      "                               \"href='https://doi.org/10.1093/neuros/nyz302'>Flanders \"\n",
      "                               'et al., 2019</a>',\n",
      "                               \"<a style='color:inherit' \"\n",
      "                               \"href='https://doi.org/10.1055/s-0029-1202282'>Faggin \"\n",
      "                               'et al., 2009</a>',\n",
      "                               \"<a style='color:inherit' \"\n",
      "                               \"href='https://doi.org/10.3171/2019.7.focus19462'>Protzenko \"\n",
      "                               'et al., 2019</a>',\n",
      "                               \"<a style='color:inherit' \"\n",
      "                               \"href='https://doi.org/10.1590/0004-282x20150169'>Oliveira \"\n",
      "                               'et al., 2015</a>',\n",
      "                               \"<a style='color:inherit' \"\n",
      "                               \"href='https://www.ajol.info/index.php/njcp/article/view/114862/104498'>Ojo \"\n",
      "                               'et al., 2015</a>'],\n",
      "                      'vi': [0.125,\n",
      "                             0.029154518949562686,\n",
      "                             0.048,\n",
      "                             0.001243523316062176,\n",
      "                             0.061875,\n",
      "                             1.2345610425514406e-07],\n",
      "                      'yi': [0.5,\n",
      "                             0.2857142857,\n",
      "                             0.4,\n",
      "                             0.6,\n",
      "                             0.55,\n",
      "                             1.1111086419807957e-06]},\n",
      " 'Failure_rate_ETV_CPC': {'I2': 0.0,\n",
      "                          'I2_reg': {'High income': 0.0},\n",
      "                          'cilb': 0.08420369854728185,\n",
      "                          'cilb_reg': {'High income': 0.08420369854728185},\n",
      "                          'ciub': 0.4782963014527183,\n",
      "                          'ciub_reg': {'High income': 0.4782963014527183},\n",
      "                          'country': ['France'],\n",
      "                          'income': ['High income'],\n",
      "                          'ni': [20],\n",
      "                          'pred': 0.28125000000000006,\n",
      "                          'pred_reg': {'High income': 0.28125000000000006},\n",
      "                          'slab': [\"<a style='color:inherit' \"\n",
      "                                   \"href='https://doi.org/10.1016/j.wneu.2015.07.071'>Beuriat \"\n",
      "                                   'et al., 2016</a>'],\n",
      "                          'vi': [0.010107421875],\n",
      "                          'yi': [0.28125]},\n",
      " 'Failure_rate_ETV_to_VP': {'I2': 90.71364285548042,\n",
      "                            'I2_reg': {'High income': 0.0,\n",
      "                                       'Upper middle income': 0.0},\n",
      "                            'cilb': 0.0,\n",
      "                            'cilb_reg': {'High income': 0.14096269690460592,\n",
      "                                         'Upper middle income': 0.0},\n",
      "                            'ciub': 1.0,\n",
      "                            'ciub_reg': {'High income': 0.5590373030953941,\n",
      "                                         'Upper middle income': 0.0015519778840209816},\n",
      "                            'country': ['France', 'Brazil'],\n",
      "                            'income': ['High income', 'Upper middle income'],\n",
      "                            'ni': [20, 4],\n",
      "                            'pred': 0.15875202677442296,\n",
      "                            'pred_reg': {'High income': 0.35000000000000003,\n",
      "                                         'Upper middle income': 2.4999875000624998e-06},\n",
      "                            'slab': [\"<a style='color:inherit' \"\n",
      "                                     \"href='https://doi.org/10.1016/j.wneu.2015.07.071'>Beuriat \"\n",
      "                                     'et al., 2016</a>',\n",
      "                                     \"<a style='color:inherit' \"\n",
      "                                     \"href='https://doi.org/10.1590/0004-282x20150169'>Oliveira \"\n",
      "                                     'et al., 2015</a>'],\n",
      "                            'vi': [0.011375, 6.249921875703122e-07],\n",
      "                            'yi': [0.35, 2.4999875000625e-06]},\n",
      " 'Failure_rate_VPS': {'I2': 99.9841985900077,\n",
      "                      'I2_reg': {'High income': 98.98024162959194,\n",
      "                                 'Upper middle income': 98.12157350567787},\n",
      "                      'cilb': 0.2594489776913524,\n",
      "                      'cilb_reg': {'High income': 0.29686258521709363,\n",
      "                                   'Upper middle income': 0.0},\n",
      "                      'ciub': 0.5662114412747277,\n",
      "                      'ciub_reg': {'High income': 0.7049618238503987,\n",
      "                                   'Upper middle income': 0.5245712118010475},\n",
      "                      'country': ['Netherlands',\n",
      "                                  'United States',\n",
      "                                  'Germany',\n",
      "                                  'France',\n",
      "                                  'Netherlands',\n",
      "                                  'Italy',\n",
      "                                  'United States',\n",
      "                                  'Italy',\n",
      "                                  'Canada',\n",
      "                                  'United States',\n",
      "                                  'Brazil',\n",
      "                                  'Brazil',\n",
      "                                  'Brazil',\n",
      "                                  'Turkey',\n",
      "                                  'Brazil',\n",
      "                                  'Brazil'],\n",
      "                      'income': ['High income',\n",
      "                                 'High income',\n",
      "                                 'High income',\n",
      "                                 'High income',\n",
      "                                 'High income',\n",
      "                                 'High income',\n",
      "                                 'High income',\n",
      "                                 'High income',\n",
      "                                 'High income',\n",
      "                                 'High income',\n",
      "                                 'Upper middle income',\n",
      "                                 'Upper middle income',\n",
      "                                 'Upper middle income',\n",
      "                                 'Upper middle income',\n",
      "                                 'Upper middle income',\n",
      "                                 'Upper middle income'],\n",
      "                      'ni': [2,\n",
      "                             7,\n",
      "                             39,\n",
      "                             20,\n",
      "                             8,\n",
      "                             29,\n",
      "                             68,\n",
      "                             170,\n",
      "                             85,\n",
      "                             1,\n",
      "                             193,\n",
      "                             32,\n",
      "                             4,\n",
      "                             144,\n",
      "                             30,\n",
      "                             27],\n",
      "                      'pred': 0.41283020948304006,\n",
      "                      'pred_reg': {'High income': 0.5009122045337462,\n",
      "                                   'Upper middle income': 0.2610792269702742},\n",
      "                      'slab': [\"<a style='color:inherit' \"\n",
      "                               \"href='https://doi.org/10.3171/2019.7.FOCUS19447'>Spoor \"\n",
      "                               'et al., 2019</a>',\n",
      "                               \"<a style='color:inherit' \"\n",
      "                               \"href='https://doi.org/10.1093/neuros/nyz302'>Flanders \"\n",
      "                               'et al., 2019</a>',\n",
      "                               \"<a style='color:inherit' \"\n",
      "                               \"href='https://doi.org/10.1007/s00381-018-3781-2'>Al-Hakim \"\n",
      "                               'et al., 2018</a>',\n",
      "                               \"<a style='color:inherit' \"\n",
      "                               \"href='https://doi.org/10.1016/j.wneu.2015.07.071'>Beuriat \"\n",
      "                               'et al., 2016</a>',\n",
      "                               \"<a style='color:inherit' \"\n",
      "                               \"href='https://doi.org/10.1007/s00381-012-1961-z'>Fani \"\n",
      "                               'et al., 2013</a>',\n",
      "                               \"<a style='color:inherit' \"\n",
      "                               \"href='https://doi.org/10.1007/s00381-002-0557-4'>Rendeli \"\n",
      "                               'et al., 2002</a>',\n",
      "                               \"<a style='color:inherit' \"\n",
      "                               \"href='https://doi.org/10.1177/088307389601100504'>Miller \"\n",
      "                               'et al., 1996</a>',\n",
      "                               \"<a style='color:inherit' \"\n",
      "                               \"href='https://doi.org/10.1007/bf00261592'>Caldarelli \"\n",
      "                               'et al., 1996</a>',\n",
      "                               \"<a style='color:inherit' \"\n",
      "                               \"href='https://doi.org/10.1007/bf00298448'>Steinbok \"\n",
      "                               'et al., 1992</a>',\n",
      "                               \"<a style='color:inherit' \"\n",
      "                               \"href='https://doi.org/10.1177/000348947208100604'>Bluestone \"\n",
      "                               'et al., 1972</a>',\n",
      "                               \"<a style='color:inherit' \"\n",
      "                               \"href='https://doi.org/10.3171/2019.7.focus19462'>Protzenko \"\n",
      "                               'et al., 2019</a>',\n",
      "                               \"<a style='color:inherit' \"\n",
      "                               \"href='https://doi.org/10.1007/s00381-016-3012-7'>Rodrigues \"\n",
      "                               'et al., 2016</a>',\n",
      "                               \"<a style='color:inherit' \"\n",
      "                               \"href='https://doi.org/10.1590/0004-282x20150169'>Oliveira \"\n",
      "                               'et al., 2015</a>',\n",
      "                               \"<a style='color:inherit' \"\n",
      "                               \"href='https://doi.org/10.5137/1019-5149.jtn.4263-11.1'>Arslan \"\n",
      "                               'et al., 2011</a>',\n",
      "                               \"<a style='color:inherit' \"\n",
      "                               \"href='https://doi.org/10.1159/000209285'>Pinto \"\n",
      "                               'et al., 2009</a>',\n",
      "                               \"<a style='color:inherit' \"\n",
      "                               \"href='https://doi.org/10.1590/s0004-282x2004000600006'>Ulsenheimer \"\n",
      "                               'et al., 2004</a>'],\n",
      "                      'vi': [0.09861212564598246,\n",
      "                             0.034533648170247934,\n",
      "                             0.006284615384615385,\n",
      "                             0.0125,\n",
      "                             0.02147371445330724,\n",
      "                             0.007380376399376767,\n",
      "                             0.001526562181701608,\n",
      "                             0.0014606146956995727,\n",
      "                             0.0014264197029285573,\n",
      "                             9.999500018045284e-06,\n",
      "                             0.0012911290034362086,\n",
      "                             0.005859375,\n",
      "                             6.249921875703122e-07,\n",
      "                             0.000932021068996485,\n",
      "                             0.00217,\n",
      "                             0.008230452674485597],\n",
      "                      'yi': [0.7297297297,\n",
      "                             0.4090909091,\n",
      "                             0.43,\n",
      "                             0.5,\n",
      "                             0.2203389831,\n",
      "                             0.3103448276,\n",
      "                             0.1176470588,\n",
      "                             0.45882352939999993,\n",
      "                             0.8588235294,\n",
      "                             0.999990000199996,\n",
      "                             0.47150259070000006,\n",
      "                             0.25,\n",
      "                             2.4999875000625e-06,\n",
      "                             0.1597222222,\n",
      "                             0.07,\n",
      "                             0.6666666667]},\n",
      " 'Failure_rate_conservative': {'I2': 99.99999699467291,\n",
      "                               'I2_reg': {'High income': 99.9997498652815,\n",
      "                                          'Upper middle income': 0.0},\n",
      "                               'cilb': 0.0,\n",
      "                               'cilb_reg': {'High income': 0.0,\n",
      "                                            'Upper middle income': 0.0},\n",
      "                               'ciub': 1.0,\n",
      "                               'ciub_reg': {'High income': 1.0,\n",
      "                                            'Upper middle income': 0.00022992387321482655},\n",
      "                               'country': ['Netherlands', 'Canada', 'Brazil'],\n",
      "                               'income': ['High income',\n",
      "                                          'High income',\n",
      "                                          'Upper middle income'],\n",
      "                               'ni': [2, 85, 27],\n",
      "                               'pred': 0.3333356424997617,\n",
      "                               'pred_reg': {'High income': 0.5000036904345875,\n",
      "                                            'Upper middle income': 3.7037009602215116e-07},\n",
      "                               'slab': [\"<a style='color:inherit' \"\n",
      "                                        \"href='https://doi.org/10.3171/2019.7.FOCUS19447'>Spoor \"\n",
      "                                        'et al., 2019</a>',\n",
      "                                        \"<a style='color:inherit' \"\n",
      "                                        \"href='https://doi.org/10.1007/bf00298448'>Steinbok \"\n",
      "                                        'et al., 1992</a>',\n",
      "                                        \"<a style='color:inherit' \"\n",
      "                                        \"href='https://doi.org/10.1590/s0004-282x2004000600006'>Ulsenheimer \"\n",
      "                                        'et al., 2004</a>'],\n",
      "                               'vi': [2.4999375011249826e-06,\n",
      "                                      1.384082231830654e-09,\n",
      "                                      1.3717395722230692e-08],\n",
      "                               'yi': [4.999950000499995e-06,\n",
      "                                      0.9999998823529688,\n",
      "                                      3.7037009602215116e-07]},\n",
      " 'Mortality_intraop_1st_line_ETV': {'I2': 0.0,\n",
      "                                    'I2_reg': {'Lower middle income': 0.0},\n",
      "                                    'cilb': 0.0,\n",
      "                                    'cilb_reg': {'Lower middle income': 0.0},\n",
      "                                    'ciub': 0.0006897703427044135,\n",
      "                                    'ciub_reg': {'Lower middle income': 0.0006897703427044135},\n",
      "                                    'country': ['Nigeria'],\n",
      "                                    'income': ['Lower middle income'],\n",
      "                                    'ni': [9],\n",
      "                                    'pred': 1.1111086419807957e-06,\n",
      "                                    'pred_reg': {'Lower middle income': 1.1111086419807957e-06},\n",
      "                                    'slab': [\"<a style='color:inherit' \"\n",
      "                                             \"href='https://www.ajol.info/index.php/njcp/article/view/114862/104498'>Ojo \"\n",
      "                                             'et al., 2015</a>'],\n",
      "                                    'vi': [1.2345610425514406e-07],\n",
      "                                    'yi': [1.1111086419807957e-06]},\n",
      " 'Mortality_intraop_1st_line_ETV_CPC': {'I2': 0.0,\n",
      "                                        'I2_reg': {'High income': 0.0},\n",
      "                                        'cilb': 0.0,\n",
      "                                        'cilb_reg': {'High income': 0.0},\n",
      "                                        'ciub': 0.0008868468798588161,\n",
      "                                        'ciub_reg': {'High income': 0.0008868468798588161},\n",
      "                                        'country': ['United States'],\n",
      "                                        'income': ['High income'],\n",
      "                                        'ni': [7],\n",
      "                                        'pred': 1.4285673469504373e-06,\n",
      "                                        'pred_reg': {'High income': 1.4285673469504373e-06},\n",
      "                                        'slab': [\"<a style='color:inherit' \"\n",
      "                                                 \"href='https://doi.org/10.3171/2015.5.peds14692'>Weil \"\n",
      "                                                 'et al., 2016</a>'],\n",
      "                                        'vi': [2.040801749346106e-07],\n",
      "                                        'yi': [1.4285673469504376e-06]},\n",
      " 'Mortality_intraop_1st_line_VPS': {'I2': 0.0,\n",
      "                                    'I2_reg': {'High income': 0.0,\n",
      "                                               'Upper middle income': 0.0},\n",
      "                                    'cilb': 0.0,\n",
      "                                    'cilb_reg': {'High income': 0.0,\n",
      "                                                 'Upper middle income': 0.0},\n",
      "                                    'ciub': 6.134581886416597e-06,\n",
      "                                    'ciub_reg': {'High income': 9.039298602957947e-06,\n",
      "                                                 'Upper middle income': 6.23401509077507e-07},\n",
      "                                    'country': ['United States',\n",
      "                                                'Poland',\n",
      "                                                'Denmark',\n",
      "                                                'United States',\n",
      "                                                'Italy',\n",
      "                                                'United States',\n",
      "                                                'United Kingdom',\n",
      "                                                'Turkey',\n",
      "                                                'Mexico',\n",
      "                                                'Brazil',\n",
      "                                                'Turkey'],\n",
      "                                    'income': ['High income',\n",
      "                                               'High income',\n",
      "                                               'High income',\n",
      "                                               'High income',\n",
      "                                               'High income',\n",
      "                                               'High income',\n",
      "                                               'High income',\n",
      "                                               'Upper middle income',\n",
      "                                               'Upper middle income',\n",
      "                                               'Upper middle income',\n",
      "                                               'Upper middle income'],\n",
      "                                    'ni': [1,\n",
      "                                           86,\n",
      "                                           59,\n",
      "                                           5,\n",
      "                                           170,\n",
      "                                           8,\n",
      "                                           4,\n",
      "                                           39,\n",
      "                                           47,\n",
      "                                           4,\n",
      "                                           7],\n",
      "                                    'pred': 9.866558226083195e-08,\n",
      "                                    'pred_reg': {'High income': 8.370878873538588e-08,\n",
      "                                                 'Upper middle income': 2.555994625407986e-07},\n",
      "                                    'slab': [\"<a style='color:inherit' \"\n",
      "                                             \"href='https://doi.org/10.3171/2019.7.focus19434'>Lu \"\n",
      "                                             'et al., 2019</a>',\n",
      "                                             \"<a style='color:inherit' \"\n",
      "                                             \"href='https://advances.umw.edu.pl/en/article/2011/20/5/543/'>Rysiakiewicz \"\n",
      "                                             'et al., 2011</a>',\n",
      "                                             \"<a style='color:inherit' \"\n",
      "                                             \"href='https://doi.org/10.1007/s00381-010-1113-2'>Clemmensen \"\n",
      "                                             'et al., 2010</a>',\n",
      "                                             \"<a style='color:inherit' \"\n",
      "                                             \"href='https://doi.org/10.1159/000072870'>Sandquist \"\n",
      "                                             'et al., 2003</a>',\n",
      "                                             \"<a style='color:inherit' \"\n",
      "                                             \"href='https://doi.org/10.1007/bf00261592'>Caldarelli \"\n",
      "                                             'et al., 1996</a>',\n",
      "                                             \"<a style='color:inherit' \"\n",
      "                                             \"href='https://doi.org/10.3171/jns.1992.77.4.0551'>Rosseau \"\n",
      "                                             'et al., 1992</a>',\n",
      "                                             \"<a style='color:inherit' \"\n",
      "                                             \"href='https://doi.org/10.1136%2Fbjo.52.9.670'>Harcourt \"\n",
      "                                             'et al., 1968</a>',\n",
      "                                             \"<a style='color:inherit' \"\n",
      "                                             \"href='https://doi.org/10.14245%2Fkjs.2017.14.1.7'>Eseoğlu \"\n",
      "                                             'et al., 2017</a>',\n",
      "                                             \"<a style='color:inherit' \"\n",
      "                                             \"href='https://www.scielo.org.mx/scielo.php?script=sci_arttext&pid=S1870-72032017000200105'>Alcocer \"\n",
      "                                             'Maldonado et al., 2017</a>',\n",
      "                                             \"<a style='color:inherit' \"\n",
      "                                             \"href='https://doi.org/10.1590/0004-282x20150169'>Oliveira \"\n",
      "                                             'et al., 2015</a>',\n",
      "                                             \"<a style='color:inherit' \"\n",
      "                                             \"href='https://doi.org/10.1186/1471-2334-6-43'>Sacar \"\n",
      "                                             'et al., 2006</a>'],\n",
      "                                    'vi': [9.999500017999438e-06,\n",
      "                                           1.352081420504184e-09,\n",
      "                                           2.872735284524245e-09,\n",
      "                                           3.9999600002879994e-07,\n",
      "                                           3.4602065947488414e-10,\n",
      "                                           0.0046227810649112425,\n",
      "                                           6.249921875703122e-07,\n",
      "                                           6.574613530242612e-09,\n",
      "                                           4.526930448940821e-09,\n",
      "                                           6.249921875703122e-07,\n",
      "                                           2.040801749346106e-07],\n",
      "                                    'yi': [9.99980000399992e-06,\n",
      "                                           1.1627904272580402e-07,\n",
      "                                           1.694914679689939e-07,\n",
      "                                           1.999992000032e-06,\n",
      "                                           5.88235224913503e-08,\n",
      "                                           0.03846153846,\n",
      "                                           2.4999875000625e-06,\n",
      "                                           2.5641012491788464e-07,\n",
      "                                           2.1276586690814172e-07,\n",
      "                                           2.4999875000625e-06,\n",
      "                                           1.4285673469504376e-06]},\n",
      " 'Mortality_periop_1st_line_ETV': {'I2': 0.0,\n",
      "                                   'I2_reg': {'High income': 0.0,\n",
      "                                              'Lower middle income': 0.0},\n",
      "                                   'cilb': 0.0,\n",
      "                                   'cilb_reg': {'High income': 0.0,\n",
      "                                                'Lower middle income': 0.0},\n",
      "                                   'ciub': 3.5086884808440464e-06,\n",
      "                                   'ciub_reg': {'High income': 0.00031039712828084126,\n",
      "                                                'Lower middle income': 0.0006897703427044135},\n",
      "                                   'country': ['France', 'Nigeria'],\n",
      "                                   'income': ['High income',\n",
      "                                              'Lower middle income'],\n",
      "                                   'ni': [20, 9],\n",
      "                                   'pred': 6.029100328061736e-07,\n",
      "                                   'pred_reg': {'High income': 4.999995000004999e-07,\n",
      "                                                'Lower middle income': 1.1111086419807957e-06},\n",
      "                                   'slab': [\"<a style='color:inherit' \"\n",
      "                                            \"href='https://doi.org/10.1016/j.wneu.2015.07.071'>Beuriat \"\n",
      "                                            'et al., 2016</a>',\n",
      "                                            \"<a style='color:inherit' \"\n",
      "                                            \"href='https://www.ajol.info/index.php/njcp/article/view/114862/104498'>Ojo \"\n",
      "                                            'et al., 2015</a>'],\n",
      "                                   'vi': [2.4999937500112504e-08,\n",
      "                                          1.2345610425514406e-07],\n",
      "                                   'yi': [4.999995000005e-07,\n",
      "                                          1.1111086419807957e-06]},\n",
      " 'Mortality_periop_1st_line_ETV_CPC': {'I2': 0.0,\n",
      "                                       'I2_reg': {'High income': 0.0,\n",
      "                                                  'Low income': 0.0},\n",
      "                                       'cilb': 0.0,\n",
      "                                       'cilb_reg': {'High income': 0.0,\n",
      "                                                    'Low income': 0.0},\n",
      "                                       'ciub': 0.005192770649299259,\n",
      "                                       'ciub_reg': {'High income': 0.0008868468798588161,\n",
      "                                                    'Low income': 0.02756518734940952},\n",
      "                                       'country': ['United States', 'Uganda'],\n",
      "                                       'income': ['High income', 'Low income'],\n",
      "                                       'ni': [7, 93],\n",
      "                                       'pred': 2.0529308982359514e-05,\n",
      "                                       'pred_reg': {'High income': 1.4285673469504373e-06,\n",
      "                                                    'Low income': 0.008695652173999998},\n",
      "                                       'slab': [\"<a style='color:inherit' \"\n",
      "                                                \"href='https://doi.org/10.3171/2015.5.peds14692'>Weil \"\n",
      "                                                'et al., 2016</a>',\n",
      "                                                \"<a style='color:inherit' \"\n",
      "                                                \"href='https://doi.org/10.3171/ped.2008.2.11.310'>Warf \"\n",
      "                                                'et al., 2008</a>'],\n",
      "                                       'vi': [2.040801749346106e-07,\n",
      "                                              9.26885785727829e-05],\n",
      "                                       'yi': [1.4285673469504376e-06,\n",
      "                                              0.008695652174]},\n",
      " 'Mortality_periop_1st_line_ETV_to_VP': {'I2': 0.0,\n",
      "                                         'I2_reg': {'High income': 0.0},\n",
      "                                         'cilb': 0.0,\n",
      "                                         'cilb_reg': {'High income': 0.0},\n",
      "                                         'ciub': 0.00031039712828084126,\n",
      "                                         'ciub_reg': {'High income': 0.00031039712828084126},\n",
      "                                         'country': ['France'],\n",
      "                                         'income': ['High income'],\n",
      "                                         'ni': [20],\n",
      "                                         'pred': 4.999995000004999e-07,\n",
      "                                         'pred_reg': {'High income': 4.999995000004999e-07},\n",
      "                                         'slab': [\"<a style='color:inherit' \"\n",
      "                                                  \"href='https://doi.org/10.1016/j.wneu.2015.07.071'>Beuriat \"\n",
      "                                                  'et al., 2016</a>'],\n",
      "                                         'vi': [2.4999937500112504e-08],\n",
      "                                         'yi': [4.999995000005e-07]},\n",
      " 'Mortality_periop_1st_line_VPS': {'I2': 61.46677519149045,\n",
      "                                   'I2_reg': {'High income': 75.91672005589037,\n",
      "                                              'Upper middle income': 0.0},\n",
      "                                   'cilb': 0.0,\n",
      "                                   'cilb_reg': {'High income': 0.0,\n",
      "                                                'Upper middle income': 0.0},\n",
      "                                   'ciub': 0.0003398012987586354,\n",
      "                                   'ciub_reg': {'High income': 0.0015946452776800732,\n",
      "                                                'Upper middle income': 8.805781510591757e-07},\n",
      "                                   'country': ['United States',\n",
      "                                               'France',\n",
      "                                               'Poland',\n",
      "                                               'United States',\n",
      "                                               'Italy',\n",
      "                                               'United Kingdom',\n",
      "                                               'Turkey',\n",
      "                                               'Brazil',\n",
      "                                               'Brazil'],\n",
      "                                   'income': ['High income',\n",
      "                                              'High income',\n",
      "                                              'High income',\n",
      "                                              'High income',\n",
      "                                              'High income',\n",
      "                                              'High income',\n",
      "                                              'Upper middle income',\n",
      "                                              'Upper middle income',\n",
      "                                              'Upper middle income'],\n",
      "                                   'ni': [1, 20, 86, 187, 170, 4, 39, 4, 28],\n",
      "                                   'pred': 2.737473875972876e-06,\n",
      "                                   'pred_reg': {'High income': 2.6920904641825998e-05,\n",
      "                                                'Upper middle income': 3.059025480592949e-07},\n",
      "                                   'slab': [\"<a style='color:inherit' \"\n",
      "                                            \"href='https://doi.org/10.3171/2019.7.focus19434'>Lu \"\n",
      "                                            'et al., 2019</a>',\n",
      "                                            \"<a style='color:inherit' \"\n",
      "                                            \"href='https://doi.org/10.1016/j.wneu.2015.07.071'>Beuriat \"\n",
      "                                            'et al., 2016</a>',\n",
      "                                            \"<a style='color:inherit' \"\n",
      "                                            \"href='https://advances.umw.edu.pl/en/article/2011/20/5/543/'>Rysiakiewicz \"\n",
      "                                            'et al., 2011</a>',\n",
      "                                            \"<a style='color:inherit' \"\n",
      "                                            \"href='https://doi.org/10.1007/s00381-003-0759-4'>Tuli \"\n",
      "                                            'et al., 2003</a>',\n",
      "                                            \"<a style='color:inherit' \"\n",
      "                                            \"href='https://doi.org/10.1007/bf00261592'>Caldarelli \"\n",
      "                                            'et al., 1996</a>',\n",
      "                                            \"<a style='color:inherit' \"\n",
      "                                            \"href='https://doi.org/10.1136%2Fbjo.52.9.670'>Harcourt \"\n",
      "                                            'et al., 1968</a>',\n",
      "                                            \"<a style='color:inherit' \"\n",
      "                                            \"href='https://doi.org/10.14245%2Fkjs.2017.14.1.7'>Eseoğlu \"\n",
      "                                            'et al., 2017</a>',\n",
      "                                            \"<a style='color:inherit' \"\n",
      "                                            \"href='https://doi.org/10.1590/0004-282x20150169'>Oliveira \"\n",
      "                                            'et al., 2015</a>',\n",
      "                                            \"<a style='color:inherit' \"\n",
      "                                            \"href='https://doi.org/10.1007/s00381-003-0853-7'>Machado \"\n",
      "                                            'et al., 2004</a>'],\n",
      "                                   'vi': [9.999500017999438e-06,\n",
      "                                          2.4999937500112504e-08,\n",
      "                                          0.000804376131152086,\n",
      "                                          0.0003425096877005347,\n",
      "                                          3.4602065947488414e-10,\n",
      "                                          6.249921875703122e-07,\n",
      "                                          6.574613530242612e-09,\n",
      "                                          6.249921875703122e-07,\n",
      "                                          1.275507926387768e-08],\n",
      "                                   'yi': [9.99980000399992e-06,\n",
      "                                          4.999995000005e-07,\n",
      "                                          0.07476635514,\n",
      "                                          0.06878,\n",
      "                                          5.88235224913503e-08,\n",
      "                                          2.4999875000625e-06,\n",
      "                                          2.5641012491788464e-07,\n",
      "                                          2.4999875000625e-06,\n",
      "                                          3.5714260204099856e-07]}}\n"
     ]
    }
   ],
   "source": [
    "#Conduct meta-analysis\n",
    "\n",
    "metastudy = {}\n",
    "\n",
    "# Define the order of income groups for sorting\n",
    "income_order = {\n",
    "    'Low income': 0,\n",
    "    'Lower middle income': 1,\n",
    "    'Upper middle income': 2,\n",
    "    'High income': 3\n",
    "}\n",
    "\n",
    "# Loop through unique outcomes in the 'Outcome' column of 'df_forest'\n",
    "for outcome in df_forest['Outcome'].unique():\n",
    "    # Count the number of studies for the current outcome\n",
    "    nstudies = len(df_forest['Outcome'][df_forest['Outcome']==outcome])\n",
    "\n",
    "    if nstudies < 2: print(f\"Insufficient no. studies to perform meta-analysis for '{outcome}'\")\n",
    "    else:\n",
    "        # Loop through unique treatment groups in the 'Treatment' column of 'df_forest'\n",
    "        for group in df_forest['Treatment'].unique():\n",
    "\n",
    "            #Creates a subset of the data with only the rows that correspond to the current outcome and treatment.\n",
    "            subset = df_forest[(df_forest['Treatment'] == group) & (df_forest['Outcome'] == outcome)]\n",
    "\n",
    "            if subset.empty: print(f\"Treatment '{group}' contains no data for outcome '{outcome}'\")\n",
    "            else:\n",
    "\n",
    "                # Run global meta-analysis.\n",
    "\n",
    "                # Sort the subset based on specified criteria\n",
    "                subset = subset.sort_values(by=['Income_group','Year_of_publication'], key=lambda x: x.map(income_order).fillna(x), ascending=False)\n",
    "                \n",
    "                # Call the function to perform the global meta-analysis\n",
    "                results, pd_dat, _ = run_meta_analysis(subset)\n",
    "\n",
    "                #Stores global results in the metastudy dictionary.\n",
    "                key = f\"{outcome}_{group}\"\n",
    "                metastudy[key] = dict(pred=results['pred'][0],\n",
    "                                      I2=results['I2'],\n",
    "                                      cilb=results['ci.lb'][0] if results['ci.lb'][0]>=0 else 0.,\n",
    "                                      ciub=results['ci.ub'][0] if results['ci.ub'][0]<=1 else 1.,\n",
    "                                      #crub=results['cr.ub'][0],\n",
    "                                      #crlb=results['cr.lb'][0],\n",
    "                                      pred_reg=dict(),\n",
    "                                      I2_reg=dict(),\n",
    "                                      cilb_reg=dict(),\n",
    "                                      ciub_reg=dict(),\n",
    "                                      ni=subset.N_subgroups.to_list(),\n",
    "                                      yi=pd_dat.yi.to_list(),\n",
    "                                      vi=pd_dat.vi.to_list(),\n",
    "                                      slab=subset.URL.to_list(),\n",
    "                                      #slab=subset.Study.to_list())\n",
    "                                      country=subset.Country.to_list(),\n",
    "                                      income=subset.Income_group.to_list())\n",
    "\n",
    "                #Run regional meta-analysis.\n",
    "                for region in subset['Income_group'].unique():\n",
    "                    regional_subset = subset[ subset['Income_group']==region ]\n",
    "                    if regional_subset.empty: print(f\"Income_group '{region}' contains no data for treatment {group} and outcome '{outcome}'\")\n",
    "                    else:\n",
    "                      regional_results, _, _ = run_meta_analysis(regional_subset)\n",
    "                      metastudy[key]['pred_reg'][region] = regional_results['pred'][0]\n",
    "                      metastudy[key]['cilb_reg'][region] = regional_results['ci.lb'][0] if regional_results['ci.lb'][0]>=0 else 0.\n",
    "                      metastudy[key]['ciub_reg'][region] = regional_results['ci.ub'][0] if regional_results['ci.ub'][0]<=1 else 1.\n",
    "                      metastudy[key]['I2_reg'][region] = regional_results['I2']\n",
    "\n",
    "\n",
    "print()\n",
    "pprint(metastudy)"
   ]
  },
  {
   "cell_type": "code",
   "execution_count": 27,
   "metadata": {
    "colab": {
     "base_uri": "https://localhost:8080/",
     "height": 1000
    },
    "id": "C3DWs-5fHx79",
    "outputId": "cdbeb310-d74a-4432-c998-bd7b45c7d600"
   },
   "outputs": [
    {
     "name": "stdout",
     "output_type": "stream",
     "text": [
      "Error processing Complication_rate_1st_line_CPC: 'Complication_rate_1st_line_CPC'. Skipping to next measure...\n",
      "row: 2, col: 4\n",
      "Error processing Mortality_intraop_1st_line_conservative: 'Mortality_intraop_1st_line_conservative'. Skipping to next measure...\n",
      "row: 3, col: 1\n",
      "Error processing Mortality_periop_1st_line_conservative: 'Mortality_periop_1st_line_conservative'. Skipping to next measure...\n",
      "row: 4, col: 1\n"
     ]
    },
    {
     "data": {
      "application/vnd.plotly.v1+json": {
       "config": {
        "plotlyServerURL": "https://plot.ly",
        "toImageButtonOptions": {
         "filename": "figs3",
         "format": "png",
         "scale": 6
        }
       },
       "data": [
        {
         "error_x": {
          "array": [
           0.67
          ],
          "arrayminus": [
           0.33
          ],
          "type": "data"
         },
         "hovertemplate": "<b>%{y}</b><br>Pooled estimate [95% CI]: <b>%{x:.2f}</b> [0.0, 1.0]<br>I<sup>2</sup>: 100.0%<br>N: 114<extra></extra>",
         "marker": {
          "color": "black",
          "size": 6.535159753833509,
          "symbol": "diamond-wide"
         },
         "mode": "markers",
         "type": "scatter",
         "x": [
          0.33
         ],
         "xaxis": "x",
         "y": [
          "<b>Global effect</b>"
         ],
         "yaxis": "y"
        },
        {
         "hoverinfo": "skip",
         "marker": {
          "color": "white"
         },
         "type": "scatter",
         "xaxis": "x",
         "y": [
          "                   "
         ],
         "yaxis": "y"
        },
        {
         "error_x": {
          "array": [
           0
          ],
          "arrayminus": [
           0
          ],
          "type": "data"
         },
         "hovertemplate": "<b>%{y}</b><br>Estimate [95% CI]: <b>%{x:.2f}</b> [0.0, 0.0]<br>I<sup>2</sup>: 0.0%<br>N: 27<extra></extra>",
         "marker": {
          "color": "black",
          "size": 4.559014113909555,
          "symbol": "diamond-wide"
         },
         "mode": "markers",
         "type": "scatter",
         "x": [
          null
         ],
         "xaxis": "x",
         "y": [
          "<b>Upper middle income</b>"
         ],
         "yaxis": "y"
        },
        {
         "customdata": [
          [
           "0.0",
           "0.12770286761543387",
           "Upper middle income",
           "Brazil"
          ]
         ],
         "error_x": {
          "array": [
           0.12770249724533786
          ],
          "arrayminus": [
           3.7037009602215116e-7
          ],
          "type": "data"
         },
         "hovertemplate": "<b>%{y}</b><br>Proportion [95% CI]: <b>%{x:.2f}</b> [%{customdata[0]:.2f}; %{customdata[1]:.2f}]<br>Country: %{customdata[3]}<br>Income group: %{customdata[2]}<br>N: %{text}<extra></extra>",
         "marker": {
          "color": "rgb(127, 60, 141)",
          "size": [
           4.559014113909555
          ],
          "symbol": "square"
         },
         "mode": "markers",
         "text": [
          "27"
         ],
         "type": "scatter",
         "x": [
          3.7037009602215116e-7
         ],
         "xaxis": "x",
         "y": [
          "<a style='color:inherit' href='https://doi.org/10.1590/s0004-282x2004000600006'>Ulsenheimer et al., 2004</a>"
         ],
         "yaxis": "y"
        },
        {
         "hoverinfo": "skip",
         "marker": {
          "color": "white"
         },
         "type": "scatter",
         "xaxis": "x",
         "y": [
          "           "
         ],
         "yaxis": "y"
        },
        {
         "error_x": {
          "array": [
           0.5
          ],
          "arrayminus": [
           0.5
          ],
          "type": "data"
         },
         "hovertemplate": "<b>%{y}</b><br>Estimate [95% CI]: <b>%{x:.2f}</b> [0.0, 1.0]<br>I<sup>2</sup>: 100.0%<br>N: 87<extra></extra>",
         "marker": {
          "color": "black",
          "size": 6.108151619954703,
          "symbol": "diamond-wide"
         },
         "mode": "markers",
         "type": "scatter",
         "x": [
          0.5
         ],
         "xaxis": "x",
         "y": [
          "<b>High income</b>"
         ],
         "yaxis": "y"
        },
        {
         "customdata": [
          [
           "0.0",
           "0.841886116991607",
           "High income",
           "Netherlands"
          ],
          [
           "0.9575296600887505",
           "1.0",
           "High income",
           "Canada"
          ]
         ],
         "error_x": {
          "array": [
           0.8418811170416065,
           1.1764703122807418e-7
          ],
          "arrayminus": [
           0.000004999950000499995,
           0.04247022226421826
          ],
          "type": "data"
         },
         "hovertemplate": "<b>%{y}</b><br>Proportion [95% CI]: <b>%{x:.2f}</b> [%{customdata[0]:.2f}; %{customdata[1]:.2f}]<br>Country: %{customdata[3]}<br>Income group: %{customdata[2]}<br>N: %{text}<extra></extra>",
         "marker": {
          "color": "rgb(127, 60, 141)",
          "size": [
           2.378414230005442,
           6.072740553421622
          ],
          "symbol": "square"
         },
         "mode": "markers",
         "text": [
          "2",
          "85"
         ],
         "type": "scatter",
         "x": [
          0.000004999950000499995,
          0.9999998823529688
         ],
         "xaxis": "x",
         "y": [
          "<a style='color:inherit' href='https://doi.org/10.3171/2019.7.FOCUS19447'>Spoor et al., 2019</a>",
          "<a style='color:inherit' href='https://doi.org/10.1007/bf00298448'>Steinbok et al., 1992</a>"
         ],
         "yaxis": "y"
        },
        {
         "error_x": {
          "array": [
           0.15
          ],
          "arrayminus": [
           0.15
          ],
          "type": "data"
         },
         "hovertemplate": "<b>%{y}</b><br>Pooled estimate [95% CI]: <b>%{x:.2f}</b> [0.26, 0.57]<br>I<sup>2</sup>: 99.98%<br>N: 859<extra></extra>",
         "marker": {
          "color": "black",
          "size": 10.827502349019499,
          "symbol": "diamond-wide"
         },
         "mode": "markers",
         "type": "scatter",
         "x": [
          0.41
         ],
         "xaxis": "x2",
         "y": [
          "<b>Global effect</b>"
         ],
         "yaxis": "y2"
        },
        {
         "hoverinfo": "skip",
         "marker": {
          "color": "white"
         },
         "type": "scatter",
         "xaxis": "x2",
         "y": [
          "                   "
         ],
         "yaxis": "y2"
        },
        {
         "error_x": {
          "array": [
           0.26
          ],
          "arrayminus": [
           0.26
          ],
          "type": "data"
         },
         "hovertemplate": "<b>%{y}</b><br>Estimate [95% CI]: <b>%{x:.2f}</b> [0.0, 0.52]<br>I<sup>2</sup>: 98.12%<br>N: 430<extra></extra>",
         "marker": {
          "color": "black",
          "size": 9.107456583114239,
          "symbol": "diamond-wide"
         },
         "mode": "markers",
         "type": "scatter",
         "x": [
          0.26
         ],
         "xaxis": "x2",
         "y": [
          "<b>Upper middle income</b>"
         ],
         "yaxis": "y2"
        },
        {
         "customdata": [
          [
           "0.3994079805108585",
           "0.5444859873052732",
           "Upper middle income",
           "Brazil"
          ],
          [
           "0.11461600510260381",
           "0.43404937492227846",
           "Upper middle income",
           "Brazil"
          ],
          [
           "0.0",
           "0.6023646356164858",
           "Upper middle income",
           "Brazil"
          ],
          [
           "0.10402634219208506",
           "0.22996045482214617",
           "Upper middle income",
           "Turkey"
          ],
          [
           "0.008178134460656279",
           "0.22073540152296212",
           "Upper middle income",
           "Brazil"
          ],
          [
           "0.4603927139075695",
           "0.834811820312585",
           "Upper middle income",
           "Brazil"
          ]
         ],
         "error_x": {
          "array": [
           0.07298339660527314,
           0.18404937492227846,
           0.6023621356289858,
           0.07023823262214615,
           0.1507354015229621,
           0.16814515361258509
          ],
          "arrayminus": [
           0.07209461018914154,
           0.1353839948973962,
           0.0000024999875000625,
           0.05569588000791495,
           0.061821865539343726,
           0.2062739527924305
          ],
          "type": "data"
         },
         "hovertemplate": "<b>%{y}</b><br>Proportion [95% CI]: <b>%{x:.2f}</b> [%{customdata[0]:.2f}; %{customdata[1]:.2f}]<br>Country: %{customdata[3]}<br>Income group: %{customdata[2]}<br>N: %{text}<extra></extra>",
         "marker": {
          "color": "rgb(17, 165, 121)",
          "size": [
           7.4545137975457,
           4.756828460010884,
           2.8284271247461903,
           6.928203230275509,
           4.680694638641432,
           4.559014113909555
          ],
          "symbol": "square"
         },
         "mode": "markers",
         "text": [
          "193",
          "32",
          "4",
          "144",
          "30",
          "27"
         ],
         "type": "scatter",
         "x": [
          0.47150259070000006,
          0.25,
          0.0000024999875000625,
          0.1597222222,
          0.07,
          0.6666666667
         ],
         "xaxis": "x2",
         "y": [
          "<a style='color:inherit' href='https://doi.org/10.3171/2019.7.focus19462'>Protzenko et al., 2019</a>",
          "<a style='color:inherit' href='https://doi.org/10.1007/s00381-016-3012-7'>Rodrigues et al., 2016</a>",
          "<a style='color:inherit' href='https://doi.org/10.1590/0004-282x20150169'>Oliveira et al., 2015</a>",
          "<a style='color:inherit' href='https://doi.org/10.5137/1019-5149.jtn.4263-11.1'>Arslan et al., 2011</a>",
          "<a style='color:inherit' href='https://doi.org/10.1159/000209285'>Pinto et al., 2009</a>",
          "<a style='color:inherit' href='https://doi.org/10.1590/s0004-282x2004000600006'>Ulsenheimer et al., 2004</a>"
         ],
         "yaxis": "y2"
        },
        {
         "hoverinfo": "skip",
         "marker": {
          "color": "white"
         },
         "type": "scatter",
         "xaxis": "x2",
         "y": [
          "           "
         ],
         "yaxis": "y2"
        },
        {
         "error_x": {
          "array": [
           0.2
          ],
          "arrayminus": [
           0.2
          ],
          "type": "data"
         },
         "hovertemplate": "<b>%{y}</b><br>Estimate [95% CI]: <b>%{x:.2f}</b> [0.3, 0.7]<br>I<sup>2</sup>: 98.98%<br>N: 429<extra></extra>",
         "marker": {
          "color": "black",
          "size": 9.102156926181394,
          "symbol": "diamond-wide"
         },
         "mode": "markers",
         "type": "scatter",
         "x": [
          0.5
         ],
         "xaxis": "x2",
         "y": [
          "<b>High income</b>"
         ],
         "yaxis": "y2"
        },
        {
         "customdata": [
          [
           "0.01257911709367899",
           "0.987420882906321",
           "High income",
           "Netherlands"
          ],
          [
           "0.09898827844243689",
           "0.81594843235993",
           "High income",
           "United States"
          ],
          [
           "0.2781076296764094",
           "0.6037919829857287",
           "High income",
           "Germany"
          ],
          [
           "0.27195784956079133",
           "0.7280421504392086",
           "High income",
           "France"
          ],
          [
           "0.03185402624994424",
           "0.6508557944128243",
           "High income",
           "Netherlands"
          ],
          [
           "0.15284593960863158",
           "0.5083233538099897",
           "High income",
           "Italy"
          ],
          [
           "0.05218374466988076",
           "0.2187171057078085",
           "High income",
           "United States"
          ],
          [
           "0.3822854364357649",
           "0.5368224450567968",
           "High income",
           "Italy"
          ],
          [
           "0.7663753811449798",
           "0.9248686534535081",
           "High income",
           "Canada"
          ],
          [
           "0.025000000000000022",
           "1.0",
           "High income",
           "United States"
          ]
         ],
         "error_x": {
          "array": [
           0.25769115320632097,
           0.40685752325992997,
           0.17379198298572868,
           0.2280421504392086,
           0.43051681131282427,
           0.19797852620998974,
           0.1010700469078085,
           0.07799891565679684,
           0.06604512405350815,
           0.000009999800004045767
          ],
          "arrayminus": [
           0.7171506126063211,
           0.3101026306575631,
           0.1518923703235906,
           0.22804215043920867,
           0.18848495685005576,
           0.1574988879913684,
           0.06546331413011924,
           0.07653809296423503,
           0.09244814825502012,
           0.9749900001999959
          ],
          "type": "data"
         },
         "hovertemplate": "<b>%{y}</b><br>Proportion [95% CI]: <b>%{x:.2f}</b> [%{customdata[0]:.2f}; %{customdata[1]:.2f}]<br>Country: %{customdata[3]}<br>Income group: %{customdata[2]}<br>N: %{text}<extra></extra>",
         "marker": {
          "color": "rgb(17, 165, 121)",
          "size": [
           2.378414230005442,
           3.2531531233955713,
           4.997998798878767,
           4.229485053762256,
           3.363585661014858,
           4.641191574212168,
           5.743243422051801,
           7.221746273694555,
           6.072740553421622,
           2
          ],
          "symbol": "square"
         },
         "mode": "markers",
         "text": [
          "2",
          "7",
          "39",
          "20",
          "8",
          "29",
          "68",
          "170",
          "85",
          "1"
         ],
         "type": "scatter",
         "x": [
          0.7297297297,
          0.4090909091,
          0.43,
          0.5,
          0.2203389831,
          0.3103448276,
          0.1176470588,
          0.45882352939999993,
          0.8588235294,
          0.999990000199996
         ],
         "xaxis": "x2",
         "y": [
          "<a style='color:inherit' href='https://doi.org/10.3171/2019.7.FOCUS19447'>Spoor et al., 2019</a>",
          "<a style='color:inherit' href='https://doi.org/10.1093/neuros/nyz302'>Flanders et al., 2019</a>",
          "<a style='color:inherit' href='https://doi.org/10.1007/s00381-018-3781-2'>Al-Hakim et al., 2018</a>",
          "<a style='color:inherit' href='https://doi.org/10.1016/j.wneu.2015.07.071'>Beuriat et al., 2016</a>",
          "<a style='color:inherit' href='https://doi.org/10.1007/s00381-012-1961-z'>Fani et al., 2013</a>",
          "<a style='color:inherit' href='https://doi.org/10.1007/s00381-002-0557-4'>Rendeli et al., 2002</a>",
          "<a style='color:inherit' href='https://doi.org/10.1177/088307389601100504'>Miller et al., 1996</a>",
          "<a style='color:inherit' href='https://doi.org/10.1007/bf00261592'>Caldarelli et al., 1996</a>",
          "<a style='color:inherit' href='https://doi.org/10.1007/bf00298448'>Steinbok et al., 1992</a>",
          "<a style='color:inherit' href='https://doi.org/10.1177/000348947208100604'>Bluestone et al., 1972</a>"
         ],
         "yaxis": "y2"
        },
        {
         "error_x": {
          "array": [
           0.25
          ],
          "arrayminus": [
           0.25
          ],
          "type": "data"
         },
         "hovertemplate": "<b>%{y}</b><br>Pooled estimate [95% CI]: <b>%{x:.2f}</b> [0.13, 0.62]<br>I<sup>2</sup>: 98.35%<br>N: 220<extra></extra>",
         "marker": {
          "color": "black",
          "size": 7.702570213686163,
          "symbol": "diamond-wide"
         },
         "mode": "markers",
         "type": "scatter",
         "x": [
          0.37
         ],
         "xaxis": "x3",
         "y": [
          "<b>Global effect</b>"
         ],
         "yaxis": "y3"
        },
        {
         "hoverinfo": "skip",
         "marker": {
          "color": "white"
         },
         "type": "scatter",
         "xaxis": "x3",
         "y": [
          "                   "
         ],
         "yaxis": "y3"
        },
        {
         "error_x": {
          "array": [
           0.09
          ],
          "arrayminus": [
           0.09
          ],
          "type": "data"
         },
         "hovertemplate": "<b>%{y}</b><br>Estimate [95% CI]: <b>%{x:.2f}</b> [0.51, 0.69]<br>I<sup>2</sup>: 0.0%<br>N: 197<extra></extra>",
         "marker": {
          "color": "black",
          "size": 7.492841609861562,
          "symbol": "diamond-wide"
         },
         "mode": "markers",
         "type": "scatter",
         "x": [
          0.6
         ],
         "xaxis": "x3",
         "y": [
          "<b>Upper middle income</b>"
         ],
         "yaxis": "y3"
        },
        {
         "customdata": [
          [
           "0.5282435111871279",
           "0.6706751768461557",
           "Upper middle income",
           "Brazil"
          ],
          [
           "0.06758598648854298",
           "0.932414013511457",
           "Upper middle income",
           "Brazil"
          ]
         ],
         "error_x": {
          "array": [
           0.07067517684615576,
           0.382414013511457
          ],
          "arrayminus": [
           0.07175648881287211,
           0.4824140135114571
          ],
          "type": "data"
         },
         "hovertemplate": "<b>%{y}</b><br>Proportion [95% CI]: <b>%{x:.2f}</b> [%{customdata[0]:.2f}; %{customdata[1]:.2f}]<br>Country: %{customdata[3]}<br>Income group: %{customdata[2]}<br>N: %{text}<extra></extra>",
         "marker": {
          "color": "rgb(57, 105, 172)",
          "size": [
           7.4545137975457,
           2.8284271247461903
          ],
          "symbol": "square"
         },
         "mode": "markers",
         "text": [
          "193",
          "4"
         ],
         "type": "scatter",
         "x": [
          0.6,
          0.55
         ],
         "xaxis": "x3",
         "y": [
          "<a style='color:inherit' href='https://doi.org/10.3171/2019.7.focus19462'>Protzenko et al., 2019</a>",
          "<a style='color:inherit' href='https://doi.org/10.1590/0004-282x20150169'>Oliveira et al., 2015</a>"
         ],
         "yaxis": "y3"
        },
        {
         "hoverinfo": "skip",
         "marker": {
          "color": "white"
         },
         "type": "scatter",
         "xaxis": "x3",
         "y": [
          "                   "
         ],
         "yaxis": "y3"
        },
        {
         "error_x": {
          "array": [
           0
          ],
          "arrayminus": [
           0
          ],
          "type": "data"
         },
         "hovertemplate": "<b>%{y}</b><br>Estimate [95% CI]: <b>%{x:.2f}</b> [0.0, 0.0]<br>I<sup>2</sup>: 0.0%<br>N: 9<extra></extra>",
         "marker": {
          "color": "black",
          "size": 3.4641016151377544,
          "symbol": "diamond-wide"
         },
         "mode": "markers",
         "type": "scatter",
         "x": [
          null
         ],
         "xaxis": "x3",
         "y": [
          "<b>Lower middle income</b>"
         ],
         "yaxis": "y3"
        },
        {
         "customdata": [
          [
           "0.0",
           "0.3362671168799429",
           "Lower middle income",
           "Nigeria"
          ]
         ],
         "error_x": {
          "array": [
           0.3362660057713009
          ],
          "arrayminus": [
           0.0000011111086419807957
          ],
          "type": "data"
         },
         "hovertemplate": "<b>%{y}</b><br>Proportion [95% CI]: <b>%{x:.2f}</b> [%{customdata[0]:.2f}; %{customdata[1]:.2f}]<br>Country: %{customdata[3]}<br>Income group: %{customdata[2]}<br>N: %{text}<extra></extra>",
         "marker": {
          "color": "rgb(57, 105, 172)",
          "size": [
           3.4641016151377544
          ],
          "symbol": "square"
         },
         "mode": "markers",
         "text": [
          "9"
         ],
         "type": "scatter",
         "x": [
          0.0000011111086419807957
         ],
         "xaxis": "x3",
         "y": [
          "<a style='color:inherit' href='https://www.ajol.info/index.php/njcp/article/view/114862/104498'>Ojo et al., 2015</a>"
         ],
         "yaxis": "y3"
        },
        {
         "hoverinfo": "skip",
         "marker": {
          "color": "white"
         },
         "type": "scatter",
         "xaxis": "x3",
         "y": [
          "           "
         ],
         "yaxis": "y3"
        },
        {
         "error_x": {
          "array": [
           0.23
          ],
          "arrayminus": [
           0.23
          ],
          "type": "data"
         },
         "hovertemplate": "<b>%{y}</b><br>Estimate [95% CI]: <b>%{x:.2f}</b> [0.12, 0.58]<br>I<sup>2</sup>: 0.0%<br>N: 14<extra></extra>",
         "marker": {
          "color": "black",
          "size": 3.8686728405353388,
          "symbol": "diamond-wide"
         },
         "mode": "markers",
         "type": "scatter",
         "x": [
          0.35
         ],
         "xaxis": "x3",
         "y": [
          "<b>High income</b>"
         ],
         "yaxis": "y3"
        },
        {
         "customdata": [
          [
           "0.01257911709367899",
           "0.987420882906321",
           "High income",
           "Netherlands"
          ],
          [
           "0.036692566176085656",
           "0.7095791362626575",
           "High income",
           "United States"
          ],
          [
           "0.05274495052631566",
           "0.8533672003653274",
           "High income",
           "Italy"
          ]
         ],
         "error_x": {
          "array": [
           0.487420882906321,
           0.42386485056265744,
           0.4533672003653274
          ],
          "arrayminus": [
           0.487420882906321,
           0.24902171952391436,
           0.34725504947368435
          ],
          "type": "data"
         },
         "hovertemplate": "<b>%{y}</b><br>Proportion [95% CI]: <b>%{x:.2f}</b> [%{customdata[0]:.2f}; %{customdata[1]:.2f}]<br>Country: %{customdata[3]}<br>Income group: %{customdata[2]}<br>N: %{text}<extra></extra>",
         "marker": {
          "color": "rgb(57, 105, 172)",
          "size": [
           2.378414230005442,
           3.2531531233955713,
           2.990697562442441
          ],
          "symbol": "square"
         },
         "mode": "markers",
         "text": [
          "2",
          "7",
          "5"
         ],
         "type": "scatter",
         "x": [
          0.5,
          0.2857142857,
          0.4
         ],
         "xaxis": "x3",
         "y": [
          "<a style='color:inherit' href='https://doi.org/10.3171/2019.7.FOCUS19447'>Spoor et al., 2019</a>",
          "<a style='color:inherit' href='https://doi.org/10.1093/neuros/nyz302'>Flanders et al., 2019</a>",
          "<a style='color:inherit' href='https://doi.org/10.1055/s-0029-1202282'>Faggin et al., 2009</a>"
         ],
         "yaxis": "y3"
        },
        {
         "error_x": {
          "array": [
           0.2
          ],
          "arrayminus": [
           0.2
          ],
          "type": "data"
         },
         "hovertemplate": "<b>%{y}</b><br>Pooled estimate [95% CI]: <b>%{x:.2f}</b> [0.08, 0.48]<br>I<sup>2</sup>: 0.0%<br>N: 20<extra></extra>",
         "marker": {
          "color": "black",
          "size": 4.229485053762256,
          "symbol": "diamond-wide"
         },
         "mode": "markers",
         "type": "scatter",
         "x": [
          null
         ],
         "xaxis": "x4",
         "y": [
          "<b>Global effect</b>"
         ],
         "yaxis": "y4"
        },
        {
         "hoverinfo": "skip",
         "marker": {
          "color": "white"
         },
         "type": "scatter",
         "xaxis": "x4",
         "y": [
          "           "
         ],
         "yaxis": "y4"
        },
        {
         "error_x": {
          "array": [
           0.2
          ],
          "arrayminus": [
           0.2
          ],
          "type": "data"
         },
         "hovertemplate": "<b>%{y}</b><br>Estimate [95% CI]: <b>%{x:.2f}</b> [0.08, 0.48]<br>I<sup>2</sup>: 0.0%<br>N: 20<extra></extra>",
         "marker": {
          "color": "black",
          "size": 4.229485053762256,
          "symbol": "diamond-wide"
         },
         "mode": "markers",
         "type": "scatter",
         "x": [
          null
         ],
         "xaxis": "x4",
         "y": [
          "<b>High income</b>"
         ],
         "yaxis": "y4"
        },
        {
         "customdata": [
          [
           "0.11893159040572766",
           "0.5427891822764719",
           "High income",
           "France"
          ]
         ],
         "error_x": {
          "array": [
           0.2615391822764719
          ],
          "arrayminus": [
           0.16231840959427235
          ],
          "type": "data"
         },
         "hovertemplate": "<b>%{y}</b><br>Proportion [95% CI]: <b>%{x:.2f}</b> [%{customdata[0]:.2f}; %{customdata[1]:.2f}]<br>Country: %{customdata[3]}<br>Income group: %{customdata[2]}<br>N: %{text}<extra></extra>",
         "marker": {
          "color": "rgb(242, 183, 1)",
          "size": [
           4.229485053762256
          ],
          "symbol": "square"
         },
         "mode": "markers",
         "text": [
          "20"
         ],
         "type": "scatter",
         "x": [
          0.28125
         ],
         "xaxis": "x4",
         "y": [
          "<a style='color:inherit' href='https://doi.org/10.1016/j.wneu.2015.07.071'>Beuriat et al., 2016</a>"
         ],
         "yaxis": "y4"
        },
        {
         "error_x": {
          "array": [
           0.85
          ],
          "arrayminus": [
           0.15
          ],
          "type": "data"
         },
         "hovertemplate": "<b>%{y}</b><br>Pooled estimate [95% CI]: <b>%{x:.2f}</b> [0.0, 1.0]<br>I<sup>2</sup>: 92.59%<br>N: 29<extra></extra>",
         "marker": {
          "color": "black",
          "size": 4.641191574212168,
          "symbol": "diamond-wide"
         },
         "mode": "markers",
         "type": "scatter",
         "x": [
          0.15
         ],
         "xaxis": "x5",
         "y": [
          "<b>Global effect</b>"
         ],
         "yaxis": "y5"
        },
        {
         "hoverinfo": "skip",
         "marker": {
          "color": "white"
         },
         "type": "scatter",
         "xaxis": "x5",
         "y": [
          "                   "
         ],
         "yaxis": "y5"
        },
        {
         "error_x": {
          "array": [
           0.18
          ],
          "arrayminus": [
           0.18
          ],
          "type": "data"
         },
         "hovertemplate": "<b>%{y}</b><br>Estimate [95% CI]: <b>%{x:.2f}</b> [0.16, 0.51]<br>I<sup>2</sup>: 0.0%<br>N: 27<extra></extra>",
         "marker": {
          "color": "black",
          "size": 4.559014113909555,
          "symbol": "diamond-wide"
         },
         "mode": "markers",
         "type": "scatter",
         "x": [
          null
         ],
         "xaxis": "x5",
         "y": [
          "<b>Upper middle income</b>"
         ],
         "yaxis": "y5"
        },
        {
         "customdata": [
          [
           "0.16518817968741492",
           "0.5396072860924305",
           "Upper middle income",
           "Brazil"
          ]
         ],
         "error_x": {
          "array": [
           0.2062739527924305
          ],
          "arrayminus": [
           0.16814515361258506
          ],
          "type": "data"
         },
         "hovertemplate": "<b>%{y}</b><br>Proportion [95% CI]: <b>%{x:.2f}</b> [%{customdata[0]:.2f}; %{customdata[1]:.2f}]<br>Country: %{customdata[3]}<br>Income group: %{customdata[2]}<br>N: %{text}<extra></extra>",
         "marker": {
          "color": "rgb(127, 60, 141)",
          "size": [
           4.559014113909555
          ],
          "symbol": "square"
         },
         "mode": "markers",
         "text": [
          "27"
         ],
         "type": "scatter",
         "x": [
          0.3333333333
         ],
         "xaxis": "x5",
         "y": [
          "<a style='color:inherit' href='https://doi.org/10.1590/s0004-282x2004000600006'>Ulsenheimer et al., 2004</a>"
         ],
         "yaxis": "y5"
        },
        {
         "hoverinfo": "skip",
         "marker": {
          "color": "white"
         },
         "type": "scatter",
         "xaxis": "x5",
         "y": [
          "           "
         ],
         "yaxis": "y5"
        },
        {
         "error_x": {
          "array": [
           0
          ],
          "arrayminus": [
           0
          ],
          "type": "data"
         },
         "hovertemplate": "<b>%{y}</b><br>Estimate [95% CI]: <b>%{x:.2f}</b> [0.0, 0.0]<br>I<sup>2</sup>: 0.0%<br>N: 2<extra></extra>",
         "marker": {
          "color": "black",
          "size": 2.378414230005442,
          "symbol": "diamond-wide"
         },
         "mode": "markers",
         "type": "scatter",
         "x": [
          null
         ],
         "xaxis": "x5",
         "y": [
          "<b>High income</b>"
         ],
         "yaxis": "y5"
        },
        {
         "customdata": [
          [
           "0.0",
           "0.841886116991607",
           "High income",
           "Netherlands"
          ]
         ],
         "error_x": {
          "array": [
           0.8418811170416065
          ],
          "arrayminus": [
           0.000004999950000499995
          ],
          "type": "data"
         },
         "hovertemplate": "<b>%{y}</b><br>Proportion [95% CI]: <b>%{x:.2f}</b> [%{customdata[0]:.2f}; %{customdata[1]:.2f}]<br>Country: %{customdata[3]}<br>Income group: %{customdata[2]}<br>N: %{text}<extra></extra>",
         "marker": {
          "color": "rgb(127, 60, 141)",
          "size": [
           2.378414230005442
          ],
          "symbol": "square"
         },
         "mode": "markers",
         "text": [
          "2"
         ],
         "type": "scatter",
         "x": [
          0.000004999950000499995
         ],
         "xaxis": "x5",
         "y": [
          "<a style='color:inherit' href='https://doi.org/10.3171/2019.7.FOCUS19447'>Spoor et al., 2019</a>"
         ],
         "yaxis": "y5"
        },
        {
         "error_x": {
          "array": [
           0.1
          ],
          "arrayminus": [
           0.1
          ],
          "type": "data"
         },
         "hovertemplate": "<b>%{y}</b><br>Pooled estimate [95% CI]: <b>%{x:.2f}</b> [0.11, 0.31]<br>I<sup>2</sup>: 98.94%<br>N: 2480<extra></extra>",
         "marker": {
          "color": "black",
          "size": 14.113766101498909,
          "symbol": "diamond-wide"
         },
         "mode": "markers",
         "type": "scatter",
         "x": [
          0.21
         ],
         "xaxis": "x6",
         "y": [
          "<b>Global effect</b>"
         ],
         "yaxis": "y6"
        },
        {
         "hoverinfo": "skip",
         "marker": {
          "color": "white"
         },
         "type": "scatter",
         "xaxis": "x6",
         "y": [
          "                   "
         ],
         "yaxis": "y6"
        },
        {
         "error_x": {
          "array": [
           0.19
          ],
          "arrayminus": [
           0.19
          ],
          "type": "data"
         },
         "hovertemplate": "<b>%{y}</b><br>Estimate [95% CI]: <b>%{x:.2f}</b> [0.14, 0.52]<br>I<sup>2</sup>: 91.93%<br>N: 1250<extra></extra>",
         "marker": {
          "color": "black",
          "size": 11.89207115002721,
          "symbol": "diamond-wide"
         },
         "mode": "markers",
         "type": "scatter",
         "x": [
          0.33
         ],
         "xaxis": "x6",
         "y": [
          "<b>Upper middle income</b>"
         ],
         "yaxis": "y6"
        },
        {
         "customdata": [
          [
           "0.3293248231538442",
           "0.47175648881287213",
           "Upper middle income",
           "Brazil"
          ],
          [
           "0.19800655395131053",
           "0.25743915648602206",
           "Upper middle income",
           "Turkey"
          ],
          [
           "0.11461600510260381",
           "0.43404937492227846",
           "Upper middle income",
           "Brazil"
          ],
          [
           "0.005050763379468115",
           "0.7164179361180895",
           "Upper middle income",
           "Brazil"
          ],
          [
           "0.20680811686740405",
           "0.4670710482354229",
           "Upper middle income",
           "Turkey"
          ],
          [
           "0.10402634219208506",
           "0.22996045482214617",
           "Upper middle income",
           "Turkey"
          ],
          [
           "0.5774169399556212",
           "0.9137830600524457",
           "Upper middle income",
           "Brazil"
          ]
         ],
         "error_x": {
          "array": [
           0.07175648881287211,
           0.030738904586022048,
           0.18404937492227846,
           0.5164179361180894,
           0.1397983212354229,
           0.07023823262214615,
           0.13600528225244568
          ],
          "arrayminus": [
           0.07067517684615582,
           0.02869369794868948,
           0.1353839948973962,
           0.1949492366205319,
           0.12046461013259593,
           0.05569588000791495,
           0.20036083784437886
          ],
          "type": "data"
         },
         "hovertemplate": "<b>%{y}</b><br>Proportion [95% CI]: <b>%{x:.2f}</b> [%{customdata[0]:.2f}; %{customdata[1]:.2f}]<br>Country: %{customdata[3]}<br>Income group: %{customdata[2]}<br>N: %{text}<extra></extra>",
         "marker": {
          "color": "rgb(17, 165, 121)",
          "size": [
           7.4545137975457,
           10.616591846202008,
           4.756828460010884,
           2.990697562442441,
           5.4465396306630005,
           6.928203230275509,
           4.559014113909555
          ],
          "symbol": "square"
         },
         "mode": "markers",
         "text": [
          "193",
          "794",
          "32",
          "5",
          "55",
          "144",
          "27"
         ],
         "type": "scatter",
         "x": [
          0.4,
          0.2267002519,
          0.25,
          0.2,
          0.327272727,
          0.1597222222,
          0.7777777778
         ],
         "xaxis": "x6",
         "y": [
          "<a style='color:inherit' href='https://doi.org/10.3171/2019.7.focus19462'>Protzenko et al., 2019</a>",
          "<a style='color:inherit' href='https://jpma.org.pk/article-details/8517?article_id=8517'>Arslan et al., 2018</a>",
          "<a style='color:inherit' href='https://doi.org/10.1007/s00381-016-3012-7'>Rodrigues et al., 2016</a>",
          "<a style='color:inherit' href='https://doi.org/10.1007/s00381-016-3237-5'>de Oliveira et al., 2016</a>",
          "<a style='color:inherit' href='https://doi.org/10.1007/s00381-015-2701-y'>Demir et al., 2015</a>",
          "<a style='color:inherit' href='https://doi.org/10.5137/1019-5149.jtn.4263-11.1'>Arslan et al., 2011</a>",
          "<a style='color:inherit' href='https://doi.org/10.1590/s0004-282x2004000600006'>Ulsenheimer et al., 2004</a>"
         ],
         "yaxis": "y6"
        },
        {
         "hoverinfo": "skip",
         "marker": {
          "color": "white"
         },
         "type": "scatter",
         "xaxis": "x6",
         "y": [
          "                   "
         ],
         "yaxis": "y6"
        },
        {
         "error_x": {
          "array": [
           0.03
          ],
          "arrayminus": [
           0
          ],
          "type": "data"
         },
         "hovertemplate": "<b>%{y}</b><br>Estimate [95% CI]: <b>%{x:.2f}</b> [0.0, 0.03]<br>I<sup>2</sup>: 82.66%<br>N: 80<extra></extra>",
         "marker": {
          "color": "black",
          "size": 5.981395124884882,
          "symbol": "diamond-wide"
         },
         "mode": "markers",
         "type": "scatter",
         "x": [
          0
         ],
         "xaxis": "x6",
         "y": [
          "<b>Lower middle income</b>"
         ],
         "yaxis": "y6"
        },
        {
         "customdata": [
          [
           "0.06583383367895039",
           "0.23156644189706177",
           "Lower middle income",
           "Pakistan"
          ],
          [
           "0.0",
           "0.7075982261787133",
           "Lower middle income",
           "Iran, Islamic Rep."
          ],
          [
           "0.0",
           "0.841886116991607",
           "Lower middle income",
           "India"
          ]
         ],
         "error_x": {
          "array": [
           0.09823310859706177,
           0.707594892867602,
           0.8418811170416065
          ],
          "arrayminus": [
           0.0674994996210496,
           0.0000033333111112592582,
           0.000004999950000499995
          ],
          "type": "data"
         },
         "hovertemplate": "<b>%{y}</b><br>Proportion [95% CI]: <b>%{x:.2f}</b> [%{customdata[0]:.2f}; %{customdata[1]:.2f}]<br>Country: %{customdata[3]}<br>Income group: %{customdata[2]}<br>N: %{text}<extra></extra>",
         "marker": {
          "color": "rgb(17, 165, 121)",
          "size": [
           5.885661912765424,
           2.6321480259049848,
           2.378414230005442
          ],
          "symbol": "square"
         },
         "mode": "markers",
         "text": [
          "75",
          "3",
          "2"
         ],
         "type": "scatter",
         "x": [
          0.1333333333,
          0.0000033333111112592582,
          0.000004999950000499995
         ],
         "xaxis": "x6",
         "y": [
          "<a style='color:inherit' href='https://pubmed.ncbi.nlm.nih.gov/30632328/'>Khattak et al., 2018</a>",
          "<a style='color:inherit' href='https://doi.org/10.3171/ped.2007.106.4.316'>Keshavarzi et al., 2007</a>",
          "<a style='color:inherit' href='https://doi.org/10.1159/000095569'>Rath et al., 2006</a>"
         ],
         "yaxis": "y6"
        },
        {
         "hoverinfo": "skip",
         "marker": {
          "color": "white"
         },
         "type": "scatter",
         "xaxis": "x6",
         "y": [
          "          "
         ],
         "yaxis": "y6"
        },
        {
         "error_x": {
          "array": [
           0.78
          ],
          "arrayminus": [
           0.2
          ],
          "type": "data"
         },
         "hovertemplate": "<b>%{y}</b><br>Estimate [95% CI]: <b>%{x:.2f}</b> [0.0, 0.98]<br>I<sup>2</sup>: 0.0%<br>N: 1<extra></extra>",
         "marker": {
          "color": "black",
          "size": 2,
          "symbol": "diamond-wide"
         },
         "mode": "markers",
         "type": "scatter",
         "x": [
          null
         ],
         "xaxis": "x6",
         "y": [
          "<b>Low income</b>"
         ],
         "yaxis": "y6"
        },
        {
         "customdata": [
          [
           "0.0",
           "0.975",
           "Low income",
           "Congo, Dem. Rep."
          ]
         ],
         "error_x": {
          "array": [
           0.7749999999999999
          ],
          "arrayminus": [
           0.2
          ],
          "type": "data"
         },
         "hovertemplate": "<b>%{y}</b><br>Proportion [95% CI]: <b>%{x:.2f}</b> [%{customdata[0]:.2f}; %{customdata[1]:.2f}]<br>Country: %{customdata[3]}<br>Income group: %{customdata[2]}<br>N: %{text}<extra></extra>",
         "marker": {
          "color": "rgb(17, 165, 121)",
          "size": [
           2
          ],
          "symbol": "square"
         },
         "mode": "markers",
         "text": [
          "1"
         ],
         "type": "scatter",
         "x": [
          0.2
         ],
         "xaxis": "x6",
         "y": [
          "<a style='color:inherit' href='https://doi.org/10.1007/s00383-018-4238-0'>Cairo et al., 2018</a>"
         ],
         "yaxis": "y6"
        },
        {
         "hoverinfo": "skip",
         "marker": {
          "color": "white"
         },
         "type": "scatter",
         "xaxis": "x6",
         "y": [
          "           "
         ],
         "yaxis": "y6"
        },
        {
         "error_x": {
          "array": [
           0.15
          ],
          "arrayminus": [
           0.15
          ],
          "type": "data"
         },
         "hovertemplate": "<b>%{y}</b><br>Estimate [95% CI]: <b>%{x:.2f}</b> [0.07, 0.37]<br>I<sup>2</sup>: 98.34%<br>N: 1149<extra></extra>",
         "marker": {
          "color": "black",
          "size": 11.644209292752615,
          "symbol": "diamond-wide"
         },
         "mode": "markers",
         "type": "scatter",
         "x": [
          0.22
         ],
         "xaxis": "x6",
         "y": [
          "<b>High income</b>"
         ],
         "yaxis": "y6"
        },
        {
         "customdata": [
          [
           "0.0036102968619008097",
           "0.5787231970431982",
           "High income",
           "United States"
          ],
          [
           "0.03207093718554477",
           "0.37892682654529564",
           "High income",
           "France"
          ],
          [
           "0.15284593960863158",
           "0.5083233538099897",
           "High income",
           "Italy"
          ],
          [
           "0.00919219520278767",
           "0.12356262433177885",
           "High income",
           "United States"
          ],
          [
           "0.09748528413167172",
           "0.20938860094861797",
           "High income",
           "Italy"
          ],
          [
           "0.06141709974012224",
           "0.2332189597948613",
           "High income",
           "United States"
          ],
          [
           "0.5524482064433116",
           "0.6227501790916099",
           "High income",
           "Spain"
          ],
          [
           "0.036692566176085656",
           "0.7095791362626575",
           "High income",
           "Korea, Rep."
          ]
         ],
         "error_x": {
          "array": [
           0.47645046974319816,
           0.21226015984529564,
           0.19797852620998974,
           0.07944497727177885,
           0.06232977744861798,
           0.1027841771948613,
           0.03481717909160986,
           0.42386485056265744
          ],
          "arrayminus": [
           0.09866243043809919,
           0.13459572951445523,
           0.1574988879913684,
           0.03492545185721233,
           0.04957353936832827,
           0.06901768285987775,
           0.03548479355668843,
           0.24902171952391436
          ],
          "type": "data"
         },
         "hovertemplate": "<b>%{y}</b><br>Proportion [95% CI]: <b>%{x:.2f}</b> [%{customdata[0]:.2f}; %{customdata[1]:.2f}]<br>Country: %{customdata[3]}<br>Income group: %{customdata[2]}<br>N: %{text}<extra></extra>",
         "marker": {
          "color": "rgb(17, 165, 121)",
          "size": [
           3.2531531233955713,
           4.229485053762256,
           4.641191574212168,
           5.743243422051801,
           7.221746273694555,
           5.764242834204012,
           10.566091325349355,
           3.2531531233955713
          ],
          "symbol": "square"
         },
         "mode": "markers",
         "text": [
          "7",
          "20",
          "29",
          "68",
          "170",
          "69",
          "779",
          "7"
         ],
         "type": "scatter",
         "x": [
          0.1022727273,
          0.1666666667,
          0.3103448276,
          0.04411764706,
          0.1470588235,
          0.1304347826,
          0.587933,
          0.2857142857
         ],
         "xaxis": "x6",
         "y": [
          "<a style='color:inherit' href='https://doi.org/10.1093/neuros/nyz302'>Flanders et al., 2019</a>",
          "<a style='color:inherit' href='https://doi.org/10.1016/j.wneu.2015.07.071'>Beuriat et al., 2016</a>",
          "<a style='color:inherit' href='https://doi.org/10.1007/s00381-002-0557-4'>Rendeli et al., 2002</a>",
          "<a style='color:inherit' href='https://doi.org/10.1177/088307389601100504'>Miller et al., 1996</a>",
          "<a style='color:inherit' href='https://doi.org/10.1007/bf00261592'>Caldarelli et al., 1996</a>",
          "<a style='color:inherit' href='https://doi.org/10.1159/000120890'>Parent et al., 1995</a>",
          "<a style='color:inherit' href='https://doi.org/10.1038/sc.1993.5'>Díaz Llopis et al., 1993</a>",
          "<a style='color:inherit' href='https://www.jkns.or.kr/journal/view.php?number=5024'>Lee et al., 1992</a>"
         ],
         "yaxis": "y6"
        },
        {
         "error_x": {
          "array": [
           0.4
          ],
          "arrayminus": [
           0.14
          ],
          "type": "data"
         },
         "hovertemplate": "<b>%{y}</b><br>Pooled estimate [95% CI]: <b>%{x:.2f}</b> [0.0, 0.55]<br>I<sup>2</sup>: 78.87%<br>N: 36<extra></extra>",
         "marker": {
          "color": "black",
          "size": 4.898979485566356,
          "symbol": "diamond-wide"
         },
         "mode": "markers",
         "type": "scatter",
         "x": [
          0.14
         ],
         "xaxis": "x7",
         "y": [
          "<b>Global effect</b>"
         ],
         "yaxis": "y7"
        },
        {
         "hoverinfo": "skip",
         "marker": {
          "color": "white"
         },
         "type": "scatter",
         "xaxis": "x7",
         "y": [
          "                   "
         ],
         "yaxis": "y7"
        },
        {
         "error_x": {
          "array": [
           0
          ],
          "arrayminus": [
           0
          ],
          "type": "data"
         },
         "hovertemplate": "<b>%{y}</b><br>Estimate [95% CI]: <b>%{x:.2f}</b> [0.0, 0.0]<br>I<sup>2</sup>: 0.0%<br>N: 9<extra></extra>",
         "marker": {
          "color": "black",
          "size": 3.4641016151377544,
          "symbol": "diamond-wide"
         },
         "mode": "markers",
         "type": "scatter",
         "x": [
          null
         ],
         "xaxis": "x7",
         "y": [
          "<b>Lower middle income</b>"
         ],
         "yaxis": "y7"
        },
        {
         "customdata": [
          [
           "0.0",
           "0.3362671168799429",
           "Lower middle income",
           "Nigeria"
          ]
         ],
         "error_x": {
          "array": [
           0.3362660057713009
          ],
          "arrayminus": [
           0.0000011111086419807957
          ],
          "type": "data"
         },
         "hovertemplate": "<b>%{y}</b><br>Proportion [95% CI]: <b>%{x:.2f}</b> [%{customdata[0]:.2f}; %{customdata[1]:.2f}]<br>Country: %{customdata[3]}<br>Income group: %{customdata[2]}<br>N: %{text}<extra></extra>",
         "marker": {
          "color": "rgb(57, 105, 172)",
          "size": [
           3.4641016151377544
          ],
          "symbol": "square"
         },
         "mode": "markers",
         "text": [
          "9"
         ],
         "type": "scatter",
         "x": [
          0.0000011111086419807957
         ],
         "xaxis": "x7",
         "y": [
          "<a style='color:inherit' href='https://www.ajol.info/index.php/njcp/article/view/114862/104498'>Ojo et al., 2015</a>"
         ],
         "yaxis": "y7"
        },
        {
         "hoverinfo": "skip",
         "marker": {
          "color": "white"
         },
         "type": "scatter",
         "xaxis": "x7",
         "y": [
          "           "
         ],
         "yaxis": "y7"
        },
        {
         "error_x": {
          "array": [
           0.19
          ],
          "arrayminus": [
           0.19
          ],
          "type": "data"
         },
         "hovertemplate": "<b>%{y}</b><br>Estimate [95% CI]: <b>%{x:.2f}</b> [0.06, 0.45]<br>I<sup>2</sup>: 0.0%<br>N: 27<extra></extra>",
         "marker": {
          "color": "black",
          "size": 4.559014113909555,
          "symbol": "diamond-wide"
         },
         "mode": "markers",
         "type": "scatter",
         "x": [
          0.26
         ],
         "xaxis": "x7",
         "y": [
          "<b>High income</b>"
         ],
         "yaxis": "y7"
        },
        {
         "customdata": [
          [
           "0.036692566176085656",
           "0.7095791362626575",
           "High income",
           "United States"
          ],
          [
           "0.08657146910143455",
           "0.49104587170795755",
           "High income",
           "France"
          ]
         ],
         "error_x": {
          "array": [
           0.42386485056265744,
           0.24104587170795755
          ],
          "arrayminus": [
           0.24902171952391436,
           0.16342853089856546
          ],
          "type": "data"
         },
         "hovertemplate": "<b>%{y}</b><br>Proportion [95% CI]: <b>%{x:.2f}</b> [%{customdata[0]:.2f}; %{customdata[1]:.2f}]<br>Country: %{customdata[3]}<br>Income group: %{customdata[2]}<br>N: %{text}<extra></extra>",
         "marker": {
          "color": "rgb(57, 105, 172)",
          "size": [
           3.2531531233955713,
           4.229485053762256
          ],
          "symbol": "square"
         },
         "mode": "markers",
         "text": [
          "7",
          "20"
         ],
         "type": "scatter",
         "x": [
          0.2857142857,
          0.25
         ],
         "xaxis": "x7",
         "y": [
          "<a style='color:inherit' href='https://doi.org/10.1093/neuros/nyz302'>Flanders et al., 2019</a>",
          "<a style='color:inherit' href='https://doi.org/10.1016/j.wneu.2015.07.071'>Beuriat et al., 2016</a>"
         ],
         "yaxis": "y7"
        },
        {
         "error_x": {
          "array": [
           0
          ],
          "arrayminus": [
           0
          ],
          "type": "data"
         },
         "hovertemplate": "<b>%{y}</b><br>Pooled estimate [95% CI]: <b>%{x:.2f}</b> [0.0, 0.0]<br>I<sup>2</sup>: 0.0%<br>N: 430<extra></extra>",
         "marker": {
          "color": "black",
          "size": 9.107456583114239,
          "symbol": "diamond-wide"
         },
         "mode": "markers",
         "type": "scatter",
         "x": [
          0
         ],
         "xaxis": "x10",
         "y": [
          "<b>Global effect</b>"
         ],
         "yaxis": "y10"
        },
        {
         "hoverinfo": "skip",
         "marker": {
          "color": "white"
         },
         "type": "scatter",
         "xaxis": "x10",
         "y": [
          "                   "
         ],
         "yaxis": "y10"
        },
        {
         "error_x": {
          "array": [
           0
          ],
          "arrayminus": [
           0
          ],
          "type": "data"
         },
         "hovertemplate": "<b>%{y}</b><br>Estimate [95% CI]: <b>%{x:.2f}</b> [0.0, 0.0]<br>I<sup>2</sup>: 0.0%<br>N: 97<extra></extra>",
         "marker": {
          "color": "black",
          "size": 6.276577985429992,
          "symbol": "diamond-wide"
         },
         "mode": "markers",
         "type": "scatter",
         "x": [
          0
         ],
         "xaxis": "x10",
         "y": [
          "<b>Upper middle income</b>"
         ],
         "yaxis": "y10"
        },
        {
         "customdata": [
          [
           "0.0",
           "0.09025110096033434",
           "Upper middle income",
           "Turkey"
          ],
          [
           "0.0",
           "0.07548573369105858",
           "Upper middle income",
           "Mexico"
          ],
          [
           "0.0",
           "0.6023646356164858",
           "Upper middle income",
           "Brazil"
          ],
          [
           "0.0",
           "0.4096163972250487",
           "Upper middle income",
           "Turkey"
          ]
         ],
         "error_x": {
          "array": [
           0.09025084455020942,
           0.07548552092519167,
           0.6023621356289858,
           0.40961496865770175
          ],
          "arrayminus": [
           2.5641012491788464e-7,
           2.1276586690814172e-7,
           0.0000024999875000625,
           0.0000014285673469504376
          ],
          "type": "data"
         },
         "hovertemplate": "<b>%{y}</b><br>Proportion [95% CI]: <b>%{x:.2f}</b> [%{customdata[0]:.2f}; %{customdata[1]:.2f}]<br>Country: %{customdata[3]}<br>Income group: %{customdata[2]}<br>N: %{text}<extra></extra>",
         "marker": {
          "color": "rgb(17, 165, 121)",
          "size": [
           4.997998798878767,
           5.236660997391771,
           2.8284271247461903,
           3.2531531233955713
          ],
          "symbol": "square"
         },
         "mode": "markers",
         "text": [
          "39",
          "47",
          "4",
          "7"
         ],
         "type": "scatter",
         "x": [
          2.5641012491788464e-7,
          2.1276586690814172e-7,
          0.0000024999875000625,
          0.0000014285673469504376
         ],
         "xaxis": "x10",
         "y": [
          "<a style='color:inherit' href='https://doi.org/10.14245%2Fkjs.2017.14.1.7'>Eseoğlu et al., 2017</a>",
          "<a style='color:inherit' href='https://www.scielo.org.mx/scielo.php?script=sci_arttext&pid=S1870-72032017000200105'>Alcocer Maldonado et al., 2017</a>",
          "<a style='color:inherit' href='https://doi.org/10.1590/0004-282x20150169'>Oliveira et al., 2015</a>",
          "<a style='color:inherit' href='https://doi.org/10.1186/1471-2334-6-43'>Sacar et al., 2006</a>"
         ],
         "yaxis": "y10"
        },
        {
         "hoverinfo": "skip",
         "marker": {
          "color": "white"
         },
         "type": "scatter",
         "xaxis": "x10",
         "y": [
          "           "
         ],
         "yaxis": "y10"
        },
        {
         "error_x": {
          "array": [
           0
          ],
          "arrayminus": [
           0
          ],
          "type": "data"
         },
         "hovertemplate": "<b>%{y}</b><br>Estimate [95% CI]: <b>%{x:.2f}</b> [0.0, 0.0]<br>I<sup>2</sup>: 0.0%<br>N: 333<extra></extra>",
         "marker": {
          "color": "black",
          "size": 8.543602891261896,
          "symbol": "diamond-wide"
         },
         "mode": "markers",
         "type": "scatter",
         "x": [
          0
         ],
         "xaxis": "x10",
         "y": [
          "<b>High income</b>"
         ],
         "yaxis": "y10"
        },
        {
         "customdata": [
          [
           "0.0",
           "0.975",
           "High income",
           "United States"
          ],
          [
           "0.0",
           "0.04198701530414452",
           "High income",
           "Poland"
          ],
          [
           "0.0",
           "0.06060890095033983",
           "High income",
           "Denmark"
          ],
          [
           "0.0",
           "0.5218237501049814",
           "High income",
           "United States"
          ],
          [
           "0.0",
           "0.021465554980945514",
           "High income",
           "Italy"
          ],
          [
           "0.0",
           "0.3694166475528192",
           "High income",
           "United States"
          ],
          [
           "0.0",
           "0.6023646356164858",
           "High income",
           "United Kingdom"
          ]
         ],
         "error_x": {
          "array": [
           0.9749900001999959,
           0.04198689902510179,
           0.060608731458871856,
           0.5218217501129814,
           0.021465496157423023,
           0.3309551090928192,
           0.6023621356289858
          ],
          "arrayminus": [
           0.00000999980000399992,
           1.1627904272580402e-7,
           1.694914679689939e-7,
           0.000001999992000032,
           5.88235224913503e-8,
           0.03846153846,
           0.0000024999875000625
          ],
          "type": "data"
         },
         "hovertemplate": "<b>%{y}</b><br>Proportion [95% CI]: <b>%{x:.2f}</b> [%{customdata[0]:.2f}; %{customdata[1]:.2f}]<br>Country: %{customdata[3]}<br>Income group: %{customdata[2]}<br>N: %{text}<extra></extra>",
         "marker": {
          "color": "rgb(17, 165, 121)",
          "size": [
           2,
           6.090523292951339,
           5.542976004952072,
           2.990697562442441,
           7.221746273694555,
           3.363585661014858,
           2.8284271247461903
          ],
          "symbol": "square"
         },
         "mode": "markers",
         "text": [
          "1",
          "86",
          "59",
          "5",
          "170",
          "8",
          "4"
         ],
         "type": "scatter",
         "x": [
          0.00000999980000399992,
          1.1627904272580402e-7,
          1.694914679689939e-7,
          0.000001999992000032,
          5.88235224913503e-8,
          0.03846153846,
          0.0000024999875000625
         ],
         "xaxis": "x10",
         "y": [
          "<a style='color:inherit' href='https://doi.org/10.3171/2019.7.focus19434'>Lu et al., 2019</a>",
          "<a style='color:inherit' href='https://advances.umw.edu.pl/en/article/2011/20/5/543/'>Rysiakiewicz et al., 2011</a>",
          "<a style='color:inherit' href='https://doi.org/10.1007/s00381-010-1113-2'>Clemmensen et al., 2010</a>",
          "<a style='color:inherit' href='https://doi.org/10.1159/000072870'>Sandquist et al., 2003</a>",
          "<a style='color:inherit' href='https://doi.org/10.1007/bf00261592'>Caldarelli et al., 1996</a>",
          "<a style='color:inherit' href='https://doi.org/10.3171/jns.1992.77.4.0551'>Rosseau et al., 1992</a>",
          "<a style='color:inherit' href='https://doi.org/10.1136%2Fbjo.52.9.670'>Harcourt et al., 1968</a>"
         ],
         "yaxis": "y10"
        },
        {
         "error_x": {
          "array": [
           0
          ],
          "arrayminus": [
           0
          ],
          "type": "data"
         },
         "hovertemplate": "<b>%{y}</b><br>Pooled estimate [95% CI]: <b>%{x:.2f}</b> [0.0, 0.0]<br>I<sup>2</sup>: 0.0%<br>N: 9<extra></extra>",
         "marker": {
          "color": "black",
          "size": 3.4641016151377544,
          "symbol": "diamond-wide"
         },
         "mode": "markers",
         "type": "scatter",
         "x": [
          null
         ],
         "xaxis": "x11",
         "y": [
          "<b>Global effect</b>"
         ],
         "yaxis": "y11"
        },
        {
         "hoverinfo": "skip",
         "marker": {
          "color": "white"
         },
         "type": "scatter",
         "xaxis": "x11",
         "y": [
          "                   "
         ],
         "yaxis": "y11"
        },
        {
         "error_x": {
          "array": [
           0
          ],
          "arrayminus": [
           0
          ],
          "type": "data"
         },
         "hovertemplate": "<b>%{y}</b><br>Estimate [95% CI]: <b>%{x:.2f}</b> [0.0, 0.0]<br>I<sup>2</sup>: 0.0%<br>N: 9<extra></extra>",
         "marker": {
          "color": "black",
          "size": 3.4641016151377544,
          "symbol": "diamond-wide"
         },
         "mode": "markers",
         "type": "scatter",
         "x": [
          null
         ],
         "xaxis": "x11",
         "y": [
          "<b>Lower middle income</b>"
         ],
         "yaxis": "y11"
        },
        {
         "customdata": [
          [
           "0.0",
           "0.3362671168799429",
           "Lower middle income",
           "Nigeria"
          ]
         ],
         "error_x": {
          "array": [
           0.3362660057713009
          ],
          "arrayminus": [
           0.0000011111086419807957
          ],
          "type": "data"
         },
         "hovertemplate": "<b>%{y}</b><br>Proportion [95% CI]: <b>%{x:.2f}</b> [%{customdata[0]:.2f}; %{customdata[1]:.2f}]<br>Country: %{customdata[3]}<br>Income group: %{customdata[2]}<br>N: %{text}<extra></extra>",
         "marker": {
          "color": "rgb(57, 105, 172)",
          "size": [
           3.4641016151377544
          ],
          "symbol": "square"
         },
         "mode": "markers",
         "text": [
          "9"
         ],
         "type": "scatter",
         "x": [
          0.0000011111086419807957
         ],
         "xaxis": "x11",
         "y": [
          "<a style='color:inherit' href='https://www.ajol.info/index.php/njcp/article/view/114862/104498'>Ojo et al., 2015</a>"
         ],
         "yaxis": "y11"
        },
        {
         "error_x": {
          "array": [
           0
          ],
          "arrayminus": [
           0
          ],
          "type": "data"
         },
         "hovertemplate": "<b>%{y}</b><br>Pooled estimate [95% CI]: <b>%{x:.2f}</b> [0.0, 0.0]<br>I<sup>2</sup>: 0.0%<br>N: 7<extra></extra>",
         "marker": {
          "color": "black",
          "size": 3.2531531233955713,
          "symbol": "diamond-wide"
         },
         "mode": "markers",
         "type": "scatter",
         "x": [
          null
         ],
         "xaxis": "x12",
         "y": [
          "<b>Global effect</b>"
         ],
         "yaxis": "y12"
        },
        {
         "hoverinfo": "skip",
         "marker": {
          "color": "white"
         },
         "type": "scatter",
         "xaxis": "x12",
         "y": [
          "           "
         ],
         "yaxis": "y12"
        },
        {
         "error_x": {
          "array": [
           0
          ],
          "arrayminus": [
           0
          ],
          "type": "data"
         },
         "hovertemplate": "<b>%{y}</b><br>Estimate [95% CI]: <b>%{x:.2f}</b> [0.0, 0.0]<br>I<sup>2</sup>: 0.0%<br>N: 7<extra></extra>",
         "marker": {
          "color": "black",
          "size": 3.2531531233955713,
          "symbol": "diamond-wide"
         },
         "mode": "markers",
         "type": "scatter",
         "x": [
          null
         ],
         "xaxis": "x12",
         "y": [
          "<b>High income</b>"
         ],
         "yaxis": "y12"
        },
        {
         "customdata": [
          [
           "0.0",
           "0.4096163972250487",
           "High income",
           "United States"
          ]
         ],
         "error_x": {
          "array": [
           0.40961496865770175
          ],
          "arrayminus": [
           0.0000014285673469504376
          ],
          "type": "data"
         },
         "hovertemplate": "<b>%{y}</b><br>Proportion [95% CI]: <b>%{x:.2f}</b> [%{customdata[0]:.2f}; %{customdata[1]:.2f}]<br>Country: %{customdata[3]}<br>Income group: %{customdata[2]}<br>N: %{text}<extra></extra>",
         "marker": {
          "color": "rgb(242, 183, 1)",
          "size": [
           3.2531531233955713
          ],
          "symbol": "square"
         },
         "mode": "markers",
         "text": [
          "7"
         ],
         "type": "scatter",
         "x": [
          0.0000014285673469504376
         ],
         "xaxis": "x12",
         "y": [
          "<a style='color:inherit' href='https://doi.org/10.3171/2015.5.peds14692'>Weil et al., 2016</a>"
         ],
         "yaxis": "y12"
        },
        {
         "error_x": {
          "array": [
           0
          ],
          "arrayminus": [
           0
          ],
          "type": "data"
         },
         "hovertemplate": "<b>%{y}</b><br>Pooled estimate [95% CI]: <b>%{x:.2f}</b> [0.0, 0.0]<br>I<sup>2</sup>: 61.47%<br>N: 539<extra></extra>",
         "marker": {
          "color": "black",
          "size": 9.636674433120131,
          "symbol": "diamond-wide"
         },
         "mode": "markers",
         "type": "scatter",
         "x": [
          0
         ],
         "xaxis": "x14",
         "y": [
          "<b>Global effect</b>"
         ],
         "yaxis": "y14"
        },
        {
         "hoverinfo": "skip",
         "marker": {
          "color": "white"
         },
         "type": "scatter",
         "xaxis": "x14",
         "y": [
          "                   "
         ],
         "yaxis": "y14"
        },
        {
         "error_x": {
          "array": [
           0
          ],
          "arrayminus": [
           0
          ],
          "type": "data"
         },
         "hovertemplate": "<b>%{y}</b><br>Estimate [95% CI]: <b>%{x:.2f}</b> [0.0, 0.0]<br>I<sup>2</sup>: 0.0%<br>N: 71<extra></extra>",
         "marker": {
          "color": "black",
          "size": 5.805566216374199,
          "symbol": "diamond-wide"
         },
         "mode": "markers",
         "type": "scatter",
         "x": [
          0
         ],
         "xaxis": "x14",
         "y": [
          "<b>Upper middle income</b>"
         ],
         "yaxis": "y14"
        },
        {
         "customdata": [
          [
           "0.0",
           "0.09025110096033434",
           "Upper middle income",
           "Turkey"
          ],
          [
           "0.0",
           "0.6023646356164858",
           "Upper middle income",
           "Brazil"
          ],
          [
           "0.0",
           "0.1234361185002694",
           "Upper middle income",
           "Brazil"
          ]
         ],
         "error_x": {
          "array": [
           0.09025084455020942,
           0.6023621356289858,
           0.12343576135766736
          ],
          "arrayminus": [
           2.5641012491788464e-7,
           0.0000024999875000625,
           3.5714260204099856e-7
          ],
          "type": "data"
         },
         "hovertemplate": "<b>%{y}</b><br>Proportion [95% CI]: <b>%{x:.2f}</b> [%{customdata[0]:.2f}; %{customdata[1]:.2f}]<br>Country: %{customdata[3]}<br>Income group: %{customdata[2]}<br>N: %{text}<extra></extra>",
         "marker": {
          "color": "rgb(17, 165, 121)",
          "size": [
           4.997998798878767,
           2.8284271247461903,
           4.600653267582412
          ],
          "symbol": "square"
         },
         "mode": "markers",
         "text": [
          "39",
          "4",
          "28"
         ],
         "type": "scatter",
         "x": [
          2.5641012491788464e-7,
          0.0000024999875000625,
          3.5714260204099856e-7
         ],
         "xaxis": "x14",
         "y": [
          "<a style='color:inherit' href='https://doi.org/10.14245%2Fkjs.2017.14.1.7'>Eseoğlu et al., 2017</a>",
          "<a style='color:inherit' href='https://doi.org/10.1590/0004-282x20150169'>Oliveira et al., 2015</a>",
          "<a style='color:inherit' href='https://doi.org/10.1007/s00381-003-0853-7'>Machado et al., 2004</a>"
         ],
         "yaxis": "y14"
        },
        {
         "hoverinfo": "skip",
         "marker": {
          "color": "white"
         },
         "type": "scatter",
         "xaxis": "x14",
         "y": [
          "           "
         ],
         "yaxis": "y14"
        },
        {
         "error_x": {
          "array": [
           0
          ],
          "arrayminus": [
           0
          ],
          "type": "data"
         },
         "hovertemplate": "<b>%{y}</b><br>Estimate [95% CI]: <b>%{x:.2f}</b> [0.0, 0.0]<br>I<sup>2</sup>: 75.92%<br>N: 468<extra></extra>",
         "marker": {
          "color": "black",
          "size": 9.302323936046076,
          "symbol": "diamond-wide"
         },
         "mode": "markers",
         "type": "scatter",
         "x": [
          0
         ],
         "xaxis": "x14",
         "y": [
          "<b>High income</b>"
         ],
         "yaxis": "y14"
        },
        {
         "customdata": [
          [
           "0.0",
           "0.975",
           "High income",
           "United States"
          ],
          [
           "0.0",
           "0.1684334709830855",
           "High income",
           "France"
          ],
          [
           "0.026032404666556194",
           "0.14569196431941908",
           "High income",
           "Poland"
          ],
          [
           "0.037532568076629635",
           "0.11594535268726343",
           "High income",
           "United States"
          ],
          [
           "0.0",
           "0.021465554980945514",
           "High income",
           "Italy"
          ],
          [
           "0.0",
           "0.6023646356164858",
           "High income",
           "United Kingdom"
          ]
         ],
         "error_x": {
          "array": [
           0.9749900001999959,
           0.1684329709835855,
           0.07092560917941908,
           0.047165352687263434,
           0.021465496157423023,
           0.6023621356289858
          ],
          "arrayminus": [
           0.00000999980000399992,
           4.999995000005e-7,
           0.04873395047344381,
           0.03124743192337036,
           5.88235224913503e-8,
           0.0000024999875000625
          ],
          "type": "data"
         },
         "hovertemplate": "<b>%{y}</b><br>Proportion [95% CI]: <b>%{x:.2f}</b> [%{customdata[0]:.2f}; %{customdata[1]:.2f}]<br>Country: %{customdata[3]}<br>Income group: %{customdata[2]}<br>N: %{text}<extra></extra>",
         "marker": {
          "color": "rgb(17, 165, 121)",
          "size": [
           2,
           4.229485053762256,
           6.090523292951339,
           7.395889217985175,
           7.221746273694555,
           2.8284271247461903
          ],
          "symbol": "square"
         },
         "mode": "markers",
         "text": [
          "1",
          "20",
          "86",
          "187",
          "170",
          "4"
         ],
         "type": "scatter",
         "x": [
          0.00000999980000399992,
          4.999995000005e-7,
          0.07476635514,
          0.06878,
          5.88235224913503e-8,
          0.0000024999875000625
         ],
         "xaxis": "x14",
         "y": [
          "<a style='color:inherit' href='https://doi.org/10.3171/2019.7.focus19434'>Lu et al., 2019</a>",
          "<a style='color:inherit' href='https://doi.org/10.1016/j.wneu.2015.07.071'>Beuriat et al., 2016</a>",
          "<a style='color:inherit' href='https://advances.umw.edu.pl/en/article/2011/20/5/543/'>Rysiakiewicz et al., 2011</a>",
          "<a style='color:inherit' href='https://doi.org/10.1007/s00381-003-0759-4'>Tuli et al., 2003</a>",
          "<a style='color:inherit' href='https://doi.org/10.1007/bf00261592'>Caldarelli et al., 1996</a>",
          "<a style='color:inherit' href='https://doi.org/10.1136%2Fbjo.52.9.670'>Harcourt et al., 1968</a>"
         ],
         "yaxis": "y14"
        },
        {
         "error_x": {
          "array": [
           0
          ],
          "arrayminus": [
           0
          ],
          "type": "data"
         },
         "hovertemplate": "<b>%{y}</b><br>Pooled estimate [95% CI]: <b>%{x:.2f}</b> [0.0, 0.0]<br>I<sup>2</sup>: 0.0%<br>N: 29<extra></extra>",
         "marker": {
          "color": "black",
          "size": 4.641191574212168,
          "symbol": "diamond-wide"
         },
         "mode": "markers",
         "type": "scatter",
         "x": [
          0
         ],
         "xaxis": "x15",
         "y": [
          "<b>Global effect</b>"
         ],
         "yaxis": "y15"
        },
        {
         "hoverinfo": "skip",
         "marker": {
          "color": "white"
         },
         "type": "scatter",
         "xaxis": "x15",
         "y": [
          "                   "
         ],
         "yaxis": "y15"
        },
        {
         "error_x": {
          "array": [
           0
          ],
          "arrayminus": [
           0
          ],
          "type": "data"
         },
         "hovertemplate": "<b>%{y}</b><br>Estimate [95% CI]: <b>%{x:.2f}</b> [0.0, 0.0]<br>I<sup>2</sup>: 0.0%<br>N: 9<extra></extra>",
         "marker": {
          "color": "black",
          "size": 3.4641016151377544,
          "symbol": "diamond-wide"
         },
         "mode": "markers",
         "type": "scatter",
         "x": [
          null
         ],
         "xaxis": "x15",
         "y": [
          "<b>Lower middle income</b>"
         ],
         "yaxis": "y15"
        },
        {
         "customdata": [
          [
           "0.0",
           "0.3362671168799429",
           "Lower middle income",
           "Nigeria"
          ]
         ],
         "error_x": {
          "array": [
           0.3362660057713009
          ],
          "arrayminus": [
           0.0000011111086419807957
          ],
          "type": "data"
         },
         "hovertemplate": "<b>%{y}</b><br>Proportion [95% CI]: <b>%{x:.2f}</b> [%{customdata[0]:.2f}; %{customdata[1]:.2f}]<br>Country: %{customdata[3]}<br>Income group: %{customdata[2]}<br>N: %{text}<extra></extra>",
         "marker": {
          "color": "rgb(57, 105, 172)",
          "size": [
           3.4641016151377544
          ],
          "symbol": "square"
         },
         "mode": "markers",
         "text": [
          "9"
         ],
         "type": "scatter",
         "x": [
          0.0000011111086419807957
         ],
         "xaxis": "x15",
         "y": [
          "<a style='color:inherit' href='https://www.ajol.info/index.php/njcp/article/view/114862/104498'>Ojo et al., 2015</a>"
         ],
         "yaxis": "y15"
        },
        {
         "hoverinfo": "skip",
         "marker": {
          "color": "white"
         },
         "type": "scatter",
         "xaxis": "x15",
         "y": [
          "           "
         ],
         "yaxis": "y15"
        },
        {
         "error_x": {
          "array": [
           0
          ],
          "arrayminus": [
           0
          ],
          "type": "data"
         },
         "hovertemplate": "<b>%{y}</b><br>Estimate [95% CI]: <b>%{x:.2f}</b> [0.0, 0.0]<br>I<sup>2</sup>: 0.0%<br>N: 20<extra></extra>",
         "marker": {
          "color": "black",
          "size": 4.229485053762256,
          "symbol": "diamond-wide"
         },
         "mode": "markers",
         "type": "scatter",
         "x": [
          null
         ],
         "xaxis": "x15",
         "y": [
          "<b>High income</b>"
         ],
         "yaxis": "y15"
        },
        {
         "customdata": [
          [
           "0.0",
           "0.1684334709830855",
           "High income",
           "France"
          ]
         ],
         "error_x": {
          "array": [
           0.1684329709835855
          ],
          "arrayminus": [
           4.999995000005e-7
          ],
          "type": "data"
         },
         "hovertemplate": "<b>%{y}</b><br>Proportion [95% CI]: <b>%{x:.2f}</b> [%{customdata[0]:.2f}; %{customdata[1]:.2f}]<br>Country: %{customdata[3]}<br>Income group: %{customdata[2]}<br>N: %{text}<extra></extra>",
         "marker": {
          "color": "rgb(57, 105, 172)",
          "size": [
           4.229485053762256
          ],
          "symbol": "square"
         },
         "mode": "markers",
         "text": [
          "20"
         ],
         "type": "scatter",
         "x": [
          4.999995000005e-7
         ],
         "xaxis": "x15",
         "y": [
          "<a style='color:inherit' href='https://doi.org/10.1016/j.wneu.2015.07.071'>Beuriat et al., 2016</a>"
         ],
         "yaxis": "y15"
        },
        {
         "error_x": {
          "array": [
           0.01
          ],
          "arrayminus": [
           0
          ],
          "type": "data"
         },
         "hovertemplate": "<b>%{y}</b><br>Pooled estimate [95% CI]: <b>%{x:.2f}</b> [0.0, 0.01]<br>I<sup>2</sup>: 0.0%<br>N: 100<extra></extra>",
         "marker": {
          "color": "black",
          "size": 6.324555320336759,
          "symbol": "diamond-wide"
         },
         "mode": "markers",
         "type": "scatter",
         "x": [
          0
         ],
         "xaxis": "x16",
         "y": [
          "<b>Global effect</b>"
         ],
         "yaxis": "y16"
        },
        {
         "hoverinfo": "skip",
         "marker": {
          "color": "white"
         },
         "type": "scatter",
         "xaxis": "x16",
         "y": [
          "          "
         ],
         "yaxis": "y16"
        },
        {
         "error_x": {
          "array": [
           0.02
          ],
          "arrayminus": [
           0.01
          ],
          "type": "data"
         },
         "hovertemplate": "<b>%{y}</b><br>Estimate [95% CI]: <b>%{x:.2f}</b> [0.0, 0.03]<br>I<sup>2</sup>: 0.0%<br>N: 93<extra></extra>",
         "marker": {
          "color": "black",
          "size": 6.210845598142963,
          "symbol": "diamond-wide"
         },
         "mode": "markers",
         "type": "scatter",
         "x": [
          null
         ],
         "xaxis": "x16",
         "y": [
          "<b>Low income</b>"
         ],
         "yaxis": "y16"
        },
        {
         "customdata": [
          [
           "0.00027219744174309307",
           "0.058458164514379636",
           "Low income",
           "Uganda"
          ]
         ],
         "error_x": {
          "array": [
           0.049762512340379636
          ],
          "arrayminus": [
           0.008423454732256907
          ],
          "type": "data"
         },
         "hovertemplate": "<b>%{y}</b><br>Proportion [95% CI]: <b>%{x:.2f}</b> [%{customdata[0]:.2f}; %{customdata[1]:.2f}]<br>Country: %{customdata[3]}<br>Income group: %{customdata[2]}<br>N: %{text}<extra></extra>",
         "marker": {
          "color": "rgb(242, 183, 1)",
          "size": [
           6.210845598142963
          ],
          "symbol": "square"
         },
         "mode": "markers",
         "text": [
          "93"
         ],
         "type": "scatter",
         "x": [
          0.008695652174
         ],
         "xaxis": "x16",
         "y": [
          "<a style='color:inherit' href='https://doi.org/10.3171/ped.2008.2.11.310'>Warf et al., 2008</a>"
         ],
         "yaxis": "y16"
        },
        {
         "hoverinfo": "skip",
         "marker": {
          "color": "white"
         },
         "type": "scatter",
         "xaxis": "x16",
         "y": [
          "           "
         ],
         "yaxis": "y16"
        },
        {
         "error_x": {
          "array": [
           0
          ],
          "arrayminus": [
           0
          ],
          "type": "data"
         },
         "hovertemplate": "<b>%{y}</b><br>Estimate [95% CI]: <b>%{x:.2f}</b> [0.0, 0.0]<br>I<sup>2</sup>: 0.0%<br>N: 7<extra></extra>",
         "marker": {
          "color": "black",
          "size": 3.2531531233955713,
          "symbol": "diamond-wide"
         },
         "mode": "markers",
         "type": "scatter",
         "x": [
          null
         ],
         "xaxis": "x16",
         "y": [
          "<b>High income</b>"
         ],
         "yaxis": "y16"
        },
        {
         "customdata": [
          [
           "0.0",
           "0.4096163972250487",
           "High income",
           "United States"
          ]
         ],
         "error_x": {
          "array": [
           0.40961496865770175
          ],
          "arrayminus": [
           0.0000014285673469504376
          ],
          "type": "data"
         },
         "hovertemplate": "<b>%{y}</b><br>Proportion [95% CI]: <b>%{x:.2f}</b> [%{customdata[0]:.2f}; %{customdata[1]:.2f}]<br>Country: %{customdata[3]}<br>Income group: %{customdata[2]}<br>N: %{text}<extra></extra>",
         "marker": {
          "color": "rgb(242, 183, 1)",
          "size": [
           3.2531531233955713
          ],
          "symbol": "square"
         },
         "mode": "markers",
         "text": [
          "7"
         ],
         "type": "scatter",
         "x": [
          0.0000014285673469504376
         ],
         "xaxis": "x16",
         "y": [
          "<a style='color:inherit' href='https://doi.org/10.3171/2015.5.peds14692'>Weil et al., 2016</a>"
         ],
         "yaxis": "y16"
        }
       ],
       "layout": {
        "annotations": [
         {
          "font": {
           "size": 16
          },
          "showarrow": false,
          "text": "<b>Conservative</b>",
          "x": 0.04999999999999999,
          "xanchor": "center",
          "xref": "paper",
          "y": 1,
          "yanchor": "bottom",
          "yref": "paper"
         },
         {
          "font": {
           "size": 16
          },
          "showarrow": false,
          "text": "<b>VPS</b>",
          "x": 0.35,
          "xanchor": "center",
          "xref": "paper",
          "y": 1,
          "yanchor": "bottom",
          "yref": "paper"
         },
         {
          "font": {
           "size": 16
          },
          "showarrow": false,
          "text": "<b>ETV</b>",
          "x": 0.6499999999999999,
          "xanchor": "center",
          "xref": "paper",
          "y": 1,
          "yanchor": "bottom",
          "yref": "paper"
         },
         {
          "font": {
           "size": 16
          },
          "showarrow": false,
          "text": "<b>ETV/CPC</b>",
          "x": 0.95,
          "xanchor": "center",
          "xref": "paper",
          "y": 1,
          "yanchor": "bottom",
          "yref": "paper"
         },
         {
          "font": {
           "size": 16
          },
          "showarrow": false,
          "text": "<b>Conservative",
          "x": 0.04999999999999999,
          "xanchor": "center",
          "xref": "paper",
          "y": 0.7375,
          "yanchor": "bottom",
          "yref": "paper"
         },
         {
          "font": {
           "size": 16
          },
          "showarrow": false,
          "text": "<b>VPS</b>",
          "x": 0.35,
          "xanchor": "center",
          "xref": "paper",
          "y": 0.7375,
          "yanchor": "bottom",
          "yref": "paper"
         },
         {
          "font": {
           "size": 16
          },
          "showarrow": false,
          "text": "<b>ETV</b>",
          "x": 0.6499999999999999,
          "xanchor": "center",
          "xref": "paper",
          "y": 0.7375,
          "yanchor": "bottom",
          "yref": "paper"
         },
         {
          "font": {
           "size": 16
          },
          "showarrow": false,
          "text": "<b>VPS",
          "x": 0.35,
          "xanchor": "center",
          "xref": "paper",
          "y": 0.475,
          "yanchor": "bottom",
          "yref": "paper"
         },
         {
          "font": {
           "size": 16
          },
          "showarrow": false,
          "text": "<b>ETV</b>",
          "x": 0.6499999999999999,
          "xanchor": "center",
          "xref": "paper",
          "y": 0.475,
          "yanchor": "bottom",
          "yref": "paper"
         },
         {
          "font": {
           "size": 16
          },
          "showarrow": false,
          "text": "<b>ETV/CPC</b>",
          "x": 0.95,
          "xanchor": "center",
          "xref": "paper",
          "y": 0.475,
          "yanchor": "bottom",
          "yref": "paper"
         },
         {
          "font": {
           "size": 16
          },
          "showarrow": false,
          "text": "<b>VPS</b>",
          "x": 0.35,
          "xanchor": "center",
          "xref": "paper",
          "y": 0.2125,
          "yanchor": "bottom",
          "yref": "paper"
         },
         {
          "font": {
           "size": 16
          },
          "showarrow": false,
          "text": "<b>ETV</b>",
          "x": 0.6499999999999999,
          "xanchor": "center",
          "xref": "paper",
          "y": 0.2125,
          "yanchor": "bottom",
          "yref": "paper"
         },
         {
          "font": {
           "size": 16
          },
          "showarrow": false,
          "text": "<b>ETV/CPC</b>",
          "x": 0.95,
          "xanchor": "center",
          "xref": "paper",
          "y": 0.2125,
          "yanchor": "bottom",
          "yref": "paper"
         }
        ],
        "font": {
         "family": "Arial"
        },
        "height": 1900,
        "plot_bgcolor": "white",
        "showlegend": false,
        "template": {
         "data": {
          "bar": [
           {
            "error_x": {
             "color": "#2a3f5f"
            },
            "error_y": {
             "color": "#2a3f5f"
            },
            "marker": {
             "line": {
              "color": "#E5ECF6",
              "width": 0.5
             },
             "pattern": {
              "fillmode": "overlay",
              "size": 10,
              "solidity": 0.2
             }
            },
            "type": "bar"
           }
          ],
          "barpolar": [
           {
            "marker": {
             "line": {
              "color": "#E5ECF6",
              "width": 0.5
             },
             "pattern": {
              "fillmode": "overlay",
              "size": 10,
              "solidity": 0.2
             }
            },
            "type": "barpolar"
           }
          ],
          "carpet": [
           {
            "aaxis": {
             "endlinecolor": "#2a3f5f",
             "gridcolor": "white",
             "linecolor": "white",
             "minorgridcolor": "white",
             "startlinecolor": "#2a3f5f"
            },
            "baxis": {
             "endlinecolor": "#2a3f5f",
             "gridcolor": "white",
             "linecolor": "white",
             "minorgridcolor": "white",
             "startlinecolor": "#2a3f5f"
            },
            "type": "carpet"
           }
          ],
          "choropleth": [
           {
            "colorbar": {
             "outlinewidth": 0,
             "ticks": ""
            },
            "type": "choropleth"
           }
          ],
          "contour": [
           {
            "colorbar": {
             "outlinewidth": 0,
             "ticks": ""
            },
            "colorscale": [
             [
              0,
              "#0d0887"
             ],
             [
              0.1111111111111111,
              "#46039f"
             ],
             [
              0.2222222222222222,
              "#7201a8"
             ],
             [
              0.3333333333333333,
              "#9c179e"
             ],
             [
              0.4444444444444444,
              "#bd3786"
             ],
             [
              0.5555555555555556,
              "#d8576b"
             ],
             [
              0.6666666666666666,
              "#ed7953"
             ],
             [
              0.7777777777777778,
              "#fb9f3a"
             ],
             [
              0.8888888888888888,
              "#fdca26"
             ],
             [
              1,
              "#f0f921"
             ]
            ],
            "type": "contour"
           }
          ],
          "contourcarpet": [
           {
            "colorbar": {
             "outlinewidth": 0,
             "ticks": ""
            },
            "type": "contourcarpet"
           }
          ],
          "heatmap": [
           {
            "colorbar": {
             "outlinewidth": 0,
             "ticks": ""
            },
            "colorscale": [
             [
              0,
              "#0d0887"
             ],
             [
              0.1111111111111111,
              "#46039f"
             ],
             [
              0.2222222222222222,
              "#7201a8"
             ],
             [
              0.3333333333333333,
              "#9c179e"
             ],
             [
              0.4444444444444444,
              "#bd3786"
             ],
             [
              0.5555555555555556,
              "#d8576b"
             ],
             [
              0.6666666666666666,
              "#ed7953"
             ],
             [
              0.7777777777777778,
              "#fb9f3a"
             ],
             [
              0.8888888888888888,
              "#fdca26"
             ],
             [
              1,
              "#f0f921"
             ]
            ],
            "type": "heatmap"
           }
          ],
          "heatmapgl": [
           {
            "colorbar": {
             "outlinewidth": 0,
             "ticks": ""
            },
            "colorscale": [
             [
              0,
              "#0d0887"
             ],
             [
              0.1111111111111111,
              "#46039f"
             ],
             [
              0.2222222222222222,
              "#7201a8"
             ],
             [
              0.3333333333333333,
              "#9c179e"
             ],
             [
              0.4444444444444444,
              "#bd3786"
             ],
             [
              0.5555555555555556,
              "#d8576b"
             ],
             [
              0.6666666666666666,
              "#ed7953"
             ],
             [
              0.7777777777777778,
              "#fb9f3a"
             ],
             [
              0.8888888888888888,
              "#fdca26"
             ],
             [
              1,
              "#f0f921"
             ]
            ],
            "type": "heatmapgl"
           }
          ],
          "histogram": [
           {
            "marker": {
             "pattern": {
              "fillmode": "overlay",
              "size": 10,
              "solidity": 0.2
             }
            },
            "type": "histogram"
           }
          ],
          "histogram2d": [
           {
            "colorbar": {
             "outlinewidth": 0,
             "ticks": ""
            },
            "colorscale": [
             [
              0,
              "#0d0887"
             ],
             [
              0.1111111111111111,
              "#46039f"
             ],
             [
              0.2222222222222222,
              "#7201a8"
             ],
             [
              0.3333333333333333,
              "#9c179e"
             ],
             [
              0.4444444444444444,
              "#bd3786"
             ],
             [
              0.5555555555555556,
              "#d8576b"
             ],
             [
              0.6666666666666666,
              "#ed7953"
             ],
             [
              0.7777777777777778,
              "#fb9f3a"
             ],
             [
              0.8888888888888888,
              "#fdca26"
             ],
             [
              1,
              "#f0f921"
             ]
            ],
            "type": "histogram2d"
           }
          ],
          "histogram2dcontour": [
           {
            "colorbar": {
             "outlinewidth": 0,
             "ticks": ""
            },
            "colorscale": [
             [
              0,
              "#0d0887"
             ],
             [
              0.1111111111111111,
              "#46039f"
             ],
             [
              0.2222222222222222,
              "#7201a8"
             ],
             [
              0.3333333333333333,
              "#9c179e"
             ],
             [
              0.4444444444444444,
              "#bd3786"
             ],
             [
              0.5555555555555556,
              "#d8576b"
             ],
             [
              0.6666666666666666,
              "#ed7953"
             ],
             [
              0.7777777777777778,
              "#fb9f3a"
             ],
             [
              0.8888888888888888,
              "#fdca26"
             ],
             [
              1,
              "#f0f921"
             ]
            ],
            "type": "histogram2dcontour"
           }
          ],
          "mesh3d": [
           {
            "colorbar": {
             "outlinewidth": 0,
             "ticks": ""
            },
            "type": "mesh3d"
           }
          ],
          "parcoords": [
           {
            "line": {
             "colorbar": {
              "outlinewidth": 0,
              "ticks": ""
             }
            },
            "type": "parcoords"
           }
          ],
          "pie": [
           {
            "automargin": true,
            "type": "pie"
           }
          ],
          "scatter": [
           {
            "fillpattern": {
             "fillmode": "overlay",
             "size": 10,
             "solidity": 0.2
            },
            "type": "scatter"
           }
          ],
          "scatter3d": [
           {
            "line": {
             "colorbar": {
              "outlinewidth": 0,
              "ticks": ""
             }
            },
            "marker": {
             "colorbar": {
              "outlinewidth": 0,
              "ticks": ""
             }
            },
            "type": "scatter3d"
           }
          ],
          "scattercarpet": [
           {
            "marker": {
             "colorbar": {
              "outlinewidth": 0,
              "ticks": ""
             }
            },
            "type": "scattercarpet"
           }
          ],
          "scattergeo": [
           {
            "marker": {
             "colorbar": {
              "outlinewidth": 0,
              "ticks": ""
             }
            },
            "type": "scattergeo"
           }
          ],
          "scattergl": [
           {
            "marker": {
             "colorbar": {
              "outlinewidth": 0,
              "ticks": ""
             }
            },
            "type": "scattergl"
           }
          ],
          "scattermapbox": [
           {
            "marker": {
             "colorbar": {
              "outlinewidth": 0,
              "ticks": ""
             }
            },
            "type": "scattermapbox"
           }
          ],
          "scatterpolar": [
           {
            "marker": {
             "colorbar": {
              "outlinewidth": 0,
              "ticks": ""
             }
            },
            "type": "scatterpolar"
           }
          ],
          "scatterpolargl": [
           {
            "marker": {
             "colorbar": {
              "outlinewidth": 0,
              "ticks": ""
             }
            },
            "type": "scatterpolargl"
           }
          ],
          "scatterternary": [
           {
            "marker": {
             "colorbar": {
              "outlinewidth": 0,
              "ticks": ""
             }
            },
            "type": "scatterternary"
           }
          ],
          "surface": [
           {
            "colorbar": {
             "outlinewidth": 0,
             "ticks": ""
            },
            "colorscale": [
             [
              0,
              "#0d0887"
             ],
             [
              0.1111111111111111,
              "#46039f"
             ],
             [
              0.2222222222222222,
              "#7201a8"
             ],
             [
              0.3333333333333333,
              "#9c179e"
             ],
             [
              0.4444444444444444,
              "#bd3786"
             ],
             [
              0.5555555555555556,
              "#d8576b"
             ],
             [
              0.6666666666666666,
              "#ed7953"
             ],
             [
              0.7777777777777778,
              "#fb9f3a"
             ],
             [
              0.8888888888888888,
              "#fdca26"
             ],
             [
              1,
              "#f0f921"
             ]
            ],
            "type": "surface"
           }
          ],
          "table": [
           {
            "cells": {
             "fill": {
              "color": "#EBF0F8"
             },
             "line": {
              "color": "white"
             }
            },
            "header": {
             "fill": {
              "color": "#C8D4E3"
             },
             "line": {
              "color": "white"
             }
            },
            "type": "table"
           }
          ]
         },
         "layout": {
          "annotationdefaults": {
           "arrowcolor": "#2a3f5f",
           "arrowhead": 0,
           "arrowwidth": 1
          },
          "autotypenumbers": "strict",
          "coloraxis": {
           "colorbar": {
            "outlinewidth": 0,
            "ticks": ""
           }
          },
          "colorscale": {
           "diverging": [
            [
             0,
             "#8e0152"
            ],
            [
             0.1,
             "#c51b7d"
            ],
            [
             0.2,
             "#de77ae"
            ],
            [
             0.3,
             "#f1b6da"
            ],
            [
             0.4,
             "#fde0ef"
            ],
            [
             0.5,
             "#f7f7f7"
            ],
            [
             0.6,
             "#e6f5d0"
            ],
            [
             0.7,
             "#b8e186"
            ],
            [
             0.8,
             "#7fbc41"
            ],
            [
             0.9,
             "#4d9221"
            ],
            [
             1,
             "#276419"
            ]
           ],
           "sequential": [
            [
             0,
             "#0d0887"
            ],
            [
             0.1111111111111111,
             "#46039f"
            ],
            [
             0.2222222222222222,
             "#7201a8"
            ],
            [
             0.3333333333333333,
             "#9c179e"
            ],
            [
             0.4444444444444444,
             "#bd3786"
            ],
            [
             0.5555555555555556,
             "#d8576b"
            ],
            [
             0.6666666666666666,
             "#ed7953"
            ],
            [
             0.7777777777777778,
             "#fb9f3a"
            ],
            [
             0.8888888888888888,
             "#fdca26"
            ],
            [
             1,
             "#f0f921"
            ]
           ],
           "sequentialminus": [
            [
             0,
             "#0d0887"
            ],
            [
             0.1111111111111111,
             "#46039f"
            ],
            [
             0.2222222222222222,
             "#7201a8"
            ],
            [
             0.3333333333333333,
             "#9c179e"
            ],
            [
             0.4444444444444444,
             "#bd3786"
            ],
            [
             0.5555555555555556,
             "#d8576b"
            ],
            [
             0.6666666666666666,
             "#ed7953"
            ],
            [
             0.7777777777777778,
             "#fb9f3a"
            ],
            [
             0.8888888888888888,
             "#fdca26"
            ],
            [
             1,
             "#f0f921"
            ]
           ]
          },
          "colorway": [
           "#636efa",
           "#EF553B",
           "#00cc96",
           "#ab63fa",
           "#FFA15A",
           "#19d3f3",
           "#FF6692",
           "#B6E880",
           "#FF97FF",
           "#FECB52"
          ],
          "font": {
           "color": "#2a3f5f"
          },
          "geo": {
           "bgcolor": "white",
           "lakecolor": "white",
           "landcolor": "#E5ECF6",
           "showlakes": true,
           "showland": true,
           "subunitcolor": "white"
          },
          "hoverlabel": {
           "align": "left"
          },
          "hovermode": "closest",
          "mapbox": {
           "style": "light"
          },
          "paper_bgcolor": "white",
          "plot_bgcolor": "#E5ECF6",
          "polar": {
           "angularaxis": {
            "gridcolor": "white",
            "linecolor": "white",
            "ticks": ""
           },
           "bgcolor": "#E5ECF6",
           "radialaxis": {
            "gridcolor": "white",
            "linecolor": "white",
            "ticks": ""
           }
          },
          "scene": {
           "xaxis": {
            "backgroundcolor": "#E5ECF6",
            "gridcolor": "white",
            "gridwidth": 2,
            "linecolor": "white",
            "showbackground": true,
            "ticks": "",
            "zerolinecolor": "white"
           },
           "yaxis": {
            "backgroundcolor": "#E5ECF6",
            "gridcolor": "white",
            "gridwidth": 2,
            "linecolor": "white",
            "showbackground": true,
            "ticks": "",
            "zerolinecolor": "white"
           },
           "zaxis": {
            "backgroundcolor": "#E5ECF6",
            "gridcolor": "white",
            "gridwidth": 2,
            "linecolor": "white",
            "showbackground": true,
            "ticks": "",
            "zerolinecolor": "white"
           }
          },
          "shapedefaults": {
           "line": {
            "color": "#2a3f5f"
           }
          },
          "ternary": {
           "aaxis": {
            "gridcolor": "white",
            "linecolor": "white",
            "ticks": ""
           },
           "baxis": {
            "gridcolor": "white",
            "linecolor": "white",
            "ticks": ""
           },
           "bgcolor": "#E5ECF6",
           "caxis": {
            "gridcolor": "white",
            "linecolor": "white",
            "ticks": ""
           }
          },
          "title": {
           "x": 0.05
          },
          "xaxis": {
           "automargin": true,
           "gridcolor": "white",
           "linecolor": "white",
           "ticks": "",
           "title": {
            "standoff": 15
           },
           "zerolinecolor": "white",
           "zerolinewidth": 2
          },
          "yaxis": {
           "automargin": true,
           "gridcolor": "white",
           "linecolor": "white",
           "ticks": "",
           "title": {
            "standoff": 15
           },
           "zerolinecolor": "white",
           "zerolinewidth": 2
          }
         }
        },
        "title": {
         "font": {
          "family": "Arial"
         },
         "text": "<b>Surgical outcomes by treatment</b>"
        },
        "width": 1400,
        "xaxis": {
         "anchor": "y",
         "domain": [
          0,
          0.09999999999999998
         ],
         "linecolor": "black",
         "mirror": true,
         "range": [
          0,
          1
         ],
         "showline": true,
         "tickcolor": "black",
         "ticks": "outside"
        },
        "xaxis10": {
         "anchor": "y10",
         "domain": [
          0.3,
          0.39999999999999997
         ],
         "linecolor": "black",
         "mirror": true,
         "range": [
          0,
          1
         ],
         "showline": true,
         "tickcolor": "black",
         "ticks": "outside"
        },
        "xaxis11": {
         "anchor": "y11",
         "domain": [
          0.6,
          0.7
         ],
         "linecolor": "black",
         "mirror": true,
         "range": [
          0,
          1
         ],
         "showline": true,
         "tickcolor": "black",
         "ticks": "outside"
        },
        "xaxis12": {
         "anchor": "y12",
         "domain": [
          0.9,
          1
         ],
         "linecolor": "black",
         "mirror": true,
         "range": [
          0,
          1
         ],
         "showline": true,
         "tickcolor": "black",
         "ticks": "outside"
        },
        "xaxis13": {
         "anchor": "y13",
         "domain": [
          0,
          0.09999999999999998
         ],
         "linecolor": "black",
         "mirror": true,
         "range": [
          0,
          1
         ],
         "showline": true,
         "tickcolor": "black",
         "ticks": "outside"
        },
        "xaxis14": {
         "anchor": "y14",
         "domain": [
          0.3,
          0.39999999999999997
         ],
         "linecolor": "black",
         "mirror": true,
         "range": [
          0,
          1
         ],
         "showline": true,
         "tickcolor": "black",
         "ticks": "outside"
        },
        "xaxis15": {
         "anchor": "y15",
         "domain": [
          0.6,
          0.7
         ],
         "linecolor": "black",
         "mirror": true,
         "range": [
          0,
          1
         ],
         "showline": true,
         "tickcolor": "black",
         "ticks": "outside"
        },
        "xaxis16": {
         "anchor": "y16",
         "domain": [
          0.9,
          1
         ],
         "linecolor": "black",
         "mirror": true,
         "range": [
          0,
          1
         ],
         "showline": true,
         "tickcolor": "black",
         "ticks": "outside"
        },
        "xaxis2": {
         "anchor": "y2",
         "domain": [
          0.3,
          0.39999999999999997
         ],
         "linecolor": "black",
         "mirror": true,
         "range": [
          0,
          1
         ],
         "showline": true,
         "tickcolor": "black",
         "ticks": "outside"
        },
        "xaxis3": {
         "anchor": "y3",
         "domain": [
          0.6,
          0.7
         ],
         "linecolor": "black",
         "mirror": true,
         "range": [
          0,
          1
         ],
         "showline": true,
         "tickcolor": "black",
         "ticks": "outside"
        },
        "xaxis4": {
         "anchor": "y4",
         "domain": [
          0.9,
          1
         ],
         "linecolor": "black",
         "mirror": true,
         "range": [
          0,
          1
         ],
         "showline": true,
         "tickcolor": "black",
         "ticks": "outside"
        },
        "xaxis5": {
         "anchor": "y5",
         "domain": [
          0,
          0.09999999999999998
         ],
         "linecolor": "black",
         "mirror": true,
         "range": [
          0,
          1
         ],
         "showline": true,
         "tickcolor": "black",
         "ticks": "outside"
        },
        "xaxis6": {
         "anchor": "y6",
         "domain": [
          0.3,
          0.39999999999999997
         ],
         "linecolor": "black",
         "mirror": true,
         "range": [
          0,
          1
         ],
         "showline": true,
         "tickcolor": "black",
         "ticks": "outside"
        },
        "xaxis7": {
         "anchor": "y7",
         "domain": [
          0.6,
          0.7
         ],
         "linecolor": "black",
         "mirror": true,
         "range": [
          0,
          1
         ],
         "showline": true,
         "tickcolor": "black",
         "ticks": "outside"
        },
        "xaxis8": {
         "anchor": "y8",
         "domain": [
          0.9,
          1
         ],
         "linecolor": "black",
         "mirror": true,
         "range": [
          0,
          1
         ],
         "showline": true,
         "tickcolor": "black",
         "ticks": "outside"
        },
        "xaxis9": {
         "anchor": "y9",
         "domain": [
          0,
          0.09999999999999998
         ],
         "linecolor": "black",
         "mirror": true,
         "range": [
          0,
          1
         ],
         "showline": true,
         "tickcolor": "black",
         "ticks": "outside"
        },
        "yaxis": {
         "anchor": "x",
         "domain": [
          0.7875,
          1
         ],
         "linecolor": "black",
         "mirror": true,
         "showline": true,
         "ticksuffix": "  ",
         "title": {
          "text": "Failure rate"
         }
        },
        "yaxis10": {
         "anchor": "x10",
         "domain": [
          0.2625,
          0.475
         ],
         "linecolor": "black",
         "mirror": true,
         "showline": true,
         "ticksuffix": "  ",
         "title": {
          "text": ""
         }
        },
        "yaxis11": {
         "anchor": "x11",
         "domain": [
          0.2625,
          0.475
         ],
         "linecolor": "black",
         "mirror": true,
         "showline": true,
         "ticksuffix": "  ",
         "title": {
          "text": ""
         }
        },
        "yaxis12": {
         "anchor": "x12",
         "domain": [
          0.2625,
          0.475
         ],
         "linecolor": "black",
         "mirror": true,
         "showline": true,
         "ticksuffix": "  ",
         "title": {
          "text": ""
         }
        },
        "yaxis13": {
         "anchor": "x13",
         "domain": [
          0,
          0.2125
         ],
         "linecolor": "black",
         "mirror": true,
         "showline": true,
         "ticksuffix": "  ",
         "title": {
          "text": "Perioperative mortality"
         }
        },
        "yaxis14": {
         "anchor": "x14",
         "domain": [
          0,
          0.2125
         ],
         "linecolor": "black",
         "mirror": true,
         "showline": true,
         "ticksuffix": "  ",
         "title": {
          "text": ""
         }
        },
        "yaxis15": {
         "anchor": "x15",
         "domain": [
          0,
          0.2125
         ],
         "linecolor": "black",
         "mirror": true,
         "showline": true,
         "ticksuffix": "  ",
         "title": {
          "text": ""
         }
        },
        "yaxis16": {
         "anchor": "x16",
         "domain": [
          0,
          0.2125
         ],
         "linecolor": "black",
         "mirror": true,
         "showline": true,
         "ticksuffix": "  ",
         "title": {
          "text": ""
         }
        },
        "yaxis2": {
         "anchor": "x2",
         "domain": [
          0.7875,
          1
         ],
         "linecolor": "black",
         "mirror": true,
         "showline": true,
         "ticksuffix": "  ",
         "title": {
          "text": ""
         }
        },
        "yaxis3": {
         "anchor": "x3",
         "domain": [
          0.7875,
          1
         ],
         "linecolor": "black",
         "mirror": true,
         "showline": true,
         "ticksuffix": "  ",
         "title": {
          "text": ""
         }
        },
        "yaxis4": {
         "anchor": "x4",
         "domain": [
          0.7875,
          1
         ],
         "linecolor": "black",
         "mirror": true,
         "showline": true,
         "ticksuffix": "  ",
         "title": {
          "text": ""
         }
        },
        "yaxis5": {
         "anchor": "x5",
         "domain": [
          0.525,
          0.7375
         ],
         "linecolor": "black",
         "mirror": true,
         "showline": true,
         "ticksuffix": "  ",
         "title": {
          "text": "Complication rate"
         }
        },
        "yaxis6": {
         "anchor": "x6",
         "domain": [
          0.525,
          0.7375
         ],
         "linecolor": "black",
         "mirror": true,
         "showline": true,
         "ticksuffix": "  ",
         "title": {
          "text": ""
         }
        },
        "yaxis7": {
         "anchor": "x7",
         "domain": [
          0.525,
          0.7375
         ],
         "linecolor": "black",
         "mirror": true,
         "showline": true,
         "ticksuffix": "  ",
         "title": {
          "text": ""
         }
        },
        "yaxis8": {
         "anchor": "x8",
         "domain": [
          0.525,
          0.7375
         ],
         "linecolor": "black",
         "mirror": true,
         "showline": true,
         "ticksuffix": "  ",
         "title": {
          "text": ""
         }
        },
        "yaxis9": {
         "anchor": "x9",
         "domain": [
          0.2625,
          0.475
         ],
         "linecolor": "black",
         "mirror": true,
         "showline": true,
         "ticksuffix": "  ",
         "title": {
          "text": "Intraoperative mortality"
         }
        }
       }
      }
     },
     "metadata": {},
     "output_type": "display_data"
    }
   ],
   "source": [
    "#Generate figure\n",
    "\n",
    "#This is the label of each subplot. they correspond to the order of what is contained in subplot_titles\n",
    "#The titles list contains the labels for each subplot, which correspond to the order of the metastudy keys in subplot_titles.\n",
    "titles = [\n",
    "    '<b>Conservative</b>', '<b>VPS</b>', '<b>ETV</b>', '<b>ETV/CPC</b>',\n",
    "    '<b>Conservative', '<b>VPS</b>', '<b>ETV</b>', '',\n",
    "    '', '<b>VPS', '<b>ETV</b>', '<b>ETV/CPC</b>',\n",
    "    '', '<b>VPS</b>', '<b>ETV</b>', '<b>ETV/CPC</b>',\n",
    "]\n",
    "\n",
    "# These are identifiers for the different data sets that will be plotted in the subplots.\n",
    "l = [\n",
    "    'Failure_rate_conservative',\n",
    "    'Failure_rate_VPS',\n",
    "    'Failure_rate_ETV',\n",
    "    'Failure_rate_ETV_CPC',\n",
    "\n",
    "    'Complication_rate_1st_line_conservative',\n",
    "    'Complication_rate_1st_line_VPS',\n",
    "    'Complication_rate_1st_line_ETV',\n",
    "    'Complication_rate_1st_line_CPC',\n",
    "\n",
    "    'Mortality_intraop_1st_line_conservative',\n",
    "    'Mortality_intraop_1st_line_VPS',\n",
    "    'Mortality_intraop_1st_line_ETV',\n",
    "    'Mortality_intraop_1st_line_ETV_CPC',\n",
    "\n",
    "    'Mortality_periop_1st_line_conservative',\n",
    "    'Mortality_periop_1st_line_VPS',\n",
    "    'Mortality_periop_1st_line_ETV',\n",
    "    'Mortality_periop_1st_line_ETV_CPC',\n",
    "]\n",
    "\n",
    "color_dict = {\n",
    "    'Failure_rate_conservative': 'rgb(127, 60, 141)',\n",
    "    'Complication_rate_1st_line_conservative': 'rgb(127, 60, 141)',\n",
    "    'Mortality_intraop_1st_line_conservative': 'rgb(127, 60, 141)',\n",
    "    'Mortality_periop_1st_line_conservative': 'rgb(127, 60, 141)',\n",
    "\n",
    "    'Failure_rate_VPS': 'rgb(17, 165, 121)',\n",
    "    'Complication_rate_1st_line_VPS': 'rgb(17, 165, 121)',\n",
    "    'Mortality_intraop_1st_line_VPS': 'rgb(17, 165, 121)',\n",
    "    'Mortality_periop_1st_line_VPS' : 'rgb(17, 165, 121)',\n",
    "\n",
    "    'Failure_rate_ETV': 'rgb(57, 105, 172)',\n",
    "    'Complication_rate_1st_line_ETV': 'rgb(57, 105, 172)',\n",
    "    'Mortality_intraop_1st_line_ETV': 'rgb(57, 105, 172)',\n",
    "    'Mortality_periop_1st_line_ETV': 'rgb(57, 105, 172)',\n",
    "\n",
    "    'Failure_rate_ETV_CPC': 'rgb(242, 183, 1)',\n",
    "    'Complication_rate_1st_line_ETV_CPC': 'rgb(242, 183, 1)',\n",
    "    'Mortality_intraop_1st_line_ETV_CPC': 'rgb(242, 183, 1)',\n",
    "    'Mortality_periop_1st_line_ETV_CPC': 'rgb(242, 183, 1)',\n",
    "}\n",
    "\n",
    "#Lambdas\n",
    "subset_regional_data = lambda key: [ metastudy[m][key][ix] for ix in range(len(metastudy[m]['income'])) if metastudy[m]['income'][ix]==region ]\n",
    "\n",
    "#Create subplots\n",
    "figs3 = make_subplots(rows=4, cols=4, subplot_titles=titles, horizontal_spacing=0.2, vertical_spacing=0.05)\n",
    "\n",
    "#Create a reverse dictionary where the keys are the outcome names, and the values are the outcome types.\n",
    "#This is used to sort the subplot titles based on measure type using a lambda function.\n",
    "measure_type_reverse = { m:t for t, mlist in measure_type.items() for m in mlist }\n",
    "\n",
    "#Add traces for each measure\n",
    "#The row and col variables start at 1, and the loop increments the column index until it reaches 4, then it resets the column index to 1 and increments the row index.\n",
    "#This continues until all the subplots have been created.\n",
    "row, col = 1, 1\n",
    "for m in l:\n",
    "\n",
    "    try:\n",
    "\n",
    "      #Add global estimate\n",
    "      figs3.add_trace(go.Scatter(\n",
    "              x=[round(metastudy[m]['pred'], 2) if len(metastudy[m]['ni'])>1 else None],\n",
    "              y=['<b>Global effect</b>'],\n",
    "              mode='markers',\n",
    "              marker=dict(color='black'),\n",
    "              marker_symbol='diamond-wide',\n",
    "              marker_size=2*np.power(sum(metastudy[m]['ni']), 1/4),\n",
    "              hovertemplate='<b>%{y}</b><br>'+\n",
    "                            'Pooled estimate [95% CI]: '+\n",
    "                            '<b>%{x:.2f}</b> '+\n",
    "                            f'[{round(metastudy[m][\"cilb\"], 2)}, '+\n",
    "                            f'{round(metastudy[m][\"ciub\"], 2)}]<br>'+\n",
    "                            f'I<sup>2</sup>: {round(metastudy[m][\"I2\"], 2)}%<br>'+\n",
    "                            f'N: {sum(metastudy[m][\"ni\"])}'+\n",
    "                            '<extra></extra>',\n",
    "              error_x=dict(type='data',\n",
    "                arrayminus=[round( metastudy[m]['pred'] - metastudy[m][\"cilb\"], 2 )],\n",
    "                array=[round( metastudy[m][\"ciub\"] - metastudy[m]['pred'], 2)]\n",
    "            )\n",
    "          ),\n",
    "          row=row, col=col\n",
    "      )\n",
    "\n",
    "      #Cycle through income group estimates + individual studies\n",
    "      color_key = measure_type_reverse.get(m)\n",
    "      marker_color = color_dict.get(color_key, 'gray') if color_key is not None else 'gray'\n",
    "      for region in set(metastudy[m]['income']):\n",
    "\n",
    "          #Add blank space\n",
    "          figs3.add_trace(go.Scatter(x=None, y=[f'{\" \"*len(region)}'], marker=dict(color='white'), hoverinfo='skip'), row=row, col=col)\n",
    "\n",
    "          #Add income group estimate\n",
    "          figs3.add_trace(go.Scatter(\n",
    "                  x=[round(metastudy[m]['pred_reg'][region], 2) if len(subset_regional_data('yi'))>1 else None],\n",
    "                  y=[f'<b>{region}</b>'],\n",
    "                  mode='markers',\n",
    "                  marker=dict(color='black'),\n",
    "                  marker_symbol='diamond-wide',\n",
    "                  marker_size=2*np.power(sum(subset_regional_data('ni')), 1/4),\n",
    "                  hovertemplate='<b>%{y}</b><br>'+\n",
    "                                'Estimate [95% CI]: '+\n",
    "                                '<b>%{x:.2f}</b> '+\n",
    "                                f'[{round(metastudy[m][\"cilb_reg\"][region], 2)}, '+\n",
    "                                f'{round(metastudy[m][\"ciub_reg\"][region], 2)}]<br>'+\n",
    "                                f'I<sup>2</sup>: {round(metastudy[m][\"I2_reg\"][region], 2)}%<br>'+\n",
    "                                f'N: {sum(subset_regional_data(\"ni\"))}'+\n",
    "                                '<extra></extra>',\n",
    "                  error_x=dict(type='data',\n",
    "                    arrayminus=[round( metastudy[m]['pred_reg'][region] - metastudy[m][\"cilb_reg\"][region], 2 )],\n",
    "                    array=[round( metastudy[m][\"ciub_reg\"][region] - metastudy[m]['pred_reg'][region], 2)]\n",
    "                )\n",
    "              ),\n",
    "              row=row, col=col\n",
    "          )\n",
    "\n",
    "          #Add individual studies for the income group\n",
    "          figs3.add_trace(go.Scatter(\n",
    "                x=subset_regional_data('yi'),\n",
    "                y=subset_regional_data('slab'),\n",
    "                text=subset_regional_data('ni'),\n",
    "                customdata=np.transpose([[\n",
    "                        #95% CI lower bound\n",
    "                        binomtest(k=int(round(k_n*n)), n=n).proportion_ci().low for k_n,n in zip(\n",
    "                            subset_regional_data('yi'),\n",
    "                            subset_regional_data('ni')\n",
    "                    )],\n",
    "                        #95% CI upper bound\n",
    "                    [   binomtest(k=int(round(k_n*n)), n=n).proportion_ci().high for k_n,n in zip(\n",
    "                            subset_regional_data('yi'),\n",
    "                            subset_regional_data('ni')\n",
    "                    )],\n",
    "                        #Region\n",
    "                        subset_regional_data('income'),\n",
    "\n",
    "                        #Country\n",
    "                        subset_regional_data('country')\n",
    "                ]),\n",
    "                mode='markers',\n",
    "                marker = dict(color=color_dict[m]),\n",
    "                marker_symbol='square',\n",
    "                marker_size=2*np.power(subset_regional_data('ni'), 1/4),\n",
    "                hovertemplate='<b>%{y}</b><br>'+\n",
    "                              'Proportion [95% CI]: <b>%{x:.2f}</b> [%{customdata[0]:.2f}; %{customdata[1]:.2f}]<br>'+\n",
    "                              'Country: %{customdata[3]}<br>'+\n",
    "                              'Income group: %{customdata[2]}<br>'+\n",
    "                              'N: %{text}'+\n",
    "                              '<extra></extra>',\n",
    "                error_x=dict(type='data',\n",
    "                    arrayminus=[ (k_n - binomtest(k=int(round(k_n*n)), n=n).proportion_ci().low) for k_n, n in zip(subset_regional_data('yi'), subset_regional_data('ni')) ],\n",
    "                    array=[ (binomtest(k=int(round(k_n*n)), n=n).proportion_ci().high - k_n) for k_n, n in zip(subset_regional_data('yi'), subset_regional_data('ni')) ]\n",
    "                )\n",
    "              ),\n",
    "              row=row, col=col\n",
    "          )\n",
    "\n",
    "    except Exception as err:\n",
    "        if m != '': print(f\"Error processing {m}: {err}. Skipping to next measure...\\nrow: {row}, col: {col}\")\n",
    "\n",
    "    finally:\n",
    "        #Update row and column indices\n",
    "        if col == 4:\n",
    "            col = 1\n",
    "            row += 1\n",
    "        else:\n",
    "            col += 1\n",
    "        continue\n",
    "\n",
    "\n",
    "#Define titles for each row\n",
    "row_titles = [['Failure rate', '', '', ''],\n",
    "              ['Complication rate', '', '', ''],\n",
    "              ['Intraoperative mortality', '', '', ''],\n",
    "              ['Perioperative mortality', '', '', '']]\n",
    "\n",
    "#Update layout\n",
    "figs3.update_layout(\n",
    "    title=dict(text='<b>Surgical outcomes by treatment</b>'),\n",
    "    font_family=\"Arial\",\n",
    "    title_font_family=\"Arial\",\n",
    "    plot_bgcolor='white',\n",
    "    width=1400,\n",
    "    height=1900,\n",
    "    showlegend=False\n",
    ")\n",
    "\n",
    "#Add titles on y-axis\n",
    "for row in range(1, 5):\n",
    "    for col in range(1, 5):\n",
    "        title = row_titles[row-1][col-1]\n",
    "        figs3.update_xaxes(range=[0,1], showline=True, linecolor='black', mirror=True, ticks=\"outside\", tickcolor='black', row=row, col=col)\n",
    "        figs3.update_yaxes(title_text=title, ticksuffix = \"  \", showline=True, linecolor='black', mirror=True, row=row, col=col)\n",
    "\n",
    "#Config plot resolution\n",
    "config = {\n",
    "  'toImageButtonOptions': {\n",
    "    'format': 'png', # one of png, svg, jpeg, webp\n",
    "    'filename': 'figs3',\n",
    "    'scale':6 # Multiply title/legend/axis/canvas sizes by this factor\n",
    "  }\n",
    "}\n",
    "\n",
    "#Show plot\n",
    "figs3.show(config=config)\n",
    "\n",
    "#TODO:\n",
    "# - Need to cross check accuracy of every data point with the original sheet (value, study, year, income level)\n",
    "# - Need to cross check accuracy of plot aesthetics (yaxis title, subplot title, colour) - has the right thing been plotted in the right place?"
   ]
  }
 ],
 "metadata": {
  "colab": {
   "collapsed_sections": [
    "IyrIL9A_zWwg",
    "gaGuITNtz94J",
    "ZPsMdnCV71xy",
    "bB9GcGwOUlPf",
    "KxbWLY7TUaIA",
    "ee70FF4MGBWA",
    "2A6nR_Qw6i8w",
    "y9OHySiWw9_-",
    "0HIVGLIoxfqR"
   ],
   "provenance": []
  },
  "kernelspec": {
   "display_name": "Python 3",
   "name": "python3"
  },
  "language_info": {
   "codemirror_mode": {
    "name": "ipython",
    "version": 3
   },
   "file_extension": ".py",
   "mimetype": "text/x-python",
   "name": "python",
   "nbconvert_exporter": "python",
   "pygments_lexer": "ipython3",
   "version": "3.11.4"
  }
 },
 "nbformat": 4,
 "nbformat_minor": 0
}
